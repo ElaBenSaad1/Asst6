{
  "cells": [
    {
      "cell_type": "markdown",
      "metadata": {
        "id": "view-in-github",
        "colab_type": "text"
      },
      "source": [
        "<a href=\"https://colab.research.google.com/github/ElaBenSaad1/Asst6/blob/main/Copy_of_sentiment.ipynb\" target=\"_parent\"><img src=\"https://colab.research.google.com/assets/colab-badge.svg\" alt=\"Open In Colab\"/></a>"
      ]
    },
    {
      "cell_type": "code",
      "execution_count": null,
      "id": "d5ee34c2-6af7-4dd1-bf43-b3af72823998",
      "metadata": {
        "id": "d5ee34c2-6af7-4dd1-bf43-b3af72823998"
      },
      "outputs": [],
      "source": [
        "from transformers import pipeline"
      ]
    },
    {
      "cell_type": "code",
      "execution_count": null,
      "id": "542fac43-31a5-44ba-ae9c-744ac2e9af66",
      "metadata": {
        "colab": {
          "base_uri": "https://localhost:8080/"
        },
        "id": "542fac43-31a5-44ba-ae9c-744ac2e9af66",
        "outputId": "d4590e43-2c73-4362-a3fa-5bdc9832c28c"
      },
      "outputs": [
        {
          "output_type": "stream",
          "name": "stderr",
          "text": [
            "[nltk_data] Downloading package punkt to /root/nltk_data...\n",
            "[nltk_data]   Unzipping tokenizers/punkt.zip.\n",
            "[nltk_data] Downloading package vader_lexicon to /root/nltk_data...\n"
          ]
        },
        {
          "output_type": "execute_result",
          "data": {
            "text/plain": [
              "True"
            ]
          },
          "metadata": {},
          "execution_count": 2
        }
      ],
      "source": [
        "#step 0: Sentiment analysis in python (using NLTK)\n",
        "import pandas as pd\n",
        "import numpy as np\n",
        "import matplotlib.pyplot as plt\n",
        "import seaborn as sns\n",
        "\n",
        "plt.style.use('ggplot')\n",
        "\n",
        "import nltk #natural langiahe toolkit\n",
        "nltk.download('punkt')\n",
        "nltk.download('vader_lexicon')"
      ]
    },
    {
      "cell_type": "code",
      "execution_count": null,
      "id": "q5Ux9G8T92Xu",
      "metadata": {
        "colab": {
          "base_uri": "https://localhost:8080/"
        },
        "id": "q5Ux9G8T92Xu",
        "outputId": "5d7cacaa-b6b1-4dee-8554-059e35f9488c"
      },
      "outputs": [
        {
          "output_type": "stream",
          "name": "stdout",
          "text": [
            "/content\n",
            "sample_data\n"
          ]
        }
      ],
      "source": [
        "!pwd\n",
        "!ls"
      ]
    },
    {
      "cell_type": "code",
      "execution_count": null,
      "id": "y99sKVmztgC6",
      "metadata": {
        "colab": {
          "base_uri": "https://localhost:8080/"
        },
        "id": "y99sKVmztgC6",
        "outputId": "c0c35e21-7720-4514-8c36-f33861636f11"
      },
      "outputs": [
        {
          "output_type": "stream",
          "name": "stdout",
          "text": [
            "/content\n"
          ]
        }
      ],
      "source": [
        "import os\n",
        "\n",
        "# Change the working directory to your desired path\n",
        "#os.chdir('content')\n",
        "\n",
        "# Verify the change\n",
        "print(os.getcwd())\n"
      ]
    },
    {
      "cell_type": "code",
      "execution_count": null,
      "id": "zeYvs2nqt7Zm",
      "metadata": {
        "colab": {
          "base_uri": "https://localhost:8080/"
        },
        "id": "zeYvs2nqt7Zm",
        "outputId": "8d804adc-fdc6-4066-bdb8-8d0cb4a20ff8"
      },
      "outputs": [
        {
          "output_type": "stream",
          "name": "stdout",
          "text": [
            "/content\n"
          ]
        }
      ],
      "source": [
        "!pwd"
      ]
    },
    {
      "cell_type": "code",
      "execution_count": null,
      "id": "3957cbeb-9669-440c-a056-b04fd7ccb770",
      "metadata": {
        "colab": {
          "base_uri": "https://localhost:8080/",
          "height": 625
        },
        "id": "3957cbeb-9669-440c-a056-b04fd7ccb770",
        "outputId": "aabe3de0-4769-4c57-ab38-4d23650ba53f"
      },
      "outputs": [
        {
          "output_type": "execute_result",
          "data": {
            "text/plain": [
              "     term    crn faculty_bannerid  course_rating  instructor_rating  \\\n",
              "0  200609  14442        A01033654            2.0                2.0   \n",
              "1  200609  14442        A01033654            2.0                1.0   \n",
              "2  200609  14442        A01033654            1.0                1.0   \n",
              "3  200609  14442        A01033654            1.0                1.0   \n",
              "4  200609  14442        A01033654            1.0                1.0   \n",
              "\n",
              "                                              seq_vf  \\\n",
              "0  the most valuable feature of the course was by...   \n",
              "1                                                NaN   \n",
              "2  The Problem sets of the courese were very help...   \n",
              "3  The most valuable feature of this course was t...   \n",
              "4                                                NaN   \n",
              "\n",
              "                                              seq_if  \\\n",
              "0  I really feel that the lecture componenet of t...   \n",
              "1                                                NaN   \n",
              "2  The speed of the course. This was partaly effe...   \n",
              "3  I really disliked having to do everything in g...   \n",
              "4                                                NaN   \n",
              "\n",
              "                                          seq_effort  \\\n",
              "0  I felt good about my own efforts. I robably co...   \n",
              "1                                                NaN   \n",
              "2  I did all the readings and attend all the lect...   \n",
              "3  I put in a substantial amount of effort to com...   \n",
              "4                                                NaN   \n",
              "\n",
              "                                      seq_rec_course  \\\n",
              "0  To fulfill a major requirement and learn a lot...   \n",
              "1  Fulfill a major requirement in a manner that I...   \n",
              "2  I took this course for major requirement fullf...   \n",
              "3  My objective in taking this course was to brus...   \n",
              "4                                                NaN   \n",
              "\n",
              "                                  seq_rec_instructor  sequence course_level  \\\n",
              "0  Yes, I felt that she was always willing to hel...   6096959    300 Level   \n",
              "1  Professor Butcher is engaging, and presents th...   6093285    300 Level   \n",
              "2                     Yes, she will only get better.   6091462    300 Level   \n",
              "3  I would definitely recommend Prof. Butcher to ...    609680    300 Level   \n",
              "4                                                NaN   6095492    300 Level   \n",
              "\n",
              "               course_title course_number  course_section_number  \n",
              "0  Economics of Immigration           311                      1  \n",
              "1  Economics of Immigration           311                      1  \n",
              "2  Economics of Immigration           311                      1  \n",
              "3  Economics of Immigration           311                      1  \n",
              "4  Economics of Immigration           311                      1  "
            ],
            "text/html": [
              "\n",
              "  <div id=\"df-9b68ad72-83bc-4953-9b23-b7a5968ac25b\" class=\"colab-df-container\">\n",
              "    <div>\n",
              "<style scoped>\n",
              "    .dataframe tbody tr th:only-of-type {\n",
              "        vertical-align: middle;\n",
              "    }\n",
              "\n",
              "    .dataframe tbody tr th {\n",
              "        vertical-align: top;\n",
              "    }\n",
              "\n",
              "    .dataframe thead th {\n",
              "        text-align: right;\n",
              "    }\n",
              "</style>\n",
              "<table border=\"1\" class=\"dataframe\">\n",
              "  <thead>\n",
              "    <tr style=\"text-align: right;\">\n",
              "      <th></th>\n",
              "      <th>term</th>\n",
              "      <th>crn</th>\n",
              "      <th>faculty_bannerid</th>\n",
              "      <th>course_rating</th>\n",
              "      <th>instructor_rating</th>\n",
              "      <th>seq_vf</th>\n",
              "      <th>seq_if</th>\n",
              "      <th>seq_effort</th>\n",
              "      <th>seq_rec_course</th>\n",
              "      <th>seq_rec_instructor</th>\n",
              "      <th>sequence</th>\n",
              "      <th>course_level</th>\n",
              "      <th>course_title</th>\n",
              "      <th>course_number</th>\n",
              "      <th>course_section_number</th>\n",
              "    </tr>\n",
              "  </thead>\n",
              "  <tbody>\n",
              "    <tr>\n",
              "      <th>0</th>\n",
              "      <td>200609</td>\n",
              "      <td>14442</td>\n",
              "      <td>A01033654</td>\n",
              "      <td>2.0</td>\n",
              "      <td>2.0</td>\n",
              "      <td>the most valuable feature of the course was by...</td>\n",
              "      <td>I really feel that the lecture componenet of t...</td>\n",
              "      <td>I felt good about my own efforts. I robably co...</td>\n",
              "      <td>To fulfill a major requirement and learn a lot...</td>\n",
              "      <td>Yes, I felt that she was always willing to hel...</td>\n",
              "      <td>6096959</td>\n",
              "      <td>300 Level</td>\n",
              "      <td>Economics of Immigration</td>\n",
              "      <td>311</td>\n",
              "      <td>1</td>\n",
              "    </tr>\n",
              "    <tr>\n",
              "      <th>1</th>\n",
              "      <td>200609</td>\n",
              "      <td>14442</td>\n",
              "      <td>A01033654</td>\n",
              "      <td>2.0</td>\n",
              "      <td>1.0</td>\n",
              "      <td>NaN</td>\n",
              "      <td>NaN</td>\n",
              "      <td>NaN</td>\n",
              "      <td>Fulfill a major requirement in a manner that I...</td>\n",
              "      <td>Professor Butcher is engaging, and presents th...</td>\n",
              "      <td>6093285</td>\n",
              "      <td>300 Level</td>\n",
              "      <td>Economics of Immigration</td>\n",
              "      <td>311</td>\n",
              "      <td>1</td>\n",
              "    </tr>\n",
              "    <tr>\n",
              "      <th>2</th>\n",
              "      <td>200609</td>\n",
              "      <td>14442</td>\n",
              "      <td>A01033654</td>\n",
              "      <td>1.0</td>\n",
              "      <td>1.0</td>\n",
              "      <td>The Problem sets of the courese were very help...</td>\n",
              "      <td>The speed of the course. This was partaly effe...</td>\n",
              "      <td>I did all the readings and attend all the lect...</td>\n",
              "      <td>I took this course for major requirement fullf...</td>\n",
              "      <td>Yes, she will only get better.</td>\n",
              "      <td>6091462</td>\n",
              "      <td>300 Level</td>\n",
              "      <td>Economics of Immigration</td>\n",
              "      <td>311</td>\n",
              "      <td>1</td>\n",
              "    </tr>\n",
              "    <tr>\n",
              "      <th>3</th>\n",
              "      <td>200609</td>\n",
              "      <td>14442</td>\n",
              "      <td>A01033654</td>\n",
              "      <td>1.0</td>\n",
              "      <td>1.0</td>\n",
              "      <td>The most valuable feature of this course was t...</td>\n",
              "      <td>I really disliked having to do everything in g...</td>\n",
              "      <td>I put in a substantial amount of effort to com...</td>\n",
              "      <td>My objective in taking this course was to brus...</td>\n",
              "      <td>I would definitely recommend Prof. Butcher to ...</td>\n",
              "      <td>609680</td>\n",
              "      <td>300 Level</td>\n",
              "      <td>Economics of Immigration</td>\n",
              "      <td>311</td>\n",
              "      <td>1</td>\n",
              "    </tr>\n",
              "    <tr>\n",
              "      <th>4</th>\n",
              "      <td>200609</td>\n",
              "      <td>14442</td>\n",
              "      <td>A01033654</td>\n",
              "      <td>1.0</td>\n",
              "      <td>1.0</td>\n",
              "      <td>NaN</td>\n",
              "      <td>NaN</td>\n",
              "      <td>NaN</td>\n",
              "      <td>NaN</td>\n",
              "      <td>NaN</td>\n",
              "      <td>6095492</td>\n",
              "      <td>300 Level</td>\n",
              "      <td>Economics of Immigration</td>\n",
              "      <td>311</td>\n",
              "      <td>1</td>\n",
              "    </tr>\n",
              "  </tbody>\n",
              "</table>\n",
              "</div>\n",
              "    <div class=\"colab-df-buttons\">\n",
              "\n",
              "  <div class=\"colab-df-container\">\n",
              "    <button class=\"colab-df-convert\" onclick=\"convertToInteractive('df-9b68ad72-83bc-4953-9b23-b7a5968ac25b')\"\n",
              "            title=\"Convert this dataframe to an interactive table.\"\n",
              "            style=\"display:none;\">\n",
              "\n",
              "  <svg xmlns=\"http://www.w3.org/2000/svg\" height=\"24px\" viewBox=\"0 -960 960 960\">\n",
              "    <path d=\"M120-120v-720h720v720H120Zm60-500h600v-160H180v160Zm220 220h160v-160H400v160Zm0 220h160v-160H400v160ZM180-400h160v-160H180v160Zm440 0h160v-160H620v160ZM180-180h160v-160H180v160Zm440 0h160v-160H620v160Z\"/>\n",
              "  </svg>\n",
              "    </button>\n",
              "\n",
              "  <style>\n",
              "    .colab-df-container {\n",
              "      display:flex;\n",
              "      gap: 12px;\n",
              "    }\n",
              "\n",
              "    .colab-df-convert {\n",
              "      background-color: #E8F0FE;\n",
              "      border: none;\n",
              "      border-radius: 50%;\n",
              "      cursor: pointer;\n",
              "      display: none;\n",
              "      fill: #1967D2;\n",
              "      height: 32px;\n",
              "      padding: 0 0 0 0;\n",
              "      width: 32px;\n",
              "    }\n",
              "\n",
              "    .colab-df-convert:hover {\n",
              "      background-color: #E2EBFA;\n",
              "      box-shadow: 0px 1px 2px rgba(60, 64, 67, 0.3), 0px 1px 3px 1px rgba(60, 64, 67, 0.15);\n",
              "      fill: #174EA6;\n",
              "    }\n",
              "\n",
              "    .colab-df-buttons div {\n",
              "      margin-bottom: 4px;\n",
              "    }\n",
              "\n",
              "    [theme=dark] .colab-df-convert {\n",
              "      background-color: #3B4455;\n",
              "      fill: #D2E3FC;\n",
              "    }\n",
              "\n",
              "    [theme=dark] .colab-df-convert:hover {\n",
              "      background-color: #434B5C;\n",
              "      box-shadow: 0px 1px 3px 1px rgba(0, 0, 0, 0.15);\n",
              "      filter: drop-shadow(0px 1px 2px rgba(0, 0, 0, 0.3));\n",
              "      fill: #FFFFFF;\n",
              "    }\n",
              "  </style>\n",
              "\n",
              "    <script>\n",
              "      const buttonEl =\n",
              "        document.querySelector('#df-9b68ad72-83bc-4953-9b23-b7a5968ac25b button.colab-df-convert');\n",
              "      buttonEl.style.display =\n",
              "        google.colab.kernel.accessAllowed ? 'block' : 'none';\n",
              "\n",
              "      async function convertToInteractive(key) {\n",
              "        const element = document.querySelector('#df-9b68ad72-83bc-4953-9b23-b7a5968ac25b');\n",
              "        const dataTable =\n",
              "          await google.colab.kernel.invokeFunction('convertToInteractive',\n",
              "                                                    [key], {});\n",
              "        if (!dataTable) return;\n",
              "\n",
              "        const docLinkHtml = 'Like what you see? Visit the ' +\n",
              "          '<a target=\"_blank\" href=https://colab.research.google.com/notebooks/data_table.ipynb>data table notebook</a>'\n",
              "          + ' to learn more about interactive tables.';\n",
              "        element.innerHTML = '';\n",
              "        dataTable['output_type'] = 'display_data';\n",
              "        await google.colab.output.renderOutput(dataTable, element);\n",
              "        const docLink = document.createElement('div');\n",
              "        docLink.innerHTML = docLinkHtml;\n",
              "        element.appendChild(docLink);\n",
              "      }\n",
              "    </script>\n",
              "  </div>\n",
              "\n",
              "\n",
              "<div id=\"df-edbfdb2b-3248-46f6-9c37-22f90ebbe3c7\">\n",
              "  <button class=\"colab-df-quickchart\" onclick=\"quickchart('df-edbfdb2b-3248-46f6-9c37-22f90ebbe3c7')\"\n",
              "            title=\"Suggest charts\"\n",
              "            style=\"display:none;\">\n",
              "\n",
              "<svg xmlns=\"http://www.w3.org/2000/svg\" height=\"24px\"viewBox=\"0 0 24 24\"\n",
              "     width=\"24px\">\n",
              "    <g>\n",
              "        <path d=\"M19 3H5c-1.1 0-2 .9-2 2v14c0 1.1.9 2 2 2h14c1.1 0 2-.9 2-2V5c0-1.1-.9-2-2-2zM9 17H7v-7h2v7zm4 0h-2V7h2v10zm4 0h-2v-4h2v4z\"/>\n",
              "    </g>\n",
              "</svg>\n",
              "  </button>\n",
              "\n",
              "<style>\n",
              "  .colab-df-quickchart {\n",
              "      --bg-color: #E8F0FE;\n",
              "      --fill-color: #1967D2;\n",
              "      --hover-bg-color: #E2EBFA;\n",
              "      --hover-fill-color: #174EA6;\n",
              "      --disabled-fill-color: #AAA;\n",
              "      --disabled-bg-color: #DDD;\n",
              "  }\n",
              "\n",
              "  [theme=dark] .colab-df-quickchart {\n",
              "      --bg-color: #3B4455;\n",
              "      --fill-color: #D2E3FC;\n",
              "      --hover-bg-color: #434B5C;\n",
              "      --hover-fill-color: #FFFFFF;\n",
              "      --disabled-bg-color: #3B4455;\n",
              "      --disabled-fill-color: #666;\n",
              "  }\n",
              "\n",
              "  .colab-df-quickchart {\n",
              "    background-color: var(--bg-color);\n",
              "    border: none;\n",
              "    border-radius: 50%;\n",
              "    cursor: pointer;\n",
              "    display: none;\n",
              "    fill: var(--fill-color);\n",
              "    height: 32px;\n",
              "    padding: 0;\n",
              "    width: 32px;\n",
              "  }\n",
              "\n",
              "  .colab-df-quickchart:hover {\n",
              "    background-color: var(--hover-bg-color);\n",
              "    box-shadow: 0 1px 2px rgba(60, 64, 67, 0.3), 0 1px 3px 1px rgba(60, 64, 67, 0.15);\n",
              "    fill: var(--button-hover-fill-color);\n",
              "  }\n",
              "\n",
              "  .colab-df-quickchart-complete:disabled,\n",
              "  .colab-df-quickchart-complete:disabled:hover {\n",
              "    background-color: var(--disabled-bg-color);\n",
              "    fill: var(--disabled-fill-color);\n",
              "    box-shadow: none;\n",
              "  }\n",
              "\n",
              "  .colab-df-spinner {\n",
              "    border: 2px solid var(--fill-color);\n",
              "    border-color: transparent;\n",
              "    border-bottom-color: var(--fill-color);\n",
              "    animation:\n",
              "      spin 1s steps(1) infinite;\n",
              "  }\n",
              "\n",
              "  @keyframes spin {\n",
              "    0% {\n",
              "      border-color: transparent;\n",
              "      border-bottom-color: var(--fill-color);\n",
              "      border-left-color: var(--fill-color);\n",
              "    }\n",
              "    20% {\n",
              "      border-color: transparent;\n",
              "      border-left-color: var(--fill-color);\n",
              "      border-top-color: var(--fill-color);\n",
              "    }\n",
              "    30% {\n",
              "      border-color: transparent;\n",
              "      border-left-color: var(--fill-color);\n",
              "      border-top-color: var(--fill-color);\n",
              "      border-right-color: var(--fill-color);\n",
              "    }\n",
              "    40% {\n",
              "      border-color: transparent;\n",
              "      border-right-color: var(--fill-color);\n",
              "      border-top-color: var(--fill-color);\n",
              "    }\n",
              "    60% {\n",
              "      border-color: transparent;\n",
              "      border-right-color: var(--fill-color);\n",
              "    }\n",
              "    80% {\n",
              "      border-color: transparent;\n",
              "      border-right-color: var(--fill-color);\n",
              "      border-bottom-color: var(--fill-color);\n",
              "    }\n",
              "    90% {\n",
              "      border-color: transparent;\n",
              "      border-bottom-color: var(--fill-color);\n",
              "    }\n",
              "  }\n",
              "</style>\n",
              "\n",
              "  <script>\n",
              "    async function quickchart(key) {\n",
              "      const quickchartButtonEl =\n",
              "        document.querySelector('#' + key + ' button');\n",
              "      quickchartButtonEl.disabled = true;  // To prevent multiple clicks.\n",
              "      quickchartButtonEl.classList.add('colab-df-spinner');\n",
              "      try {\n",
              "        const charts = await google.colab.kernel.invokeFunction(\n",
              "            'suggestCharts', [key], {});\n",
              "      } catch (error) {\n",
              "        console.error('Error during call to suggestCharts:', error);\n",
              "      }\n",
              "      quickchartButtonEl.classList.remove('colab-df-spinner');\n",
              "      quickchartButtonEl.classList.add('colab-df-quickchart-complete');\n",
              "    }\n",
              "    (() => {\n",
              "      let quickchartButtonEl =\n",
              "        document.querySelector('#df-edbfdb2b-3248-46f6-9c37-22f90ebbe3c7 button');\n",
              "      quickchartButtonEl.style.display =\n",
              "        google.colab.kernel.accessAllowed ? 'block' : 'none';\n",
              "    })();\n",
              "  </script>\n",
              "</div>\n",
              "\n",
              "    </div>\n",
              "  </div>\n"
            ],
            "application/vnd.google.colaboratory.intrinsic+json": {
              "type": "dataframe",
              "variable_name": "df",
              "summary": "{\n  \"name\": \"df\",\n  \"rows\": 3029,\n  \"fields\": [\n    {\n      \"column\": \"term\",\n      \"properties\": {\n        \"dtype\": \"number\",\n        \"std\": 525,\n        \"min\": 200002,\n        \"max\": 201902,\n        \"num_unique_values\": 39,\n        \"samples\": [\n          201402,\n          200302,\n          200809\n        ],\n        \"semantic_type\": \"\",\n        \"description\": \"\"\n      }\n    },\n    {\n      \"column\": \"crn\",\n      \"properties\": {\n        \"dtype\": \"number\",\n        \"std\": 5049,\n        \"min\": 10012,\n        \"max\": 25757,\n        \"num_unique_values\": 97,\n        \"samples\": [\n          14670,\n          10271,\n          14428\n        ],\n        \"semantic_type\": \"\",\n        \"description\": \"\"\n      }\n    },\n    {\n      \"column\": \"faculty_bannerid\",\n      \"properties\": {\n        \"dtype\": \"category\",\n        \"num_unique_values\": 3,\n        \"samples\": [\n          \"A01033654\",\n          \"B20201386\",\n          \"B20343987\"\n        ],\n        \"semantic_type\": \"\",\n        \"description\": \"\"\n      }\n    },\n    {\n      \"column\": \"course_rating\",\n      \"properties\": {\n        \"dtype\": \"number\",\n        \"std\": 0.7360809380212808,\n        \"min\": 1.0,\n        \"max\": 5.0,\n        \"num_unique_values\": 5,\n        \"samples\": [\n          1.0,\n          5.0,\n          3.0\n        ],\n        \"semantic_type\": \"\",\n        \"description\": \"\"\n      }\n    },\n    {\n      \"column\": \"instructor_rating\",\n      \"properties\": {\n        \"dtype\": \"number\",\n        \"std\": 0.8050225331643698,\n        \"min\": 1.0,\n        \"max\": 5.0,\n        \"num_unique_values\": 5,\n        \"samples\": [\n          1.0,\n          5.0,\n          3.0\n        ],\n        \"semantic_type\": \"\",\n        \"description\": \"\"\n      }\n    },\n    {\n      \"column\": \"seq_vf\",\n      \"properties\": {\n        \"dtype\": \"string\",\n        \"num_unique_values\": 2895,\n        \"samples\": [\n          \"Econ 101 gave me an insight to the way markets function in a way that is easy to relate to daily life. Even though many of the concepts we examined were tedious and perhaps a bit boring, examples that connected these principles to current environmental, political and social issues made the class interesting and worthwhile.\",\n          \"graphs on top of graphs\",\n          \"Learning about the history and structure of the Eurozone, covering recent international economics news, and Akila's lectures were the most valuable features of this course. I never thought that I would be learning so much about how to analyze current news in an economics course. The fact that everything you learn in this course can help you to understand Venezuela's economic crisis is extremely valuable. I also realized how intertwined history, economics, and political science is in almost all of the economic issues we covered in class.\"\n        ],\n        \"semantic_type\": \"\",\n        \"description\": \"\"\n      }\n    },\n    {\n      \"column\": \"seq_if\",\n      \"properties\": {\n        \"dtype\": \"string\",\n        \"num_unique_values\": 2719,\n        \"samples\": [\n          \"I would suggest that we spend less time of the earlier topics of the course and move on to completely new stuff earlier.\",\n          \"It would be helpful to have class notes on non-lab classes covering some of the key concepts and proofs we do.\",\n          \"I think office hours could be improved. I think that when answering questions it might be best to answer individual questions without trying to create a discussion among everyone attending office hours. I think it might make the office hours more productive and efficient for everyone.\"\n        ],\n        \"semantic_type\": \"\",\n        \"description\": \"\"\n      }\n    },\n    {\n      \"column\": \"seq_effort\",\n      \"properties\": {\n        \"dtype\": \"string\",\n        \"num_unique_values\": 2853,\n        \"samples\": [\n          \"Attended class and participated. Not too many assignments, not too many hours spent outside of class on the work.\",\n          \"attended all but 2 classes, completed every problem set, did not spend too much time outside of that except for studying for the exams and writing the papers.\",\n          \"Reading the papers, attending office hours, reviewing the problem sets, and lecture notes\"\n        ],\n        \"semantic_type\": \"\",\n        \"description\": \"\"\n      }\n    },\n    {\n      \"column\": \"seq_rec_course\",\n      \"properties\": {\n        \"dtype\": \"string\",\n        \"num_unique_values\": 2770,\n        \"samples\": [\n          \"My objectives were to explore the topic, and to possibly fulfill a major requirement. I would recommend this course to other students, especially for first years who tested out of introductory economics.\",\n          \"wanted to learn about economics and its application to the real world...yes\",\n          \"I want to have a higher level of understanding of econometrics, which should be helpful for higher level of economic analysis. I took the class also for fulfilling my major requirement.\"\n        ],\n        \"semantic_type\": \"\",\n        \"description\": \"\"\n      }\n    },\n    {\n      \"column\": \"seq_rec_instructor\",\n      \"properties\": {\n        \"dtype\": \"string\",\n        \"num_unique_values\": 2921,\n        \"samples\": [\n          \"no. he did not explain things very well. he also could not answer the questions in a way that helped. he also seemed to grade the test not on how well one knew the material, which is what tests should be gauging, but how well one used the words that he wanted one to use.\",\n          \"While Professor Weerapana expects a lot from his students, I believe his standards are fair given the effort he puts into his teaching, too. He is a fantastic lecturer and even the topics I found less interesting were still interesting to learn about. He understands that not everyone may understand a concept when it is taught a certain way, so he is always willing to reexplain a concept in different ways. He encourages students to be actively engaged and ask any questions they have, even if it seems very simple. He makes himself extremely accessible, either through office hours or email or even google chat! Overall, Professor Weerapana is clearly extremely dedicated to providing each student with a clear, nuanced, introduction to economics.\",\n          \"I would recommend this instructor to some students, depending on what their preferences are. Although he is a good teacher, he covers all the important material necessary, and he is humorous while doing this, I find that he is very partial to certain students. Although he may know these students better, or like them better, I feel that as a professional, he should not show his preferences in a class of 40 students. Also, many of his examples pertain to very specific places or ideas, that not everyone in the class is familiar with. If he made his examples more generic, his lectures would be easier to follow.\"\n        ],\n        \"semantic_type\": \"\",\n        \"description\": \"\"\n      }\n    },\n    {\n      \"column\": \"sequence\",\n      \"properties\": {\n        \"dtype\": \"number\",\n        \"std\": 3228089,\n        \"min\": 524,\n        \"max\": 9099682,\n        \"num_unique_values\": 3022,\n        \"samples\": [\n          97894,\n          6934,\n          1098894\n        ],\n        \"semantic_type\": \"\",\n        \"description\": \"\"\n      }\n    },\n    {\n      \"column\": \"course_level\",\n      \"properties\": {\n        \"dtype\": \"category\",\n        \"num_unique_values\": 3,\n        \"samples\": [\n          \"300 Level\",\n          \"100 Level\",\n          \"200 Level\"\n        ],\n        \"semantic_type\": \"\",\n        \"description\": \"\"\n      }\n    },\n    {\n      \"column\": \"course_title\",\n      \"properties\": {\n        \"dtype\": \"category\",\n        \"num_unique_values\": 17,\n        \"samples\": [\n          \"Economics of Immigration\",\n          \"Principles of Microeconomics\",\n          \"Sem: Monetary Theory & Policy\"\n        ],\n        \"semantic_type\": \"\",\n        \"description\": \"\"\n      }\n    },\n    {\n      \"column\": \"course_number\",\n      \"properties\": {\n        \"dtype\": \"category\",\n        \"num_unique_values\": 16,\n        \"samples\": [\n          \"311\",\n          \"101\",\n          \"331\"\n        ],\n        \"semantic_type\": \"\",\n        \"description\": \"\"\n      }\n    },\n    {\n      \"column\": \"course_section_number\",\n      \"properties\": {\n        \"dtype\": \"number\",\n        \"std\": 1,\n        \"min\": 1,\n        \"max\": 7,\n        \"num_unique_values\": 7,\n        \"samples\": [\n          1,\n          7,\n          4\n        ],\n        \"semantic_type\": \"\",\n        \"description\": \"\"\n      }\n    }\n  ]\n}"
            }
          },
          "metadata": {},
          "execution_count": 9
        }
      ],
      "source": [
        "#reading data\n",
        "df = pd.read_csv(\"Copy of SEQ BMW Subsample - Sheet1.csv\")\n",
        "df.head()"
      ]
    },
    {
      "cell_type": "code",
      "execution_count": null,
      "id": "5m-z5wKm3kOo",
      "metadata": {
        "colab": {
          "base_uri": "https://localhost:8080/"
        },
        "id": "5m-z5wKm3kOo",
        "outputId": "7ac66bda-e1de-45fa-f60f-a3ece8af22ad"
      },
      "outputs": [
        {
          "output_type": "stream",
          "name": "stdout",
          "text": [
            "Mounted at /content/drive\n"
          ]
        }
      ],
      "source": [
        "from google.colab import drive\n",
        "drive.mount('/content/drive')"
      ]
    },
    {
      "cell_type": "code",
      "execution_count": null,
      "id": "430e0e8a-c925-467e-9518-ae0dcdffe68f",
      "metadata": {
        "id": "430e0e8a-c925-467e-9518-ae0dcdffe68f"
      },
      "outputs": [],
      "source": [
        "seq_vf = df[\"seq_vf\"] #created a list"
      ]
    },
    {
      "cell_type": "code",
      "execution_count": null,
      "id": "fd9d7965-f4b5-4f4a-a284-cedae770ed2b",
      "metadata": {
        "colab": {
          "base_uri": "https://localhost:8080/"
        },
        "id": "fd9d7965-f4b5-4f4a-a284-cedae770ed2b",
        "outputId": "ef89dcd7-3ac7-4292-92c5-4a8e7e90da4a"
      },
      "outputs": [
        {
          "name": "stdout",
          "output_type": "stream",
          "text": [
            "The most valuable feature of this course was the focus on econometric techniques and analysis. I really enjoyed reading economic research papers which approached complex problems with different econometric techniques, and I learned how to read these types of papers and actually understand them. I feel like I can now analyze different economic problems with a more in-depth understanding. Also, I enjoyed working with STATA a lot. I got to brush up on my skills, and running regressions for the problem sets and the final project was interesting and fun.\n"
          ]
        }
      ],
      "source": [
        "## Basic NLTK\n",
        "#test 0\n",
        "example = seq_vf[3]\n",
        "print(example)"
      ]
    },
    {
      "cell_type": "code",
      "execution_count": null,
      "id": "28c221d5-24c5-4392-9ca3-759a2d5895b9",
      "metadata": {
        "colab": {
          "base_uri": "https://localhost:8080/"
        },
        "id": "28c221d5-24c5-4392-9ca3-759a2d5895b9",
        "outputId": "0424a198-74ef-459c-875d-84e3d218083e"
      },
      "outputs": [
        {
          "name": "stdout",
          "output_type": "stream",
          "text": [
            "['The', 'most', 'valuable', 'feature', 'of', 'this', 'course', 'was', 'the', 'focus', 'on', 'econometric', 'techniques', 'and', 'analysis', '.', 'I', 'really', 'enjoyed', 'reading', 'economic', 'research', 'papers', 'which', 'approached', 'complex', 'problems', 'with', 'different', 'econometric', 'techniques', ',', 'and', 'I', 'learned', 'how', 'to', 'read', 'these', 'types', 'of', 'papers', 'and', 'actually', 'understand', 'them', '.', 'I', 'feel', 'like', 'I', 'can', 'now', 'analyze', 'different', 'economic', 'problems', 'with', 'a', 'more', 'in-depth', 'understanding', '.', 'Also', ',', 'I', 'enjoyed', 'working', 'with', 'STATA', 'a', 'lot', '.', 'I', 'got', 'to', 'brush', 'up', 'on', 'my', 'skills', ',', 'and', 'running', 'regressions', 'for', 'the', 'problem', 'sets', 'and', 'the', 'final', 'project', 'was', 'interesting', 'and', 'fun', '.']\n"
          ]
        }
      ],
      "source": [
        "#tokenize (break down the sentences into words (but smarter))\n",
        "tokens = nltk.word_tokenize(example)\n",
        "print(tokens)"
      ]
    },
    {
      "cell_type": "code",
      "execution_count": null,
      "id": "fcee5023-d82d-48ce-bfdc-46ebca36c3ec",
      "metadata": {
        "id": "fcee5023-d82d-48ce-bfdc-46ebca36c3ec"
      },
      "outputs": [],
      "source": [
        "## VADER sentiment scoring (based on word grouping not the best but good to see)\n",
        "from nltk.sentiment import SentimentIntensityAnalyzer\n",
        "from tqdm.notebook import tqdm\n",
        "#sentiment analyser object\n",
        "sia = SentimentIntensityAnalyzer()"
      ]
    },
    {
      "cell_type": "code",
      "execution_count": null,
      "id": "c1615d67-a874-4200-a36b-ec62e9666642",
      "metadata": {
        "colab": {
          "base_uri": "https://localhost:8080/"
        },
        "id": "c1615d67-a874-4200-a36b-ec62e9666642",
        "outputId": "23bf4568-83ae-4ff0-aa29-e152eeec08c9"
      },
      "outputs": [
        {
          "data": {
            "text/plain": [
              "{'neg': 0.0, 'neu': 0.556, 'pos': 0.444, 'compound': 0.4927}"
            ]
          },
          "execution_count": 27,
          "metadata": {},
          "output_type": "execute_result"
        }
      ],
      "source": [
        "#test 0.0\n",
        "sia.polarity_scores('this is a very good burger')"
      ]
    },
    {
      "cell_type": "code",
      "execution_count": null,
      "id": "03393be8-d666-4631-8f91-81274c6f3f19",
      "metadata": {
        "colab": {
          "base_uri": "https://localhost:8080/"
        },
        "id": "03393be8-d666-4631-8f91-81274c6f3f19",
        "outputId": "6cc89377-1c71-4e87-94ba-e161215a083f"
      },
      "outputs": [
        {
          "data": {
            "text/plain": [
              "{'neg': 0.552, 'neu': 0.448, 'pos': 0.0, 'compound': -0.5719}"
            ]
          },
          "execution_count": 28,
          "metadata": {},
          "output_type": "execute_result"
        }
      ],
      "source": [
        "#test 0.1\n",
        "sia.polarity_scores('I hate waking up early')"
      ]
    },
    {
      "cell_type": "code",
      "execution_count": null,
      "id": "e694f31c-df1a-4914-8ef5-5baa34109b8e",
      "metadata": {
        "colab": {
          "base_uri": "https://localhost:8080/",
          "height": 49,
          "referenced_widgets": [
            "f22b72ad7285413dad30b90aabda64f7",
            "45e174187acd49198d3f1d71ecfa2d7a",
            "47726e618f8c4b1599372bd176bb7fee",
            "b6e83bc5469c4ff3b36fd26a644152a2",
            "b25bbbb9b62e4bf2a1110892e66010a5",
            "9786d57d810949b594cb715be80bf27e",
            "459edf1e4a0742a5abd0fddc0b05b2a2",
            "afa74d8fe0da43b5b04e615c7140c4fb",
            "4b27cf5c6a424edfbfe2ba9087be2625",
            "46712e1186c745c587940c400221cca2",
            "73b4ae3a66d748298a8d4eabd076d84d"
          ]
        },
        "id": "e694f31c-df1a-4914-8ef5-5baa34109b8e",
        "outputId": "2af62bbe-e23b-4e71-a170-fde7b0b803e1"
      },
      "outputs": [
        {
          "data": {
            "application/vnd.jupyter.widget-view+json": {
              "model_id": "f22b72ad7285413dad30b90aabda64f7",
              "version_major": 2,
              "version_minor": 0
            },
            "text/plain": [
              "  0%|          | 0/3029 [00:00<?, ?it/s]"
            ]
          },
          "metadata": {},
          "output_type": "display_data"
        }
      ],
      "source": [
        "res_seq_vf = {}\n",
        "for i, row in tqdm(df.iterrows(), total=len(df)):\n",
        "    text = row['seq_vf']\n",
        "    res_seq_vf[text] = sia.polarity_scores(str(text))"
      ]
    },
    {
      "cell_type": "code",
      "execution_count": null,
      "id": "428118d5-553d-42bd-9c02-c8fee7a8ba51",
      "metadata": {
        "colab": {
          "base_uri": "https://localhost:8080/",
          "height": 49,
          "referenced_widgets": [
            "066c339ded1145eaa0c472ab61e6d67e",
            "1e652137f3be4d43bc63865513678151",
            "1f52dfd6055b4d9c85dc21d9d6f0055d",
            "f6aa8c1c6e494b68be53875e09b9e851",
            "c1275aeceab14060a54a3f299e022c0a",
            "a3a8018e34d34dc7abd7d8130f00d532",
            "d3e00d88a7384ffc9a5c10ed9652656e",
            "de7a3714824040738a2c483af12e964f",
            "6b4df7c8147c462588a9a61889c23117",
            "f8dabfc29c4d4ab49c98da53320db8e6",
            "efd35ad3f9f9440db0ca9e3ea010e638"
          ]
        },
        "id": "428118d5-553d-42bd-9c02-c8fee7a8ba51",
        "outputId": "6f4f21ad-feb8-4a43-b857-5121807050ee"
      },
      "outputs": [
        {
          "data": {
            "application/vnd.jupyter.widget-view+json": {
              "model_id": "066c339ded1145eaa0c472ab61e6d67e",
              "version_major": 2,
              "version_minor": 0
            },
            "text/plain": [
              "  0%|          | 0/3029 [00:00<?, ?it/s]"
            ]
          },
          "metadata": {},
          "output_type": "display_data"
        }
      ],
      "source": [
        "res_seq_if = {}\n",
        "for i, row in tqdm(df.iterrows(), total=len(df)):\n",
        "    text = row['seq_if']\n",
        "    res_seq_if[text] = sia.polarity_scores(str(text))"
      ]
    },
    {
      "cell_type": "code",
      "execution_count": null,
      "id": "b3bda698-a4a9-431f-87b0-5d13194fdcd4",
      "metadata": {
        "colab": {
          "base_uri": "https://localhost:8080/",
          "height": 49,
          "referenced_widgets": [
            "d2b202c565f94f51b82595aad772c207",
            "0438ba89d2774972a1db21a8a5ee8745",
            "38788bac43404a54b1aa5f9e2da7b979",
            "50c65567195b4bcf841621b6c28715cc",
            "4bd80bca94444f459ecc519d22716757",
            "4b5c9f51e74c4fc8ab51239e3b20ce95",
            "ed67e14306684f36a577ca0c9899ca6d",
            "908e86b6d368416b80aac057d6d2382d",
            "21729805c8ab4c868050a4fe22efa76e",
            "e5c3f51f68a84ccc82e58af5b5373023",
            "5a55b5a4e1d04f1aa6528cd19f36562b"
          ]
        },
        "id": "b3bda698-a4a9-431f-87b0-5d13194fdcd4",
        "outputId": "e210fdb7-d559-421c-b97c-ca81f4ebe59a"
      },
      "outputs": [
        {
          "data": {
            "application/vnd.jupyter.widget-view+json": {
              "model_id": "d2b202c565f94f51b82595aad772c207",
              "version_major": 2,
              "version_minor": 0
            },
            "text/plain": [
              "  0%|          | 0/3029 [00:00<?, ?it/s]"
            ]
          },
          "metadata": {},
          "output_type": "display_data"
        }
      ],
      "source": [
        "res_seq_effort = {}\n",
        "for i, row in tqdm(df.iterrows(), total=len(df)):\n",
        "    text = row['seq_effort']\n",
        "    res_seq_effort[text] = sia.polarity_scores(str(text))"
      ]
    },
    {
      "cell_type": "code",
      "execution_count": null,
      "id": "f42c099b-74cd-4ae0-80cf-df499ab2c43e",
      "metadata": {
        "colab": {
          "base_uri": "https://localhost:8080/",
          "height": 49,
          "referenced_widgets": [
            "44abbedc6368410299764e96e3a841ce",
            "5a96388bbe4547d59cb6673b4f5c80dc",
            "bd30cf630c0c47cb96f83c5f63b89642",
            "09c1e24786c4478985f4014b683acb9a",
            "1f4b213dff2f4812abdc01cbf1014b01",
            "7db1de768239408f8a111e1efb983573",
            "365e7f8182894641af7fdab65e5149d5",
            "c94d6f5502aa4210899a050b3a4c641c",
            "c93d3ec5a17a4cbd8618e5c6c504e868",
            "2c45ec7d0f144fe2ab7e0f95b0b0060e",
            "91b4aa345a17428ca7175d5fb572aa30"
          ]
        },
        "id": "f42c099b-74cd-4ae0-80cf-df499ab2c43e",
        "outputId": "844578b6-5745-47ef-8eb8-49b67b9c9034"
      },
      "outputs": [
        {
          "data": {
            "application/vnd.jupyter.widget-view+json": {
              "model_id": "44abbedc6368410299764e96e3a841ce",
              "version_major": 2,
              "version_minor": 0
            },
            "text/plain": [
              "  0%|          | 0/3029 [00:00<?, ?it/s]"
            ]
          },
          "metadata": {},
          "output_type": "display_data"
        }
      ],
      "source": [
        "res_seq_rec_course = {}\n",
        "for i, row in tqdm(df.iterrows(), total=len(df)):\n",
        "    text = row['seq_rec_course']\n",
        "    res_seq_rec_course[text] = sia.polarity_scores(str(text))"
      ]
    },
    {
      "cell_type": "code",
      "execution_count": null,
      "id": "823eca5e-ccf4-4f93-9ba9-5277404f422f",
      "metadata": {
        "colab": {
          "base_uri": "https://localhost:8080/",
          "height": 49,
          "referenced_widgets": [
            "027ca0c7ce8e4315be6fa8758c5a8fd7",
            "802ae11ee6b44ef8b43150129e3d3124",
            "0d0b958e84e64fa7b6192732603a3bf0",
            "2adea53c3dcc431d81af77d22429dafd",
            "c74b1fe2e6e24061865f3d9741fa19d1",
            "2934ae80b276460f955f7014a8e0ecb7",
            "60b0af2fd8e445f9881d6e224e967925",
            "64275237af454b74888d3a8e3d318e03",
            "10d323a01a9147bbb5308c71a2d42302",
            "a537865555ac42719fc920fd906dae01",
            "21ce65eeda4f4a42a28b5c60419fa6eb"
          ]
        },
        "id": "823eca5e-ccf4-4f93-9ba9-5277404f422f",
        "outputId": "a04e61d7-8b09-4582-aaf7-6af7baa23c8d"
      },
      "outputs": [
        {
          "data": {
            "application/vnd.jupyter.widget-view+json": {
              "model_id": "027ca0c7ce8e4315be6fa8758c5a8fd7",
              "version_major": 2,
              "version_minor": 0
            },
            "text/plain": [
              "  0%|          | 0/3029 [00:00<?, ?it/s]"
            ]
          },
          "metadata": {},
          "output_type": "display_data"
        }
      ],
      "source": [
        "res_seq_rec_instructor = {}\n",
        "for i, row in tqdm(df.iterrows(), total=len(df)):\n",
        "    text = row['seq_rec_instructor']\n",
        "    res_seq_rec_instructor[text] = sia.polarity_scores(str(text))"
      ]
    },
    {
      "cell_type": "code",
      "execution_count": null,
      "id": "7ba39a1f-aada-40f5-b988-77eefa78a5bc",
      "metadata": {
        "colab": {
          "base_uri": "https://localhost:8080/",
          "height": 719
        },
        "id": "7ba39a1f-aada-40f5-b988-77eefa78a5bc",
        "outputId": "db339688-dadf-4391-839e-b49a4d27f4e8"
      },
      "outputs": [
        {
          "data": {
            "application/vnd.google.colaboratory.intrinsic+json": {
              "summary": "{\n  \"name\": \"pd\",\n  \"rows\": 2896,\n  \"fields\": [\n    {\n      \"column\": \"neg\",\n      \"properties\": {\n        \"dtype\": \"number\",\n        \"std\": 0.05280214986813375,\n        \"min\": 0.0,\n        \"max\": 0.73,\n        \"num_unique_values\": 201,\n        \"samples\": [\n          0.038,\n          0.034,\n          0.138\n        ],\n        \"semantic_type\": \"\",\n        \"description\": \"\"\n      }\n    },\n    {\n      \"column\": \"neu\",\n      \"properties\": {\n        \"dtype\": \"number\",\n        \"std\": 0.11612688582356501,\n        \"min\": 0.0,\n        \"max\": 1.0,\n        \"num_unique_values\": 420,\n        \"samples\": [\n          0.888,\n          0.74,\n          0.707\n        ],\n        \"semantic_type\": \"\",\n        \"description\": \"\"\n      }\n    },\n    {\n      \"column\": \"pos\",\n      \"properties\": {\n        \"dtype\": \"number\",\n        \"std\": 0.1073965424749148,\n        \"min\": 0.0,\n        \"max\": 1.0,\n        \"num_unique_values\": 400,\n        \"samples\": [\n          0.029,\n          0.385,\n          0.195\n        ],\n        \"semantic_type\": \"\",\n        \"description\": \"\"\n      }\n    },\n    {\n      \"column\": \"compound\",\n      \"properties\": {\n        \"dtype\": \"number\",\n        \"std\": 0.391131010319729,\n        \"min\": -0.8963,\n        \"max\": 0.9964,\n        \"num_unique_values\": 1064,\n        \"samples\": [\n          0.8126,\n          0.8251,\n          0.2415\n        ],\n        \"semantic_type\": \"\",\n        \"description\": \"\"\n      }\n    }\n  ]\n}",
              "type": "dataframe"
            },
            "text/html": [
              "\n",
              "  <div id=\"df-b489de29-a180-4191-b5d4-717f8e774634\" class=\"colab-df-container\">\n",
              "    <div>\n",
              "<style scoped>\n",
              "    .dataframe tbody tr th:only-of-type {\n",
              "        vertical-align: middle;\n",
              "    }\n",
              "\n",
              "    .dataframe tbody tr th {\n",
              "        vertical-align: top;\n",
              "    }\n",
              "\n",
              "    .dataframe thead th {\n",
              "        text-align: right;\n",
              "    }\n",
              "</style>\n",
              "<table border=\"1\" class=\"dataframe\">\n",
              "  <thead>\n",
              "    <tr style=\"text-align: right;\">\n",
              "      <th></th>\n",
              "      <th>neg</th>\n",
              "      <th>neu</th>\n",
              "      <th>pos</th>\n",
              "      <th>compound</th>\n",
              "    </tr>\n",
              "  </thead>\n",
              "  <tbody>\n",
              "    <tr>\n",
              "      <th>the most valuable feature of the course was by far the project. Because we actually had to do the econometric research, I feel that I gained a greater understanding of how to apply stata and what a powerful tool it truly is. I also felt that having to present our presentations was a very useful experience for the presenters. As we had to put our material into an understandable package, it forced us to re-evaluate our undersntnaindg make suer we were actually accomplishing our goals.</th>\n",
              "      <td>0.032</td>\n",
              "      <td>0.779</td>\n",
              "      <td>0.188</td>\n",
              "      <td>0.9244</td>\n",
              "    </tr>\n",
              "    <tr>\n",
              "      <th>NaN</th>\n",
              "      <td>0.000</td>\n",
              "      <td>1.000</td>\n",
              "      <td>0.000</td>\n",
              "      <td>0.0000</td>\n",
              "    </tr>\n",
              "    <tr>\n",
              "      <th>The Problem sets of the courese were very helpful. I thought they were a great way to perfect my Econometrics and really use it in upper-level economics courses. I also really thought that the reading were a great asset. Although the syllabus was little amibition, the readings were great. The midterm was very fair and a great assesment of my skills and understanding of the materials.</th>\n",
              "      <td>0.033</td>\n",
              "      <td>0.627</td>\n",
              "      <td>0.341</td>\n",
              "      <td>0.9790</td>\n",
              "    </tr>\n",
              "    <tr>\n",
              "      <th>The most valuable feature of this course was the focus on econometric techniques and analysis. I really enjoyed reading economic research papers which approached complex problems with different econometric techniques, and I learned how to read these types of papers and actually understand them. I feel like I can now analyze different economic problems with a more in-depth understanding. Also, I enjoyed working with STATA a lot. I got to brush up on my skills, and running regressions for the problem sets and the final project was interesting and fun.</th>\n",
              "      <td>0.081</td>\n",
              "      <td>0.729</td>\n",
              "      <td>0.190</td>\n",
              "      <td>0.8996</td>\n",
              "    </tr>\n",
              "    <tr>\n",
              "      <th>using econometric methods and getting an analytical rather than ideological view of immigration</th>\n",
              "      <td>0.000</td>\n",
              "      <td>1.000</td>\n",
              "      <td>0.000</td>\n",
              "      <td>0.0000</td>\n",
              "    </tr>\n",
              "    <tr>\n",
              "      <th>...</th>\n",
              "      <td>...</td>\n",
              "      <td>...</td>\n",
              "      <td>...</td>\n",
              "      <td>...</td>\n",
              "    </tr>\n",
              "    <tr>\n",
              "      <th>I definitely learned more about Latin America. I had taken courses on Latin America in the past but not the extent that this course covered.</th>\n",
              "      <td>0.000</td>\n",
              "      <td>0.922</td>\n",
              "      <td>0.078</td>\n",
              "      <td>0.2144</td>\n",
              "    </tr>\n",
              "    <tr>\n",
              "      <th>Learning about Latin America.</th>\n",
              "      <td>0.000</td>\n",
              "      <td>1.000</td>\n",
              "      <td>0.000</td>\n",
              "      <td>0.0000</td>\n",
              "    </tr>\n",
              "    <tr>\n",
              "      <th>The most valuable features of this course were being able to adjust to different teaching styles. Because we had two professors, one from the Economy department (Professor McEwan) and another from the Spanish department (Professor Hagimoto), we were able to learn about the same topic from two different perspectives. This made the taught content appear clearer to the students.</th>\n",
              "      <td>0.000</td>\n",
              "      <td>0.945</td>\n",
              "      <td>0.055</td>\n",
              "      <td>0.5256</td>\n",
              "    </tr>\n",
              "    <tr>\n",
              "      <th>The fact that we got to learn from two different perspectives with two different lecturers.</th>\n",
              "      <td>0.000</td>\n",
              "      <td>1.000</td>\n",
              "      <td>0.000</td>\n",
              "      <td>0.0000</td>\n",
              "    </tr>\n",
              "    <tr>\n",
              "      <th>Learning about the correlation between education and poverty was one of the most valuable things I learned in this course.</th>\n",
              "      <td>0.139</td>\n",
              "      <td>0.718</td>\n",
              "      <td>0.143</td>\n",
              "      <td>0.0240</td>\n",
              "    </tr>\n",
              "  </tbody>\n",
              "</table>\n",
              "<p>2896 rows × 4 columns</p>\n",
              "</div>\n",
              "    <div class=\"colab-df-buttons\">\n",
              "\n",
              "  <div class=\"colab-df-container\">\n",
              "    <button class=\"colab-df-convert\" onclick=\"convertToInteractive('df-b489de29-a180-4191-b5d4-717f8e774634')\"\n",
              "            title=\"Convert this dataframe to an interactive table.\"\n",
              "            style=\"display:none;\">\n",
              "\n",
              "  <svg xmlns=\"http://www.w3.org/2000/svg\" height=\"24px\" viewBox=\"0 -960 960 960\">\n",
              "    <path d=\"M120-120v-720h720v720H120Zm60-500h600v-160H180v160Zm220 220h160v-160H400v160Zm0 220h160v-160H400v160ZM180-400h160v-160H180v160Zm440 0h160v-160H620v160ZM180-180h160v-160H180v160Zm440 0h160v-160H620v160Z\"/>\n",
              "  </svg>\n",
              "    </button>\n",
              "\n",
              "  <style>\n",
              "    .colab-df-container {\n",
              "      display:flex;\n",
              "      gap: 12px;\n",
              "    }\n",
              "\n",
              "    .colab-df-convert {\n",
              "      background-color: #E8F0FE;\n",
              "      border: none;\n",
              "      border-radius: 50%;\n",
              "      cursor: pointer;\n",
              "      display: none;\n",
              "      fill: #1967D2;\n",
              "      height: 32px;\n",
              "      padding: 0 0 0 0;\n",
              "      width: 32px;\n",
              "    }\n",
              "\n",
              "    .colab-df-convert:hover {\n",
              "      background-color: #E2EBFA;\n",
              "      box-shadow: 0px 1px 2px rgba(60, 64, 67, 0.3), 0px 1px 3px 1px rgba(60, 64, 67, 0.15);\n",
              "      fill: #174EA6;\n",
              "    }\n",
              "\n",
              "    .colab-df-buttons div {\n",
              "      margin-bottom: 4px;\n",
              "    }\n",
              "\n",
              "    [theme=dark] .colab-df-convert {\n",
              "      background-color: #3B4455;\n",
              "      fill: #D2E3FC;\n",
              "    }\n",
              "\n",
              "    [theme=dark] .colab-df-convert:hover {\n",
              "      background-color: #434B5C;\n",
              "      box-shadow: 0px 1px 3px 1px rgba(0, 0, 0, 0.15);\n",
              "      filter: drop-shadow(0px 1px 2px rgba(0, 0, 0, 0.3));\n",
              "      fill: #FFFFFF;\n",
              "    }\n",
              "  </style>\n",
              "\n",
              "    <script>\n",
              "      const buttonEl =\n",
              "        document.querySelector('#df-b489de29-a180-4191-b5d4-717f8e774634 button.colab-df-convert');\n",
              "      buttonEl.style.display =\n",
              "        google.colab.kernel.accessAllowed ? 'block' : 'none';\n",
              "\n",
              "      async function convertToInteractive(key) {\n",
              "        const element = document.querySelector('#df-b489de29-a180-4191-b5d4-717f8e774634');\n",
              "        const dataTable =\n",
              "          await google.colab.kernel.invokeFunction('convertToInteractive',\n",
              "                                                    [key], {});\n",
              "        if (!dataTable) return;\n",
              "\n",
              "        const docLinkHtml = 'Like what you see? Visit the ' +\n",
              "          '<a target=\"_blank\" href=https://colab.research.google.com/notebooks/data_table.ipynb>data table notebook</a>'\n",
              "          + ' to learn more about interactive tables.';\n",
              "        element.innerHTML = '';\n",
              "        dataTable['output_type'] = 'display_data';\n",
              "        await google.colab.output.renderOutput(dataTable, element);\n",
              "        const docLink = document.createElement('div');\n",
              "        docLink.innerHTML = docLinkHtml;\n",
              "        element.appendChild(docLink);\n",
              "      }\n",
              "    </script>\n",
              "  </div>\n",
              "\n",
              "\n",
              "<div id=\"df-af5bccd6-76e4-4439-a594-5b1af0ac20ee\">\n",
              "  <button class=\"colab-df-quickchart\" onclick=\"quickchart('df-af5bccd6-76e4-4439-a594-5b1af0ac20ee')\"\n",
              "            title=\"Suggest charts\"\n",
              "            style=\"display:none;\">\n",
              "\n",
              "<svg xmlns=\"http://www.w3.org/2000/svg\" height=\"24px\"viewBox=\"0 0 24 24\"\n",
              "     width=\"24px\">\n",
              "    <g>\n",
              "        <path d=\"M19 3H5c-1.1 0-2 .9-2 2v14c0 1.1.9 2 2 2h14c1.1 0 2-.9 2-2V5c0-1.1-.9-2-2-2zM9 17H7v-7h2v7zm4 0h-2V7h2v10zm4 0h-2v-4h2v4z\"/>\n",
              "    </g>\n",
              "</svg>\n",
              "  </button>\n",
              "\n",
              "<style>\n",
              "  .colab-df-quickchart {\n",
              "      --bg-color: #E8F0FE;\n",
              "      --fill-color: #1967D2;\n",
              "      --hover-bg-color: #E2EBFA;\n",
              "      --hover-fill-color: #174EA6;\n",
              "      --disabled-fill-color: #AAA;\n",
              "      --disabled-bg-color: #DDD;\n",
              "  }\n",
              "\n",
              "  [theme=dark] .colab-df-quickchart {\n",
              "      --bg-color: #3B4455;\n",
              "      --fill-color: #D2E3FC;\n",
              "      --hover-bg-color: #434B5C;\n",
              "      --hover-fill-color: #FFFFFF;\n",
              "      --disabled-bg-color: #3B4455;\n",
              "      --disabled-fill-color: #666;\n",
              "  }\n",
              "\n",
              "  .colab-df-quickchart {\n",
              "    background-color: var(--bg-color);\n",
              "    border: none;\n",
              "    border-radius: 50%;\n",
              "    cursor: pointer;\n",
              "    display: none;\n",
              "    fill: var(--fill-color);\n",
              "    height: 32px;\n",
              "    padding: 0;\n",
              "    width: 32px;\n",
              "  }\n",
              "\n",
              "  .colab-df-quickchart:hover {\n",
              "    background-color: var(--hover-bg-color);\n",
              "    box-shadow: 0 1px 2px rgba(60, 64, 67, 0.3), 0 1px 3px 1px rgba(60, 64, 67, 0.15);\n",
              "    fill: var(--button-hover-fill-color);\n",
              "  }\n",
              "\n",
              "  .colab-df-quickchart-complete:disabled,\n",
              "  .colab-df-quickchart-complete:disabled:hover {\n",
              "    background-color: var(--disabled-bg-color);\n",
              "    fill: var(--disabled-fill-color);\n",
              "    box-shadow: none;\n",
              "  }\n",
              "\n",
              "  .colab-df-spinner {\n",
              "    border: 2px solid var(--fill-color);\n",
              "    border-color: transparent;\n",
              "    border-bottom-color: var(--fill-color);\n",
              "    animation:\n",
              "      spin 1s steps(1) infinite;\n",
              "  }\n",
              "\n",
              "  @keyframes spin {\n",
              "    0% {\n",
              "      border-color: transparent;\n",
              "      border-bottom-color: var(--fill-color);\n",
              "      border-left-color: var(--fill-color);\n",
              "    }\n",
              "    20% {\n",
              "      border-color: transparent;\n",
              "      border-left-color: var(--fill-color);\n",
              "      border-top-color: var(--fill-color);\n",
              "    }\n",
              "    30% {\n",
              "      border-color: transparent;\n",
              "      border-left-color: var(--fill-color);\n",
              "      border-top-color: var(--fill-color);\n",
              "      border-right-color: var(--fill-color);\n",
              "    }\n",
              "    40% {\n",
              "      border-color: transparent;\n",
              "      border-right-color: var(--fill-color);\n",
              "      border-top-color: var(--fill-color);\n",
              "    }\n",
              "    60% {\n",
              "      border-color: transparent;\n",
              "      border-right-color: var(--fill-color);\n",
              "    }\n",
              "    80% {\n",
              "      border-color: transparent;\n",
              "      border-right-color: var(--fill-color);\n",
              "      border-bottom-color: var(--fill-color);\n",
              "    }\n",
              "    90% {\n",
              "      border-color: transparent;\n",
              "      border-bottom-color: var(--fill-color);\n",
              "    }\n",
              "  }\n",
              "</style>\n",
              "\n",
              "  <script>\n",
              "    async function quickchart(key) {\n",
              "      const quickchartButtonEl =\n",
              "        document.querySelector('#' + key + ' button');\n",
              "      quickchartButtonEl.disabled = true;  // To prevent multiple clicks.\n",
              "      quickchartButtonEl.classList.add('colab-df-spinner');\n",
              "      try {\n",
              "        const charts = await google.colab.kernel.invokeFunction(\n",
              "            'suggestCharts', [key], {});\n",
              "      } catch (error) {\n",
              "        console.error('Error during call to suggestCharts:', error);\n",
              "      }\n",
              "      quickchartButtonEl.classList.remove('colab-df-spinner');\n",
              "      quickchartButtonEl.classList.add('colab-df-quickchart-complete');\n",
              "    }\n",
              "    (() => {\n",
              "      let quickchartButtonEl =\n",
              "        document.querySelector('#df-af5bccd6-76e4-4439-a594-5b1af0ac20ee button');\n",
              "      quickchartButtonEl.style.display =\n",
              "        google.colab.kernel.accessAllowed ? 'block' : 'none';\n",
              "    })();\n",
              "  </script>\n",
              "</div>\n",
              "\n",
              "    </div>\n",
              "  </div>\n"
            ],
            "text/plain": [
              "                                                      neg    neu    pos  \\\n",
              "the most valuable feature of the course was by ...  0.032  0.779  0.188   \n",
              "NaN                                                 0.000  1.000  0.000   \n",
              "The Problem sets of the courese were very helpf...  0.033  0.627  0.341   \n",
              "The most valuable feature of this course was th...  0.081  0.729  0.190   \n",
              "using econometric methods and getting an analyt...  0.000  1.000  0.000   \n",
              "...                                                   ...    ...    ...   \n",
              "I definitely learned more about Latin America. ...  0.000  0.922  0.078   \n",
              "Learning about Latin America.                       0.000  1.000  0.000   \n",
              "The most valuable features of this course were ...  0.000  0.945  0.055   \n",
              "The fact that we got to learn from two differen...  0.000  1.000  0.000   \n",
              "Learning about the correlation between educatio...  0.139  0.718  0.143   \n",
              "\n",
              "                                                    compound  \n",
              "the most valuable feature of the course was by ...    0.9244  \n",
              "NaN                                                   0.0000  \n",
              "The Problem sets of the courese were very helpf...    0.9790  \n",
              "The most valuable feature of this course was th...    0.8996  \n",
              "using econometric methods and getting an analyt...    0.0000  \n",
              "...                                                      ...  \n",
              "I definitely learned more about Latin America. ...    0.2144  \n",
              "Learning about Latin America.                         0.0000  \n",
              "The most valuable features of this course were ...    0.5256  \n",
              "The fact that we got to learn from two differen...    0.0000  \n",
              "Learning about the correlation between educatio...    0.0240  \n",
              "\n",
              "[2896 rows x 4 columns]"
            ]
          },
          "execution_count": 34,
          "metadata": {},
          "output_type": "execute_result"
        }
      ],
      "source": [
        "pd.DataFrame(res_seq_vf).T"
      ]
    },
    {
      "cell_type": "code",
      "execution_count": null,
      "id": "24384db4-ba12-4e93-aa09-d51795fbc376",
      "metadata": {
        "colab": {
          "base_uri": "https://localhost:8080/",
          "height": 858
        },
        "id": "24384db4-ba12-4e93-aa09-d51795fbc376",
        "outputId": "0601e158-d791-46d7-8aee-6720186ba50c"
      },
      "outputs": [
        {
          "data": {
            "application/vnd.google.colaboratory.intrinsic+json": {
              "summary": "{\n  \"name\": \"pd\",\n  \"rows\": 2720,\n  \"fields\": [\n    {\n      \"column\": \"neg\",\n      \"properties\": {\n        \"dtype\": \"number\",\n        \"std\": 0.09027541792524338,\n        \"min\": 0.0,\n        \"max\": 0.831,\n        \"num_unique_values\": 292,\n        \"samples\": [\n          0.043,\n          0.01,\n          0.03\n        ],\n        \"semantic_type\": \"\",\n        \"description\": \"\"\n      }\n    },\n    {\n      \"column\": \"neu\",\n      \"properties\": {\n        \"dtype\": \"number\",\n        \"std\": 0.1385174231413562,\n        \"min\": 0.0,\n        \"max\": 1.0,\n        \"num_unique_values\": 486,\n        \"samples\": [\n          0.496,\n          0.728,\n          0.407\n        ],\n        \"semantic_type\": \"\",\n        \"description\": \"\"\n      }\n    },\n    {\n      \"column\": \"pos\",\n      \"properties\": {\n        \"dtype\": \"number\",\n        \"std\": 0.12208634842688515,\n        \"min\": 0.0,\n        \"max\": 1.0,\n        \"num_unique_values\": 425,\n        \"samples\": [\n          0.263,\n          0.115,\n          0.223\n        ],\n        \"semantic_type\": \"\",\n        \"description\": \"\"\n      }\n    },\n    {\n      \"column\": \"compound\",\n      \"properties\": {\n        \"dtype\": \"number\",\n        \"std\": 0.477305529363121,\n        \"min\": -0.976,\n        \"max\": 0.9927,\n        \"num_unique_values\": 1249,\n        \"samples\": [\n          0.7741,\n          -0.8405,\n          0.7978\n        ],\n        \"semantic_type\": \"\",\n        \"description\": \"\"\n      }\n    }\n  ]\n}",
              "type": "dataframe"
            },
            "text/html": [
              "\n",
              "  <div id=\"df-1aa87ca2-5357-4865-9c0e-7f8f06646087\" class=\"colab-df-container\">\n",
              "    <div>\n",
              "<style scoped>\n",
              "    .dataframe tbody tr th:only-of-type {\n",
              "        vertical-align: middle;\n",
              "    }\n",
              "\n",
              "    .dataframe tbody tr th {\n",
              "        vertical-align: top;\n",
              "    }\n",
              "\n",
              "    .dataframe thead th {\n",
              "        text-align: right;\n",
              "    }\n",
              "</style>\n",
              "<table border=\"1\" class=\"dataframe\">\n",
              "  <thead>\n",
              "    <tr style=\"text-align: right;\">\n",
              "      <th></th>\n",
              "      <th>neg</th>\n",
              "      <th>neu</th>\n",
              "      <th>pos</th>\n",
              "      <th>compound</th>\n",
              "    </tr>\n",
              "  </thead>\n",
              "  <tbody>\n",
              "    <tr>\n",
              "      <th>I really feel that the lecture componenet of this course could be imporved. I felt like I often left lecture without a true understanding of what the important issues from the reading or immigration actually were. The final and midterm reviews were exteremely helpful, but I felt like the understanding I gained form those should have been gained in class. perhaps an outline on the board of the focus of that days lecture would be more helpful. Also, I think the problem sets could really be improved to help us build our project. While they did force us to use stata, only the last pset was truly useful for our semester long project. \\n \\n Also, I think the exam compoennet of the course needs to be reevaluated. I felt like the most useful portion of the course, adn what required copious amounts of work, the project wasn't the focus of my grade due to the exams. Then when going into the exams I was often confused about what would be on the exam as the focus of the problem sets was our empirical work and that wasn't the focus of the exam. I understand the purpose of the exams, but perhaps a better way to gauge our indepth understanding of the papers would have been to have us present the papers earliier in the semester as prep work for our presentations of our empirical work.</th>\n",
              "      <td>0.045</td>\n",
              "      <td>0.781</td>\n",
              "      <td>0.174</td>\n",
              "      <td>0.9871</td>\n",
              "    </tr>\n",
              "    <tr>\n",
              "      <th>NaN</th>\n",
              "      <td>0.000</td>\n",
              "      <td>1.000</td>\n",
              "      <td>0.000</td>\n",
              "      <td>0.0000</td>\n",
              "    </tr>\n",
              "    <tr>\n",
              "      <th>The speed of the course. This was partaly effected due to the quality of student in the class. Many of the students did not do their readings and they did not understand many econometrics ideas. I would hope that the class could be larger next year and have a greater chance of drawing quality students. The project was very weak. I really thought that there was too much group work and that the project was not as good because all the problem sets were done in groups. I thought that project should be given less weight and the presentations should have been only a half of a period.</th>\n",
              "      <td>0.074</td>\n",
              "      <td>0.859</td>\n",
              "      <td>0.066</td>\n",
              "      <td>-0.2261</td>\n",
              "    </tr>\n",
              "    <tr>\n",
              "      <th>I really disliked having to do everything in groups because people put in very different amount of interest, movitation, time, and thought into doing the work, and I feel like I had to work harder to make up for the shortcomings of others. I would suggest not requiring that the problem sets be done in groups. \\n I feel that because it was the first time this course was taught, it was hard to gauge how much reading to assign, but I feel like this is something that will automatically be improved next year and with time.</th>\n",
              "      <td>0.051</td>\n",
              "      <td>0.837</td>\n",
              "      <td>0.112</td>\n",
              "      <td>0.7966</td>\n",
              "    </tr>\n",
              "    <tr>\n",
              "      <th>the directions on assignments could be more direct</th>\n",
              "      <td>0.000</td>\n",
              "      <td>1.000</td>\n",
              "      <td>0.000</td>\n",
              "      <td>0.0000</td>\n",
              "    </tr>\n",
              "    <tr>\n",
              "      <th>...</th>\n",
              "      <td>...</td>\n",
              "      <td>...</td>\n",
              "      <td>...</td>\n",
              "      <td>...</td>\n",
              "    </tr>\n",
              "    <tr>\n",
              "      <th>The readings were a bit excessive. I understand that Latin America is a big place and there's a lot of information that can't be covered in class which is why we had the readings but they could be overwhelming.</th>\n",
              "      <td>0.000</td>\n",
              "      <td>1.000</td>\n",
              "      <td>0.000</td>\n",
              "      <td>0.0000</td>\n",
              "    </tr>\n",
              "    <tr>\n",
              "      <th>The readings could decrease. The readings were very long.</th>\n",
              "      <td>0.000</td>\n",
              "      <td>1.000</td>\n",
              "      <td>0.000</td>\n",
              "      <td>0.0000</td>\n",
              "    </tr>\n",
              "    <tr>\n",
              "      <th>This course can improve by having hands-on more projects or assignments that allows other students to interact with each other. I feel like not enough interactions occurred between students.</th>\n",
              "      <td>0.000</td>\n",
              "      <td>0.828</td>\n",
              "      <td>0.172</td>\n",
              "      <td>0.6597</td>\n",
              "    </tr>\n",
              "    <tr>\n",
              "      <th>I wish we had held the class in a different room because it was tough to do group conversations. I also wish we focused a little more on class wide discussion isntead of individual groups.</th>\n",
              "      <td>0.041</td>\n",
              "      <td>0.740</td>\n",
              "      <td>0.219</td>\n",
              "      <td>0.7579</td>\n",
              "    </tr>\n",
              "    <tr>\n",
              "      <th>I wish this course was 3 classes a week. There is a lot of information to cover, so an extra class would allow for deeper discussions. I was upset with how fast-paced the course seemed. I wish we could have gone deeper in some discussions.</th>\n",
              "      <td>0.058</td>\n",
              "      <td>0.780</td>\n",
              "      <td>0.163</td>\n",
              "      <td>0.5719</td>\n",
              "    </tr>\n",
              "  </tbody>\n",
              "</table>\n",
              "<p>2720 rows × 4 columns</p>\n",
              "</div>\n",
              "    <div class=\"colab-df-buttons\">\n",
              "\n",
              "  <div class=\"colab-df-container\">\n",
              "    <button class=\"colab-df-convert\" onclick=\"convertToInteractive('df-1aa87ca2-5357-4865-9c0e-7f8f06646087')\"\n",
              "            title=\"Convert this dataframe to an interactive table.\"\n",
              "            style=\"display:none;\">\n",
              "\n",
              "  <svg xmlns=\"http://www.w3.org/2000/svg\" height=\"24px\" viewBox=\"0 -960 960 960\">\n",
              "    <path d=\"M120-120v-720h720v720H120Zm60-500h600v-160H180v160Zm220 220h160v-160H400v160Zm0 220h160v-160H400v160ZM180-400h160v-160H180v160Zm440 0h160v-160H620v160ZM180-180h160v-160H180v160Zm440 0h160v-160H620v160Z\"/>\n",
              "  </svg>\n",
              "    </button>\n",
              "\n",
              "  <style>\n",
              "    .colab-df-container {\n",
              "      display:flex;\n",
              "      gap: 12px;\n",
              "    }\n",
              "\n",
              "    .colab-df-convert {\n",
              "      background-color: #E8F0FE;\n",
              "      border: none;\n",
              "      border-radius: 50%;\n",
              "      cursor: pointer;\n",
              "      display: none;\n",
              "      fill: #1967D2;\n",
              "      height: 32px;\n",
              "      padding: 0 0 0 0;\n",
              "      width: 32px;\n",
              "    }\n",
              "\n",
              "    .colab-df-convert:hover {\n",
              "      background-color: #E2EBFA;\n",
              "      box-shadow: 0px 1px 2px rgba(60, 64, 67, 0.3), 0px 1px 3px 1px rgba(60, 64, 67, 0.15);\n",
              "      fill: #174EA6;\n",
              "    }\n",
              "\n",
              "    .colab-df-buttons div {\n",
              "      margin-bottom: 4px;\n",
              "    }\n",
              "\n",
              "    [theme=dark] .colab-df-convert {\n",
              "      background-color: #3B4455;\n",
              "      fill: #D2E3FC;\n",
              "    }\n",
              "\n",
              "    [theme=dark] .colab-df-convert:hover {\n",
              "      background-color: #434B5C;\n",
              "      box-shadow: 0px 1px 3px 1px rgba(0, 0, 0, 0.15);\n",
              "      filter: drop-shadow(0px 1px 2px rgba(0, 0, 0, 0.3));\n",
              "      fill: #FFFFFF;\n",
              "    }\n",
              "  </style>\n",
              "\n",
              "    <script>\n",
              "      const buttonEl =\n",
              "        document.querySelector('#df-1aa87ca2-5357-4865-9c0e-7f8f06646087 button.colab-df-convert');\n",
              "      buttonEl.style.display =\n",
              "        google.colab.kernel.accessAllowed ? 'block' : 'none';\n",
              "\n",
              "      async function convertToInteractive(key) {\n",
              "        const element = document.querySelector('#df-1aa87ca2-5357-4865-9c0e-7f8f06646087');\n",
              "        const dataTable =\n",
              "          await google.colab.kernel.invokeFunction('convertToInteractive',\n",
              "                                                    [key], {});\n",
              "        if (!dataTable) return;\n",
              "\n",
              "        const docLinkHtml = 'Like what you see? Visit the ' +\n",
              "          '<a target=\"_blank\" href=https://colab.research.google.com/notebooks/data_table.ipynb>data table notebook</a>'\n",
              "          + ' to learn more about interactive tables.';\n",
              "        element.innerHTML = '';\n",
              "        dataTable['output_type'] = 'display_data';\n",
              "        await google.colab.output.renderOutput(dataTable, element);\n",
              "        const docLink = document.createElement('div');\n",
              "        docLink.innerHTML = docLinkHtml;\n",
              "        element.appendChild(docLink);\n",
              "      }\n",
              "    </script>\n",
              "  </div>\n",
              "\n",
              "\n",
              "<div id=\"df-3fe9cf1f-7478-4ec8-976e-296141cf18d4\">\n",
              "  <button class=\"colab-df-quickchart\" onclick=\"quickchart('df-3fe9cf1f-7478-4ec8-976e-296141cf18d4')\"\n",
              "            title=\"Suggest charts\"\n",
              "            style=\"display:none;\">\n",
              "\n",
              "<svg xmlns=\"http://www.w3.org/2000/svg\" height=\"24px\"viewBox=\"0 0 24 24\"\n",
              "     width=\"24px\">\n",
              "    <g>\n",
              "        <path d=\"M19 3H5c-1.1 0-2 .9-2 2v14c0 1.1.9 2 2 2h14c1.1 0 2-.9 2-2V5c0-1.1-.9-2-2-2zM9 17H7v-7h2v7zm4 0h-2V7h2v10zm4 0h-2v-4h2v4z\"/>\n",
              "    </g>\n",
              "</svg>\n",
              "  </button>\n",
              "\n",
              "<style>\n",
              "  .colab-df-quickchart {\n",
              "      --bg-color: #E8F0FE;\n",
              "      --fill-color: #1967D2;\n",
              "      --hover-bg-color: #E2EBFA;\n",
              "      --hover-fill-color: #174EA6;\n",
              "      --disabled-fill-color: #AAA;\n",
              "      --disabled-bg-color: #DDD;\n",
              "  }\n",
              "\n",
              "  [theme=dark] .colab-df-quickchart {\n",
              "      --bg-color: #3B4455;\n",
              "      --fill-color: #D2E3FC;\n",
              "      --hover-bg-color: #434B5C;\n",
              "      --hover-fill-color: #FFFFFF;\n",
              "      --disabled-bg-color: #3B4455;\n",
              "      --disabled-fill-color: #666;\n",
              "  }\n",
              "\n",
              "  .colab-df-quickchart {\n",
              "    background-color: var(--bg-color);\n",
              "    border: none;\n",
              "    border-radius: 50%;\n",
              "    cursor: pointer;\n",
              "    display: none;\n",
              "    fill: var(--fill-color);\n",
              "    height: 32px;\n",
              "    padding: 0;\n",
              "    width: 32px;\n",
              "  }\n",
              "\n",
              "  .colab-df-quickchart:hover {\n",
              "    background-color: var(--hover-bg-color);\n",
              "    box-shadow: 0 1px 2px rgba(60, 64, 67, 0.3), 0 1px 3px 1px rgba(60, 64, 67, 0.15);\n",
              "    fill: var(--button-hover-fill-color);\n",
              "  }\n",
              "\n",
              "  .colab-df-quickchart-complete:disabled,\n",
              "  .colab-df-quickchart-complete:disabled:hover {\n",
              "    background-color: var(--disabled-bg-color);\n",
              "    fill: var(--disabled-fill-color);\n",
              "    box-shadow: none;\n",
              "  }\n",
              "\n",
              "  .colab-df-spinner {\n",
              "    border: 2px solid var(--fill-color);\n",
              "    border-color: transparent;\n",
              "    border-bottom-color: var(--fill-color);\n",
              "    animation:\n",
              "      spin 1s steps(1) infinite;\n",
              "  }\n",
              "\n",
              "  @keyframes spin {\n",
              "    0% {\n",
              "      border-color: transparent;\n",
              "      border-bottom-color: var(--fill-color);\n",
              "      border-left-color: var(--fill-color);\n",
              "    }\n",
              "    20% {\n",
              "      border-color: transparent;\n",
              "      border-left-color: var(--fill-color);\n",
              "      border-top-color: var(--fill-color);\n",
              "    }\n",
              "    30% {\n",
              "      border-color: transparent;\n",
              "      border-left-color: var(--fill-color);\n",
              "      border-top-color: var(--fill-color);\n",
              "      border-right-color: var(--fill-color);\n",
              "    }\n",
              "    40% {\n",
              "      border-color: transparent;\n",
              "      border-right-color: var(--fill-color);\n",
              "      border-top-color: var(--fill-color);\n",
              "    }\n",
              "    60% {\n",
              "      border-color: transparent;\n",
              "      border-right-color: var(--fill-color);\n",
              "    }\n",
              "    80% {\n",
              "      border-color: transparent;\n",
              "      border-right-color: var(--fill-color);\n",
              "      border-bottom-color: var(--fill-color);\n",
              "    }\n",
              "    90% {\n",
              "      border-color: transparent;\n",
              "      border-bottom-color: var(--fill-color);\n",
              "    }\n",
              "  }\n",
              "</style>\n",
              "\n",
              "  <script>\n",
              "    async function quickchart(key) {\n",
              "      const quickchartButtonEl =\n",
              "        document.querySelector('#' + key + ' button');\n",
              "      quickchartButtonEl.disabled = true;  // To prevent multiple clicks.\n",
              "      quickchartButtonEl.classList.add('colab-df-spinner');\n",
              "      try {\n",
              "        const charts = await google.colab.kernel.invokeFunction(\n",
              "            'suggestCharts', [key], {});\n",
              "      } catch (error) {\n",
              "        console.error('Error during call to suggestCharts:', error);\n",
              "      }\n",
              "      quickchartButtonEl.classList.remove('colab-df-spinner');\n",
              "      quickchartButtonEl.classList.add('colab-df-quickchart-complete');\n",
              "    }\n",
              "    (() => {\n",
              "      let quickchartButtonEl =\n",
              "        document.querySelector('#df-3fe9cf1f-7478-4ec8-976e-296141cf18d4 button');\n",
              "      quickchartButtonEl.style.display =\n",
              "        google.colab.kernel.accessAllowed ? 'block' : 'none';\n",
              "    })();\n",
              "  </script>\n",
              "</div>\n",
              "\n",
              "    </div>\n",
              "  </div>\n"
            ],
            "text/plain": [
              "                                                      neg    neu    pos  \\\n",
              "I really feel that the lecture componenet of th...  0.045  0.781  0.174   \n",
              "NaN                                                 0.000  1.000  0.000   \n",
              "The speed of the course. This was partaly effec...  0.074  0.859  0.066   \n",
              "I really disliked having to do everything in gr...  0.051  0.837  0.112   \n",
              "the directions on assignments could be more direct  0.000  1.000  0.000   \n",
              "...                                                   ...    ...    ...   \n",
              "The readings were a bit excessive. I understand...  0.000  1.000  0.000   \n",
              "The readings could decrease. The readings were ...  0.000  1.000  0.000   \n",
              "This course can improve by having hands-on more...  0.000  0.828  0.172   \n",
              "I wish we had held the class in a different roo...  0.041  0.740  0.219   \n",
              "I wish this course was 3 classes a week. There ...  0.058  0.780  0.163   \n",
              "\n",
              "                                                    compound  \n",
              "I really feel that the lecture componenet of th...    0.9871  \n",
              "NaN                                                   0.0000  \n",
              "The speed of the course. This was partaly effec...   -0.2261  \n",
              "I really disliked having to do everything in gr...    0.7966  \n",
              "the directions on assignments could be more direct    0.0000  \n",
              "...                                                      ...  \n",
              "The readings were a bit excessive. I understand...    0.0000  \n",
              "The readings could decrease. The readings were ...    0.0000  \n",
              "This course can improve by having hands-on more...    0.6597  \n",
              "I wish we had held the class in a different roo...    0.7579  \n",
              "I wish this course was 3 classes a week. There ...    0.5719  \n",
              "\n",
              "[2720 rows x 4 columns]"
            ]
          },
          "execution_count": 35,
          "metadata": {},
          "output_type": "execute_result"
        }
      ],
      "source": [
        "pd.DataFrame(res_seq_if).T"
      ]
    },
    {
      "cell_type": "code",
      "execution_count": null,
      "id": "b6b93b56-a146-45f1-8ead-67b5fc646e0e",
      "metadata": {
        "colab": {
          "base_uri": "https://localhost:8080/",
          "height": 448
        },
        "id": "b6b93b56-a146-45f1-8ead-67b5fc646e0e",
        "outputId": "48a74bb6-845c-41c9-e2fa-39a27c87c621"
      },
      "outputs": [
        {
          "data": {
            "text/plain": [
              "<Axes: >"
            ]
          },
          "execution_count": 36,
          "metadata": {},
          "output_type": "execute_result"
        },
        {
          "data": {
            "image/png": "[encoded data removed]",
            "text/plain": [
              "<Figure size 640x480 with 1 Axes>"
            ]
          },
          "metadata": {},
          "output_type": "display_data"
        }
      ],
      "source": [
        "vaders = pd.DataFrame(res_seq_rec_instructor).T\n",
        "sns.barplot(data = vaders)"
      ]
    },
    {
      "cell_type": "markdown",
      "id": "ptks5howwZ9s",
      "metadata": {
        "id": "ptks5howwZ9s"
      },
      "source": [
        "#**Start of Roberta**\n",
        "####Code should return value between 0-1 for\n",
        "####(will write more explenation later)\n",
        "let dic_ans be a dictionary that stores the roberta result of a text\n",
        "dic_ans[0] stores the negative weight\n",
        "negative // neutral // poitive"
      ]
    },
    {
      "cell_type": "code",
      "execution_count": null,
      "id": "5bba688c-3de1-4d37-a8dd-298e530743a9",
      "metadata": {
        "id": "5bba688c-3de1-4d37-a8dd-298e530743a9"
      },
      "outputs": [],
      "source": [
        "## start of Roberat\n",
        "from transformers import AutoTokenizer\n",
        "from transformers import AutoModelForSequenceClassification\n",
        "from scipy.special import softmax\n",
        "from tqdm import tqdm\n",
        "import logging"
      ]
    },
    {
      "cell_type": "code",
      "execution_count": null,
      "id": "3b84e33e-f7e0-45ec-a28e-06c10a88b618",
      "metadata": {
        "colab": {
          "base_uri": "https://localhost:8080/"
        },
        "id": "3b84e33e-f7e0-45ec-a28e-06c10a88b618",
        "outputId": "9a651478-40fa-4a5e-f70c-c85d19dc621d"
      },
      "outputs": [
        {
          "output_type": "stream",
          "name": "stdout",
          "text": [
            "Requirement already satisfied: torch in /usr/local/lib/python3.10/dist-packages (2.4.1+cu121)\n",
            "Requirement already satisfied: filelock in /usr/local/lib/python3.10/dist-packages (from torch) (3.16.1)\n",
            "Requirement already satisfied: typing-extensions>=4.8.0 in /usr/local/lib/python3.10/dist-packages (from torch) (4.12.2)\n",
            "Requirement already satisfied: sympy in /usr/local/lib/python3.10/dist-packages (from torch) (1.13.3)\n",
            "Requirement already satisfied: networkx in /usr/local/lib/python3.10/dist-packages (from torch) (3.3)\n",
            "Requirement already satisfied: jinja2 in /usr/local/lib/python3.10/dist-packages (from torch) (3.1.4)\n",
            "Requirement already satisfied: fsspec in /usr/local/lib/python3.10/dist-packages (from torch) (2024.6.1)\n",
            "Requirement already satisfied: MarkupSafe>=2.0 in /usr/local/lib/python3.10/dist-packages (from jinja2->torch) (2.1.5)\n",
            "Requirement already satisfied: mpmath<1.4,>=1.1.0 in /usr/local/lib/python3.10/dist-packages (from sympy->torch) (1.3.0)\n"
          ]
        }
      ],
      "source": [
        "pip install torch"
      ]
    },
    {
      "cell_type": "code",
      "execution_count": null,
      "id": "056f5728-ed6b-429e-a72f-e88becb087fb",
      "metadata": {
        "colab": {
          "base_uri": "https://localhost:8080/",
          "height": 340,
          "referenced_widgets": [
            "e69a219f35f64d2caaec068f0ac3452a",
            "63a3853f649b426484225c3c09b85a5a",
            "22c0cde22b6a4854b1bc4be476931ac9",
            "ae5479e3dd5e4ee2a5aaeaa13eb0f4ee",
            "e52836c7266343149a5c8da699864afb",
            "a67d30f6a2084d158dabd858e7060d22",
            "42416adbe32c4651bd9d3417eadc51ed",
            "c00d24c3fcfe42df8748bf4d83f24ef9",
            "fd98b0da4d4346779219356866eae4c6",
            "453cda3d69214baa9434ba07a3ade2ee",
            "25ae77717305431b899dd8838c6be1d9",
            "761d882128594e76a47f3d9f4f2f3f31",
            "2b312b2fe25c4a6bbf5d717776439ce4",
            "711c174755dc4ce29b45b5c3a008ab05",
            "2a8784adf3b04df28f03f8e14baf80d1",
            "2493ddd285214770bb183d624cbf0477",
            "6bd157536dd04dcd99ebcdef192655b0",
            "dc2b62e7dbc4446c9f6f5b73de50ad0e",
            "d32763df3bb24f7f98d83d30e2e5d8fd",
            "ee2efb8c55714f7aa0964f4e93f83e40",
            "0ca6b41f4df84e63bf86e18ca6905a8b",
            "258bcc36a3b144ec865006084966bfde",
            "52cb66ad14d540ce831e59ec44594891",
            "20dc62827ad04540b1e0f351bc7839a6",
            "08ca5722a78c451e982cf815eb54b95e",
            "ebd8fe2811df4f82ab521252a8fdc5cf",
            "a4b58e89c60f42ce928dac35e3a056dd",
            "c0d42afe59d64e04bafbba3708122269",
            "bcf0c08efa3043fc88fd3b1855b0f324",
            "a4f8121e2391413897a1b6ecd8d380e5",
            "f0dba954f5ef4c7f8cd9d508cc5f1591",
            "31540347e3214a58b4bb55d5d7955eac",
            "a673cdb024d04661aefb6c723cd46301",
            "613c3c0151cd410dbfb0dc202c37a42d",
            "1104711b2c47441f8bfb802571424118",
            "30f3922701774b26ad47ed7c6088a1b4",
            "234c387cd1864ecdb18a91d4373464ce",
            "09e8ddb192294ecca1523c56d9a5ed67",
            "fcef76f608ee4fdfa659a34eade679e5",
            "b8aeffde504443d5b6aa2ae62732fcd5",
            "f2e885817d264f208c0f9a82abb02994",
            "6afc33ec5dd44942ba74913a9576e2e2",
            "e4fa240ff014431ea6dc059479ce2bfb",
            "0c12d8ba5f3a48f2a0f35f207437bbdc",
            "6825b9c494154428aac99a5eddba3ac5",
            "dccac81605244ff78096ed7c3a4c8ec8",
            "354f9752749b448db6776a4a0f5b9632",
            "b7626b93930d4668be1903ec9ba9a277",
            "2224be16a55341b0892d439cf09e4c42",
            "711887215f9a4a749b538674fa41dc9b",
            "dcc1e43ab6044f5e96ca88cbdba2e3e9",
            "5e1e3bf818294cd6b79604177f6d022a",
            "7566266ce21f40369820912029fb7b70",
            "b0bdf48ff0274f419905c3c12a6769a5",
            "1a7d594652f34d38a0f5286a2666d043"
          ]
        },
        "id": "056f5728-ed6b-429e-a72f-e88becb087fb",
        "outputId": "e73c192f-523b-4b85-8617-19b8f85acedb"
      },
      "outputs": [
        {
          "output_type": "stream",
          "name": "stderr",
          "text": [
            "/usr/local/lib/python3.10/dist-packages/huggingface_hub/utils/_token.py:89: UserWarning: \n",
            "The secret `HF_TOKEN` does not exist in your Colab secrets.\n",
            "To authenticate with the Hugging Face Hub, create a token in your settings tab (https://huggingface.co/settings/tokens), set it as secret in your Google Colab and restart your session.\n",
            "You will be able to reuse this secret in all of your notebooks.\n",
            "Please note that authentication is recommended but still optional to access public models or datasets.\n",
            "  warnings.warn(\n"
          ]
        },
        {
          "output_type": "display_data",
          "data": {
            "text/plain": [
              "config.json:   0%|          | 0.00/747 [00:00<?, ?B/s]"
            ],
            "application/vnd.jupyter.widget-view+json": {
              "version_major": 2,
              "version_minor": 0,
              "model_id": "e69a219f35f64d2caaec068f0ac3452a"
            }
          },
          "metadata": {}
        },
        {
          "output_type": "display_data",
          "data": {
            "text/plain": [
              "vocab.json:   0%|          | 0.00/899k [00:00<?, ?B/s]"
            ],
            "application/vnd.jupyter.widget-view+json": {
              "version_major": 2,
              "version_minor": 0,
              "model_id": "761d882128594e76a47f3d9f4f2f3f31"
            }
          },
          "metadata": {}
        },
        {
          "output_type": "display_data",
          "data": {
            "text/plain": [
              "merges.txt:   0%|          | 0.00/456k [00:00<?, ?B/s]"
            ],
            "application/vnd.jupyter.widget-view+json": {
              "version_major": 2,
              "version_minor": 0,
              "model_id": "52cb66ad14d540ce831e59ec44594891"
            }
          },
          "metadata": {}
        },
        {
          "output_type": "display_data",
          "data": {
            "text/plain": [
              "special_tokens_map.json:   0%|          | 0.00/150 [00:00<?, ?B/s]"
            ],
            "application/vnd.jupyter.widget-view+json": {
              "version_major": 2,
              "version_minor": 0,
              "model_id": "613c3c0151cd410dbfb0dc202c37a42d"
            }
          },
          "metadata": {}
        },
        {
          "output_type": "stream",
          "name": "stderr",
          "text": [
            "/usr/local/lib/python3.10/dist-packages/transformers/tokenization_utils_base.py:1601: FutureWarning: `clean_up_tokenization_spaces` was not set. It will be set to `True` by default. This behavior will be depracted in transformers v4.45, and will be then set to `False` by default. For more details check this issue: https://github.com/huggingface/transformers/issues/31884\n",
            "  warnings.warn(\n"
          ]
        },
        {
          "output_type": "display_data",
          "data": {
            "text/plain": [
              "pytorch_model.bin:   0%|          | 0.00/499M [00:00<?, ?B/s]"
            ],
            "application/vnd.jupyter.widget-view+json": {
              "version_major": 2,
              "version_minor": 0,
              "model_id": "6825b9c494154428aac99a5eddba3ac5"
            }
          },
          "metadata": {}
        }
      ],
      "source": [
        "MODEL = \"cardiffnlp/twitter-roberta-base-sentiment\"\n",
        "tokenizer = AutoTokenizer.from_pretrained(MODEL)\n",
        "model = AutoModelForSequenceClassification.from_pretrained(\"cardiffnlp/twitter-roberta-base-sentiment\")"
      ]
    },
    {
      "cell_type": "code",
      "execution_count": null,
      "id": "9d979dbe-da7d-4387-bac8-49711f050654",
      "metadata": {
        "colab": {
          "base_uri": "https://localhost:8080/"
        },
        "id": "9d979dbe-da7d-4387-bac8-49711f050654",
        "outputId": "2b9aaba3-27f0-4e8b-987c-761f254c4eee"
      },
      "outputs": [
        {
          "output_type": "stream",
          "name": "stdout",
          "text": [
            "{'roberta_neg': 0.2511888, 'roberta_neu': 0.53851455, 'roberta_pos': 0.21029657}\n"
          ]
        }
      ],
      "source": [
        "#test 0.0 (neg)\n",
        "token_text = tokenizer(\"w\", return_tensors='pt')\n",
        "#print(token_text)\n",
        "output = model(**token_text)\n",
        "scores = output[0][0].detach().numpy()\n",
        "scores = softmax(scores)\n",
        "rob_score = {\n",
        "    'roberta_neg' : scores[0],\n",
        "    'roberta_neu' : scores[1],\n",
        "    'roberta_pos' : scores[2]\n",
        "}\n",
        "print(rob_score)"
      ]
    },
    {
      "cell_type": "code",
      "execution_count": null,
      "id": "58b04461-c257-4ff1-b270-5e103e1623b9",
      "metadata": {
        "colab": {
          "base_uri": "https://localhost:8080/"
        },
        "id": "58b04461-c257-4ff1-b270-5e103e1623b9",
        "outputId": "d7e12890-4113-45fd-9b68-5fda3f65cb79"
      },
      "outputs": [
        {
          "output_type": "stream",
          "name": "stdout",
          "text": [
            "{'roberta_neg': 0.0027693731, 'roberta_neu': 0.019993797, 'roberta_pos': 0.97723687}\n"
          ]
        }
      ],
      "source": [
        "#test 1.0 (pos)\n",
        "text = 'this is a very good burger'\n",
        "token_text = tokenizer(text, return_tensors='pt')\n",
        "output = model(**token_text)\n",
        "scores = output[0][0].detach().numpy()\n",
        "scores = softmax(scores)\n",
        "rob_score = {\n",
        "    'roberta_neg' : scores[0],\n",
        "    'roberta_neu' : scores[1],\n",
        "    'roberta_pos' : scores[2]\n",
        "}\n",
        "print(rob_score)"
      ]
    },
    {
      "cell_type": "code",
      "execution_count": null,
      "id": "95tDkw170ssr",
      "metadata": {
        "colab": {
          "base_uri": "https://localhost:8080/"
        },
        "id": "95tDkw170ssr",
        "outputId": "4527b75a-5749-4928-9683-62928f2aabeb"
      },
      "outputs": [
        {
          "output_type": "stream",
          "name": "stdout",
          "text": [
            "{'roberta_neg': 0.0077429013, 'roberta_neu': 0.5576769, 'roberta_pos': 0.43458018}\n"
          ]
        }
      ],
      "source": [
        "#test 2.0 (neu?)\n",
        "text = 'the mitochondria is the powerhouse of the cell'\n",
        "token_text = tokenizer(text, return_tensors='pt')\n",
        "output = model(**token_text)\n",
        "scores = output[0][0].detach().numpy()\n",
        "scores = softmax(scores)\n",
        "rob_score = {\n",
        "    'roberta_neg' : scores[0],\n",
        "    'roberta_neu' : scores[1],\n",
        "    'roberta_pos' : scores[2]\n",
        "}\n",
        "print(rob_score)"
      ]
    },
    {
      "cell_type": "code",
      "execution_count": null,
      "id": "071c155a-954a-4198-91a1-c9a483310b6b",
      "metadata": {
        "id": "071c155a-954a-4198-91a1-c9a483310b6b"
      },
      "outputs": [],
      "source": [
        "def roberta_score(text):\n",
        "    token_text = tokenizer(text, return_tensors='pt')\n",
        "    output = model(**token_text)\n",
        "    scores = output[0][0].detach().numpy()\n",
        "    scores = softmax(scores)\n",
        "    rob_score = {\n",
        "        'roberta_neg' : scores[0],\n",
        "        'roberta_neu' : scores[1],\n",
        "        'roberta_pos' : scores[2]\n",
        "    }\n",
        "    return rob_score"
      ]
    },
    {
      "cell_type": "code",
      "execution_count": null,
      "id": "2za3c_9tTjaj",
      "metadata": {
        "colab": {
          "base_uri": "https://localhost:8080/"
        },
        "id": "2za3c_9tTjaj",
        "outputId": "5fb25934-ac67-47a0-e89a-595ef16a35d0"
      },
      "outputs": [
        {
          "output_type": "stream",
          "name": "stderr",
          "text": [
            "100%|██████████| 3029/3029 [00:00<00:00, 3851.20it/s]"
          ]
        },
        {
          "output_type": "stream",
          "name": "stdout",
          "text": [
            "94\n"
          ]
        },
        {
          "output_type": "stream",
          "name": "stderr",
          "text": [
            "\n"
          ]
        }
      ],
      "source": [
        "empty_cells_count = 0\n",
        "for i, row in tqdm(df.iterrows(), total=len(df)):\n",
        "    text = row['seq_rec_instructor']\n",
        "    if pd.isna(text) or text == '':\n",
        "      empty_cells_count += 1\n",
        "      row['seq_rec_instructor'] = \"dummytxt\"\n",
        "\n",
        "print(empty_cells_count)"
      ]
    },
    {
      "cell_type": "code",
      "execution_count": null,
      "id": "f0f8ac24-abcf-4d2c-9386-7baac7add720",
      "metadata": {
        "colab": {
          "base_uri": "https://localhost:8080/"
        },
        "id": "f0f8ac24-abcf-4d2c-9386-7baac7add720",
        "outputId": "964f83f7-6d93-41d3-961b-3fbdbf380c37"
      },
      "outputs": [
        {
          "output_type": "stream",
          "name": "stderr",
          "text": [
            "  8%|▊         | 236/3029 [01:42<09:46,  4.76it/s]"
          ]
        },
        {
          "output_type": "stream",
          "name": "stdout",
          "text": [
            "RTE\n"
          ]
        },
        {
          "output_type": "stream",
          "name": "stderr",
          "text": [
            " 25%|██▍       | 756/3029 [04:10<06:30,  5.82it/s]"
          ]
        },
        {
          "output_type": "stream",
          "name": "stdout",
          "text": [
            "RTE\n"
          ]
        },
        {
          "output_type": "stream",
          "name": "stderr",
          "text": [
            " 26%|██▌       | 776/3029 [04:18<14:53,  2.52it/s]"
          ]
        },
        {
          "output_type": "stream",
          "name": "stdout",
          "text": [
            "RTE\n"
          ]
        },
        {
          "output_type": "stream",
          "name": "stderr",
          "text": [
            " 34%|███▍      | 1035/3029 [06:06<16:16,  2.04it/s]"
          ]
        },
        {
          "output_type": "stream",
          "name": "stdout",
          "text": [
            "RTE\n"
          ]
        },
        {
          "output_type": "stream",
          "name": "stderr",
          "text": [
            " 59%|█████▉    | 1800/3029 [10:43<04:13,  4.84it/s]"
          ]
        },
        {
          "output_type": "stream",
          "name": "stdout",
          "text": [
            "RTE\n"
          ]
        },
        {
          "output_type": "stream",
          "name": "stderr",
          "text": [
            " 80%|███████▉  | 2421/3029 [15:04<02:26,  4.16it/s]"
          ]
        },
        {
          "output_type": "stream",
          "name": "stdout",
          "text": [
            "RTE\n"
          ]
        },
        {
          "output_type": "stream",
          "name": "stderr",
          "text": [
            "100%|██████████| 3029/3029 [18:16<00:00,  2.76it/s]"
          ]
        },
        {
          "output_type": "stream",
          "name": "stdout",
          "text": [
            "0\n",
            "{0: {'roberta_neg': 0.0035445874, 'roberta_neu': 0.020367669, 'roberta_pos': 0.9760877}, 1: {'roberta_neg': 0.0031989205, 'roberta_neu': 0.04796306, 'roberta_pos': 0.94883806}, 2: {'roberta_neg': 0.003481334, 'roberta_neu': 0.05583781, 'roberta_pos': 0.94068086}, 3: {'roberta_neg': 0.0013962847, 'roberta_neu': 0.009392152, 'roberta_pos': 0.98921156}, 4: {'roberta_neg': 0.23950218, 'roberta_neu': 0.5281888, 'roberta_pos': 0.232309}, 5: {'roberta_neg': 0.002812077, 'roberta_neu': 0.036861137, 'roberta_pos': 0.9603268}, 6: {'roberta_neg': 0.041461617, 'roberta_neu': 0.11749725, 'roberta_pos': 0.8410411}, 7: {'roberta_neg': 0.0015334367, 'roberta_neu': 0.010671227, 'roberta_pos': 0.98779535}, 8: {'roberta_neg': 0.0018487982, 'roberta_neu': 0.01586879, 'roberta_pos': 0.9822824}, 9: {'roberta_neg': 0.07924961, 'roberta_neu': 0.24894157, 'roberta_pos': 0.67180884}, 10: {'roberta_neg': 0.03595654, 'roberta_neu': 0.083367884, 'roberta_pos': 0.88067555}, 11: {'roberta_neg': 0.0030617476, 'roberta_neu': 0.022493316, 'roberta_pos': 0.974445}, 12: {'roberta_neg': 0.0025135288, 'roberta_neu': 0.014824646, 'roberta_pos': 0.98266184}, 13: {'roberta_neg': 0.52277523, 'roberta_neu': 0.37170476, 'roberta_pos': 0.10551995}, 14: {'roberta_neg': 0.0042629284, 'roberta_neu': 0.050814275, 'roberta_pos': 0.9449228}, 15: {'roberta_neg': 0.021385891, 'roberta_neu': 0.09314567, 'roberta_pos': 0.8854684}, 16: {'roberta_neg': 0.0020601805, 'roberta_neu': 0.013258787, 'roberta_pos': 0.984681}, 17: {'roberta_neg': 0.0024424535, 'roberta_neu': 0.03490607, 'roberta_pos': 0.96265155}, 18: {'roberta_neg': 0.20135005, 'roberta_neu': 0.4164782, 'roberta_pos': 0.3821718}, 19: {'roberta_neg': 0.08297244, 'roberta_neu': 0.22868396, 'roberta_pos': 0.6883436}, 20: {'roberta_neg': 0.013550625, 'roberta_neu': 0.043110043, 'roberta_pos': 0.9433393}, 21: {'roberta_neg': 0.0017154342, 'roberta_neu': 0.014507379, 'roberta_pos': 0.98377717}, 22: {'roberta_neg': 0.0030528456, 'roberta_neu': 0.049229585, 'roberta_pos': 0.94771755}, 23: {'roberta_neg': 0.040424097, 'roberta_neu': 0.3298346, 'roberta_pos': 0.6297413}, 24: {'roberta_neg': 0.0012216745, 'roberta_neu': 0.009126507, 'roberta_pos': 0.98965174}, 25: {'roberta_neg': 0.018406443, 'roberta_neu': 0.20665629, 'roberta_pos': 0.77493733}, 26: {'roberta_neg': 0.21973239, 'roberta_neu': 0.4533232, 'roberta_pos': 0.32694444}, 27: {'roberta_neg': 0.0019325196, 'roberta_neu': 0.013374384, 'roberta_pos': 0.98469305}, 28: {'roberta_neg': 0.008576634, 'roberta_neu': 0.10845681, 'roberta_pos': 0.8829666}, 29: {'roberta_neg': 0.081229165, 'roberta_neu': 0.43695208, 'roberta_pos': 0.4818188}, 30: {'roberta_neg': 0.0023689272, 'roberta_neu': 0.028375676, 'roberta_pos': 0.9692554}, 31: {'roberta_neg': 0.010591967, 'roberta_neu': 0.13679637, 'roberta_pos': 0.8526117}, 32: {'roberta_neg': 0.53995967, 'roberta_neu': 0.36034513, 'roberta_pos': 0.0996952}, 33: {'roberta_neg': 0.0024645815, 'roberta_neu': 0.02110717, 'roberta_pos': 0.9764282}, 34: {'roberta_neg': 0.39862993, 'roberta_neu': 0.39073637, 'roberta_pos': 0.21063371}, 35: {'roberta_neg': 0.029875148, 'roberta_neu': 0.23291472, 'roberta_pos': 0.73721015}, 36: {'roberta_neg': 0.0018167081, 'roberta_neu': 0.016212959, 'roberta_pos': 0.9819703}, 37: {'roberta_neg': 0.0052831247, 'roberta_neu': 0.062538005, 'roberta_pos': 0.9321789}, 38: {'roberta_neg': 0.001776935, 'roberta_neu': 0.041009575, 'roberta_pos': 0.95721346}, 39: {'roberta_neg': 0.010698074, 'roberta_neu': 0.05160203, 'roberta_pos': 0.9376999}, 40: {'roberta_neg': 0.0029710305, 'roberta_neu': 0.03910844, 'roberta_pos': 0.95792055}, 41: {'roberta_neg': 0.0015994807, 'roberta_neu': 0.010544853, 'roberta_pos': 0.98785573}, 42: {'roberta_neg': 0.0036045236, 'roberta_neu': 0.018405598, 'roberta_pos': 0.97798985}, 43: {'roberta_neg': 0.0056563998, 'roberta_neu': 0.029898437, 'roberta_pos': 0.9644452}, 44: {'roberta_neg': 0.002605109, 'roberta_neu': 0.020037571, 'roberta_pos': 0.9773573}, 45: {'roberta_neg': 0.0022534893, 'roberta_neu': 0.047908377, 'roberta_pos': 0.94983816}, 46: {'roberta_neg': 0.11077447, 'roberta_neu': 0.31487677, 'roberta_pos': 0.5743488}, 47: {'roberta_neg': 0.0035028902, 'roberta_neu': 0.030110031, 'roberta_pos': 0.9663871}, 48: {'roberta_neg': 0.00260078, 'roberta_neu': 0.030191835, 'roberta_pos': 0.9672074}, 49: {'roberta_neg': 0.0017461241, 'roberta_neu': 0.024581775, 'roberta_pos': 0.97367215}, 50: {'roberta_neg': 0.011441373, 'roberta_neu': 0.06754145, 'roberta_pos': 0.92101717}, 51: {'roberta_neg': 0.0012480668, 'roberta_neu': 0.03196532, 'roberta_pos': 0.96678656}, 52: {'roberta_neg': 0.0016319961, 'roberta_neu': 0.006173936, 'roberta_pos': 0.99219406}, 53: {'roberta_neg': 0.010995145, 'roberta_neu': 0.104746275, 'roberta_pos': 0.88425857}, 54: {'roberta_neg': 0.0021150312, 'roberta_neu': 0.0059835203, 'roberta_pos': 0.99190146}, 55: {'roberta_neg': 0.82416075, 'roberta_neu': 0.15596958, 'roberta_pos': 0.019869694}, 56: {'roberta_neg': 0.0019754271, 'roberta_neu': 0.024081431, 'roberta_pos': 0.9739431}, 57: {'roberta_neg': 0.0019665803, 'roberta_neu': 0.014269513, 'roberta_pos': 0.98376393}, 58: {'roberta_neg': 0.0034637158, 'roberta_neu': 0.025980754, 'roberta_pos': 0.9705555}, 59: {'roberta_neg': 0.006019766, 'roberta_neu': 0.028553106, 'roberta_pos': 0.96542716}, 60: {'roberta_neg': 0.20743719, 'roberta_neu': 0.32210335, 'roberta_pos': 0.47045943}, 61: {'roberta_neg': 0.21055116, 'roberta_neu': 0.42228767, 'roberta_pos': 0.3671612}, 62: {'roberta_neg': 0.039449345, 'roberta_neu': 0.14703427, 'roberta_pos': 0.8135164}, 63: {'roberta_neg': 0.23950218, 'roberta_neu': 0.5281888, 'roberta_pos': 0.232309}, 64: {'roberta_neg': 0.008997356, 'roberta_neu': 0.08138243, 'roberta_pos': 0.9096202}, 65: {'roberta_neg': 0.0014882734, 'roberta_neu': 0.01370657, 'roberta_pos': 0.98480517}, 66: {'roberta_neg': 0.0025904155, 'roberta_neu': 0.035199292, 'roberta_pos': 0.9622103}, 67: {'roberta_neg': 0.004780102, 'roberta_neu': 0.038337067, 'roberta_pos': 0.95688283}, 68: {'roberta_neg': 0.008029488, 'roberta_neu': 0.04377766, 'roberta_pos': 0.94819283}, 69: {'roberta_neg': 0.5901455, 'roberta_neu': 0.37747872, 'roberta_pos': 0.03237576}, 70: {'roberta_neg': 0.14155443, 'roberta_neu': 0.29298598, 'roberta_pos': 0.56545955}, 71: {'roberta_neg': 0.005459165, 'roberta_neu': 0.026113486, 'roberta_pos': 0.96842736}, 72: {'roberta_neg': 0.5476184, 'roberta_neu': 0.37266415, 'roberta_pos': 0.079717465}, 73: {'roberta_neg': 0.27359438, 'roberta_neu': 0.40716496, 'roberta_pos': 0.31924075}, 74: {'roberta_neg': 0.0036573692, 'roberta_neu': 0.02033508, 'roberta_pos': 0.9760075}, 75: {'roberta_neg': 0.007273512, 'roberta_neu': 0.047999445, 'roberta_pos': 0.944727}, 76: {'roberta_neg': 0.0041947714, 'roberta_neu': 0.054119345, 'roberta_pos': 0.9416859}, 77: {'roberta_neg': 0.008129115, 'roberta_neu': 0.057661597, 'roberta_pos': 0.9342093}, 78: {'roberta_neg': 0.003863641, 'roberta_neu': 0.024570562, 'roberta_pos': 0.9715658}, 79: {'roberta_neg': 0.0015406341, 'roberta_neu': 0.015613047, 'roberta_pos': 0.9828463}, 80: {'roberta_neg': 0.23950218, 'roberta_neu': 0.5281888, 'roberta_pos': 0.232309}, 81: {'roberta_neg': 0.009234009, 'roberta_neu': 0.17514314, 'roberta_pos': 0.8156228}, 82: {'roberta_neg': 0.0018203376, 'roberta_neu': 0.024011297, 'roberta_pos': 0.9741684}, 83: {'roberta_neg': 0.0036330821, 'roberta_neu': 0.069186345, 'roberta_pos': 0.9271806}, 84: {'roberta_neg': 0.0033621853, 'roberta_neu': 0.04599432, 'roberta_pos': 0.9506434}, 85: {'roberta_neg': 0.3988035, 'roberta_neu': 0.42130306, 'roberta_pos': 0.1798934}, 86: {'roberta_neg': 0.23950218, 'roberta_neu': 0.5281888, 'roberta_pos': 0.232309}, 87: {'roberta_neg': 0.026146788, 'roberta_neu': 0.17253423, 'roberta_pos': 0.801319}, 88: {'roberta_neg': 0.033807445, 'roberta_neu': 0.10967179, 'roberta_pos': 0.8565207}, 89: {'roberta_neg': 0.0048989807, 'roberta_neu': 0.041755453, 'roberta_pos': 0.9533456}, 90: {'roberta_neg': 0.13018723, 'roberta_neu': 0.28772885, 'roberta_pos': 0.58208394}, 91: {'roberta_neg': 0.10330678, 'roberta_neu': 0.31240794, 'roberta_pos': 0.58428526}, 92: {'roberta_neg': 0.0022838172, 'roberta_neu': 0.045935832, 'roberta_pos': 0.9517803}, 93: {'roberta_neg': 0.0077636964, 'roberta_neu': 0.042351678, 'roberta_pos': 0.94988465}, 94: {'roberta_neg': 0.022594148, 'roberta_neu': 0.100111164, 'roberta_pos': 0.8772947}, 95: {'roberta_neg': 0.0027660474, 'roberta_neu': 0.020983614, 'roberta_pos': 0.97625035}, 96: {'roberta_neg': 0.3940378, 'roberta_neu': 0.40593824, 'roberta_pos': 0.20002395}, 97: {'roberta_neg': 0.25854376, 'roberta_neu': 0.62077403, 'roberta_pos': 0.120682225}, 98: {'roberta_neg': 0.041111976, 'roberta_neu': 0.20316938, 'roberta_pos': 0.75571865}, 99: {'roberta_neg': 0.33267614, 'roberta_neu': 0.54109555, 'roberta_pos': 0.12622836}, 100: {'roberta_neg': 0.07914693, 'roberta_neu': 0.240515, 'roberta_pos': 0.6803381}, 101: {'roberta_neg': 0.0108562, 'roberta_neu': 0.088516645, 'roberta_pos': 0.90062714}, 102: {'roberta_neg': 0.004051279, 'roberta_neu': 0.028893974, 'roberta_pos': 0.9670547}, 103: {'roberta_neg': 0.006715151, 'roberta_neu': 0.054347787, 'roberta_pos': 0.938937}, 104: {'roberta_neg': 0.0902458, 'roberta_neu': 0.25119603, 'roberta_pos': 0.65855825}, 105: {'roberta_neg': 0.0032331378, 'roberta_neu': 0.055804938, 'roberta_pos': 0.94096196}, 106: {'roberta_neg': 0.76809037, 'roberta_neu': 0.20026909, 'roberta_pos': 0.03164062}, 107: {'roberta_neg': 0.0053540524, 'roberta_neu': 0.09438211, 'roberta_pos': 0.90026385}, 108: {'roberta_neg': 0.0043850085, 'roberta_neu': 0.048457544, 'roberta_pos': 0.94715744}, 109: {'roberta_neg': 0.007165376, 'roberta_neu': 0.028800188, 'roberta_pos': 0.9640344}, 110: {'roberta_neg': 0.013945181, 'roberta_neu': 0.21722242, 'roberta_pos': 0.7688324}, 111: {'roberta_neg': 0.0030943523, 'roberta_neu': 0.02948556, 'roberta_pos': 0.9674201}, 112: {'roberta_neg': 0.041619405, 'roberta_neu': 0.15694042, 'roberta_pos': 0.8014402}, 113: {'roberta_neg': 0.23950218, 'roberta_neu': 0.5281888, 'roberta_pos': 0.232309}, 114: {'roberta_neg': 0.14536531, 'roberta_neu': 0.41896886, 'roberta_pos': 0.4356658}, 115: {'roberta_neg': 0.0037561378, 'roberta_neu': 0.031039387, 'roberta_pos': 0.96520454}, 116: {'roberta_neg': 0.0018555049, 'roberta_neu': 0.036761887, 'roberta_pos': 0.96138257}, 117: {'roberta_neg': 0.021792803, 'roberta_neu': 0.20243658, 'roberta_pos': 0.7757706}, 118: {'roberta_neg': 0.0015673831, 'roberta_neu': 0.010795757, 'roberta_pos': 0.9876368}, 119: {'roberta_neg': 0.0012384893, 'roberta_neu': 0.009695234, 'roberta_pos': 0.98906624}, 120: {'roberta_neg': 0.0015275633, 'roberta_neu': 0.010154056, 'roberta_pos': 0.9883183}, 121: {'roberta_neg': 0.44633806, 'roberta_neu': 0.45682052, 'roberta_pos': 0.096841395}, 122: {'roberta_neg': 0.0027963128, 'roberta_neu': 0.009075905, 'roberta_pos': 0.98812777}, 123: {'roberta_neg': 0.0180693, 'roberta_neu': 0.118208215, 'roberta_pos': 0.86372256}, 124: {'roberta_neg': 0.016056133, 'roberta_neu': 0.18353651, 'roberta_pos': 0.8004074}, 125: {'roberta_neg': 0.29053828, 'roberta_neu': 0.55463326, 'roberta_pos': 0.1548285}, 126: {'roberta_neg': 0.025599327, 'roberta_neu': 0.13287847, 'roberta_pos': 0.8415222}, 127: {'roberta_neg': 0.087921016, 'roberta_neu': 0.2447179, 'roberta_pos': 0.6673611}, 128: {'roberta_neg': 0.0035432258, 'roberta_neu': 0.031145286, 'roberta_pos': 0.96531147}, 129: {'roberta_neg': 0.002226863, 'roberta_neu': 0.033612106, 'roberta_pos': 0.96416104}, 130: {'roberta_neg': 0.002050254, 'roberta_neu': 0.023332119, 'roberta_pos': 0.9746176}, 131: {'roberta_neg': 0.003540279, 'roberta_neu': 0.062236704, 'roberta_pos': 0.934223}, 132: {'roberta_neg': 0.002215624, 'roberta_neu': 0.013607965, 'roberta_pos': 0.9841764}, 133: {'roberta_neg': 0.0025961157, 'roberta_neu': 0.12318708, 'roberta_pos': 0.87421685}, 134: {'roberta_neg': 0.010499135, 'roberta_neu': 0.06230303, 'roberta_pos': 0.9271978}, 135: {'roberta_neg': 0.0018244118, 'roberta_neu': 0.024507577, 'roberta_pos': 0.97366804}, 136: {'roberta_neg': 0.0012334043, 'roberta_neu': 0.012928758, 'roberta_pos': 0.9858379}, 137: {'roberta_neg': 0.0016455642, 'roberta_neu': 0.015067682, 'roberta_pos': 0.98328674}, 138: {'roberta_neg': 0.006252709, 'roberta_neu': 0.055258404, 'roberta_pos': 0.9384889}, 139: {'roberta_neg': 0.0027270494, 'roberta_neu': 0.039167747, 'roberta_pos': 0.95810527}, 140: {'roberta_neg': 0.5583108, 'roberta_neu': 0.41492948, 'roberta_pos': 0.026759678}, 141: {'roberta_neg': 0.16670527, 'roberta_neu': 0.3725577, 'roberta_pos': 0.46073705}, 142: {'roberta_neg': 0.0034006338, 'roberta_neu': 0.02654675, 'roberta_pos': 0.97005266}, 143: {'roberta_neg': 0.088612355, 'roberta_neu': 0.32548955, 'roberta_pos': 0.5858981}, 144: {'roberta_neg': 0.0064890073, 'roberta_neu': 0.05064283, 'roberta_pos': 0.94286823}, 145: {'roberta_neg': 0.029491957, 'roberta_neu': 0.2744307, 'roberta_pos': 0.6960773}, 146: {'roberta_neg': 0.016219433, 'roberta_neu': 0.1689369, 'roberta_pos': 0.8148437}, 147: {'roberta_neg': 0.0016209679, 'roberta_neu': 0.024525285, 'roberta_pos': 0.97385377}, 148: {'roberta_neg': 0.022187812, 'roberta_neu': 0.11048555, 'roberta_pos': 0.8673266}, 149: {'roberta_neg': 0.36716047, 'roberta_neu': 0.52528214, 'roberta_pos': 0.10755736}, 150: {'roberta_neg': 0.013429214, 'roberta_neu': 0.33394182, 'roberta_pos': 0.652629}, 151: {'roberta_neg': 0.64031255, 'roberta_neu': 0.29340607, 'roberta_pos': 0.066281326}, 152: {'roberta_neg': 0.7250359, 'roberta_neu': 0.24485274, 'roberta_pos': 0.030111358}, 153: {'roberta_neg': 0.023951141, 'roberta_neu': 0.17522275, 'roberta_pos': 0.80082613}, 154: {'roberta_neg': 0.004595377, 'roberta_neu': 0.053236548, 'roberta_pos': 0.9421681}, 155: {'roberta_neg': 0.0042455974, 'roberta_neu': 0.03767614, 'roberta_pos': 0.9580782}, 156: {'roberta_neg': 0.0074151163, 'roberta_neu': 0.06599843, 'roberta_pos': 0.9265865}, 157: {'roberta_neg': 0.091297, 'roberta_neu': 0.29440492, 'roberta_pos': 0.6142981}, 158: {'roberta_neg': 0.53057873, 'roberta_neu': 0.3607611, 'roberta_pos': 0.10866016}, 159: {'roberta_neg': 0.78345984, 'roberta_neu': 0.19159041, 'roberta_pos': 0.024949726}, 160: {'roberta_neg': 0.00481418, 'roberta_neu': 0.1366264, 'roberta_pos': 0.8585594}, 161: {'roberta_neg': 0.0027753245, 'roberta_neu': 0.04812892, 'roberta_pos': 0.9490958}, 162: {'roberta_neg': 0.28074583, 'roberta_neu': 0.5112802, 'roberta_pos': 0.20797399}, 163: {'roberta_neg': 0.11392027, 'roberta_neu': 0.34631112, 'roberta_pos': 0.53976864}, 164: {'roberta_neg': 0.10191013, 'roberta_neu': 0.40731165, 'roberta_pos': 0.4907782}, 165: {'roberta_neg': 0.022314621, 'roberta_neu': 0.14420786, 'roberta_pos': 0.83347756}, 166: {'roberta_neg': 0.00443112, 'roberta_neu': 0.032095715, 'roberta_pos': 0.96347314}, 167: {'roberta_neg': 0.0070604174, 'roberta_neu': 0.11697561, 'roberta_pos': 0.875964}, 168: {'roberta_neg': 0.026314804, 'roberta_neu': 0.17217574, 'roberta_pos': 0.8015095}, 169: {'roberta_neg': 0.0030763103, 'roberta_neu': 0.05816408, 'roberta_pos': 0.9387597}, 170: {'roberta_neg': 0.0037618738, 'roberta_neu': 0.04144164, 'roberta_pos': 0.9547965}, 171: {'roberta_neg': 0.0023688378, 'roberta_neu': 0.06570732, 'roberta_pos': 0.9319238}, 172: {'roberta_neg': 0.0896881, 'roberta_neu': 0.25600985, 'roberta_pos': 0.65430206}, 173: {'roberta_neg': 0.006298877, 'roberta_neu': 0.039310805, 'roberta_pos': 0.95439035}, 174: {'roberta_neg': 0.032471497, 'roberta_neu': 0.17445402, 'roberta_pos': 0.7930745}, 175: {'roberta_neg': 0.0012301101, 'roberta_neu': 0.012391045, 'roberta_pos': 0.9863789}, 176: {'roberta_neg': 0.0050629685, 'roberta_neu': 0.05898188, 'roberta_pos': 0.9359551}, 177: {'roberta_neg': 0.0028825072, 'roberta_neu': 0.018180326, 'roberta_pos': 0.9789372}, 178: {'roberta_neg': 0.0024264639, 'roberta_neu': 0.025891326, 'roberta_pos': 0.9716822}, 179: {'roberta_neg': 0.0021209163, 'roberta_neu': 0.019592855, 'roberta_pos': 0.97828627}, 180: {'roberta_neg': 0.030424595, 'roberta_neu': 0.1286365, 'roberta_pos': 0.8409389}, 181: {'roberta_neg': 0.0023017712, 'roberta_neu': 0.027070768, 'roberta_pos': 0.9706274}, 182: {'roberta_neg': 0.27027136, 'roberta_neu': 0.48440644, 'roberta_pos': 0.24532224}, 183: {'roberta_neg': 0.7008147, 'roberta_neu': 0.2417424, 'roberta_pos': 0.05744286}, 184: {'roberta_neg': 0.0019477603, 'roberta_neu': 0.008022469, 'roberta_pos': 0.99002975}, 185: {'roberta_neg': 0.011580587, 'roberta_neu': 0.083319545, 'roberta_pos': 0.9050999}, 186: {'roberta_neg': 0.004173747, 'roberta_neu': 0.06352128, 'roberta_pos': 0.932305}, 187: {'roberta_neg': 0.39017814, 'roberta_neu': 0.3865842, 'roberta_pos': 0.22323763}, 188: {'roberta_neg': 0.08660574, 'roberta_neu': 0.31884137, 'roberta_pos': 0.5945529}, 189: {'roberta_neg': 0.0021538485, 'roberta_neu': 0.02441375, 'roberta_pos': 0.97343236}, 190: {'roberta_neg': 0.013728458, 'roberta_neu': 0.09413428, 'roberta_pos': 0.8921373}, 191: {'roberta_neg': 0.0027529725, 'roberta_neu': 0.015791776, 'roberta_pos': 0.98145527}, 192: {'roberta_neg': 0.0012986694, 'roberta_neu': 0.009619815, 'roberta_pos': 0.9890815}, 193: {'roberta_neg': 0.00412393, 'roberta_neu': 0.042561717, 'roberta_pos': 0.95331436}, 194: {'roberta_neg': 0.0015509597, 'roberta_neu': 0.031356763, 'roberta_pos': 0.96709234}, 195: {'roberta_neg': 0.35519555, 'roberta_neu': 0.46228278, 'roberta_pos': 0.18252167}, 196: {'roberta_neg': 0.002643857, 'roberta_neu': 0.028845448, 'roberta_pos': 0.9685107}, 197: {'roberta_neg': 0.7738886, 'roberta_neu': 0.20304793, 'roberta_pos': 0.023063527}, 198: {'roberta_neg': 0.013725307, 'roberta_neu': 0.47715396, 'roberta_pos': 0.5091207}, 199: {'roberta_neg': 0.003727785, 'roberta_neu': 0.045505174, 'roberta_pos': 0.95076704}, 200: {'roberta_neg': 0.0019132036, 'roberta_neu': 0.017830815, 'roberta_pos': 0.98025596}, 201: {'roberta_neg': 0.0026512993, 'roberta_neu': 0.02739374, 'roberta_pos': 0.96995497}, 202: {'roberta_neg': 0.0015082638, 'roberta_neu': 0.021076636, 'roberta_pos': 0.977415}, 203: {'roberta_neg': 0.0016053994, 'roberta_neu': 0.011873965, 'roberta_pos': 0.98652065}, 204: {'roberta_neg': 0.08904655, 'roberta_neu': 0.2465065, 'roberta_pos': 0.66444695}, 205: {'roberta_neg': 0.001657901, 'roberta_neu': 0.006616471, 'roberta_pos': 0.99172556}, 206: {'roberta_neg': 0.0020172654, 'roberta_neu': 0.025844786, 'roberta_pos': 0.97213787}, 207: {'roberta_neg': 0.004178797, 'roberta_neu': 0.037415013, 'roberta_pos': 0.95840615}, 208: {'roberta_neg': 0.0049686995, 'roberta_neu': 0.05392823, 'roberta_pos': 0.9411031}, 209: {'roberta_neg': 0.23950218, 'roberta_neu': 0.5281888, 'roberta_pos': 0.232309}, 210: {'roberta_neg': 0.0015646406, 'roberta_neu': 0.022641636, 'roberta_pos': 0.9757937}, 211: {'roberta_neg': 0.0029404021, 'roberta_neu': 0.029654883, 'roberta_pos': 0.9674047}, 212: {'roberta_neg': 0.001391357, 'roberta_neu': 0.028706988, 'roberta_pos': 0.9699017}, 213: {'roberta_neg': 0.008011695, 'roberta_neu': 0.079249956, 'roberta_pos': 0.9127384}, 214: {'roberta_neg': 0.0036224609, 'roberta_neu': 0.023707185, 'roberta_pos': 0.9726704}, 215: {'roberta_neg': 0.030492028, 'roberta_neu': 0.13128224, 'roberta_pos': 0.8382258}, 216: {'roberta_neg': 0.4605979, 'roberta_neu': 0.41782984, 'roberta_pos': 0.12157227}, 217: {'roberta_neg': 0.006280664, 'roberta_neu': 0.038526073, 'roberta_pos': 0.9551932}, 218: {'roberta_neg': 0.05171247, 'roberta_neu': 0.26167673, 'roberta_pos': 0.68661076}, 219: {'roberta_neg': 0.010602315, 'roberta_neu': 0.12593079, 'roberta_pos': 0.8634669}, 220: {'roberta_neg': 0.0023909928, 'roberta_neu': 0.025609566, 'roberta_pos': 0.97199947}, 221: {'roberta_neg': 0.05536219, 'roberta_neu': 0.20940298, 'roberta_pos': 0.7352348}, 222: {'roberta_neg': 0.001780525, 'roberta_neu': 0.008868937, 'roberta_pos': 0.9893505}, 223: {'roberta_neg': 0.002904383, 'roberta_neu': 0.027356286, 'roberta_pos': 0.9697393}, 224: {'roberta_neg': 0.021897152, 'roberta_neu': 0.23585872, 'roberta_pos': 0.7422441}, 225: {'roberta_neg': 0.0014090968, 'roberta_neu': 0.009218294, 'roberta_pos': 0.98937255}, 226: {'roberta_neg': 0.013644402, 'roberta_neu': 0.18399055, 'roberta_pos': 0.80236506}, 227: {'roberta_neg': 0.943261, 'roberta_neu': 0.051545184, 'roberta_pos': 0.0051937797}, 228: {'roberta_neg': 0.22595286, 'roberta_neu': 0.44529104, 'roberta_pos': 0.32875612}, 229: {'roberta_neg': 0.030254917, 'roberta_neu': 0.36323673, 'roberta_pos': 0.6065083}, 230: {'roberta_neg': 0.83801305, 'roberta_neu': 0.14159562, 'roberta_pos': 0.020391265}, 231: {'roberta_neg': 0.120316714, 'roberta_neu': 0.34269682, 'roberta_pos': 0.5369865}, 232: {'roberta_neg': 0.09721804, 'roberta_neu': 0.2813566, 'roberta_pos': 0.62142533}, 233: {'roberta_neg': 0.19194122, 'roberta_neu': 0.5974129, 'roberta_pos': 0.2106459}, 234: {'roberta_neg': 0, 'roberta_neu': 0, 'roberta_pos': 0}, 235: {'roberta_neg': 0.027832393, 'roberta_neu': 0.23103173, 'roberta_pos': 0.7411359}, 236: {'roberta_neg': 0.018847588, 'roberta_neu': 0.13504383, 'roberta_pos': 0.84610856}, 237: {'roberta_neg': 0.05300253, 'roberta_neu': 0.34186912, 'roberta_pos': 0.6051284}, 238: {'roberta_neg': 0.031943224, 'roberta_neu': 0.17583765, 'roberta_pos': 0.79221904}, 239: {'roberta_neg': 0.0028990423, 'roberta_neu': 0.039439548, 'roberta_pos': 0.9576614}, 240: {'roberta_neg': 0.23950218, 'roberta_neu': 0.5281888, 'roberta_pos': 0.232309}, 241: {'roberta_neg': 0.0016184748, 'roberta_neu': 0.017759364, 'roberta_pos': 0.9806222}, 242: {'roberta_neg': 0.004399093, 'roberta_neu': 0.08112164, 'roberta_pos': 0.91447926}, 243: {'roberta_neg': 0.8422297, 'roberta_neu': 0.14106768, 'roberta_pos': 0.016702628}, 244: {'roberta_neg': 0.046850674, 'roberta_neu': 0.2150332, 'roberta_pos': 0.73811615}, 245: {'roberta_neg': 0.0017682671, 'roberta_neu': 0.029780604, 'roberta_pos': 0.9684511}, 246: {'roberta_neg': 0.047240373, 'roberta_neu': 0.19384295, 'roberta_pos': 0.7589167}, 247: {'roberta_neg': 0.0013596725, 'roberta_neu': 0.008160732, 'roberta_pos': 0.9904795}, 248: {'roberta_neg': 0.83835685, 'roberta_neu': 0.14588133, 'roberta_pos': 0.015761785}, 249: {'roberta_neg': 0.01345929, 'roberta_neu': 0.1401208, 'roberta_pos': 0.84641993}, 250: {'roberta_neg': 0.0018007223, 'roberta_neu': 0.019842558, 'roberta_pos': 0.9783568}, 251: {'roberta_neg': 0.0036180622, 'roberta_neu': 0.019135531, 'roberta_pos': 0.9772464}, 252: {'roberta_neg': 0.023824612, 'roberta_neu': 0.3357981, 'roberta_pos': 0.6403773}, 253: {'roberta_neg': 0.0022467347, 'roberta_neu': 0.03335913, 'roberta_pos': 0.96439415}, 254: {'roberta_neg': 0.001505773, 'roberta_neu': 0.01541303, 'roberta_pos': 0.98308116}, 255: {'roberta_neg': 0.032131054, 'roberta_neu': 0.2149718, 'roberta_pos': 0.75289714}, 256: {'roberta_neg': 0.23950218, 'roberta_neu': 0.5281888, 'roberta_pos': 0.232309}, 257: {'roberta_neg': 0.03220609, 'roberta_neu': 0.13159862, 'roberta_pos': 0.83619535}, 258: {'roberta_neg': 0.021484256, 'roberta_neu': 0.18316859, 'roberta_pos': 0.7953471}, 259: {'roberta_neg': 0.0014614079, 'roberta_neu': 0.014508405, 'roberta_pos': 0.9840301}, 260: {'roberta_neg': 0.0018422051, 'roberta_neu': 0.01966406, 'roberta_pos': 0.9784937}, 261: {'roberta_neg': 0.08867703, 'roberta_neu': 0.38571373, 'roberta_pos': 0.52560925}, 262: {'roberta_neg': 0.0017391528, 'roberta_neu': 0.010028479, 'roberta_pos': 0.9882323}, 263: {'roberta_neg': 0.0015509382, 'roberta_neu': 0.021056142, 'roberta_pos': 0.977393}, 264: {'roberta_neg': 0.0022136974, 'roberta_neu': 0.017976541, 'roberta_pos': 0.97980976}, 265: {'roberta_neg': 0.0023273653, 'roberta_neu': 0.036043033, 'roberta_pos': 0.96162957}, 266: {'roberta_neg': 0.0018951235, 'roberta_neu': 0.022947622, 'roberta_pos': 0.97515726}, 267: {'roberta_neg': 0.043006286, 'roberta_neu': 0.18252492, 'roberta_pos': 0.7744688}, 268: {'roberta_neg': 0.14014907, 'roberta_neu': 0.3408786, 'roberta_pos': 0.51897234}, 269: {'roberta_neg': 0.033019878, 'roberta_neu': 0.14905095, 'roberta_pos': 0.81792915}, 270: {'roberta_neg': 0.001165986, 'roberta_neu': 0.009997557, 'roberta_pos': 0.9888364}, 271: {'roberta_neg': 0.046557825, 'roberta_neu': 0.2205659, 'roberta_pos': 0.73287624}, 272: {'roberta_neg': 0.12527245, 'roberta_neu': 0.4680889, 'roberta_pos': 0.4066386}, 273: {'roberta_neg': 0.6162872, 'roberta_neu': 0.31074518, 'roberta_pos': 0.07296757}, 274: {'roberta_neg': 0.0016253755, 'roberta_neu': 0.017459426, 'roberta_pos': 0.9809152}, 275: {'roberta_neg': 0.0016998701, 'roberta_neu': 0.008061236, 'roberta_pos': 0.9902389}, 276: {'roberta_neg': 0.0031968886, 'roberta_neu': 0.21214625, 'roberta_pos': 0.7846569}, 277: {'roberta_neg': 0.68945086, 'roberta_neu': 0.27234146, 'roberta_pos': 0.038207695}, 278: {'roberta_neg': 0.0020184715, 'roberta_neu': 0.038983542, 'roberta_pos': 0.958998}, 279: {'roberta_neg': 0.0034331998, 'roberta_neu': 0.046497684, 'roberta_pos': 0.9500691}, 280: {'roberta_neg': 0.00308061, 'roberta_neu': 0.03674881, 'roberta_pos': 0.96017057}, 281: {'roberta_neg': 0.04855177, 'roberta_neu': 0.34899193, 'roberta_pos': 0.60245633}, 282: {'roberta_neg': 0.0024797358, 'roberta_neu': 0.021661917, 'roberta_pos': 0.97585833}, 283: {'roberta_neg': 0.014488532, 'roberta_neu': 0.12478928, 'roberta_pos': 0.8607222}, 284: {'roberta_neg': 0.0027713994, 'roberta_neu': 0.01852192, 'roberta_pos': 0.9787066}, 285: {'roberta_neg': 0.01162537, 'roberta_neu': 0.13601573, 'roberta_pos': 0.85235894}, 286: {'roberta_neg': 0.23950218, 'roberta_neu': 0.5281888, 'roberta_pos': 0.232309}, 287: {'roberta_neg': 0.23950218, 'roberta_neu': 0.5281888, 'roberta_pos': 0.232309}, 288: {'roberta_neg': 0.0030260968, 'roberta_neu': 0.02364119, 'roberta_pos': 0.97333276}, 289: {'roberta_neg': 0.0025759977, 'roberta_neu': 0.090993434, 'roberta_pos': 0.9064306}, 290: {'roberta_neg': 0.0055682263, 'roberta_neu': 0.05573348, 'roberta_pos': 0.9386983}, 291: {'roberta_neg': 0.48454556, 'roberta_neu': 0.3914074, 'roberta_pos': 0.12404705}, 292: {'roberta_neg': 0.0017612557, 'roberta_neu': 0.017685376, 'roberta_pos': 0.9805534}, 293: {'roberta_neg': 0.564906, 'roberta_neu': 0.34050778, 'roberta_pos': 0.0945862}, 294: {'roberta_neg': 0.0025634519, 'roberta_neu': 0.030562637, 'roberta_pos': 0.96687394}, 295: {'roberta_neg': 0.0022531776, 'roberta_neu': 0.009763879, 'roberta_pos': 0.987983}, 296: {'roberta_neg': 0.0023076583, 'roberta_neu': 0.0536543, 'roberta_pos': 0.94403803}, 297: {'roberta_neg': 0.002454868, 'roberta_neu': 0.018139927, 'roberta_pos': 0.9794053}, 298: {'roberta_neg': 0.019188907, 'roberta_neu': 0.12980123, 'roberta_pos': 0.8510099}, 299: {'roberta_neg': 0.81987715, 'roberta_neu': 0.16515164, 'roberta_pos': 0.014971295}, 300: {'roberta_neg': 0.009955888, 'roberta_neu': 0.053442515, 'roberta_pos': 0.93660164}, 301: {'roberta_neg': 0.0015235131, 'roberta_neu': 0.010880149, 'roberta_pos': 0.9875964}, 302: {'roberta_neg': 0.002090087, 'roberta_neu': 0.018661603, 'roberta_pos': 0.9792483}, 303: {'roberta_neg': 0.0036370181, 'roberta_neu': 0.09833897, 'roberta_pos': 0.8980241}, 304: {'roberta_neg': 0.008267293, 'roberta_neu': 0.086318485, 'roberta_pos': 0.90541416}, 305: {'roberta_neg': 0.23950218, 'roberta_neu': 0.5281888, 'roberta_pos': 0.232309}, 306: {'roberta_neg': 0.07335032, 'roberta_neu': 0.28581667, 'roberta_pos': 0.640833}, 307: {'roberta_neg': 0.003780892, 'roberta_neu': 0.020386193, 'roberta_pos': 0.9758329}, 308: {'roberta_neg': 0.0013521381, 'roberta_neu': 0.0072816443, 'roberta_pos': 0.9913662}, 309: {'roberta_neg': 0.002169482, 'roberta_neu': 0.042269215, 'roberta_pos': 0.9555613}, 310: {'roberta_neg': 0.0015414207, 'roberta_neu': 0.025789827, 'roberta_pos': 0.9726688}, 311: {'roberta_neg': 0.001538201, 'roberta_neu': 0.013466975, 'roberta_pos': 0.9849948}, 312: {'roberta_neg': 0.0012386994, 'roberta_neu': 0.030416954, 'roberta_pos': 0.96834433}, 313: {'roberta_neg': 0.00679899, 'roberta_neu': 0.059191223, 'roberta_pos': 0.9340098}, 314: {'roberta_neg': 0.0019803469, 'roberta_neu': 0.024262087, 'roberta_pos': 0.97375757}, 315: {'roberta_neg': 0.022409223, 'roberta_neu': 0.10378158, 'roberta_pos': 0.8738092}, 316: {'roberta_neg': 0.1260865, 'roberta_neu': 0.4235697, 'roberta_pos': 0.4503438}, 317: {'roberta_neg': 0.0050022663, 'roberta_neu': 0.023035107, 'roberta_pos': 0.97196263}, 318: {'roberta_neg': 0.009767541, 'roberta_neu': 0.07372735, 'roberta_pos': 0.9165051}, 319: {'roberta_neg': 0.02678787, 'roberta_neu': 0.15918358, 'roberta_pos': 0.81402856}, 320: {'roberta_neg': 0.0021185086, 'roberta_neu': 0.038497835, 'roberta_pos': 0.95938367}, 321: {'roberta_neg': 0.17708044, 'roberta_neu': 0.5461568, 'roberta_pos': 0.27676272}, 322: {'roberta_neg': 0.018007224, 'roberta_neu': 0.32577452, 'roberta_pos': 0.65621823}, 323: {'roberta_neg': 0.015943522, 'roberta_neu': 0.098856986, 'roberta_pos': 0.8851995}, 324: {'roberta_neg': 0.0012011566, 'roberta_neu': 0.013217644, 'roberta_pos': 0.9855812}, 325: {'roberta_neg': 0.0020195248, 'roberta_neu': 0.015548271, 'roberta_pos': 0.9824322}, 326: {'roberta_neg': 0.010020372, 'roberta_neu': 0.13245678, 'roberta_pos': 0.8575229}, 327: {'roberta_neg': 0.0015752966, 'roberta_neu': 0.012344262, 'roberta_pos': 0.98608047}, 328: {'roberta_neg': 0.057603937, 'roberta_neu': 0.19199198, 'roberta_pos': 0.75040406}, 329: {'roberta_neg': 0.0032403863, 'roberta_neu': 0.044787467, 'roberta_pos': 0.9519721}, 330: {'roberta_neg': 0.9366697, 'roberta_neu': 0.057342663, 'roberta_pos': 0.0059875865}, 331: {'roberta_neg': 0.0022181831, 'roberta_neu': 0.032473166, 'roberta_pos': 0.9653086}, 332: {'roberta_neg': 0.96725726, 'roberta_neu': 0.030221902, 'roberta_pos': 0.0025208346}, 333: {'roberta_neg': 0.0017618951, 'roberta_neu': 0.03923589, 'roberta_pos': 0.9590022}, 334: {'roberta_neg': 0.0024938947, 'roberta_neu': 0.02132659, 'roberta_pos': 0.9761795}, 335: {'roberta_neg': 0.014257548, 'roberta_neu': 0.5043751, 'roberta_pos': 0.4813674}, 336: {'roberta_neg': 0.0013326501, 'roberta_neu': 0.020583512, 'roberta_pos': 0.9780838}, 337: {'roberta_neg': 0.0012240965, 'roberta_neu': 0.013355214, 'roberta_pos': 0.98542064}, 338: {'roberta_neg': 0.23950218, 'roberta_neu': 0.5281888, 'roberta_pos': 0.232309}, 339: {'roberta_neg': 0.0018573578, 'roberta_neu': 0.022264235, 'roberta_pos': 0.9758784}, 340: {'roberta_neg': 0.0062301336, 'roberta_neu': 0.05944667, 'roberta_pos': 0.9343232}, 341: {'roberta_neg': 0.12194645, 'roberta_neu': 0.27945918, 'roberta_pos': 0.59859437}, 342: {'roberta_neg': 0.0017501516, 'roberta_neu': 0.017567215, 'roberta_pos': 0.9806826}, 343: {'roberta_neg': 0.06284516, 'roberta_neu': 0.2588529, 'roberta_pos': 0.678302}, 344: {'roberta_neg': 0.0016532629, 'roberta_neu': 0.01815968, 'roberta_pos': 0.980187}, 345: {'roberta_neg': 0.64896804, 'roberta_neu': 0.3153517, 'roberta_pos': 0.03568021}, 346: {'roberta_neg': 0.0022226847, 'roberta_neu': 0.032915723, 'roberta_pos': 0.9648616}, 347: {'roberta_neg': 0.0017287938, 'roberta_neu': 0.02732239, 'roberta_pos': 0.97094876}, 348: {'roberta_neg': 0.23950218, 'roberta_neu': 0.5281888, 'roberta_pos': 0.232309}, 349: {'roberta_neg': 0.0041683842, 'roberta_neu': 0.02935463, 'roberta_pos': 0.9664769}, 350: {'roberta_neg': 0.0017049952, 'roberta_neu': 0.017689895, 'roberta_pos': 0.9806051}, 351: {'roberta_neg': 0.002480032, 'roberta_neu': 0.018453, 'roberta_pos': 0.979067}, 352: {'roberta_neg': 0.23950218, 'roberta_neu': 0.5281888, 'roberta_pos': 0.232309}, 353: {'roberta_neg': 0.052714117, 'roberta_neu': 0.3963712, 'roberta_pos': 0.55091476}, 354: {'roberta_neg': 0.0024757653, 'roberta_neu': 0.036325257, 'roberta_pos': 0.9611989}, 355: {'roberta_neg': 0.032651793, 'roberta_neu': 0.61325705, 'roberta_pos': 0.3540911}, 356: {'roberta_neg': 0.0011582838, 'roberta_neu': 0.01011007, 'roberta_pos': 0.9887317}, 357: {'roberta_neg': 0.23950218, 'roberta_neu': 0.5281888, 'roberta_pos': 0.232309}, 358: {'roberta_neg': 0.005123055, 'roberta_neu': 0.06711502, 'roberta_pos': 0.9277619}, 359: {'roberta_neg': 0.0029424669, 'roberta_neu': 0.07768503, 'roberta_pos': 0.91937244}, 360: {'roberta_neg': 0.041167114, 'roberta_neu': 0.15738066, 'roberta_pos': 0.8014522}, 361: {'roberta_neg': 0.0016938432, 'roberta_neu': 0.033328235, 'roberta_pos': 0.9649779}, 362: {'roberta_neg': 0.002098964, 'roberta_neu': 0.016417246, 'roberta_pos': 0.98148376}, 363: {'roberta_neg': 0.124320425, 'roberta_neu': 0.44493166, 'roberta_pos': 0.43074787}, 364: {'roberta_neg': 0.0024373117, 'roberta_neu': 0.038722552, 'roberta_pos': 0.9588402}, 365: {'roberta_neg': 0.003740383, 'roberta_neu': 0.10253293, 'roberta_pos': 0.8937267}, 366: {'roberta_neg': 0.001335171, 'roberta_neu': 0.013147858, 'roberta_pos': 0.98551697}, 367: {'roberta_neg': 0.0012603704, 'roberta_neu': 0.022834871, 'roberta_pos': 0.97590476}, 368: {'roberta_neg': 0.922662, 'roberta_neu': 0.070922144, 'roberta_pos': 0.0064158496}, 369: {'roberta_neg': 0.005308781, 'roberta_neu': 0.018387249, 'roberta_pos': 0.976304}, 370: {'roberta_neg': 0.23950218, 'roberta_neu': 0.5281888, 'roberta_pos': 0.232309}, 371: {'roberta_neg': 0.24528694, 'roberta_neu': 0.51357347, 'roberta_pos': 0.24113964}, 372: {'roberta_neg': 0.0068767224, 'roberta_neu': 0.058827695, 'roberta_pos': 0.93429554}, 373: {'roberta_neg': 0.0013231917, 'roberta_neu': 0.01995137, 'roberta_pos': 0.9787255}, 374: {'roberta_neg': 0.1903267, 'roberta_neu': 0.27570915, 'roberta_pos': 0.53396416}, 375: {'roberta_neg': 0.23950218, 'roberta_neu': 0.5281888, 'roberta_pos': 0.232309}, 376: {'roberta_neg': 0.0017958853, 'roberta_neu': 0.014240453, 'roberta_pos': 0.98396367}, 377: {'roberta_neg': 0.41864538, 'roberta_neu': 0.42762893, 'roberta_pos': 0.15372564}, 378: {'roberta_neg': 0.001615681, 'roberta_neu': 0.021141721, 'roberta_pos': 0.9772425}, 379: {'roberta_neg': 0.23950218, 'roberta_neu': 0.5281888, 'roberta_pos': 0.232309}, 380: {'roberta_neg': 0.11530748, 'roberta_neu': 0.30528095, 'roberta_pos': 0.57941157}, 381: {'roberta_neg': 0.23950218, 'roberta_neu': 0.5281888, 'roberta_pos': 0.232309}, 382: {'roberta_neg': 0.0019405924, 'roberta_neu': 0.06408259, 'roberta_pos': 0.9339768}, 383: {'roberta_neg': 0.059250634, 'roberta_neu': 0.24118923, 'roberta_pos': 0.69956017}, 384: {'roberta_neg': 0.0015101285, 'roberta_neu': 0.009134767, 'roberta_pos': 0.9893551}, 385: {'roberta_neg': 0.0015702496, 'roberta_neu': 0.024166884, 'roberta_pos': 0.9742629}, 386: {'roberta_neg': 0.0068576043, 'roberta_neu': 0.07665758, 'roberta_pos': 0.9164849}, 387: {'roberta_neg': 0.36549848, 'roberta_neu': 0.5064006, 'roberta_pos': 0.12810087}, 388: {'roberta_neg': 0.0040441174, 'roberta_neu': 0.11821767, 'roberta_pos': 0.8777382}, 389: {'roberta_neg': 0.23950218, 'roberta_neu': 0.5281888, 'roberta_pos': 0.232309}, 390: {'roberta_neg': 0.0029742655, 'roberta_neu': 0.035017423, 'roberta_pos': 0.96200836}, 391: {'roberta_neg': 0.008495733, 'roberta_neu': 0.11099719, 'roberta_pos': 0.880507}, 392: {'roberta_neg': 0.42416668, 'roberta_neu': 0.41901043, 'roberta_pos': 0.1568229}, 393: {'roberta_neg': 0.004720125, 'roberta_neu': 0.19315316, 'roberta_pos': 0.8021267}, 394: {'roberta_neg': 0.23950218, 'roberta_neu': 0.5281888, 'roberta_pos': 0.232309}, 395: {'roberta_neg': 0.009319293, 'roberta_neu': 0.22500029, 'roberta_pos': 0.76568043}, 396: {'roberta_neg': 0.51912165, 'roberta_neu': 0.31986967, 'roberta_pos': 0.16100872}, 397: {'roberta_neg': 0.5241068, 'roberta_neu': 0.4035481, 'roberta_pos': 0.07234512}, 398: {'roberta_neg': 0.23950218, 'roberta_neu': 0.5281888, 'roberta_pos': 0.232309}, 399: {'roberta_neg': 0.0029334484, 'roberta_neu': 0.024339728, 'roberta_pos': 0.97272676}, 400: {'roberta_neg': 0.0016922158, 'roberta_neu': 0.039131157, 'roberta_pos': 0.95917666}, 401: {'roberta_neg': 0.74888176, 'roberta_neu': 0.22546977, 'roberta_pos': 0.02564848}, 402: {'roberta_neg': 0.17536181, 'roberta_neu': 0.4523945, 'roberta_pos': 0.37224364}, 403: {'roberta_neg': 0.0016617659, 'roberta_neu': 0.018575277, 'roberta_pos': 0.979763}, 404: {'roberta_neg': 0.004627385, 'roberta_neu': 0.023823839, 'roberta_pos': 0.9715488}, 405: {'roberta_neg': 0.007839381, 'roberta_neu': 0.062442936, 'roberta_pos': 0.92971766}, 406: {'roberta_neg': 0.094044186, 'roberta_neu': 0.26351634, 'roberta_pos': 0.6424394}, 407: {'roberta_neg': 0.0017356239, 'roberta_neu': 0.007984502, 'roberta_pos': 0.99027985}, 408: {'roberta_neg': 0.024951639, 'roberta_neu': 0.18102403, 'roberta_pos': 0.7940243}, 409: {'roberta_neg': 0.02043834, 'roberta_neu': 0.068717405, 'roberta_pos': 0.91084427}, 410: {'roberta_neg': 0.23950218, 'roberta_neu': 0.5281888, 'roberta_pos': 0.232309}, 411: {'roberta_neg': 0.0018365878, 'roberta_neu': 0.017014204, 'roberta_pos': 0.9811492}, 412: {'roberta_neg': 0.1188357, 'roberta_neu': 0.4320999, 'roberta_pos': 0.44906437}, 413: {'roberta_neg': 0.0011171303, 'roberta_neu': 0.014786558, 'roberta_pos': 0.9840963}, 414: {'roberta_neg': 0.0014296832, 'roberta_neu': 0.018047012, 'roberta_pos': 0.9805233}, 415: {'roberta_neg': 0.006129849, 'roberta_neu': 0.0284569, 'roberta_pos': 0.9654133}, 416: {'roberta_neg': 0.0025128825, 'roberta_neu': 0.027907567, 'roberta_pos': 0.9695795}, 417: {'roberta_neg': 0.07209334, 'roberta_neu': 0.33394292, 'roberta_pos': 0.59396374}, 418: {'roberta_neg': 0.0029919709, 'roberta_neu': 0.047369648, 'roberta_pos': 0.9496384}, 419: {'roberta_neg': 0.0012717874, 'roberta_neu': 0.019656353, 'roberta_pos': 0.9790718}, 420: {'roberta_neg': 0.2628022, 'roberta_neu': 0.38508716, 'roberta_pos': 0.3521106}, 421: {'roberta_neg': 0.0086503625, 'roberta_neu': 0.07317766, 'roberta_pos': 0.91817194}, 422: {'roberta_neg': 0.0019483746, 'roberta_neu': 0.014537146, 'roberta_pos': 0.9835144}, 423: {'roberta_neg': 0.41530916, 'roberta_neu': 0.4089475, 'roberta_pos': 0.17574339}, 424: {'roberta_neg': 0.0018117259, 'roberta_neu': 0.018029958, 'roberta_pos': 0.98015827}, 425: {'roberta_neg': 0.0010610096, 'roberta_neu': 0.012788917, 'roberta_pos': 0.9861501}, 426: {'roberta_neg': 0.002390135, 'roberta_neu': 0.04993443, 'roberta_pos': 0.94767547}, 427: {'roberta_neg': 0.027247787, 'roberta_neu': 0.21581179, 'roberta_pos': 0.7569404}, 428: {'roberta_neg': 0.0019356397, 'roberta_neu': 0.019715395, 'roberta_pos': 0.97834903}, 429: {'roberta_neg': 0.0048256502, 'roberta_neu': 0.04942752, 'roberta_pos': 0.94574684}, 430: {'roberta_neg': 0.042612564, 'roberta_neu': 0.54251236, 'roberta_pos': 0.4148751}, 431: {'roberta_neg': 0.05067732, 'roberta_neu': 0.22321877, 'roberta_pos': 0.72610396}, 432: {'roberta_neg': 0.0071896026, 'roberta_neu': 0.124477215, 'roberta_pos': 0.86833316}, 433: {'roberta_neg': 0.0014965142, 'roberta_neu': 0.009468332, 'roberta_pos': 0.98903507}, 434: {'roberta_neg': 0.1385758, 'roberta_neu': 0.441277, 'roberta_pos': 0.4201472}, 435: {'roberta_neg': 0.029874474, 'roberta_neu': 0.14357808, 'roberta_pos': 0.8265475}, 436: {'roberta_neg': 0.0013097314, 'roberta_neu': 0.014306877, 'roberta_pos': 0.9843834}, 437: {'roberta_neg': 0.022508483, 'roberta_neu': 0.05955474, 'roberta_pos': 0.91793674}, 438: {'roberta_neg': 0.4410635, 'roberta_neu': 0.3998928, 'roberta_pos': 0.15904365}, 439: {'roberta_neg': 0.004989054, 'roberta_neu': 0.03213338, 'roberta_pos': 0.96287763}, 440: {'roberta_neg': 0.23950218, 'roberta_neu': 0.5281888, 'roberta_pos': 0.232309}, 441: {'roberta_neg': 0.0024025391, 'roberta_neu': 0.015197323, 'roberta_pos': 0.9824002}, 442: {'roberta_neg': 0.004332766, 'roberta_neu': 0.0554294, 'roberta_pos': 0.9402378}, 443: {'roberta_neg': 0.002251167, 'roberta_neu': 0.01487844, 'roberta_pos': 0.9828704}, 444: {'roberta_neg': 0.012384974, 'roberta_neu': 0.10379247, 'roberta_pos': 0.88382256}, 445: {'roberta_neg': 0.054395985, 'roberta_neu': 0.26609564, 'roberta_pos': 0.6795084}, 446: {'roberta_neg': 0.043482803, 'roberta_neu': 0.28853986, 'roberta_pos': 0.66797733}, 447: {'roberta_neg': 0.0041265744, 'roberta_neu': 0.045316905, 'roberta_pos': 0.9505565}, 448: {'roberta_neg': 0.006793239, 'roberta_neu': 0.11604163, 'roberta_pos': 0.87716514}, 449: {'roberta_neg': 0.0013136382, 'roberta_neu': 0.010790326, 'roberta_pos': 0.9878961}, 450: {'roberta_neg': 0.008355846, 'roberta_neu': 0.048813347, 'roberta_pos': 0.9428308}, 451: {'roberta_neg': 0.001360523, 'roberta_neu': 0.007753004, 'roberta_pos': 0.99088645}, 452: {'roberta_neg': 0.0037197913, 'roberta_neu': 0.024444398, 'roberta_pos': 0.97183585}, 453: {'roberta_neg': 0.0011192824, 'roberta_neu': 0.020598417, 'roberta_pos': 0.9782823}, 454: {'roberta_neg': 0.0034213536, 'roberta_neu': 0.03547372, 'roberta_pos': 0.96110487}, 455: {'roberta_neg': 0.002371792, 'roberta_neu': 0.022790492, 'roberta_pos': 0.9748377}, 456: {'roberta_neg': 0.15146308, 'roberta_neu': 0.44084156, 'roberta_pos': 0.40769535}, 457: {'roberta_neg': 0.023011183, 'roberta_neu': 0.15563348, 'roberta_pos': 0.82135534}, 458: {'roberta_neg': 0.0019669104, 'roberta_neu': 0.020383965, 'roberta_pos': 0.97764915}, 459: {'roberta_neg': 0.0016470024, 'roberta_neu': 0.010229145, 'roberta_pos': 0.98812383}, 460: {'roberta_neg': 0.0013489953, 'roberta_neu': 0.015000677, 'roberta_pos': 0.98365027}, 461: {'roberta_neg': 0.0016677822, 'roberta_neu': 0.028362356, 'roberta_pos': 0.96996987}, 462: {'roberta_neg': 0.0021015378, 'roberta_neu': 0.034032773, 'roberta_pos': 0.9638657}, 463: {'roberta_neg': 0.015151188, 'roberta_neu': 0.2663131, 'roberta_pos': 0.7185357}, 464: {'roberta_neg': 0.02267511, 'roberta_neu': 0.08114344, 'roberta_pos': 0.89618146}, 465: {'roberta_neg': 0.014557251, 'roberta_neu': 0.15042071, 'roberta_pos': 0.83502203}, 466: {'roberta_neg': 0.7062023, 'roberta_neu': 0.26556, 'roberta_pos': 0.02823775}, 467: {'roberta_neg': 0.0028146529, 'roberta_neu': 0.033947278, 'roberta_pos': 0.96323806}, 468: {'roberta_neg': 0.0024888618, 'roberta_neu': 0.042376716, 'roberta_pos': 0.9551344}, 469: {'roberta_neg': 0.0014657642, 'roberta_neu': 0.0115095535, 'roberta_pos': 0.98702466}, 470: {'roberta_neg': 0.09014616, 'roberta_neu': 0.5977437, 'roberta_pos': 0.31211013}, 471: {'roberta_neg': 0.00135145, 'roberta_neu': 0.019236492, 'roberta_pos': 0.979412}, 472: {'roberta_neg': 0.014661457, 'roberta_neu': 0.12642513, 'roberta_pos': 0.8589134}, 473: {'roberta_neg': 0.50623894, 'roberta_neu': 0.4737748, 'roberta_pos': 0.01998627}, 474: {'roberta_neg': 0.002370918, 'roberta_neu': 0.03509136, 'roberta_pos': 0.96253777}, 475: {'roberta_neg': 0.6924308, 'roberta_neu': 0.27644002, 'roberta_pos': 0.031129148}, 476: {'roberta_neg': 0.0028984435, 'roberta_neu': 0.06355984, 'roberta_pos': 0.9335417}, 477: {'roberta_neg': 0.0017253116, 'roberta_neu': 0.025870113, 'roberta_pos': 0.9724046}, 478: {'roberta_neg': 0.032520413, 'roberta_neu': 0.14457022, 'roberta_pos': 0.82290936}, 479: {'roberta_neg': 0.0022004915, 'roberta_neu': 0.019420348, 'roberta_pos': 0.97837913}, 480: {'roberta_neg': 0.001906112, 'roberta_neu': 0.011204808, 'roberta_pos': 0.9868891}, 481: {'roberta_neg': 0.0027446283, 'roberta_neu': 0.023513064, 'roberta_pos': 0.9737423}, 482: {'roberta_neg': 0.008544602, 'roberta_neu': 0.05307844, 'roberta_pos': 0.938377}, 483: {'roberta_neg': 0.012156211, 'roberta_neu': 0.08857684, 'roberta_pos': 0.8992669}, 484: {'roberta_neg': 0.035078123, 'roberta_neu': 0.55790436, 'roberta_pos': 0.4070175}, 485: {'roberta_neg': 0.0017810775, 'roberta_neu': 0.013204091, 'roberta_pos': 0.98501486}, 486: {'roberta_neg': 0.023119204, 'roberta_neu': 0.22317296, 'roberta_pos': 0.7537078}, 487: {'roberta_neg': 0.0033732457, 'roberta_neu': 0.0540473, 'roberta_pos': 0.9425794}, 488: {'roberta_neg': 0.08322759, 'roberta_neu': 0.4410115, 'roberta_pos': 0.47576097}, 489: {'roberta_neg': 0.040351324, 'roberta_neu': 0.28451338, 'roberta_pos': 0.6751353}, 490: {'roberta_neg': 0.0020123103, 'roberta_neu': 0.025839793, 'roberta_pos': 0.97214794}, 491: {'roberta_neg': 0.08856741, 'roberta_neu': 0.36902696, 'roberta_pos': 0.54240566}, 492: {'roberta_neg': 0.23950218, 'roberta_neu': 0.5281888, 'roberta_pos': 0.232309}, 493: {'roberta_neg': 0.0020479118, 'roberta_neu': 0.02703464, 'roberta_pos': 0.9709174}, 494: {'roberta_neg': 0.0014191424, 'roberta_neu': 0.010911484, 'roberta_pos': 0.9876694}, 495: {'roberta_neg': 0.008007381, 'roberta_neu': 0.054217074, 'roberta_pos': 0.9377756}, 496: {'roberta_neg': 0.002320949, 'roberta_neu': 0.021978425, 'roberta_pos': 0.9757007}, 497: {'roberta_neg': 0.0015477232, 'roberta_neu': 0.01652002, 'roberta_pos': 0.9819323}, 498: {'roberta_neg': 0.42643154, 'roberta_neu': 0.49640834, 'roberta_pos': 0.0771601}, 499: {'roberta_neg': 0.0019390613, 'roberta_neu': 0.033060435, 'roberta_pos': 0.96500057}, 500: {'roberta_neg': 0.002187273, 'roberta_neu': 0.034677126, 'roberta_pos': 0.96313566}, 501: {'roberta_neg': 0.0051821084, 'roberta_neu': 0.061533768, 'roberta_pos': 0.93328416}, 502: {'roberta_neg': 0.0019110284, 'roberta_neu': 0.024489114, 'roberta_pos': 0.9735998}, 503: {'roberta_neg': 0.0016418464, 'roberta_neu': 0.013092382, 'roberta_pos': 0.9852658}, 504: {'roberta_neg': 0.0036958975, 'roberta_neu': 0.019922063, 'roberta_pos': 0.9763821}, 505: {'roberta_neg': 0.0012454246, 'roberta_neu': 0.011298591, 'roberta_pos': 0.9874559}, 506: {'roberta_neg': 0.0017762405, 'roberta_neu': 0.0148097975, 'roberta_pos': 0.983414}, 507: {'roberta_neg': 0.86663854, 'roberta_neu': 0.12032915, 'roberta_pos': 0.013032279}, 508: {'roberta_neg': 0.002802242, 'roberta_neu': 0.03943165, 'roberta_pos': 0.9577661}, 509: {'roberta_neg': 0.0016849225, 'roberta_neu': 0.016501939, 'roberta_pos': 0.9818132}, 510: {'roberta_neg': 0.009309912, 'roberta_neu': 0.22889844, 'roberta_pos': 0.76179165}, 511: {'roberta_neg': 0.7167008, 'roberta_neu': 0.2718427, 'roberta_pos': 0.011456527}, 512: {'roberta_neg': 0.0012526013, 'roberta_neu': 0.012890988, 'roberta_pos': 0.9858564}, 513: {'roberta_neg': 0.021497704, 'roberta_neu': 0.1927084, 'roberta_pos': 0.78579396}, 514: {'roberta_neg': 0.0018097523, 'roberta_neu': 0.011460561, 'roberta_pos': 0.9867296}, 515: {'roberta_neg': 0.23950218, 'roberta_neu': 0.5281888, 'roberta_pos': 0.232309}, 516: {'roberta_neg': 0.0039984984, 'roberta_neu': 0.11660228, 'roberta_pos': 0.87939924}, 517: {'roberta_neg': 0.07366441, 'roberta_neu': 0.48378477, 'roberta_pos': 0.4425508}, 518: {'roberta_neg': 0.23950218, 'roberta_neu': 0.5281888, 'roberta_pos': 0.232309}, 519: {'roberta_neg': 0.0013673382, 'roberta_neu': 0.006731442, 'roberta_pos': 0.9919012}, 520: {'roberta_neg': 0.39611995, 'roberta_neu': 0.5570276, 'roberta_pos': 0.046852484}, 521: {'roberta_neg': 0.0015566392, 'roberta_neu': 0.014915289, 'roberta_pos': 0.983528}, 522: {'roberta_neg': 0.0014740586, 'roberta_neu': 0.00951392, 'roberta_pos': 0.989012}, 523: {'roberta_neg': 0.024021551, 'roberta_neu': 0.26958105, 'roberta_pos': 0.70639735}, 524: {'roberta_neg': 0.0020410111, 'roberta_neu': 0.02363388, 'roberta_pos': 0.9743251}, 525: {'roberta_neg': 0.0056374446, 'roberta_neu': 0.09378141, 'roberta_pos': 0.9005811}, 526: {'roberta_neg': 0.0014455904, 'roberta_neu': 0.015947405, 'roberta_pos': 0.98260695}, 527: {'roberta_neg': 0.27338117, 'roberta_neu': 0.4950096, 'roberta_pos': 0.2316092}, 528: {'roberta_neg': 0.0028816026, 'roberta_neu': 0.029878287, 'roberta_pos': 0.96724004}, 529: {'roberta_neg': 0.0017525178, 'roberta_neu': 0.03311624, 'roberta_pos': 0.9651312}, 530: {'roberta_neg': 0.016245026, 'roberta_neu': 0.2212116, 'roberta_pos': 0.7625434}, 531: {'roberta_neg': 0.018949224, 'roberta_neu': 0.11539736, 'roberta_pos': 0.8656534}, 532: {'roberta_neg': 0.011572636, 'roberta_neu': 0.047724094, 'roberta_pos': 0.94070333}, 533: {'roberta_neg': 0.031093216, 'roberta_neu': 0.13634957, 'roberta_pos': 0.8325572}, 534: {'roberta_neg': 0.055598255, 'roberta_neu': 0.29226166, 'roberta_pos': 0.6521401}, 535: {'roberta_neg': 0.55822414, 'roberta_neu': 0.343375, 'roberta_pos': 0.09840091}, 536: {'roberta_neg': 0.0071969507, 'roberta_neu': 0.288407, 'roberta_pos': 0.70439607}, 537: {'roberta_neg': 0.0030810423, 'roberta_neu': 0.027745605, 'roberta_pos': 0.9691733}, 538: {'roberta_neg': 0.008045762, 'roberta_neu': 0.065927416, 'roberta_pos': 0.92602676}, 539: {'roberta_neg': 0.0021095874, 'roberta_neu': 0.012700782, 'roberta_pos': 0.9851896}, 540: {'roberta_neg': 0.0021038835, 'roberta_neu': 0.031057166, 'roberta_pos': 0.96683896}, 541: {'roberta_neg': 0.0027752346, 'roberta_neu': 0.03427299, 'roberta_pos': 0.9629518}, 542: {'roberta_neg': 0.0024572597, 'roberta_neu': 0.033420462, 'roberta_pos': 0.96412224}, 543: {'roberta_neg': 0.0014383154, 'roberta_neu': 0.013061711, 'roberta_pos': 0.9854999}, 544: {'roberta_neg': 0.0050995406, 'roberta_neu': 0.08617298, 'roberta_pos': 0.90872747}, 545: {'roberta_neg': 0.002071415, 'roberta_neu': 0.021877484, 'roberta_pos': 0.97605115}, 546: {'roberta_neg': 0.0019621137, 'roberta_neu': 0.037868783, 'roberta_pos': 0.96016914}, 547: {'roberta_neg': 0.16423602, 'roberta_neu': 0.47646302, 'roberta_pos': 0.35930085}, 548: {'roberta_neg': 0.0017347515, 'roberta_neu': 0.01826136, 'roberta_pos': 0.9800039}, 549: {'roberta_neg': 0.01522917, 'roberta_neu': 0.27816924, 'roberta_pos': 0.70660156}, 550: {'roberta_neg': 0.0019790966, 'roberta_neu': 0.044968273, 'roberta_pos': 0.9530526}, 551: {'roberta_neg': 0.021468, 'roberta_neu': 0.100261, 'roberta_pos': 0.87827104}, 552: {'roberta_neg': 0.0015158493, 'roberta_neu': 0.013000086, 'roberta_pos': 0.98548406}, 553: {'roberta_neg': 0.0064637978, 'roberta_neu': 0.034653462, 'roberta_pos': 0.9588827}, 554: {'roberta_neg': 0.037091408, 'roberta_neu': 0.15986833, 'roberta_pos': 0.8030402}, 555: {'roberta_neg': 0.07588205, 'roberta_neu': 0.41105354, 'roberta_pos': 0.5130644}, 556: {'roberta_neg': 0.04986593, 'roberta_neu': 0.49690592, 'roberta_pos': 0.45322812}, 557: {'roberta_neg': 0.013872454, 'roberta_neu': 0.13460186, 'roberta_pos': 0.8515257}, 558: {'roberta_neg': 0.0019099109, 'roberta_neu': 0.019122576, 'roberta_pos': 0.9789675}, 559: {'roberta_neg': 0.50107265, 'roberta_neu': 0.39817187, 'roberta_pos': 0.100755475}, 560: {'roberta_neg': 0.001848616, 'roberta_neu': 0.019675568, 'roberta_pos': 0.9784758}, 561: {'roberta_neg': 0.118890606, 'roberta_neu': 0.4180657, 'roberta_pos': 0.46304375}, 562: {'roberta_neg': 0.0033914899, 'roberta_neu': 0.05381789, 'roberta_pos': 0.9427906}, 563: {'roberta_neg': 0.064192474, 'roberta_neu': 0.4880531, 'roberta_pos': 0.44775435}, 564: {'roberta_neg': 0.0022865115, 'roberta_neu': 0.020413866, 'roberta_pos': 0.9772996}, 565: {'roberta_neg': 0.0029102438, 'roberta_neu': 0.036105894, 'roberta_pos': 0.9609839}, 566: {'roberta_neg': 0.0015915529, 'roberta_neu': 0.011210405, 'roberta_pos': 0.98719805}, 567: {'roberta_neg': 0.001396475, 'roberta_neu': 0.010331149, 'roberta_pos': 0.98827237}, 568: {'roberta_neg': 0.6772987, 'roberta_neu': 0.2696464, 'roberta_pos': 0.05305483}, 569: {'roberta_neg': 0.0021601291, 'roberta_neu': 0.029579677, 'roberta_pos': 0.96826017}, 570: {'roberta_neg': 0.049652163, 'roberta_neu': 0.27531984, 'roberta_pos': 0.67502797}, 571: {'roberta_neg': 0.22660092, 'roberta_neu': 0.60016286, 'roberta_pos': 0.1732362}, 572: {'roberta_neg': 0.0015678796, 'roberta_neu': 0.010126648, 'roberta_pos': 0.98830545}, 573: {'roberta_neg': 0.002524436, 'roberta_neu': 0.020187242, 'roberta_pos': 0.9772883}, 574: {'roberta_neg': 0.022507826, 'roberta_neu': 0.04903807, 'roberta_pos': 0.9284541}, 575: {'roberta_neg': 0.08832433, 'roberta_neu': 0.45063674, 'roberta_pos': 0.46103898}, 576: {'roberta_neg': 0.1385758, 'roberta_neu': 0.441277, 'roberta_pos': 0.4201472}, 577: {'roberta_neg': 0.0009133534, 'roberta_neu': 0.012273484, 'roberta_pos': 0.9868132}, 578: {'roberta_neg': 0.004587493, 'roberta_neu': 0.17209819, 'roberta_pos': 0.8233143}, 579: {'roberta_neg': 0.0015981246, 'roberta_neu': 0.021040002, 'roberta_pos': 0.97736186}, 580: {'roberta_neg': 0.0019965468, 'roberta_neu': 0.012274793, 'roberta_pos': 0.9857287}, 581: {'roberta_neg': 0.0020501516, 'roberta_neu': 0.03312058, 'roberta_pos': 0.9648293}, 582: {'roberta_neg': 0.016776988, 'roberta_neu': 0.25407767, 'roberta_pos': 0.72914535}, 583: {'roberta_neg': 0.001436257, 'roberta_neu': 0.0129155, 'roberta_pos': 0.9856483}, 584: {'roberta_neg': 0.0015469787, 'roberta_neu': 0.06409631, 'roberta_pos': 0.93435675}, 585: {'roberta_neg': 0.08832433, 'roberta_neu': 0.45063674, 'roberta_pos': 0.46103898}, 586: {'roberta_neg': 0.002132183, 'roberta_neu': 0.03687946, 'roberta_pos': 0.9609884}, 587: {'roberta_neg': 0.017878514, 'roberta_neu': 0.3336554, 'roberta_pos': 0.6484661}, 588: {'roberta_neg': 0.0016899767, 'roberta_neu': 0.014583216, 'roberta_pos': 0.98372674}, 589: {'roberta_neg': 0.0056955637, 'roberta_neu': 0.099214055, 'roberta_pos': 0.8950904}, 590: {'roberta_neg': 0.005275412, 'roberta_neu': 0.029034698, 'roberta_pos': 0.9656899}, 591: {'roberta_neg': 0.0017835377, 'roberta_neu': 0.02041769, 'roberta_pos': 0.97779876}, 592: {'roberta_neg': 0.0018546592, 'roberta_neu': 0.01619094, 'roberta_pos': 0.98195446}, 593: {'roberta_neg': 0.23950218, 'roberta_neu': 0.5281888, 'roberta_pos': 0.232309}, 594: {'roberta_neg': 0.0034052418, 'roberta_neu': 0.06559481, 'roberta_pos': 0.931}, 595: {'roberta_neg': 0.23950218, 'roberta_neu': 0.5281888, 'roberta_pos': 0.232309}, 596: {'roberta_neg': 0.001969432, 'roberta_neu': 0.030775305, 'roberta_pos': 0.96725523}, 597: {'roberta_neg': 0.0019645123, 'roberta_neu': 0.0641559, 'roberta_pos': 0.9338796}, 598: {'roberta_neg': 0.015728546, 'roberta_neu': 0.32493576, 'roberta_pos': 0.6593357}, 599: {'roberta_neg': 0.12571143, 'roberta_neu': 0.47316468, 'roberta_pos': 0.4011239}, 600: {'roberta_neg': 0.23950218, 'roberta_neu': 0.5281888, 'roberta_pos': 0.232309}, 601: {'roberta_neg': 0.0051859063, 'roberta_neu': 0.11703349, 'roberta_pos': 0.8777806}, 602: {'roberta_neg': 0.0017491473, 'roberta_neu': 0.0077655977, 'roberta_pos': 0.99048525}, 603: {'roberta_neg': 0.23950218, 'roberta_neu': 0.5281888, 'roberta_pos': 0.232309}, 604: {'roberta_neg': 0.0014810533, 'roberta_neu': 0.017920885, 'roberta_pos': 0.98059803}, 605: {'roberta_neg': 0.23950218, 'roberta_neu': 0.5281888, 'roberta_pos': 0.232309}, 606: {'roberta_neg': 0.0017666273, 'roberta_neu': 0.02346971, 'roberta_pos': 0.97476363}, 607: {'roberta_neg': 0.0018258838, 'roberta_neu': 0.007101258, 'roberta_pos': 0.99107283}, 608: {'roberta_neg': 0.004768678, 'roberta_neu': 0.037420757, 'roberta_pos': 0.9578105}, 609: {'roberta_neg': 0.0061381375, 'roberta_neu': 0.05371951, 'roberta_pos': 0.94014233}, 610: {'roberta_neg': 0.02865706, 'roberta_neu': 0.06922096, 'roberta_pos': 0.902122}, 611: {'roberta_neg': 0.0021858516, 'roberta_neu': 0.023417072, 'roberta_pos': 0.9743971}, 612: {'roberta_neg': 0.0017668514, 'roberta_neu': 0.014025169, 'roberta_pos': 0.9842079}, 613: {'roberta_neg': 0.0051767933, 'roberta_neu': 0.10358282, 'roberta_pos': 0.8912404}, 614: {'roberta_neg': 0.0019998378, 'roberta_neu': 0.03975367, 'roberta_pos': 0.9582465}, 615: {'roberta_neg': 0.0024374074, 'roberta_neu': 0.027371308, 'roberta_pos': 0.97019136}, 616: {'roberta_neg': 0.27611065, 'roberta_neu': 0.42144707, 'roberta_pos': 0.30244234}, 617: {'roberta_neg': 0.0019135827, 'roberta_neu': 0.012056459, 'roberta_pos': 0.9860299}, 618: {'roberta_neg': 0.0022159026, 'roberta_neu': 0.083753064, 'roberta_pos': 0.9140311}, 619: {'roberta_neg': 0.008076875, 'roberta_neu': 0.10528076, 'roberta_pos': 0.88664234}, 620: {'roberta_neg': 0.005051667, 'roberta_neu': 0.05329262, 'roberta_pos': 0.9416557}, 621: {'roberta_neg': 0.003964221, 'roberta_neu': 0.04131693, 'roberta_pos': 0.9547189}, 622: {'roberta_neg': 0.0038194004, 'roberta_neu': 0.034115814, 'roberta_pos': 0.96206474}, 623: {'roberta_neg': 0.0022103968, 'roberta_neu': 0.02252839, 'roberta_pos': 0.9752612}, 624: {'roberta_neg': 0.0018633794, 'roberta_neu': 0.017193878, 'roberta_pos': 0.9809427}, 625: {'roberta_neg': 0.0014460289, 'roberta_neu': 0.007175259, 'roberta_pos': 0.99137866}, 626: {'roberta_neg': 0.0031544524, 'roberta_neu': 0.025264552, 'roberta_pos': 0.971581}, 627: {'roberta_neg': 0.0044739633, 'roberta_neu': 0.1132202, 'roberta_pos': 0.8823058}, 628: {'roberta_neg': 0.024201145, 'roberta_neu': 0.13998812, 'roberta_pos': 0.8358108}, 629: {'roberta_neg': 0.0063222153, 'roberta_neu': 0.0486015, 'roberta_pos': 0.94507635}, 630: {'roberta_neg': 0.035770956, 'roberta_neu': 0.31599718, 'roberta_pos': 0.64823186}, 631: {'roberta_neg': 0.0013729224, 'roberta_neu': 0.010609118, 'roberta_pos': 0.9880179}, 632: {'roberta_neg': 0.07557014, 'roberta_neu': 0.2759446, 'roberta_pos': 0.64848524}, 633: {'roberta_neg': 0.07278273, 'roberta_neu': 0.23047881, 'roberta_pos': 0.6967384}, 634: {'roberta_neg': 0.0021233128, 'roberta_neu': 0.021905657, 'roberta_pos': 0.97597104}, 635: {'roberta_neg': 0.0024301542, 'roberta_neu': 0.03219702, 'roberta_pos': 0.9653728}, 636: {'roberta_neg': 0.0021944835, 'roberta_neu': 0.01107253, 'roberta_pos': 0.986733}, 637: {'roberta_neg': 0.008291445, 'roberta_neu': 0.11608223, 'roberta_pos': 0.8756263}, 638: {'roberta_neg': 0.012606344, 'roberta_neu': 0.17637748, 'roberta_pos': 0.8110162}, 639: {'roberta_neg': 0.0026536107, 'roberta_neu': 0.044916976, 'roberta_pos': 0.9524294}, 640: {'roberta_neg': 0.008159086, 'roberta_neu': 0.04555083, 'roberta_pos': 0.9462901}, 641: {'roberta_neg': 0.001884401, 'roberta_neu': 0.014682518, 'roberta_pos': 0.983433}, 642: {'roberta_neg': 0.0038411573, 'roberta_neu': 0.057843074, 'roberta_pos': 0.9383158}, 643: {'roberta_neg': 0.0017977003, 'roberta_neu': 0.014840673, 'roberta_pos': 0.98336166}, 644: {'roberta_neg': 0.0025249338, 'roberta_neu': 0.030261869, 'roberta_pos': 0.96721315}, 645: {'roberta_neg': 0.003242378, 'roberta_neu': 0.030252056, 'roberta_pos': 0.9665055}, 646: {'roberta_neg': 0.0021642796, 'roberta_neu': 0.014331614, 'roberta_pos': 0.98350406}, 647: {'roberta_neg': 0.019379886, 'roberta_neu': 0.117662966, 'roberta_pos': 0.8629572}, 648: {'roberta_neg': 0.001841215, 'roberta_neu': 0.011736827, 'roberta_pos': 0.98642194}, 649: {'roberta_neg': 0.0019045862, 'roberta_neu': 0.013953475, 'roberta_pos': 0.9841419}, 650: {'roberta_neg': 0.003062817, 'roberta_neu': 0.03407143, 'roberta_pos': 0.96286577}, 651: {'roberta_neg': 0.11078562, 'roberta_neu': 0.4048612, 'roberta_pos': 0.48435315}, 652: {'roberta_neg': 0.0016186208, 'roberta_neu': 0.018164927, 'roberta_pos': 0.98021644}, 653: {'roberta_neg': 0.013020949, 'roberta_neu': 0.07644668, 'roberta_pos': 0.91053236}, 654: {'roberta_neg': 0.0025109386, 'roberta_neu': 0.01330191, 'roberta_pos': 0.9841871}, 655: {'roberta_neg': 0.0022637448, 'roberta_neu': 0.01137476, 'roberta_pos': 0.9863615}, 656: {'roberta_neg': 0.0031366537, 'roberta_neu': 0.007888063, 'roberta_pos': 0.9889753}, 657: {'roberta_neg': 0.012850376, 'roberta_neu': 0.06321474, 'roberta_pos': 0.9239349}, 658: {'roberta_neg': 0.008753083, 'roberta_neu': 0.056095175, 'roberta_pos': 0.9351517}, 659: {'roberta_neg': 0.0019818698, 'roberta_neu': 0.008502591, 'roberta_pos': 0.98951554}, 660: {'roberta_neg': 0.00492625, 'roberta_neu': 0.02718358, 'roberta_pos': 0.96789014}, 661: {'roberta_neg': 0.0026212474, 'roberta_neu': 0.038099587, 'roberta_pos': 0.9592791}, 662: {'roberta_neg': 0.0024377895, 'roberta_neu': 0.012232238, 'roberta_pos': 0.98533}, 663: {'roberta_neg': 0.0015952771, 'roberta_neu': 0.016994802, 'roberta_pos': 0.9814099}, 664: {'roberta_neg': 0.021935053, 'roberta_neu': 0.059318367, 'roberta_pos': 0.91874653}, 665: {'roberta_neg': 0.009507148, 'roberta_neu': 0.052959096, 'roberta_pos': 0.9375338}, 666: {'roberta_neg': 0.0013606715, 'roberta_neu': 0.017332373, 'roberta_pos': 0.9813069}, 667: {'roberta_neg': 0.0019703114, 'roberta_neu': 0.0073131258, 'roberta_pos': 0.9907165}, 668: {'roberta_neg': 0.0023141685, 'roberta_neu': 0.026878737, 'roberta_pos': 0.9708071}, 669: {'roberta_neg': 0.0053605274, 'roberta_neu': 0.031029986, 'roberta_pos': 0.9636095}, 670: {'roberta_neg': 0.0029470879, 'roberta_neu': 0.043331202, 'roberta_pos': 0.9537217}, 671: {'roberta_neg': 0.002337268, 'roberta_neu': 0.011636091, 'roberta_pos': 0.98602664}, 672: {'roberta_neg': 0.0039900704, 'roberta_neu': 0.12499285, 'roberta_pos': 0.8710171}, 673: {'roberta_neg': 0.18239005, 'roberta_neu': 0.2621576, 'roberta_pos': 0.55545235}, 674: {'roberta_neg': 0.0037355379, 'roberta_neu': 0.017776504, 'roberta_pos': 0.978488}, 675: {'roberta_neg': 0.0020612215, 'roberta_neu': 0.020550288, 'roberta_pos': 0.9773885}, 676: {'roberta_neg': 0.0019990124, 'roberta_neu': 0.02107591, 'roberta_pos': 0.97692513}, 677: {'roberta_neg': 0.0018503937, 'roberta_neu': 0.019210584, 'roberta_pos': 0.97893906}, 678: {'roberta_neg': 0.005551386, 'roberta_neu': 0.17375174, 'roberta_pos': 0.8206969}, 679: {'roberta_neg': 0.002615443, 'roberta_neu': 0.0156275, 'roberta_pos': 0.981757}, 680: {'roberta_neg': 0.018144473, 'roberta_neu': 0.22181202, 'roberta_pos': 0.7600435}, 681: {'roberta_neg': 0.0035663005, 'roberta_neu': 0.02109404, 'roberta_pos': 0.9753397}, 682: {'roberta_neg': 0.0019207398, 'roberta_neu': 0.015272157, 'roberta_pos': 0.98280704}, 683: {'roberta_neg': 0.0027359412, 'roberta_neu': 0.01486126, 'roberta_pos': 0.9824028}, 684: {'roberta_neg': 0.038340442, 'roberta_neu': 0.113102935, 'roberta_pos': 0.84855664}, 685: {'roberta_neg': 0.0014973095, 'roberta_neu': 0.021020737, 'roberta_pos': 0.9774819}, 686: {'roberta_neg': 0.0012337782, 'roberta_neu': 0.024833743, 'roberta_pos': 0.9739325}, 687: {'roberta_neg': 0.0015326997, 'roberta_neu': 0.011399033, 'roberta_pos': 0.9870683}, 688: {'roberta_neg': 0.0015184737, 'roberta_neu': 0.017390389, 'roberta_pos': 0.98109114}, 689: {'roberta_neg': 0.0028399085, 'roberta_neu': 0.007247691, 'roberta_pos': 0.98991245}, 690: {'roberta_neg': 0.003821963, 'roberta_neu': 0.028230904, 'roberta_pos': 0.9679471}, 691: {'roberta_neg': 0.004629434, 'roberta_neu': 0.012236203, 'roberta_pos': 0.9831344}, 692: {'roberta_neg': 0.002469389, 'roberta_neu': 0.009691945, 'roberta_pos': 0.9878386}, 693: {'roberta_neg': 0.0015496651, 'roberta_neu': 0.008768222, 'roberta_pos': 0.98968214}, 694: {'roberta_neg': 0.011984844, 'roberta_neu': 0.036408566, 'roberta_pos': 0.9516066}, 695: {'roberta_neg': 0.004305553, 'roberta_neu': 0.03986244, 'roberta_pos': 0.955832}, 696: {'roberta_neg': 0.08832433, 'roberta_neu': 0.45063674, 'roberta_pos': 0.46103898}, 697: {'roberta_neg': 0.005062348, 'roberta_neu': 0.028655903, 'roberta_pos': 0.9662818}, 698: {'roberta_neg': 0.12125555, 'roberta_neu': 0.35074413, 'roberta_pos': 0.5280003}, 699: {'roberta_neg': 0.0020297843, 'roberta_neu': 0.09923021, 'roberta_pos': 0.89874}, 700: {'roberta_neg': 0.0022338629, 'roberta_neu': 0.018998042, 'roberta_pos': 0.97876805}, 701: {'roberta_neg': 0.0026738772, 'roberta_neu': 0.019147666, 'roberta_pos': 0.97817844}, 702: {'roberta_neg': 0.0021914253, 'roberta_neu': 0.010419673, 'roberta_pos': 0.98738885}, 703: {'roberta_neg': 0.0022909893, 'roberta_neu': 0.025957849, 'roberta_pos': 0.97175115}, 704: {'roberta_neg': 0.004026548, 'roberta_neu': 0.0499281, 'roberta_pos': 0.9460454}, 705: {'roberta_neg': 0.002758447, 'roberta_neu': 0.02105473, 'roberta_pos': 0.9761869}, 706: {'roberta_neg': 0.0013308529, 'roberta_neu': 0.012378182, 'roberta_pos': 0.986291}, 707: {'roberta_neg': 0.0016572765, 'roberta_neu': 0.014552809, 'roberta_pos': 0.98378986}, 708: {'roberta_neg': 0.0013226352, 'roberta_neu': 0.017151482, 'roberta_pos': 0.9815259}, 709: {'roberta_neg': 0.005180979, 'roberta_neu': 0.10405943, 'roberta_pos': 0.8907596}, 710: {'roberta_neg': 0.0018853685, 'roberta_neu': 0.013463266, 'roberta_pos': 0.9846513}, 711: {'roberta_neg': 0.0051219873, 'roberta_neu': 0.031163385, 'roberta_pos': 0.96371466}, 712: {'roberta_neg': 0.13623416, 'roberta_neu': 0.4339756, 'roberta_pos': 0.42979023}, 713: {'roberta_neg': 0.0024688789, 'roberta_neu': 0.017780472, 'roberta_pos': 0.9797506}, 714: {'roberta_neg': 0.0030874158, 'roberta_neu': 0.01906715, 'roberta_pos': 0.9778454}, 715: {'roberta_neg': 0.002043716, 'roberta_neu': 0.023724, 'roberta_pos': 0.9742323}, 716: {'roberta_neg': 0.002157766, 'roberta_neu': 0.030374726, 'roberta_pos': 0.9674675}, 717: {'roberta_neg': 0.0018974928, 'roberta_neu': 0.02333742, 'roberta_pos': 0.97476506}, 718: {'roberta_neg': 0.0023777883, 'roberta_neu': 0.008787562, 'roberta_pos': 0.9888347}, 719: {'roberta_neg': 0.0018548572, 'roberta_neu': 0.010428792, 'roberta_pos': 0.9877164}, 720: {'roberta_neg': 0.0066701854, 'roberta_neu': 0.05553749, 'roberta_pos': 0.93779236}, 721: {'roberta_neg': 0.0024782238, 'roberta_neu': 0.0189567, 'roberta_pos': 0.97856504}, 722: {'roberta_neg': 0.0013376296, 'roberta_neu': 0.009832414, 'roberta_pos': 0.9888299}, 723: {'roberta_neg': 0.0030650382, 'roberta_neu': 0.025319826, 'roberta_pos': 0.9716151}, 724: {'roberta_neg': 0.0013352003, 'roberta_neu': 0.009265221, 'roberta_pos': 0.9893996}, 725: {'roberta_neg': 0.003606607, 'roberta_neu': 0.031223545, 'roberta_pos': 0.9651699}, 726: {'roberta_neg': 0.0014847644, 'roberta_neu': 0.009434098, 'roberta_pos': 0.98908114}, 727: {'roberta_neg': 0.0012844471, 'roberta_neu': 0.015927339, 'roberta_pos': 0.98278815}, 728: {'roberta_neg': 0.0029896204, 'roberta_neu': 0.011156432, 'roberta_pos': 0.98585397}, 729: {'roberta_neg': 0.0022653576, 'roberta_neu': 0.015633704, 'roberta_pos': 0.9821009}, 730: {'roberta_neg': 0.0017548366, 'roberta_neu': 0.021713534, 'roberta_pos': 0.9765316}, 731: {'roberta_neg': 0.0026518782, 'roberta_neu': 0.01902204, 'roberta_pos': 0.9783261}, 732: {'roberta_neg': 0.002101342, 'roberta_neu': 0.015535798, 'roberta_pos': 0.9823629}, 733: {'roberta_neg': 0.0028196252, 'roberta_neu': 0.018842805, 'roberta_pos': 0.9783376}, 734: {'roberta_neg': 0.0016519228, 'roberta_neu': 0.015274189, 'roberta_pos': 0.9830739}, 735: {'roberta_neg': 0.0022059625, 'roberta_neu': 0.023300838, 'roberta_pos': 0.9744932}, 736: {'roberta_neg': 0.00135199, 'roberta_neu': 0.011865038, 'roberta_pos': 0.986783}, 737: {'roberta_neg': 0.0019480155, 'roberta_neu': 0.026125, 'roberta_pos': 0.97192705}, 738: {'roberta_neg': 0.0033495543, 'roberta_neu': 0.016954232, 'roberta_pos': 0.9796963}, 739: {'roberta_neg': 0.58933973, 'roberta_neu': 0.3362869, 'roberta_pos': 0.07437341}, 740: {'roberta_neg': 0.0014486975, 'roberta_neu': 0.011455508, 'roberta_pos': 0.98709583}, 741: {'roberta_neg': 0.0048674215, 'roberta_neu': 0.029229846, 'roberta_pos': 0.9659027}, 742: {'roberta_neg': 0.0048757717, 'roberta_neu': 0.02416757, 'roberta_pos': 0.9709566}, 743: {'roberta_neg': 0.0030115976, 'roberta_neu': 0.014195499, 'roberta_pos': 0.98279285}, 744: {'roberta_neg': 0.0017207442, 'roberta_neu': 0.013850957, 'roberta_pos': 0.9844283}, 745: {'roberta_neg': 0.00500196, 'roberta_neu': 0.043641858, 'roberta_pos': 0.9513562}, 746: {'roberta_neg': 0.0025931776, 'roberta_neu': 0.04281335, 'roberta_pos': 0.9545934}, 747: {'roberta_neg': 0.0022316896, 'roberta_neu': 0.0076606437, 'roberta_pos': 0.99010766}, 748: {'roberta_neg': 0.009284807, 'roberta_neu': 0.040520653, 'roberta_pos': 0.95019454}, 749: {'roberta_neg': 0.0023280676, 'roberta_neu': 0.028651994, 'roberta_pos': 0.96901995}, 750: {'roberta_neg': 0.0017475815, 'roberta_neu': 0.008372587, 'roberta_pos': 0.98987985}, 751: {'roberta_neg': 0.0017855004, 'roberta_neu': 0.012054094, 'roberta_pos': 0.9861604}, 752: {'roberta_neg': 0.008842017, 'roberta_neu': 0.09264909, 'roberta_pos': 0.89850885}, 753: {'roberta_neg': 0.0030961903, 'roberta_neu': 0.12119325, 'roberta_pos': 0.87571055}, 754: {'roberta_neg': 0, 'roberta_neu': 0, 'roberta_pos': 0}, 755: {'roberta_neg': 0.0011383813, 'roberta_neu': 0.012419966, 'roberta_pos': 0.9864417}, 756: {'roberta_neg': 0.006596069, 'roberta_neu': 0.29374462, 'roberta_pos': 0.6996593}, 757: {'roberta_neg': 0.006345321, 'roberta_neu': 0.10661908, 'roberta_pos': 0.8870356}, 758: {'roberta_neg': 0.027318701, 'roberta_neu': 0.07281926, 'roberta_pos': 0.8998621}, 759: {'roberta_neg': 0.0029064862, 'roberta_neu': 0.016576098, 'roberta_pos': 0.98051745}, 760: {'roberta_neg': 0.013280306, 'roberta_neu': 0.16196512, 'roberta_pos': 0.8247546}, 761: {'roberta_neg': 0.0029865731, 'roberta_neu': 0.03184288, 'roberta_pos': 0.96517056}, 762: {'roberta_neg': 0.001514467, 'roberta_neu': 0.009470349, 'roberta_pos': 0.98901516}, 763: {'roberta_neg': 0.002477322, 'roberta_neu': 0.013270479, 'roberta_pos': 0.98425215}, 764: {'roberta_neg': 0.002707106, 'roberta_neu': 0.019586654, 'roberta_pos': 0.97770625}, 765: {'roberta_neg': 0.0024075918, 'roberta_neu': 0.010938105, 'roberta_pos': 0.98665434}, 766: {'roberta_neg': 0.001507474, 'roberta_neu': 0.015244119, 'roberta_pos': 0.98324835}, 767: {'roberta_neg': 0.0018742376, 'roberta_neu': 0.01690705, 'roberta_pos': 0.98121876}, 768: {'roberta_neg': 0.001973137, 'roberta_neu': 0.016016567, 'roberta_pos': 0.9820103}, 769: {'roberta_neg': 0.007752791, 'roberta_neu': 0.12925911, 'roberta_pos': 0.86298805}, 770: {'roberta_neg': 0.23950218, 'roberta_neu': 0.5281888, 'roberta_pos': 0.232309}, 771: {'roberta_neg': 0.0016613298, 'roberta_neu': 0.022357462, 'roberta_pos': 0.9759812}, 772: {'roberta_neg': 0.004569763, 'roberta_neu': 0.020877521, 'roberta_pos': 0.97455275}, 773: {'roberta_neg': 0.027265945, 'roberta_neu': 0.13347653, 'roberta_pos': 0.83925754}, 774: {'roberta_neg': 0.001547963, 'roberta_neu': 0.012645714, 'roberta_pos': 0.9858064}, 775: {'roberta_neg': 0.008931067, 'roberta_neu': 0.071242325, 'roberta_pos': 0.9198266}, 776: {'roberta_neg': 0, 'roberta_neu': 0, 'roberta_pos': 0}, 777: {'roberta_neg': 0.0048753284, 'roberta_neu': 0.037265055, 'roberta_pos': 0.95785964}, 778: {'roberta_neg': 0.12590025, 'roberta_neu': 0.39542803, 'roberta_pos': 0.47867173}, 779: {'roberta_neg': 0.0028559014, 'roberta_neu': 0.014114914, 'roberta_pos': 0.9830292}, 780: {'roberta_neg': 0.008510341, 'roberta_neu': 0.0847254, 'roberta_pos': 0.90676427}, 781: {'roberta_neg': 0.005433029, 'roberta_neu': 0.03606763, 'roberta_pos': 0.9584994}, 782: {'roberta_neg': 0.0016815205, 'roberta_neu': 0.029698452, 'roberta_pos': 0.96862006}, 783: {'roberta_neg': 0.0019886566, 'roberta_neu': 0.01843277, 'roberta_pos': 0.97957855}, 784: {'roberta_neg': 0.0023540824, 'roberta_neu': 0.033745255, 'roberta_pos': 0.9639007}, 785: {'roberta_neg': 0.00658285, 'roberta_neu': 0.09069833, 'roberta_pos': 0.9027188}, 786: {'roberta_neg': 0.0045241513, 'roberta_neu': 0.030397618, 'roberta_pos': 0.9650783}, 787: {'roberta_neg': 0.0026669125, 'roberta_neu': 0.031140475, 'roberta_pos': 0.9661926}, 788: {'roberta_neg': 0.018451547, 'roberta_neu': 0.054018777, 'roberta_pos': 0.9275297}, 789: {'roberta_neg': 0.006524936, 'roberta_neu': 0.22436623, 'roberta_pos': 0.76910883}, 790: {'roberta_neg': 0.0022922454, 'roberta_neu': 0.01796908, 'roberta_pos': 0.9797387}, 791: {'roberta_neg': 0.008511915, 'roberta_neu': 0.045282617, 'roberta_pos': 0.94620544}, 792: {'roberta_neg': 0.00211435, 'roberta_neu': 0.013625146, 'roberta_pos': 0.9842605}, 793: {'roberta_neg': 0.04840813, 'roberta_neu': 0.21734771, 'roberta_pos': 0.73424417}, 794: {'roberta_neg': 0.0025347278, 'roberta_neu': 0.033514686, 'roberta_pos': 0.9639505}, 795: {'roberta_neg': 0.0020219467, 'roberta_neu': 0.021281144, 'roberta_pos': 0.97669697}, 796: {'roberta_neg': 0.0017428277, 'roberta_neu': 0.030608848, 'roberta_pos': 0.9676483}, 797: {'roberta_neg': 0.0021578355, 'roberta_neu': 0.013360001, 'roberta_pos': 0.98448217}, 798: {'roberta_neg': 0.0016544554, 'roberta_neu': 0.0096318545, 'roberta_pos': 0.9887137}, 799: {'roberta_neg': 0.0047747125, 'roberta_neu': 0.019225553, 'roberta_pos': 0.9759997}, 800: {'roberta_neg': 0.0026136313, 'roberta_neu': 0.016829992, 'roberta_pos': 0.98055637}, 801: {'roberta_neg': 0.0032280472, 'roberta_neu': 0.020979706, 'roberta_pos': 0.9757923}, 802: {'roberta_neg': 0.00147435, 'roberta_neu': 0.008276951, 'roberta_pos': 0.99024874}, 803: {'roberta_neg': 0.009687924, 'roberta_neu': 0.3003111, 'roberta_pos': 0.690001}, 804: {'roberta_neg': 0.31016332, 'roberta_neu': 0.42705593, 'roberta_pos': 0.2627808}, 805: {'roberta_neg': 0.0028620993, 'roberta_neu': 0.010740384, 'roberta_pos': 0.98639756}, 806: {'roberta_neg': 0.0071167615, 'roberta_neu': 0.057319462, 'roberta_pos': 0.93556374}, 807: {'roberta_neg': 0.0023386537, 'roberta_neu': 0.04210799, 'roberta_pos': 0.95555335}, 808: {'roberta_neg': 0.0033437714, 'roberta_neu': 0.03919618, 'roberta_pos': 0.95746005}, 809: {'roberta_neg': 0.14945538, 'roberta_neu': 0.3623989, 'roberta_pos': 0.4881458}, 810: {'roberta_neg': 0.002229172, 'roberta_neu': 0.039328873, 'roberta_pos': 0.958442}, 811: {'roberta_neg': 0.0027004953, 'roberta_neu': 0.03019095, 'roberta_pos': 0.9671086}, 812: {'roberta_neg': 0.0026254843, 'roberta_neu': 0.011603495, 'roberta_pos': 0.98577106}, 813: {'roberta_neg': 0.002690824, 'roberta_neu': 0.010345119, 'roberta_pos': 0.98696405}, 814: {'roberta_neg': 0.26730677, 'roberta_neu': 0.3491118, 'roberta_pos': 0.38358146}, 815: {'roberta_neg': 0.00135417, 'roberta_neu': 0.019908447, 'roberta_pos': 0.97873735}, 816: {'roberta_neg': 0.0026237976, 'roberta_neu': 0.049742553, 'roberta_pos': 0.9476336}, 817: {'roberta_neg': 0.0041944366, 'roberta_neu': 0.045988824, 'roberta_pos': 0.94981676}, 818: {'roberta_neg': 0.006398917, 'roberta_neu': 0.063771755, 'roberta_pos': 0.92982936}, 819: {'roberta_neg': 0.0016753116, 'roberta_neu': 0.019670445, 'roberta_pos': 0.9786542}, 820: {'roberta_neg': 0.008635488, 'roberta_neu': 0.040394735, 'roberta_pos': 0.95096976}, 821: {'roberta_neg': 0.010904124, 'roberta_neu': 0.05660169, 'roberta_pos': 0.9324942}, 822: {'roberta_neg': 0.0033012799, 'roberta_neu': 0.012622188, 'roberta_pos': 0.98407656}, 823: {'roberta_neg': 0.47061527, 'roberta_neu': 0.3863799, 'roberta_pos': 0.14300486}, 824: {'roberta_neg': 0.008207322, 'roberta_neu': 0.03621453, 'roberta_pos': 0.95557815}, 825: {'roberta_neg': 0.0024374484, 'roberta_neu': 0.043679617, 'roberta_pos': 0.953883}, 826: {'roberta_neg': 0.011511559, 'roberta_neu': 0.041871328, 'roberta_pos': 0.94661707}, 827: {'roberta_neg': 0.0022180802, 'roberta_neu': 0.021691646, 'roberta_pos': 0.9760903}, 828: {'roberta_neg': 0.004899052, 'roberta_neu': 0.024838686, 'roberta_pos': 0.9702622}, 829: {'roberta_neg': 0.0338617, 'roberta_neu': 0.26287565, 'roberta_pos': 0.7032626}, 830: {'roberta_neg': 0.004731406, 'roberta_neu': 0.012502544, 'roberta_pos': 0.98276603}, 831: {'roberta_neg': 0.0034496528, 'roberta_neu': 0.01842969, 'roberta_pos': 0.9781206}, 832: {'roberta_neg': 0.002652986, 'roberta_neu': 0.050306506, 'roberta_pos': 0.9470405}, 833: {'roberta_neg': 0.010698078, 'roberta_neu': 0.026761234, 'roberta_pos': 0.96254075}, 834: {'roberta_neg': 0.0060095643, 'roberta_neu': 0.035166454, 'roberta_pos': 0.958824}, 835: {'roberta_neg': 0.018225515, 'roberta_neu': 0.09369363, 'roberta_pos': 0.88808084}, 836: {'roberta_neg': 0.0023174174, 'roberta_neu': 0.013792557, 'roberta_pos': 0.98389006}, 837: {'roberta_neg': 0.603159, 'roberta_neu': 0.3316747, 'roberta_pos': 0.06516622}, 838: {'roberta_neg': 0.0023893544, 'roberta_neu': 0.004966719, 'roberta_pos': 0.992644}, 839: {'roberta_neg': 0.058444172, 'roberta_neu': 0.32479897, 'roberta_pos': 0.6167569}, 840: {'roberta_neg': 0.0032426836, 'roberta_neu': 0.03436598, 'roberta_pos': 0.9623913}, 841: {'roberta_neg': 0.0015937894, 'roberta_neu': 0.019147972, 'roberta_pos': 0.97925824}, 842: {'roberta_neg': 0.010316394, 'roberta_neu': 0.061563414, 'roberta_pos': 0.92812014}, 843: {'roberta_neg': 0.022317816, 'roberta_neu': 0.082126856, 'roberta_pos': 0.8955554}, 844: {'roberta_neg': 0.001674843, 'roberta_neu': 0.009466168, 'roberta_pos': 0.98885894}, 845: {'roberta_neg': 0.0032773272, 'roberta_neu': 0.025606683, 'roberta_pos': 0.971116}, 846: {'roberta_neg': 0.00284655, 'roberta_neu': 0.025736274, 'roberta_pos': 0.9714172}, 847: {'roberta_neg': 0.03594168, 'roberta_neu': 0.1560345, 'roberta_pos': 0.8080238}, 848: {'roberta_neg': 0.0019367138, 'roberta_neu': 0.008114112, 'roberta_pos': 0.9899492}, 849: {'roberta_neg': 0.0014037876, 'roberta_neu': 0.006661651, 'roberta_pos': 0.99193454}, 850: {'roberta_neg': 0.0017287144, 'roberta_neu': 0.010898525, 'roberta_pos': 0.9873727}, 851: {'roberta_neg': 0.001615415, 'roberta_neu': 0.013687465, 'roberta_pos': 0.9846971}, 852: {'roberta_neg': 0.001685412, 'roberta_neu': 0.009966499, 'roberta_pos': 0.98834807}, 853: {'roberta_neg': 0.0020020688, 'roberta_neu': 0.0102314735, 'roberta_pos': 0.9877665}, 854: {'roberta_neg': 0.0050059445, 'roberta_neu': 0.068095386, 'roberta_pos': 0.92689866}, 855: {'roberta_neg': 0.0046951775, 'roberta_neu': 0.051385686, 'roberta_pos': 0.94391906}, 856: {'roberta_neg': 0.002457127, 'roberta_neu': 0.0238183, 'roberta_pos': 0.9737246}, 857: {'roberta_neg': 0.0024103026, 'roberta_neu': 0.025895832, 'roberta_pos': 0.9716939}, 858: {'roberta_neg': 0.004392541, 'roberta_neu': 0.03808261, 'roberta_pos': 0.95752484}, 859: {'roberta_neg': 0.537341, 'roberta_neu': 0.41566235, 'roberta_pos': 0.046996664}, 860: {'roberta_neg': 0.0015054925, 'roberta_neu': 0.0088645, 'roberta_pos': 0.98963004}, 861: {'roberta_neg': 0.024869766, 'roberta_neu': 0.11819693, 'roberta_pos': 0.85693324}, 862: {'roberta_neg': 0.0020236806, 'roberta_neu': 0.021975897, 'roberta_pos': 0.97600037}, 863: {'roberta_neg': 0.013301215, 'roberta_neu': 0.058756705, 'roberta_pos': 0.92794216}, 864: {'roberta_neg': 0.002283984, 'roberta_neu': 0.077004306, 'roberta_pos': 0.9207117}, 865: {'roberta_neg': 0.0026840505, 'roberta_neu': 0.023247559, 'roberta_pos': 0.9740684}, 866: {'roberta_neg': 0.0033053774, 'roberta_neu': 0.03658859, 'roberta_pos': 0.9601061}, 867: {'roberta_neg': 0.0048254314, 'roberta_neu': 0.04390675, 'roberta_pos': 0.95126784}, 868: {'roberta_neg': 0.0051695104, 'roberta_neu': 0.06916296, 'roberta_pos': 0.92566746}, 869: {'roberta_neg': 0.00616255, 'roberta_neu': 0.059885655, 'roberta_pos': 0.93395174}, 870: {'roberta_neg': 0.0016856127, 'roberta_neu': 0.013353956, 'roberta_pos': 0.9849605}, 871: {'roberta_neg': 0.029439373, 'roberta_neu': 0.10625133, 'roberta_pos': 0.86430925}, 872: {'roberta_neg': 0.0041134274, 'roberta_neu': 0.04646258, 'roberta_pos': 0.94942397}, 873: {'roberta_neg': 0.0016625925, 'roberta_neu': 0.007793173, 'roberta_pos': 0.9905442}, 874: {'roberta_neg': 0.0049254773, 'roberta_neu': 0.029456621, 'roberta_pos': 0.96561795}, 875: {'roberta_neg': 0.008188861, 'roberta_neu': 0.0316359, 'roberta_pos': 0.9601752}, 876: {'roberta_neg': 0.0015192411, 'roberta_neu': 0.010080571, 'roberta_pos': 0.9884002}, 877: {'roberta_neg': 0.003571894, 'roberta_neu': 0.031079004, 'roberta_pos': 0.96534914}, 878: {'roberta_neg': 0.007955564, 'roberta_neu': 0.035906054, 'roberta_pos': 0.9561383}, 879: {'roberta_neg': 0.002913669, 'roberta_neu': 0.016916573, 'roberta_pos': 0.9801697}, 880: {'roberta_neg': 0.0019069792, 'roberta_neu': 0.016458461, 'roberta_pos': 0.98163456}, 881: {'roberta_neg': 0.01080331, 'roberta_neu': 0.08350279, 'roberta_pos': 0.9056938}, 882: {'roberta_neg': 0.003996717, 'roberta_neu': 0.02182841, 'roberta_pos': 0.97417486}, 883: {'roberta_neg': 0.001707941, 'roberta_neu': 0.02437573, 'roberta_pos': 0.9739163}, 884: {'roberta_neg': 0.0019915462, 'roberta_neu': 0.024139151, 'roberta_pos': 0.97386926}, 885: {'roberta_neg': 0.0021802294, 'roberta_neu': 0.0073505878, 'roberta_pos': 0.99046916}, 886: {'roberta_neg': 0.0023236296, 'roberta_neu': 0.007852967, 'roberta_pos': 0.9898234}, 887: {'roberta_neg': 0.0013642741, 'roberta_neu': 0.068146974, 'roberta_pos': 0.9304887}, 888: {'roberta_neg': 0.009495505, 'roberta_neu': 0.050235562, 'roberta_pos': 0.9402689}, 889: {'roberta_neg': 0.007944329, 'roberta_neu': 0.05654359, 'roberta_pos': 0.9355121}, 890: {'roberta_neg': 0.012320102, 'roberta_neu': 0.06515532, 'roberta_pos': 0.9225246}, 891: {'roberta_neg': 0.0016674536, 'roberta_neu': 0.0059327763, 'roberta_pos': 0.99239975}, 892: {'roberta_neg': 0.0027800165, 'roberta_neu': 0.017739922, 'roberta_pos': 0.97948}, 893: {'roberta_neg': 0.0024411469, 'roberta_neu': 0.015650317, 'roberta_pos': 0.98190856}, 894: {'roberta_neg': 0.0015135297, 'roberta_neu': 0.016321704, 'roberta_pos': 0.98216474}, 895: {'roberta_neg': 0.0018817295, 'roberta_neu': 0.009111238, 'roberta_pos': 0.989007}, 896: {'roberta_neg': 0.009798604, 'roberta_neu': 0.03966354, 'roberta_pos': 0.95053786}, 897: {'roberta_neg': 0.0023786216, 'roberta_neu': 0.011317938, 'roberta_pos': 0.9863034}, 898: {'roberta_neg': 0.004261616, 'roberta_neu': 0.039610393, 'roberta_pos': 0.956128}, 899: {'roberta_neg': 0.00653336, 'roberta_neu': 0.05025684, 'roberta_pos': 0.9432098}, 900: {'roberta_neg': 0.008171019, 'roberta_neu': 0.030370554, 'roberta_pos': 0.9614584}, 901: {'roberta_neg': 0.027517306, 'roberta_neu': 0.18960841, 'roberta_pos': 0.7828742}, 902: {'roberta_neg': 0.008758592, 'roberta_neu': 0.06319465, 'roberta_pos': 0.92804676}, 903: {'roberta_neg': 0.0033193524, 'roberta_neu': 0.024293663, 'roberta_pos': 0.97238696}, 904: {'roberta_neg': 0.0024178538, 'roberta_neu': 0.041519325, 'roberta_pos': 0.9560628}, 905: {'roberta_neg': 0.001598545, 'roberta_neu': 0.018175973, 'roberta_pos': 0.9802255}, 906: {'roberta_neg': 0.002994626, 'roberta_neu': 0.022442492, 'roberta_pos': 0.9745628}, 907: {'roberta_neg': 0.003594153, 'roberta_neu': 0.051284548, 'roberta_pos': 0.9451212}, 908: {'roberta_neg': 0.0020672944, 'roberta_neu': 0.011221002, 'roberta_pos': 0.9867116}, 909: {'roberta_neg': 0.0028629887, 'roberta_neu': 0.03075917, 'roberta_pos': 0.96637785}, 910: {'roberta_neg': 0.016061792, 'roberta_neu': 0.049701363, 'roberta_pos': 0.9342368}, 911: {'roberta_neg': 0.0026629067, 'roberta_neu': 0.026950518, 'roberta_pos': 0.9703866}, 912: {'roberta_neg': 0.0021339038, 'roberta_neu': 0.0110816555, 'roberta_pos': 0.9867844}, 913: {'roberta_neg': 0.002922616, 'roberta_neu': 0.016785221, 'roberta_pos': 0.98029214}, 914: {'roberta_neg': 0.0016027006, 'roberta_neu': 0.007877837, 'roberta_pos': 0.9905194}, 915: {'roberta_neg': 0.003749295, 'roberta_neu': 0.014728027, 'roberta_pos': 0.9815227}, 916: {'roberta_neg': 0.0012799765, 'roberta_neu': 0.012903649, 'roberta_pos': 0.98581636}, 917: {'roberta_neg': 0.0075714043, 'roberta_neu': 0.095314875, 'roberta_pos': 0.89711374}, 918: {'roberta_neg': 0.0014905344, 'roberta_neu': 0.009059096, 'roberta_pos': 0.9894504}, 919: {'roberta_neg': 0.0036891808, 'roberta_neu': 0.03236111, 'roberta_pos': 0.96394974}, 920: {'roberta_neg': 0.002236671, 'roberta_neu': 0.00936532, 'roberta_pos': 0.988398}, 921: {'roberta_neg': 0.007070172, 'roberta_neu': 0.081188664, 'roberta_pos': 0.9117412}, 922: {'roberta_neg': 0.23950218, 'roberta_neu': 0.5281888, 'roberta_pos': 0.232309}, 923: {'roberta_neg': 0.0021541626, 'roberta_neu': 0.011735084, 'roberta_pos': 0.9861108}, 924: {'roberta_neg': 0.0032357825, 'roberta_neu': 0.023836045, 'roberta_pos': 0.97292817}, 925: {'roberta_neg': 0.0016359271, 'roberta_neu': 0.013092872, 'roberta_pos': 0.9852712}, 926: {'roberta_neg': 0.0017228028, 'roberta_neu': 0.008839196, 'roberta_pos': 0.98943806}, 927: {'roberta_neg': 0.014918482, 'roberta_neu': 0.058052476, 'roberta_pos': 0.9270291}, 928: {'roberta_neg': 0.09967266, 'roberta_neu': 0.29887682, 'roberta_pos': 0.6014505}, 929: {'roberta_neg': 0.0052530724, 'roberta_neu': 0.050343722, 'roberta_pos': 0.94440323}, 930: {'roberta_neg': 0.08867703, 'roberta_neu': 0.38571373, 'roberta_pos': 0.52560925}, 931: {'roberta_neg': 0.0026438546, 'roberta_neu': 0.0111514265, 'roberta_pos': 0.98620474}, 932: {'roberta_neg': 0.001597032, 'roberta_neu': 0.01500896, 'roberta_pos': 0.9833941}, 933: {'roberta_neg': 0.002073298, 'roberta_neu': 0.0135250185, 'roberta_pos': 0.98440164}, 934: {'roberta_neg': 0.0012253362, 'roberta_neu': 0.012778528, 'roberta_pos': 0.9859962}, 935: {'roberta_neg': 0.0019383781, 'roberta_neu': 0.010636797, 'roberta_pos': 0.9874248}, 936: {'roberta_neg': 0.023587191, 'roberta_neu': 0.10090625, 'roberta_pos': 0.8755065}, 937: {'roberta_neg': 0.001697063, 'roberta_neu': 0.012731288, 'roberta_pos': 0.9855716}, 938: {'roberta_neg': 0.0084900055, 'roberta_neu': 0.10214552, 'roberta_pos': 0.88936454}, 939: {'roberta_neg': 0.0019024686, 'roberta_neu': 0.0054615154, 'roberta_pos': 0.992636}, 940: {'roberta_neg': 0.0023273109, 'roberta_neu': 0.05581391, 'roberta_pos': 0.9418588}, 941: {'roberta_neg': 0.008746569, 'roberta_neu': 0.0527314, 'roberta_pos': 0.9385221}, 942: {'roberta_neg': 0.0018425287, 'roberta_neu': 0.013407296, 'roberta_pos': 0.98475015}, 943: {'roberta_neg': 0.0020356001, 'roberta_neu': 0.018554619, 'roberta_pos': 0.9794098}, 944: {'roberta_neg': 0.0016588474, 'roberta_neu': 0.010268588, 'roberta_pos': 0.98807263}, 945: {'roberta_neg': 0.0053066323, 'roberta_neu': 0.024766007, 'roberta_pos': 0.9699274}, 946: {'roberta_neg': 0.0072863675, 'roberta_neu': 0.040636837, 'roberta_pos': 0.95207685}, 947: {'roberta_neg': 0.0015319813, 'roberta_neu': 0.0075538876, 'roberta_pos': 0.9909141}, 948: {'roberta_neg': 0.021176318, 'roberta_neu': 0.0814789, 'roberta_pos': 0.8973448}, 949: {'roberta_neg': 0.0013531324, 'roberta_neu': 0.010483585, 'roberta_pos': 0.9881633}, 950: {'roberta_neg': 0.0019360977, 'roberta_neu': 0.011813444, 'roberta_pos': 0.9862504}, 951: {'roberta_neg': 0.0014614468, 'roberta_neu': 0.014678007, 'roberta_pos': 0.9838606}, 952: {'roberta_neg': 0.0025478895, 'roberta_neu': 0.0187064, 'roberta_pos': 0.9787457}, 953: {'roberta_neg': 0.028094094, 'roberta_neu': 0.119231105, 'roberta_pos': 0.85267484}, 954: {'roberta_neg': 0.008237836, 'roberta_neu': 0.1060822, 'roberta_pos': 0.88567996}, 955: {'roberta_neg': 0.004780462, 'roberta_neu': 0.03923061, 'roberta_pos': 0.95598894}, 956: {'roberta_neg': 0.025305722, 'roberta_neu': 0.12763926, 'roberta_pos': 0.847055}, 957: {'roberta_neg': 0.01126862, 'roberta_neu': 0.11666045, 'roberta_pos': 0.8720709}, 958: {'roberta_neg': 0.12253346, 'roberta_neu': 0.30451497, 'roberta_pos': 0.57295156}, 959: {'roberta_neg': 0.02157262, 'roberta_neu': 0.08809835, 'roberta_pos': 0.890329}, 960: {'roberta_neg': 0.0068166223, 'roberta_neu': 0.061904047, 'roberta_pos': 0.93127936}, 961: {'roberta_neg': 0.0035433727, 'roberta_neu': 0.017194495, 'roberta_pos': 0.9792621}, 962: {'roberta_neg': 0.0021279608, 'roberta_neu': 0.017347425, 'roberta_pos': 0.98052466}, 963: {'roberta_neg': 0.0058121583, 'roberta_neu': 0.024094593, 'roberta_pos': 0.97009325}, 964: {'roberta_neg': 0.0025529838, 'roberta_neu': 0.016329462, 'roberta_pos': 0.98111755}, 965: {'roberta_neg': 0.004263711, 'roberta_neu': 0.027045984, 'roberta_pos': 0.9686903}, 966: {'roberta_neg': 0.0055735363, 'roberta_neu': 0.035263557, 'roberta_pos': 0.95916295}, 967: {'roberta_neg': 0.0041187173, 'roberta_neu': 0.018126635, 'roberta_pos': 0.97775465}, 968: {'roberta_neg': 0.0046865377, 'roberta_neu': 0.039105654, 'roberta_pos': 0.95620775}, 969: {'roberta_neg': 0.00643841, 'roberta_neu': 0.029630188, 'roberta_pos': 0.9639314}, 970: {'roberta_neg': 0.0020281705, 'roberta_neu': 0.025657007, 'roberta_pos': 0.9723148}, 971: {'roberta_neg': 0.0042357165, 'roberta_neu': 0.028553175, 'roberta_pos': 0.96721107}, 972: {'roberta_neg': 0.018421046, 'roberta_neu': 0.18341716, 'roberta_pos': 0.7981618}, 973: {'roberta_neg': 0.1915928, 'roberta_neu': 0.5561124, 'roberta_pos': 0.25229475}, 974: {'roberta_neg': 0.001690124, 'roberta_neu': 0.025680894, 'roberta_pos': 0.972629}, 975: {'roberta_neg': 0.0061061275, 'roberta_neu': 0.027583059, 'roberta_pos': 0.9663108}, 976: {'roberta_neg': 0.022718517, 'roberta_neu': 0.21450679, 'roberta_pos': 0.76277465}, 977: {'roberta_neg': 0.0016512927, 'roberta_neu': 0.010641822, 'roberta_pos': 0.98770684}, 978: {'roberta_neg': 0.00212333, 'roberta_neu': 0.011194291, 'roberta_pos': 0.9866824}, 979: {'roberta_neg': 0.0019367804, 'roberta_neu': 0.01882401, 'roberta_pos': 0.9792392}, 980: {'roberta_neg': 0.020030042, 'roberta_neu': 0.04871891, 'roberta_pos': 0.93125105}, 981: {'roberta_neg': 0.03270185, 'roberta_neu': 0.5402726, 'roberta_pos': 0.42702556}, 982: {'roberta_neg': 0.003172388, 'roberta_neu': 0.022496695, 'roberta_pos': 0.9743309}, 983: {'roberta_neg': 0.0018583966, 'roberta_neu': 0.016413005, 'roberta_pos': 0.9817286}, 984: {'roberta_neg': 0.113903634, 'roberta_neu': 0.23396608, 'roberta_pos': 0.65213025}, 985: {'roberta_neg': 0.0038871453, 'roberta_neu': 0.032172594, 'roberta_pos': 0.96394026}, 986: {'roberta_neg': 0.0047140857, 'roberta_neu': 0.06778166, 'roberta_pos': 0.92750424}, 987: {'roberta_neg': 0.0030191701, 'roberta_neu': 0.021477353, 'roberta_pos': 0.97550344}, 988: {'roberta_neg': 0.0028616658, 'roberta_neu': 0.01595801, 'roberta_pos': 0.9811803}, 989: {'roberta_neg': 0.0066496567, 'roberta_neu': 0.034268133, 'roberta_pos': 0.95908225}, 990: {'roberta_neg': 0.0027329377, 'roberta_neu': 0.015350092, 'roberta_pos': 0.98191696}, 991: {'roberta_neg': 0.0022140618, 'roberta_neu': 0.015822245, 'roberta_pos': 0.98196375}, 992: {'roberta_neg': 0.0030066508, 'roberta_neu': 0.016283551, 'roberta_pos': 0.9807098}, 993: {'roberta_neg': 0.009691669, 'roberta_neu': 0.083689414, 'roberta_pos': 0.9066189}, 994: {'roberta_neg': 0.0023517488, 'roberta_neu': 0.013038138, 'roberta_pos': 0.9846101}, 995: {'roberta_neg': 0.006735325, 'roberta_neu': 0.04342883, 'roberta_pos': 0.94983584}, 996: {'roberta_neg': 0.0044560134, 'roberta_neu': 0.021002688, 'roberta_pos': 0.9745413}, 997: {'roberta_neg': 0.19852497, 'roberta_neu': 0.4066023, 'roberta_pos': 0.39487273}, 998: {'roberta_neg': 0.10271771, 'roberta_neu': 0.49833372, 'roberta_pos': 0.39894858}, 999: {'roberta_neg': 0.0072937245, 'roberta_neu': 0.041819863, 'roberta_pos': 0.9508864}, 1000: {'roberta_neg': 0.0028702233, 'roberta_neu': 0.021355633, 'roberta_pos': 0.9757741}, 1001: {'roberta_neg': 0.002056107, 'roberta_neu': 0.012007905, 'roberta_pos': 0.98593605}, 1002: {'roberta_neg': 0.0076840846, 'roberta_neu': 0.12152661, 'roberta_pos': 0.87078935}, 1003: {'roberta_neg': 0.55570924, 'roberta_neu': 0.3487068, 'roberta_pos': 0.09558393}, 1004: {'roberta_neg': 0.0056114183, 'roberta_neu': 0.27776295, 'roberta_pos': 0.7166257}, 1005: {'roberta_neg': 0.0021263908, 'roberta_neu': 0.020460118, 'roberta_pos': 0.9774135}, 1006: {'roberta_neg': 0.003420629, 'roberta_neu': 0.019008595, 'roberta_pos': 0.9775708}, 1007: {'roberta_neg': 0.0029967853, 'roberta_neu': 0.02284209, 'roberta_pos': 0.97416115}, 1008: {'roberta_neg': 0.01691079, 'roberta_neu': 0.0682738, 'roberta_pos': 0.91481537}, 1009: {'roberta_neg': 0.001534132, 'roberta_neu': 0.010650328, 'roberta_pos': 0.98781556}, 1010: {'roberta_neg': 0.0025216078, 'roberta_neu': 0.030093838, 'roberta_pos': 0.9673845}, 1011: {'roberta_neg': 0.03427372, 'roberta_neu': 0.1977765, 'roberta_pos': 0.7679498}, 1012: {'roberta_neg': 0.0018671794, 'roberta_neu': 0.011610708, 'roberta_pos': 0.98652214}, 1013: {'roberta_neg': 0.013766387, 'roberta_neu': 0.19223449, 'roberta_pos': 0.79399914}, 1014: {'roberta_neg': 0.0052402304, 'roberta_neu': 0.035389315, 'roberta_pos': 0.9593705}, 1015: {'roberta_neg': 0.002223826, 'roberta_neu': 0.017045774, 'roberta_pos': 0.9807304}, 1016: {'roberta_neg': 0.0021125553, 'roberta_neu': 0.012649268, 'roberta_pos': 0.98523825}, 1017: {'roberta_neg': 0.013013071, 'roberta_neu': 0.10729928, 'roberta_pos': 0.8796876}, 1018: {'roberta_neg': 0.0083994325, 'roberta_neu': 0.089459114, 'roberta_pos': 0.9021414}, 1019: {'roberta_neg': 0.23950218, 'roberta_neu': 0.5281888, 'roberta_pos': 0.232309}, 1020: {'roberta_neg': 0.006499887, 'roberta_neu': 0.11091882, 'roberta_pos': 0.8825813}, 1021: {'roberta_neg': 0.0037489394, 'roberta_neu': 0.025296586, 'roberta_pos': 0.9709545}, 1022: {'roberta_neg': 0.0046140123, 'roberta_neu': 0.05101021, 'roberta_pos': 0.9443758}, 1023: {'roberta_neg': 0.0020647254, 'roberta_neu': 0.012700378, 'roberta_pos': 0.98523486}, 1024: {'roberta_neg': 0.006139651, 'roberta_neu': 0.037297834, 'roberta_pos': 0.9565626}, 1025: {'roberta_neg': 0.013040676, 'roberta_neu': 0.03175677, 'roberta_pos': 0.9552026}, 1026: {'roberta_neg': 0.0020431455, 'roberta_neu': 0.0065526376, 'roberta_pos': 0.9914042}, 1027: {'roberta_neg': 0.0020132987, 'roberta_neu': 0.011331775, 'roberta_pos': 0.9866549}, 1028: {'roberta_neg': 0.005119907, 'roberta_neu': 0.045070264, 'roberta_pos': 0.9498098}, 1029: {'roberta_neg': 0.0029690785, 'roberta_neu': 0.030039173, 'roberta_pos': 0.9669917}, 1030: {'roberta_neg': 0.0030506626, 'roberta_neu': 0.011268578, 'roberta_pos': 0.9856808}, 1031: {'roberta_neg': 0.003369141, 'roberta_neu': 0.01191779, 'roberta_pos': 0.9847131}, 1032: {'roberta_neg': 0.0015631969, 'roberta_neu': 0.014885755, 'roberta_pos': 0.9835511}, 1033: {'roberta_neg': 0.0019130132, 'roberta_neu': 0.0131516345, 'roberta_pos': 0.9849354}, 1034: {'roberta_neg': 0.005289002, 'roberta_neu': 0.051909074, 'roberta_pos': 0.9428019}, 1035: {'roberta_neg': 0, 'roberta_neu': 0, 'roberta_pos': 0}, 1036: {'roberta_neg': 0.0047668153, 'roberta_neu': 0.036248796, 'roberta_pos': 0.95898443}, 1037: {'roberta_neg': 0.00997757, 'roberta_neu': 0.06956704, 'roberta_pos': 0.9204554}, 1038: {'roberta_neg': 0.002547012, 'roberta_neu': 0.012416406, 'roberta_pos': 0.9850366}, 1039: {'roberta_neg': 0.003522888, 'roberta_neu': 0.012276302, 'roberta_pos': 0.9842008}, 1040: {'roberta_neg': 0.13389932, 'roberta_neu': 0.2730648, 'roberta_pos': 0.59303594}, 1041: {'roberta_neg': 0.006199826, 'roberta_neu': 0.045627877, 'roberta_pos': 0.9481723}, 1042: {'roberta_neg': 0.0020762382, 'roberta_neu': 0.014459625, 'roberta_pos': 0.9834642}, 1043: {'roberta_neg': 0.014120595, 'roberta_neu': 0.07554227, 'roberta_pos': 0.9103371}, 1044: {'roberta_neg': 0.002082304, 'roberta_neu': 0.017314704, 'roberta_pos': 0.98060304}, 1045: {'roberta_neg': 0.002130129, 'roberta_neu': 0.031176679, 'roberta_pos': 0.9666932}, 1046: {'roberta_neg': 0.0023913756, 'roberta_neu': 0.009171119, 'roberta_pos': 0.9884375}, 1047: {'roberta_neg': 0.0027812398, 'roberta_neu': 0.030551149, 'roberta_pos': 0.9666676}, 1048: {'roberta_neg': 0.0042495094, 'roberta_neu': 0.019070053, 'roberta_pos': 0.97668046}, 1049: {'roberta_neg': 0.006598184, 'roberta_neu': 0.06892865, 'roberta_pos': 0.9244731}, 1050: {'roberta_neg': 0.0039895335, 'roberta_neu': 0.009589987, 'roberta_pos': 0.9864205}, 1051: {'roberta_neg': 0.0032826832, 'roberta_neu': 0.0136420885, 'roberta_pos': 0.9830752}, 1052: {'roberta_neg': 0.0037934815, 'roberta_neu': 0.039691657, 'roberta_pos': 0.9565149}, 1053: {'roberta_neg': 0.011237107, 'roberta_neu': 0.04875103, 'roberta_pos': 0.9400119}, 1054: {'roberta_neg': 0.0015900698, 'roberta_neu': 0.012837835, 'roberta_pos': 0.9855721}, 1055: {'roberta_neg': 0.0028712025, 'roberta_neu': 0.02193593, 'roberta_pos': 0.97519284}, 1056: {'roberta_neg': 0.03784438, 'roberta_neu': 0.115393564, 'roberta_pos': 0.8467621}, 1057: {'roberta_neg': 0.005530469, 'roberta_neu': 0.03038174, 'roberta_pos': 0.9640878}, 1058: {'roberta_neg': 0.006265997, 'roberta_neu': 0.042556588, 'roberta_pos': 0.9511775}, 1059: {'roberta_neg': 0.0014790759, 'roberta_neu': 0.01175764, 'roberta_pos': 0.9867633}, 1060: {'roberta_neg': 0.0033661514, 'roberta_neu': 0.025473474, 'roberta_pos': 0.9711603}, 1061: {'roberta_neg': 0.001864793, 'roberta_neu': 0.011150093, 'roberta_pos': 0.98698515}, 1062: {'roberta_neg': 0.0067040604, 'roberta_neu': 0.029913813, 'roberta_pos': 0.96338207}, 1063: {'roberta_neg': 0.0027602937, 'roberta_neu': 0.018463904, 'roberta_pos': 0.9787758}, 1064: {'roberta_neg': 0.0017732194, 'roberta_neu': 0.015340645, 'roberta_pos': 0.98288614}, 1065: {'roberta_neg': 0.004804487, 'roberta_neu': 0.03202327, 'roberta_pos': 0.96317226}, 1066: {'roberta_neg': 0.0028711397, 'roberta_neu': 0.045578256, 'roberta_pos': 0.95155066}, 1067: {'roberta_neg': 0.008605732, 'roberta_neu': 0.059128713, 'roberta_pos': 0.9322655}, 1068: {'roberta_neg': 0.0059493687, 'roberta_neu': 0.042458817, 'roberta_pos': 0.9515918}, 1069: {'roberta_neg': 0.023023043, 'roberta_neu': 0.088659145, 'roberta_pos': 0.8883178}, 1070: {'roberta_neg': 0.0018291698, 'roberta_neu': 0.029340515, 'roberta_pos': 0.96883035}, 1071: {'roberta_neg': 0.0053003896, 'roberta_neu': 0.035132136, 'roberta_pos': 0.9595675}, 1072: {'roberta_neg': 0.0036777263, 'roberta_neu': 0.06300687, 'roberta_pos': 0.9333154}, 1073: {'roberta_neg': 0.0028070523, 'roberta_neu': 0.0429166, 'roberta_pos': 0.9542763}, 1074: {'roberta_neg': 0.0032244166, 'roberta_neu': 0.02721867, 'roberta_pos': 0.96955687}, 1075: {'roberta_neg': 0.003947511, 'roberta_neu': 0.09362302, 'roberta_pos': 0.90242946}, 1076: {'roberta_neg': 0.0018577114, 'roberta_neu': 0.008959917, 'roberta_pos': 0.9891824}, 1077: {'roberta_neg': 0.0014512188, 'roberta_neu': 0.012351106, 'roberta_pos': 0.98619765}, 1078: {'roberta_neg': 0.0053832275, 'roberta_neu': 0.024362363, 'roberta_pos': 0.9702544}, 1079: {'roberta_neg': 0.0027874042, 'roberta_neu': 0.012778839, 'roberta_pos': 0.98443377}, 1080: {'roberta_neg': 0.034382325, 'roberta_neu': 0.13627614, 'roberta_pos': 0.82934153}, 1081: {'roberta_neg': 0.0055479403, 'roberta_neu': 0.19520415, 'roberta_pos': 0.7992479}, 1082: {'roberta_neg': 0.002203702, 'roberta_neu': 0.022435844, 'roberta_pos': 0.97536045}, 1083: {'roberta_neg': 0.0021581068, 'roberta_neu': 0.021027172, 'roberta_pos': 0.9768147}, 1084: {'roberta_neg': 0.0019138075, 'roberta_neu': 0.008124228, 'roberta_pos': 0.989962}, 1085: {'roberta_neg': 0.01298707, 'roberta_neu': 0.056993607, 'roberta_pos': 0.9300193}, 1086: {'roberta_neg': 0.037242882, 'roberta_neu': 0.901243, 'roberta_pos': 0.06151415}, 1087: {'roberta_neg': 0.0012594667, 'roberta_neu': 0.01312809, 'roberta_pos': 0.9856125}, 1088: {'roberta_neg': 0.0781067, 'roberta_neu': 0.2262016, 'roberta_pos': 0.6956917}, 1089: {'roberta_neg': 0.10786512, 'roberta_neu': 0.52542114, 'roberta_pos': 0.36671376}, 1090: {'roberta_neg': 0.0057991166, 'roberta_neu': 0.05567844, 'roberta_pos': 0.9385225}, 1091: {'roberta_neg': 0.0021043322, 'roberta_neu': 0.013468931, 'roberta_pos': 0.9844267}, 1092: {'roberta_neg': 0.0017392065, 'roberta_neu': 0.01112685, 'roberta_pos': 0.9871339}, 1093: {'roberta_neg': 0.0077782017, 'roberta_neu': 0.058443937, 'roberta_pos': 0.9337778}, 1094: {'roberta_neg': 0.03688845, 'roberta_neu': 0.21867596, 'roberta_pos': 0.7444356}, 1095: {'roberta_neg': 0.009640758, 'roberta_neu': 0.11032652, 'roberta_pos': 0.8800327}, 1096: {'roberta_neg': 0.0025113616, 'roberta_neu': 0.052049626, 'roberta_pos': 0.945439}, 1097: {'roberta_neg': 0.0021095544, 'roberta_neu': 0.01840887, 'roberta_pos': 0.9794815}, 1098: {'roberta_neg': 0.0013180851, 'roberta_neu': 0.010460118, 'roberta_pos': 0.9882218}, 1099: {'roberta_neg': 0.0013554394, 'roberta_neu': 0.024289435, 'roberta_pos': 0.9743551}, 1100: {'roberta_neg': 0.0025408098, 'roberta_neu': 0.029064275, 'roberta_pos': 0.96839494}, 1101: {'roberta_neg': 0.0016157798, 'roberta_neu': 0.034825407, 'roberta_pos': 0.9635588}, 1102: {'roberta_neg': 0.0065082884, 'roberta_neu': 0.085708864, 'roberta_pos': 0.90778285}, 1103: {'roberta_neg': 0.0070414566, 'roberta_neu': 0.052426353, 'roberta_pos': 0.94053227}, 1104: {'roberta_neg': 0.0025561426, 'roberta_neu': 0.023753919, 'roberta_pos': 0.97369}, 1105: {'roberta_neg': 0.0030661053, 'roberta_neu': 0.024798326, 'roberta_pos': 0.97213554}, 1106: {'roberta_neg': 0.0020558892, 'roberta_neu': 0.010076298, 'roberta_pos': 0.98786783}, 1107: {'roberta_neg': 0.001740713, 'roberta_neu': 0.008255142, 'roberta_pos': 0.9900041}, 1108: {'roberta_neg': 0.010388279, 'roberta_neu': 0.03458117, 'roberta_pos': 0.9550305}, 1109: {'roberta_neg': 0.002225036, 'roberta_neu': 0.015924545, 'roberta_pos': 0.98185045}, 1110: {'roberta_neg': 0.0019143577, 'roberta_neu': 0.009394682, 'roberta_pos': 0.988691}, 1111: {'roberta_neg': 0.0041716537, 'roberta_neu': 0.029916236, 'roberta_pos': 0.96591216}, 1112: {'roberta_neg': 0.0016765114, 'roberta_neu': 0.021378884, 'roberta_pos': 0.97694457}, 1113: {'roberta_neg': 0.0031550303, 'roberta_neu': 0.021389099, 'roberta_pos': 0.9754558}, 1114: {'roberta_neg': 0.0025364903, 'roberta_neu': 0.043970402, 'roberta_pos': 0.95349306}, 1115: {'roberta_neg': 0.0016945589, 'roberta_neu': 0.015466546, 'roberta_pos': 0.9828389}, 1116: {'roberta_neg': 0.003911419, 'roberta_neu': 0.04325715, 'roberta_pos': 0.95283145}, 1117: {'roberta_neg': 0.0018451548, 'roberta_neu': 0.058832437, 'roberta_pos': 0.93932235}, 1118: {'roberta_neg': 0.07439162, 'roberta_neu': 0.35419685, 'roberta_pos': 0.57141155}, 1119: {'roberta_neg': 0.0014007277, 'roberta_neu': 0.015504304, 'roberta_pos': 0.983095}, 1120: {'roberta_neg': 0.004918168, 'roberta_neu': 0.03256524, 'roberta_pos': 0.96251655}, 1121: {'roberta_neg': 0.0020957373, 'roberta_neu': 0.022313291, 'roberta_pos': 0.97559094}, 1122: {'roberta_neg': 0.02114917, 'roberta_neu': 0.14644778, 'roberta_pos': 0.8324031}, 1123: {'roberta_neg': 0.0020777734, 'roberta_neu': 0.020466583, 'roberta_pos': 0.9774556}, 1124: {'roberta_neg': 0.035090573, 'roberta_neu': 0.24024834, 'roberta_pos': 0.72466105}, 1125: {'roberta_neg': 0.0039410936, 'roberta_neu': 0.046520602, 'roberta_pos': 0.94953835}, 1126: {'roberta_neg': 0.4729341, 'roberta_neu': 0.37352043, 'roberta_pos': 0.1535455}, 1127: {'roberta_neg': 0.003202157, 'roberta_neu': 0.039863054, 'roberta_pos': 0.9569348}, 1128: {'roberta_neg': 0.003519071, 'roberta_neu': 0.0114117665, 'roberta_pos': 0.9850692}, 1129: {'roberta_neg': 0.0071451007, 'roberta_neu': 0.38610113, 'roberta_pos': 0.6067538}, 1130: {'roberta_neg': 0.005204699, 'roberta_neu': 0.036894564, 'roberta_pos': 0.95790076}, 1131: {'roberta_neg': 0.21272562, 'roberta_neu': 0.47899458, 'roberta_pos': 0.30827984}, 1132: {'roberta_neg': 0.00555102, 'roberta_neu': 0.05040384, 'roberta_pos': 0.9440452}, 1133: {'roberta_neg': 0.0017308381, 'roberta_neu': 0.033468585, 'roberta_pos': 0.96480054}, 1134: {'roberta_neg': 0.02041569, 'roberta_neu': 0.06453884, 'roberta_pos': 0.9150455}, 1135: {'roberta_neg': 0.0031142521, 'roberta_neu': 0.021355577, 'roberta_pos': 0.97553015}, 1136: {'roberta_neg': 0.005558254, 'roberta_neu': 0.04157422, 'roberta_pos': 0.9528675}, 1137: {'roberta_neg': 0.0015912997, 'roberta_neu': 0.017037682, 'roberta_pos': 0.981371}, 1138: {'roberta_neg': 0.0028542306, 'roberta_neu': 0.016606733, 'roberta_pos': 0.9805391}, 1139: {'roberta_neg': 0.0017536096, 'roberta_neu': 0.015968094, 'roberta_pos': 0.98227835}, 1140: {'roberta_neg': 0.008686929, 'roberta_neu': 0.0502775, 'roberta_pos': 0.9410356}, 1141: {'roberta_neg': 0.0017113078, 'roberta_neu': 0.013076301, 'roberta_pos': 0.98521245}, 1142: {'roberta_neg': 0.023749748, 'roberta_neu': 0.057986364, 'roberta_pos': 0.9182639}, 1143: {'roberta_neg': 0.0016671403, 'roberta_neu': 0.017931689, 'roberta_pos': 0.9804011}, 1144: {'roberta_neg': 0.010116495, 'roberta_neu': 0.14798467, 'roberta_pos': 0.84189886}, 1145: {'roberta_neg': 0.0040418548, 'roberta_neu': 0.033530325, 'roberta_pos': 0.96242785}, 1146: {'roberta_neg': 0.00834578, 'roberta_neu': 0.034586195, 'roberta_pos': 0.95706797}, 1147: {'roberta_neg': 0.0041858205, 'roberta_neu': 0.04361044, 'roberta_pos': 0.9522037}, 1148: {'roberta_neg': 0.23950218, 'roberta_neu': 0.5281888, 'roberta_pos': 0.232309}, 1149: {'roberta_neg': 0.0052966005, 'roberta_neu': 0.037055057, 'roberta_pos': 0.95764834}, 1150: {'roberta_neg': 0.0086448025, 'roberta_neu': 0.09854061, 'roberta_pos': 0.8928146}, 1151: {'roberta_neg': 0.0011503544, 'roberta_neu': 0.025374947, 'roberta_pos': 0.97347474}, 1152: {'roberta_neg': 0.0017510402, 'roberta_neu': 0.006335274, 'roberta_pos': 0.9919137}, 1153: {'roberta_neg': 0.0065789265, 'roberta_neu': 0.05877454, 'roberta_pos': 0.93464655}, 1154: {'roberta_neg': 0.0029330896, 'roberta_neu': 0.03478737, 'roberta_pos': 0.9622795}, 1155: {'roberta_neg': 0.002590809, 'roberta_neu': 0.022613443, 'roberta_pos': 0.97479576}, 1156: {'roberta_neg': 0.6776155, 'roberta_neu': 0.2636091, 'roberta_pos': 0.058775347}, 1157: {'roberta_neg': 0.00362167, 'roberta_neu': 0.0469893, 'roberta_pos': 0.94938904}, 1158: {'roberta_neg': 0.0015102843, 'roberta_neu': 0.012372053, 'roberta_pos': 0.98611766}, 1159: {'roberta_neg': 0.0030175168, 'roberta_neu': 0.013319464, 'roberta_pos': 0.98366296}, 1160: {'roberta_neg': 0.0018221897, 'roberta_neu': 0.012052942, 'roberta_pos': 0.9861248}, 1161: {'roberta_neg': 0.23950218, 'roberta_neu': 0.5281888, 'roberta_pos': 0.232309}, 1162: {'roberta_neg': 0.003726388, 'roberta_neu': 0.038160563, 'roberta_pos': 0.958113}, 1163: {'roberta_neg': 0.0023324187, 'roberta_neu': 0.016751068, 'roberta_pos': 0.98091656}, 1164: {'roberta_neg': 0.002893194, 'roberta_neu': 0.018721227, 'roberta_pos': 0.9783855}, 1165: {'roberta_neg': 0.004265682, 'roberta_neu': 0.030126825, 'roberta_pos': 0.9656075}, 1166: {'roberta_neg': 0.0058325753, 'roberta_neu': 0.08833833, 'roberta_pos': 0.90582913}, 1167: {'roberta_neg': 0.0012826108, 'roberta_neu': 0.00909378, 'roberta_pos': 0.9896236}, 1168: {'roberta_neg': 0.013443221, 'roberta_neu': 0.12378223, 'roberta_pos': 0.8627745}, 1169: {'roberta_neg': 0.0017478324, 'roberta_neu': 0.018496307, 'roberta_pos': 0.9797559}, 1170: {'roberta_neg': 0.0028486126, 'roberta_neu': 0.012862805, 'roberta_pos': 0.9842886}, 1171: {'roberta_neg': 0.0052526817, 'roberta_neu': 0.03248307, 'roberta_pos': 0.96226424}, 1172: {'roberta_neg': 0.0016486384, 'roberta_neu': 0.018315878, 'roberta_pos': 0.9800355}, 1173: {'roberta_neg': 0.0017939325, 'roberta_neu': 0.023085475, 'roberta_pos': 0.97512054}, 1174: {'roberta_neg': 0.0017553376, 'roberta_neu': 0.009372096, 'roberta_pos': 0.9888726}, 1175: {'roberta_neg': 0.003578157, 'roberta_neu': 0.023996793, 'roberta_pos': 0.97242504}, 1176: {'roberta_neg': 0.0016466614, 'roberta_neu': 0.010773672, 'roberta_pos': 0.98757964}, 1177: {'roberta_neg': 0.014734768, 'roberta_neu': 0.4672736, 'roberta_pos': 0.5179916}, 1178: {'roberta_neg': 0.0012809482, 'roberta_neu': 0.008864297, 'roberta_pos': 0.98985475}, 1179: {'roberta_neg': 0.0044318885, 'roberta_neu': 0.08384212, 'roberta_pos': 0.91172606}, 1180: {'roberta_neg': 0.00229465, 'roberta_neu': 0.0087699955, 'roberta_pos': 0.9889354}, 1181: {'roberta_neg': 0.0015995381, 'roberta_neu': 0.021723371, 'roberta_pos': 0.97667706}, 1182: {'roberta_neg': 0.0037995353, 'roberta_neu': 0.07042598, 'roberta_pos': 0.92577446}, 1183: {'roberta_neg': 0.0028529137, 'roberta_neu': 0.011940012, 'roberta_pos': 0.9852071}, 1184: {'roberta_neg': 0.0045181056, 'roberta_neu': 0.06971271, 'roberta_pos': 0.92576915}, 1185: {'roberta_neg': 0.0016598245, 'roberta_neu': 0.008935622, 'roberta_pos': 0.98940456}, 1186: {'roberta_neg': 0.083572954, 'roberta_neu': 0.32577938, 'roberta_pos': 0.5906477}, 1187: {'roberta_neg': 0.003111797, 'roberta_neu': 0.028781736, 'roberta_pos': 0.9681065}, 1188: {'roberta_neg': 0.002095842, 'roberta_neu': 0.0139943035, 'roberta_pos': 0.9839099}, 1189: {'roberta_neg': 0.20159476, 'roberta_neu': 0.3346325, 'roberta_pos': 0.46377277}, 1190: {'roberta_neg': 0.0020533986, 'roberta_neu': 0.007762811, 'roberta_pos': 0.9901838}, 1191: {'roberta_neg': 0.0019869308, 'roberta_neu': 0.013426865, 'roberta_pos': 0.9845861}, 1192: {'roberta_neg': 0.010660496, 'roberta_neu': 0.04545358, 'roberta_pos': 0.9438859}, 1193: {'roberta_neg': 0.0027881782, 'roberta_neu': 0.049666457, 'roberta_pos': 0.9475454}, 1194: {'roberta_neg': 0.0038665035, 'roberta_neu': 0.053650517, 'roberta_pos': 0.94248295}, 1195: {'roberta_neg': 0.002169951, 'roberta_neu': 0.02574458, 'roberta_pos': 0.97208554}, 1196: {'roberta_neg': 0.0052009234, 'roberta_neu': 0.02539844, 'roberta_pos': 0.9694007}, 1197: {'roberta_neg': 0.063558646, 'roberta_neu': 0.5444029, 'roberta_pos': 0.39203846}, 1198: {'roberta_neg': 0.0017038438, 'roberta_neu': 0.0070426036, 'roberta_pos': 0.99125355}, 1199: {'roberta_neg': 0.001525279, 'roberta_neu': 0.008404202, 'roberta_pos': 0.9900705}, 1200: {'roberta_neg': 0.005192569, 'roberta_neu': 0.07165187, 'roberta_pos': 0.9231556}, 1201: {'roberta_neg': 0.0029743272, 'roberta_neu': 0.016600098, 'roberta_pos': 0.98042554}, 1202: {'roberta_neg': 0.002336185, 'roberta_neu': 0.015219944, 'roberta_pos': 0.98244387}, 1203: {'roberta_neg': 0.0015921214, 'roberta_neu': 0.0089107435, 'roberta_pos': 0.98949707}, 1204: {'roberta_neg': 0.2566337, 'roberta_neu': 0.63406974, 'roberta_pos': 0.10929657}, 1205: {'roberta_neg': 0.0018943294, 'roberta_neu': 0.013751927, 'roberta_pos': 0.98435366}, 1206: {'roberta_neg': 0.0022756788, 'roberta_neu': 0.033689868, 'roberta_pos': 0.9640345}, 1207: {'roberta_neg': 0.007971604, 'roberta_neu': 0.01787529, 'roberta_pos': 0.97415316}, 1208: {'roberta_neg': 0.002420179, 'roberta_neu': 0.012103078, 'roberta_pos': 0.9854768}, 1209: {'roberta_neg': 0.002941649, 'roberta_neu': 0.03152099, 'roberta_pos': 0.96553737}, 1210: {'roberta_neg': 0.0021977134, 'roberta_neu': 0.012634605, 'roberta_pos': 0.9851677}, 1211: {'roberta_neg': 0.0069611897, 'roberta_neu': 0.041331, 'roberta_pos': 0.95170784}, 1212: {'roberta_neg': 0.014368356, 'roberta_neu': 0.14199357, 'roberta_pos': 0.84363806}, 1213: {'roberta_neg': 0.026857583, 'roberta_neu': 0.10830855, 'roberta_pos': 0.86483383}, 1214: {'roberta_neg': 0.001777495, 'roberta_neu': 0.037690237, 'roberta_pos': 0.9605323}, 1215: {'roberta_neg': 0.0016307975, 'roberta_neu': 0.012372284, 'roberta_pos': 0.9859969}, 1216: {'roberta_neg': 0.022245334, 'roberta_neu': 0.12573834, 'roberta_pos': 0.8520163}, 1217: {'roberta_neg': 0.001471253, 'roberta_neu': 0.013975629, 'roberta_pos': 0.9845531}, 1218: {'roberta_neg': 0.0015371875, 'roberta_neu': 0.03766779, 'roberta_pos': 0.960795}, 1219: {'roberta_neg': 0.0017016206, 'roberta_neu': 0.019713491, 'roberta_pos': 0.97858495}, 1220: {'roberta_neg': 0.23950218, 'roberta_neu': 0.5281888, 'roberta_pos': 0.232309}, 1221: {'roberta_neg': 0.0013745928, 'roberta_neu': 0.009998193, 'roberta_pos': 0.98862725}, 1222: {'roberta_neg': 0.0016605406, 'roberta_neu': 0.01210522, 'roberta_pos': 0.9862343}, 1223: {'roberta_neg': 0.011542526, 'roberta_neu': 0.10348616, 'roberta_pos': 0.8849713}, 1224: {'roberta_neg': 0.0024098181, 'roberta_neu': 0.035960138, 'roberta_pos': 0.96163}, 1225: {'roberta_neg': 0.0055963183, 'roberta_neu': 0.026952177, 'roberta_pos': 0.9674516}, 1226: {'roberta_neg': 0.0051641604, 'roberta_neu': 0.08158297, 'roberta_pos': 0.91325283}, 1227: {'roberta_neg': 0.003742441, 'roberta_neu': 0.01385616, 'roberta_pos': 0.98240143}, 1228: {'roberta_neg': 0.0045001428, 'roberta_neu': 0.0133259315, 'roberta_pos': 0.9821739}, 1229: {'roberta_neg': 0.0015944623, 'roberta_neu': 0.019163474, 'roberta_pos': 0.9792421}, 1230: {'roberta_neg': 0.0018165559, 'roberta_neu': 0.0116663175, 'roberta_pos': 0.9865172}, 1231: {'roberta_neg': 0.001983204, 'roberta_neu': 0.024417872, 'roberta_pos': 0.9735989}, 1232: {'roberta_neg': 0.005052105, 'roberta_neu': 0.06356487, 'roberta_pos': 0.931383}, 1233: {'roberta_neg': 0.015511824, 'roberta_neu': 0.17616555, 'roberta_pos': 0.8083226}, 1234: {'roberta_neg': 0.23950218, 'roberta_neu': 0.5281888, 'roberta_pos': 0.232309}, 1235: {'roberta_neg': 0.012050689, 'roberta_neu': 0.09729416, 'roberta_pos': 0.89065516}, 1236: {'roberta_neg': 0.0054705674, 'roberta_neu': 0.074478015, 'roberta_pos': 0.9200514}, 1237: {'roberta_neg': 0.0025013732, 'roberta_neu': 0.020136338, 'roberta_pos': 0.97736233}, 1238: {'roberta_neg': 0.0032329173, 'roberta_neu': 0.007208439, 'roberta_pos': 0.9895586}, 1239: {'roberta_neg': 0.009359089, 'roberta_neu': 0.1196947, 'roberta_pos': 0.87094617}, 1240: {'roberta_neg': 0.0020954455, 'roberta_neu': 0.053947095, 'roberta_pos': 0.94395745}, 1241: {'roberta_neg': 0.23950218, 'roberta_neu': 0.5281888, 'roberta_pos': 0.232309}, 1242: {'roberta_neg': 0.082963996, 'roberta_neu': 0.24585928, 'roberta_pos': 0.6711767}, 1243: {'roberta_neg': 0.0020099147, 'roberta_neu': 0.03319872, 'roberta_pos': 0.96479136}, 1244: {'roberta_neg': 0.0015939595, 'roberta_neu': 0.022500373, 'roberta_pos': 0.97590566}, 1245: {'roberta_neg': 0.019838111, 'roberta_neu': 0.045585733, 'roberta_pos': 0.93457615}, 1246: {'roberta_neg': 0.0050085206, 'roberta_neu': 0.025120873, 'roberta_pos': 0.9698706}, 1247: {'roberta_neg': 0.002721861, 'roberta_neu': 0.015735688, 'roberta_pos': 0.9815424}, 1248: {'roberta_neg': 0.0016862786, 'roberta_neu': 0.018851044, 'roberta_pos': 0.9794627}, 1249: {'roberta_neg': 0.005718963, 'roberta_neu': 0.05442678, 'roberta_pos': 0.93985426}, 1250: {'roberta_neg': 0.0018103215, 'roberta_neu': 0.017565835, 'roberta_pos': 0.9806238}, 1251: {'roberta_neg': 0.004617317, 'roberta_neu': 0.05994468, 'roberta_pos': 0.93543804}, 1252: {'roberta_neg': 0.02352776, 'roberta_neu': 0.06718509, 'roberta_pos': 0.90928715}, 1253: {'roberta_neg': 0.0021470343, 'roberta_neu': 0.046461534, 'roberta_pos': 0.95139146}, 1254: {'roberta_neg': 0.0018719662, 'roberta_neu': 0.02952627, 'roberta_pos': 0.9686017}, 1255: {'roberta_neg': 0.19192928, 'roberta_neu': 0.33703828, 'roberta_pos': 0.47103244}, 1256: {'roberta_neg': 0.1251703, 'roberta_neu': 0.4065525, 'roberta_pos': 0.46827725}, 1257: {'roberta_neg': 0.23950218, 'roberta_neu': 0.5281888, 'roberta_pos': 0.232309}, 1258: {'roberta_neg': 0.011347381, 'roberta_neu': 0.13163546, 'roberta_pos': 0.8570172}, 1259: {'roberta_neg': 0.0017495689, 'roberta_neu': 0.03434838, 'roberta_pos': 0.96390206}, 1260: {'roberta_neg': 0.0011813943, 'roberta_neu': 0.0132742785, 'roberta_pos': 0.98554426}, 1261: {'roberta_neg': 0.0073541286, 'roberta_neu': 0.07109885, 'roberta_pos': 0.92154706}, 1262: {'roberta_neg': 0.0014918805, 'roberta_neu': 0.012613334, 'roberta_pos': 0.9858948}, 1263: {'roberta_neg': 0.23950218, 'roberta_neu': 0.5281888, 'roberta_pos': 0.232309}, 1264: {'roberta_neg': 0.008108451, 'roberta_neu': 0.14359266, 'roberta_pos': 0.8482989}, 1265: {'roberta_neg': 0.008197496, 'roberta_neu': 0.08154224, 'roberta_pos': 0.91026026}, 1266: {'roberta_neg': 0.0015517187, 'roberta_neu': 0.024171112, 'roberta_pos': 0.97427714}, 1267: {'roberta_neg': 0.0016606901, 'roberta_neu': 0.01358543, 'roberta_pos': 0.98475385}, 1268: {'roberta_neg': 0.011437535, 'roberta_neu': 0.15694626, 'roberta_pos': 0.83161616}, 1269: {'roberta_neg': 0.0051324037, 'roberta_neu': 0.02242733, 'roberta_pos': 0.97244024}, 1270: {'roberta_neg': 0.020611953, 'roberta_neu': 0.102016, 'roberta_pos': 0.8773721}, 1271: {'roberta_neg': 0.0019060159, 'roberta_neu': 0.008103283, 'roberta_pos': 0.9899907}, 1272: {'roberta_neg': 0.0023598976, 'roberta_neu': 0.014446851, 'roberta_pos': 0.9831933}, 1273: {'roberta_neg': 0.002013306, 'roberta_neu': 0.009878695, 'roberta_pos': 0.988108}, 1274: {'roberta_neg': 0.009496229, 'roberta_neu': 0.24004751, 'roberta_pos': 0.7504563}, 1275: {'roberta_neg': 0.0046856008, 'roberta_neu': 0.0442135, 'roberta_pos': 0.9511009}, 1276: {'roberta_neg': 0.006151714, 'roberta_neu': 0.053435102, 'roberta_pos': 0.9404132}, 1277: {'roberta_neg': 0.0016546074, 'roberta_neu': 0.031554792, 'roberta_pos': 0.9667906}, 1278: {'roberta_neg': 0.14107068, 'roberta_neu': 0.34628588, 'roberta_pos': 0.51264346}, 1279: {'roberta_neg': 0.0015449737, 'roberta_neu': 0.011089561, 'roberta_pos': 0.9873655}, 1280: {'roberta_neg': 0.015857782, 'roberta_neu': 0.14252342, 'roberta_pos': 0.8416188}, 1281: {'roberta_neg': 0.008024253, 'roberta_neu': 0.029960379, 'roberta_pos': 0.9620154}, 1282: {'roberta_neg': 0.0020246706, 'roberta_neu': 0.033078063, 'roberta_pos': 0.9648972}, 1283: {'roberta_neg': 0.0031702663, 'roberta_neu': 0.04694399, 'roberta_pos': 0.9498857}, 1284: {'roberta_neg': 0.0013757906, 'roberta_neu': 0.012939861, 'roberta_pos': 0.9856843}, 1285: {'roberta_neg': 0.005368069, 'roberta_neu': 0.052864406, 'roberta_pos': 0.9417676}, 1286: {'roberta_neg': 0.0015041081, 'roberta_neu': 0.019748876, 'roberta_pos': 0.97874707}, 1287: {'roberta_neg': 0.0015154884, 'roberta_neu': 0.008607638, 'roberta_pos': 0.9898769}, 1288: {'roberta_neg': 0.001353106, 'roberta_neu': 0.020237308, 'roberta_pos': 0.9784096}, 1289: {'roberta_neg': 0.04532579, 'roberta_neu': 0.22548087, 'roberta_pos': 0.72919333}, 1290: {'roberta_neg': 0.0028580634, 'roberta_neu': 0.012779017, 'roberta_pos': 0.9843629}, 1291: {'roberta_neg': 0.0028468377, 'roberta_neu': 0.03805128, 'roberta_pos': 0.95910186}, 1292: {'roberta_neg': 0.0071833925, 'roberta_neu': 0.09152068, 'roberta_pos': 0.9012959}, 1293: {'roberta_neg': 0.0038856047, 'roberta_neu': 0.028913995, 'roberta_pos': 0.96720034}, 1294: {'roberta_neg': 0.748139, 'roberta_neu': 0.20861402, 'roberta_pos': 0.043247007}, 1295: {'roberta_neg': 0.0015550415, 'roberta_neu': 0.010028563, 'roberta_pos': 0.98841643}, 1296: {'roberta_neg': 0.13965201, 'roberta_neu': 0.35562673, 'roberta_pos': 0.5047212}, 1297: {'roberta_neg': 0.03998029, 'roberta_neu': 0.21518798, 'roberta_pos': 0.74483174}, 1298: {'roberta_neg': 0.00824478, 'roberta_neu': 0.20536247, 'roberta_pos': 0.78639275}, 1299: {'roberta_neg': 0.009517095, 'roberta_neu': 0.08340867, 'roberta_pos': 0.9070742}, 1300: {'roberta_neg': 0.0035017633, 'roberta_neu': 0.026801936, 'roberta_pos': 0.9696963}, 1301: {'roberta_neg': 0.0013713429, 'roberta_neu': 0.0272565, 'roberta_pos': 0.9713722}, 1302: {'roberta_neg': 0.0033227932, 'roberta_neu': 0.046826072, 'roberta_pos': 0.9498511}, 1303: {'roberta_neg': 0.010802953, 'roberta_neu': 0.0677477, 'roberta_pos': 0.92144936}, 1304: {'roberta_neg': 0.0029909415, 'roberta_neu': 0.017614761, 'roberta_pos': 0.97939426}, 1305: {'roberta_neg': 0.002831047, 'roberta_neu': 0.009269948, 'roberta_pos': 0.987899}, 1306: {'roberta_neg': 0.015296156, 'roberta_neu': 0.089172535, 'roberta_pos': 0.8955313}, 1307: {'roberta_neg': 0.02893715, 'roberta_neu': 0.09263018, 'roberta_pos': 0.8784327}, 1308: {'roberta_neg': 0.0014792319, 'roberta_neu': 0.0067912126, 'roberta_pos': 0.99172956}, 1309: {'roberta_neg': 0.0068505895, 'roberta_neu': 0.02964412, 'roberta_pos': 0.9635053}, 1310: {'roberta_neg': 0.23950218, 'roberta_neu': 0.5281888, 'roberta_pos': 0.232309}, 1311: {'roberta_neg': 0.0021054333, 'roberta_neu': 0.01666219, 'roberta_pos': 0.9812324}, 1312: {'roberta_neg': 0.002196059, 'roberta_neu': 0.02404703, 'roberta_pos': 0.9737569}, 1313: {'roberta_neg': 0.0028943657, 'roberta_neu': 0.015707817, 'roberta_pos': 0.98139787}, 1314: {'roberta_neg': 0.0030423445, 'roberta_neu': 0.03618422, 'roberta_pos': 0.9607734}, 1315: {'roberta_neg': 0.0025169302, 'roberta_neu': 0.025824385, 'roberta_pos': 0.97165865}, 1316: {'roberta_neg': 0.00288866, 'roberta_neu': 0.015054529, 'roberta_pos': 0.98205686}, 1317: {'roberta_neg': 0.0020924255, 'roberta_neu': 0.010367875, 'roberta_pos': 0.98753977}, 1318: {'roberta_neg': 0.0018097714, 'roberta_neu': 0.005485847, 'roberta_pos': 0.9927044}, 1319: {'roberta_neg': 0.0031567523, 'roberta_neu': 0.0104874745, 'roberta_pos': 0.98635584}, 1320: {'roberta_neg': 0.0019359988, 'roberta_neu': 0.024219051, 'roberta_pos': 0.97384495}, 1321: {'roberta_neg': 0.0027642823, 'roberta_neu': 0.016822167, 'roberta_pos': 0.9804136}, 1322: {'roberta_neg': 0.004724179, 'roberta_neu': 0.06056604, 'roberta_pos': 0.9347098}, 1323: {'roberta_neg': 0.0032370647, 'roberta_neu': 0.03739204, 'roberta_pos': 0.9593709}, 1324: {'roberta_neg': 0.0016462471, 'roberta_neu': 0.019583426, 'roberta_pos': 0.9787703}, 1325: {'roberta_neg': 0.0017792729, 'roberta_neu': 0.028843276, 'roberta_pos': 0.9693775}, 1326: {'roberta_neg': 0.0017443735, 'roberta_neu': 0.020044109, 'roberta_pos': 0.9782115}, 1327: {'roberta_neg': 0.0021333748, 'roberta_neu': 0.023688938, 'roberta_pos': 0.97417766}, 1328: {'roberta_neg': 0.006809479, 'roberta_neu': 0.117309675, 'roberta_pos': 0.8758809}, 1329: {'roberta_neg': 0.0014601349, 'roberta_neu': 0.013654352, 'roberta_pos': 0.9848856}, 1330: {'roberta_neg': 0.0033746145, 'roberta_neu': 0.013382625, 'roberta_pos': 0.9832427}, 1331: {'roberta_neg': 0.0144067565, 'roberta_neu': 0.098035485, 'roberta_pos': 0.88755774}, 1332: {'roberta_neg': 0.001641156, 'roberta_neu': 0.010685558, 'roberta_pos': 0.9876732}, 1333: {'roberta_neg': 0.0021428976, 'roberta_neu': 0.014448932, 'roberta_pos': 0.98340815}, 1334: {'roberta_neg': 0.0019850535, 'roberta_neu': 0.04108355, 'roberta_pos': 0.9569314}, 1335: {'roberta_neg': 0.022694645, 'roberta_neu': 0.16398765, 'roberta_pos': 0.8133177}, 1336: {'roberta_neg': 0.009986756, 'roberta_neu': 0.13718927, 'roberta_pos': 0.852824}, 1337: {'roberta_neg': 0.0019523888, 'roberta_neu': 0.0072128396, 'roberta_pos': 0.9908347}, 1338: {'roberta_neg': 0.006863068, 'roberta_neu': 0.18687095, 'roberta_pos': 0.80626595}, 1339: {'roberta_neg': 0.0059556896, 'roberta_neu': 0.064197816, 'roberta_pos': 0.92984647}, 1340: {'roberta_neg': 0.016946366, 'roberta_neu': 0.5257268, 'roberta_pos': 0.45732683}, 1341: {'roberta_neg': 0.0024703436, 'roberta_neu': 0.034654852, 'roberta_pos': 0.9628748}, 1342: {'roberta_neg': 0.0020743723, 'roberta_neu': 0.01567799, 'roberta_pos': 0.98224765}, 1343: {'roberta_neg': 0.0017381207, 'roberta_neu': 0.013273211, 'roberta_pos': 0.9849887}, 1344: {'roberta_neg': 0.0016715359, 'roberta_neu': 0.005786761, 'roberta_pos': 0.9925417}, 1345: {'roberta_neg': 0.0030607479, 'roberta_neu': 0.03132044, 'roberta_pos': 0.96561885}, 1346: {'roberta_neg': 0.003052697, 'roberta_neu': 0.007361924, 'roberta_pos': 0.98958534}, 1347: {'roberta_neg': 0.0018687317, 'roberta_neu': 0.014583394, 'roberta_pos': 0.98354787}, 1348: {'roberta_neg': 0.0016123214, 'roberta_neu': 0.019210964, 'roberta_pos': 0.9791767}, 1349: {'roberta_neg': 0.0029369828, 'roberta_neu': 0.05364675, 'roberta_pos': 0.94341624}, 1350: {'roberta_neg': 0.0046777194, 'roberta_neu': 0.018792406, 'roberta_pos': 0.97652984}, 1351: {'roberta_neg': 0.0031862536, 'roberta_neu': 0.017263625, 'roberta_pos': 0.9795502}, 1352: {'roberta_neg': 0.0023239085, 'roberta_neu': 0.014862303, 'roberta_pos': 0.98281384}, 1353: {'roberta_neg': 0.0023081845, 'roberta_neu': 0.018486064, 'roberta_pos': 0.9792058}, 1354: {'roberta_neg': 0.0036864064, 'roberta_neu': 0.026119933, 'roberta_pos': 0.9701937}, 1355: {'roberta_neg': 0.023834314, 'roberta_neu': 0.1548141, 'roberta_pos': 0.82135165}, 1356: {'roberta_neg': 0.0030109114, 'roberta_neu': 0.02100605, 'roberta_pos': 0.975983}, 1357: {'roberta_neg': 0.0022619811, 'roberta_neu': 0.014826725, 'roberta_pos': 0.9829113}, 1358: {'roberta_neg': 0.0016722506, 'roberta_neu': 0.01960422, 'roberta_pos': 0.9787235}, 1359: {'roberta_neg': 0.0013866655, 'roberta_neu': 0.013768269, 'roberta_pos': 0.9848451}, 1360: {'roberta_neg': 0.23950218, 'roberta_neu': 0.5281888, 'roberta_pos': 0.232309}, 1361: {'roberta_neg': 0.002519984, 'roberta_neu': 0.032342892, 'roberta_pos': 0.9651371}, 1362: {'roberta_neg': 0.0020080188, 'roberta_neu': 0.019047074, 'roberta_pos': 0.9789449}, 1363: {'roberta_neg': 0.0026123242, 'roberta_neu': 0.092328824, 'roberta_pos': 0.90505886}, 1364: {'roberta_neg': 0.028542489, 'roberta_neu': 0.17995006, 'roberta_pos': 0.7915074}, 1365: {'roberta_neg': 0.0016635134, 'roberta_neu': 0.0075564184, 'roberta_pos': 0.99078006}, 1366: {'roberta_neg': 0.0015432487, 'roberta_neu': 0.009929008, 'roberta_pos': 0.9885278}, 1367: {'roberta_neg': 0.0019014812, 'roberta_neu': 0.020588629, 'roberta_pos': 0.9775099}, 1368: {'roberta_neg': 0.002833667, 'roberta_neu': 0.026734727, 'roberta_pos': 0.9704316}, 1369: {'roberta_neg': 0.0015702196, 'roberta_neu': 0.009266567, 'roberta_pos': 0.9891633}, 1370: {'roberta_neg': 0.0016547927, 'roberta_neu': 0.014458868, 'roberta_pos': 0.98388636}, 1371: {'roberta_neg': 0.0017059153, 'roberta_neu': 0.012126465, 'roberta_pos': 0.9861676}, 1372: {'roberta_neg': 0.0056211054, 'roberta_neu': 0.01983814, 'roberta_pos': 0.97454077}, 1373: {'roberta_neg': 0.00331177, 'roberta_neu': 0.024081903, 'roberta_pos': 0.9726063}, 1374: {'roberta_neg': 0.028533397, 'roberta_neu': 0.20395122, 'roberta_pos': 0.7675154}, 1375: {'roberta_neg': 0.0015970496, 'roberta_neu': 0.014020242, 'roberta_pos': 0.9843827}, 1376: {'roberta_neg': 0.010613403, 'roberta_neu': 0.057144083, 'roberta_pos': 0.9322425}, 1377: {'roberta_neg': 0.002277852, 'roberta_neu': 0.018111948, 'roberta_pos': 0.9796102}, 1378: {'roberta_neg': 0.004933668, 'roberta_neu': 0.035490513, 'roberta_pos': 0.95957583}, 1379: {'roberta_neg': 0.0015143416, 'roberta_neu': 0.02034606, 'roberta_pos': 0.9781396}, 1380: {'roberta_neg': 0.0021997276, 'roberta_neu': 0.014227039, 'roberta_pos': 0.98357326}, 1381: {'roberta_neg': 0.0013265049, 'roberta_neu': 0.010693673, 'roberta_pos': 0.9879799}, 1382: {'roberta_neg': 0.0025603988, 'roberta_neu': 0.04891086, 'roberta_pos': 0.94852877}, 1383: {'roberta_neg': 0.021174163, 'roberta_neu': 0.34970975, 'roberta_pos': 0.6291161}, 1384: {'roberta_neg': 0.0019921195, 'roberta_neu': 0.014335164, 'roberta_pos': 0.9836727}, 1385: {'roberta_neg': 0.00213477, 'roberta_neu': 0.0097309165, 'roberta_pos': 0.9881343}, 1386: {'roberta_neg': 0.013157607, 'roberta_neu': 0.06099105, 'roberta_pos': 0.9258514}, 1387: {'roberta_neg': 0.0031652849, 'roberta_neu': 0.019398639, 'roberta_pos': 0.9774361}, 1388: {'roberta_neg': 0.0021773383, 'roberta_neu': 0.011266476, 'roberta_pos': 0.9865562}, 1389: {'roberta_neg': 0.00181136, 'roberta_neu': 0.016162746, 'roberta_pos': 0.9820259}, 1390: {'roberta_neg': 0.0015603398, 'roberta_neu': 0.0061559896, 'roberta_pos': 0.99228364}, 1391: {'roberta_neg': 0.0017738221, 'roberta_neu': 0.0244629, 'roberta_pos': 0.9737632}, 1392: {'roberta_neg': 0.0015809156, 'roberta_neu': 0.009887675, 'roberta_pos': 0.98853135}, 1393: {'roberta_neg': 0.0019865006, 'roberta_neu': 0.01777925, 'roberta_pos': 0.9802342}, 1394: {'roberta_neg': 0.011130312, 'roberta_neu': 0.077913694, 'roberta_pos': 0.91095597}, 1395: {'roberta_neg': 0.001476388, 'roberta_neu': 0.0097427955, 'roberta_pos': 0.98878086}, 1396: {'roberta_neg': 0.0020632027, 'roberta_neu': 0.011325895, 'roberta_pos': 0.9866109}, 1397: {'roberta_neg': 0.002983137, 'roberta_neu': 0.1381703, 'roberta_pos': 0.8588466}, 1398: {'roberta_neg': 0.001358958, 'roberta_neu': 0.015451538, 'roberta_pos': 0.98318946}, 1399: {'roberta_neg': 0.031303413, 'roberta_neu': 0.504739, 'roberta_pos': 0.4639576}, 1400: {'roberta_neg': 0.0066229934, 'roberta_neu': 0.05099398, 'roberta_pos': 0.942383}, 1401: {'roberta_neg': 0.0016630723, 'roberta_neu': 0.01067621, 'roberta_pos': 0.98766065}, 1402: {'roberta_neg': 0.009221265, 'roberta_neu': 0.06940942, 'roberta_pos': 0.9213693}, 1403: {'roberta_neg': 0.05595257, 'roberta_neu': 0.18702573, 'roberta_pos': 0.75702167}, 1404: {'roberta_neg': 0.0065349205, 'roberta_neu': 0.13288587, 'roberta_pos': 0.86057925}, 1405: {'roberta_neg': 0.0014571132, 'roberta_neu': 0.016118724, 'roberta_pos': 0.9824242}, 1406: {'roberta_neg': 0.0021845403, 'roberta_neu': 0.03514951, 'roberta_pos': 0.962666}, 1407: {'roberta_neg': 0.0015506546, 'roberta_neu': 0.010348455, 'roberta_pos': 0.9881009}, 1408: {'roberta_neg': 0.0018347327, 'roberta_neu': 0.010472298, 'roberta_pos': 0.987693}, 1409: {'roberta_neg': 0.004029093, 'roberta_neu': 0.048431493, 'roberta_pos': 0.9475394}, 1410: {'roberta_neg': 0.008104494, 'roberta_neu': 0.08740559, 'roberta_pos': 0.9044899}, 1411: {'roberta_neg': 0.0012268503, 'roberta_neu': 0.0074512013, 'roberta_pos': 0.991322}, 1412: {'roberta_neg': 0.047912493, 'roberta_neu': 0.3620657, 'roberta_pos': 0.5900218}, 1413: {'roberta_neg': 0.001990186, 'roberta_neu': 0.009587561, 'roberta_pos': 0.9884222}, 1414: {'roberta_neg': 0.0015888781, 'roberta_neu': 0.012909157, 'roberta_pos': 0.9855019}, 1415: {'roberta_neg': 0.002001732, 'roberta_neu': 0.026511582, 'roberta_pos': 0.9714867}, 1416: {'roberta_neg': 0.0030332927, 'roberta_neu': 0.03823409, 'roberta_pos': 0.95873255}, 1417: {'roberta_neg': 0.0022327362, 'roberta_neu': 0.047062166, 'roberta_pos': 0.95070505}, 1418: {'roberta_neg': 0.009303972, 'roberta_neu': 0.171052, 'roberta_pos': 0.8196441}, 1419: {'roberta_neg': 0.0016511874, 'roberta_neu': 0.010559932, 'roberta_pos': 0.98778886}, 1420: {'roberta_neg': 0.026211211, 'roberta_neu': 0.19709544, 'roberta_pos': 0.77669334}, 1421: {'roberta_neg': 0.001699811, 'roberta_neu': 0.011180819, 'roberta_pos': 0.98711944}, 1422: {'roberta_neg': 0.0034245464, 'roberta_neu': 0.04376257, 'roberta_pos': 0.95281285}, 1423: {'roberta_neg': 0.0025567685, 'roberta_neu': 0.03816699, 'roberta_pos': 0.95927626}, 1424: {'roberta_neg': 0.01559195, 'roberta_neu': 0.2715977, 'roberta_pos': 0.71281034}, 1425: {'roberta_neg': 0.0019518661, 'roberta_neu': 0.018705778, 'roberta_pos': 0.97934234}, 1426: {'roberta_neg': 0.0030551772, 'roberta_neu': 0.050601855, 'roberta_pos': 0.94634295}, 1427: {'roberta_neg': 0.0017807533, 'roberta_neu': 0.013799632, 'roberta_pos': 0.98441964}, 1428: {'roberta_neg': 0.0022308538, 'roberta_neu': 0.0063233604, 'roberta_pos': 0.9914458}, 1429: {'roberta_neg': 0.0045104097, 'roberta_neu': 0.13259435, 'roberta_pos': 0.8628953}, 1430: {'roberta_neg': 0.008851955, 'roberta_neu': 0.034787122, 'roberta_pos': 0.95636094}, 1431: {'roberta_neg': 0.34776163, 'roberta_neu': 0.4539631, 'roberta_pos': 0.19827522}, 1432: {'roberta_neg': 0.0015739911, 'roberta_neu': 0.01262658, 'roberta_pos': 0.98579943}, 1433: {'roberta_neg': 0.0020917861, 'roberta_neu': 0.010378488, 'roberta_pos': 0.98752975}, 1434: {'roberta_neg': 0.012115766, 'roberta_neu': 0.02591347, 'roberta_pos': 0.96197075}, 1435: {'roberta_neg': 0.22622032, 'roberta_neu': 0.6017962, 'roberta_pos': 0.17198354}, 1436: {'roberta_neg': 0.10232111, 'roberta_neu': 0.36260816, 'roberta_pos': 0.5350707}, 1437: {'roberta_neg': 0.0021477074, 'roberta_neu': 0.0143589685, 'roberta_pos': 0.9834933}, 1438: {'roberta_neg': 0.0018426746, 'roberta_neu': 0.0129224155, 'roberta_pos': 0.98523486}, 1439: {'roberta_neg': 0.0024180447, 'roberta_neu': 0.01821871, 'roberta_pos': 0.9793633}, 1440: {'roberta_neg': 0.005979437, 'roberta_neu': 0.038200293, 'roberta_pos': 0.9558203}, 1441: {'roberta_neg': 0.0013264362, 'roberta_neu': 0.012437807, 'roberta_pos': 0.9862358}, 1442: {'roberta_neg': 0.0015004867, 'roberta_neu': 0.008195626, 'roberta_pos': 0.99030393}, 1443: {'roberta_neg': 0.0017707949, 'roberta_neu': 0.02272035, 'roberta_pos': 0.9755088}, 1444: {'roberta_neg': 0.011712492, 'roberta_neu': 0.11867545, 'roberta_pos': 0.86961204}, 1445: {'roberta_neg': 0.0021400207, 'roberta_neu': 0.016564675, 'roberta_pos': 0.98129535}, 1446: {'roberta_neg': 0.008151691, 'roberta_neu': 0.058948617, 'roberta_pos': 0.9328997}, 1447: {'roberta_neg': 0.03684879, 'roberta_neu': 0.1560035, 'roberta_pos': 0.8071476}, 1448: {'roberta_neg': 0.001376168, 'roberta_neu': 0.012239385, 'roberta_pos': 0.98638445}, 1449: {'roberta_neg': 0.0043231477, 'roberta_neu': 0.042694405, 'roberta_pos': 0.9529824}, 1450: {'roberta_neg': 0.0026656578, 'roberta_neu': 0.040094446, 'roberta_pos': 0.95723987}, 1451: {'roberta_neg': 0.0019440923, 'roberta_neu': 0.011051943, 'roberta_pos': 0.987004}, 1452: {'roberta_neg': 0.0013125656, 'roberta_neu': 0.019849136, 'roberta_pos': 0.9788383}, 1453: {'roberta_neg': 0.00232575, 'roberta_neu': 0.01864209, 'roberta_pos': 0.97903216}, 1454: {'roberta_neg': 0.02708215, 'roberta_neu': 0.104762584, 'roberta_pos': 0.8681553}, 1455: {'roberta_neg': 0.0014605299, 'roberta_neu': 0.011027922, 'roberta_pos': 0.9875115}, 1456: {'roberta_neg': 0.0020048502, 'roberta_neu': 0.02950111, 'roberta_pos': 0.968494}, 1457: {'roberta_neg': 0.94407564, 'roberta_neu': 0.051401567, 'roberta_pos': 0.0045227506}, 1458: {'roberta_neg': 0.0056203036, 'roberta_neu': 0.123533405, 'roberta_pos': 0.8708463}, 1459: {'roberta_neg': 0.0077151163, 'roberta_neu': 0.0776392, 'roberta_pos': 0.9146457}, 1460: {'roberta_neg': 0.24528694, 'roberta_neu': 0.51357347, 'roberta_pos': 0.24113964}, 1461: {'roberta_neg': 0.002053685, 'roberta_neu': 0.015202736, 'roberta_pos': 0.9827436}, 1462: {'roberta_neg': 0.0018831436, 'roberta_neu': 0.024471648, 'roberta_pos': 0.9736452}, 1463: {'roberta_neg': 0.0016734996, 'roberta_neu': 0.025015606, 'roberta_pos': 0.9733108}, 1464: {'roberta_neg': 0.00133554, 'roberta_neu': 0.016366804, 'roberta_pos': 0.98229766}, 1465: {'roberta_neg': 0.0024927477, 'roberta_neu': 0.05313998, 'roberta_pos': 0.9443673}, 1466: {'roberta_neg': 0.009975344, 'roberta_neu': 0.21843591, 'roberta_pos': 0.77158874}, 1467: {'roberta_neg': 0.7040394, 'roberta_neu': 0.27939385, 'roberta_pos': 0.016566757}, 1468: {'roberta_neg': 0.5040475, 'roberta_neu': 0.34470046, 'roberta_pos': 0.15125194}, 1469: {'roberta_neg': 0.23950218, 'roberta_neu': 0.5281888, 'roberta_pos': 0.232309}, 1470: {'roberta_neg': 0.0022260463, 'roberta_neu': 0.04797374, 'roberta_pos': 0.9498002}, 1471: {'roberta_neg': 0.005979437, 'roberta_neu': 0.038200293, 'roberta_pos': 0.9558203}, 1472: {'roberta_neg': 0.40687677, 'roberta_neu': 0.4540853, 'roberta_pos': 0.13903797}, 1473: {'roberta_neg': 0.037055217, 'roberta_neu': 0.39100188, 'roberta_pos': 0.57194287}, 1474: {'roberta_neg': 0.001393976, 'roberta_neu': 0.008549562, 'roberta_pos': 0.99005646}, 1475: {'roberta_neg': 0.0018745423, 'roberta_neu': 0.012720225, 'roberta_pos': 0.98540527}, 1476: {'roberta_neg': 0.059868034, 'roberta_neu': 0.2503561, 'roberta_pos': 0.6897758}, 1477: {'roberta_neg': 0.0017008597, 'roberta_neu': 0.066131525, 'roberta_pos': 0.9321676}, 1478: {'roberta_neg': 0.0024520217, 'roberta_neu': 0.029424282, 'roberta_pos': 0.96812373}, 1479: {'roberta_neg': 0.005348855, 'roberta_neu': 0.04643767, 'roberta_pos': 0.9482135}, 1480: {'roberta_neg': 0.0023426726, 'roberta_neu': 0.011095464, 'roberta_pos': 0.98656183}, 1481: {'roberta_neg': 0.0018323215, 'roberta_neu': 0.043964375, 'roberta_pos': 0.95420325}, 1482: {'roberta_neg': 0.0033143216, 'roberta_neu': 0.023590354, 'roberta_pos': 0.9730953}, 1483: {'roberta_neg': 0.0014392746, 'roberta_neu': 0.009214852, 'roberta_pos': 0.98934585}, 1484: {'roberta_neg': 0.0019194608, 'roberta_neu': 0.060477972, 'roberta_pos': 0.9376025}, 1485: {'roberta_neg': 0.009949745, 'roberta_neu': 0.1260732, 'roberta_pos': 0.863977}, 1486: {'roberta_neg': 0.0040530246, 'roberta_neu': 0.020078123, 'roberta_pos': 0.9758689}, 1487: {'roberta_neg': 0.5640314, 'roberta_neu': 0.34385902, 'roberta_pos': 0.09210959}, 1488: {'roberta_neg': 0.0069166566, 'roberta_neu': 0.077429, 'roberta_pos': 0.91565436}, 1489: {'roberta_neg': 0.012619166, 'roberta_neu': 0.15639694, 'roberta_pos': 0.8309839}, 1490: {'roberta_neg': 0.0043970994, 'roberta_neu': 0.09690145, 'roberta_pos': 0.8987015}, 1491: {'roberta_neg': 0.24740626, 'roberta_neu': 0.45706454, 'roberta_pos': 0.29552928}, 1492: {'roberta_neg': 0.028966757, 'roberta_neu': 0.12931895, 'roberta_pos': 0.8417143}, 1493: {'roberta_neg': 0.006984127, 'roberta_neu': 0.048938062, 'roberta_pos': 0.9440778}, 1494: {'roberta_neg': 0.0020384898, 'roberta_neu': 0.026858317, 'roberta_pos': 0.9711032}, 1495: {'roberta_neg': 0.00343134, 'roberta_neu': 0.067142196, 'roberta_pos': 0.92942643}, 1496: {'roberta_neg': 0.020399718, 'roberta_neu': 0.043658808, 'roberta_pos': 0.9359415}, 1497: {'roberta_neg': 0.0015389593, 'roberta_neu': 0.0105000585, 'roberta_pos': 0.987961}, 1498: {'roberta_neg': 0.027426189, 'roberta_neu': 0.1809829, 'roberta_pos': 0.7915909}, 1499: {'roberta_neg': 0.00725905, 'roberta_neu': 0.20713462, 'roberta_pos': 0.7856063}, 1500: {'roberta_neg': 0.0014467043, 'roberta_neu': 0.010115728, 'roberta_pos': 0.9884376}, 1501: {'roberta_neg': 0.0015619504, 'roberta_neu': 0.009157969, 'roberta_pos': 0.98928005}, 1502: {'roberta_neg': 0.0066439556, 'roberta_neu': 0.04789387, 'roberta_pos': 0.9454621}, 1503: {'roberta_neg': 0.0030703747, 'roberta_neu': 0.02399216, 'roberta_pos': 0.9729374}, 1504: {'roberta_neg': 0.006123482, 'roberta_neu': 0.069643594, 'roberta_pos': 0.92423296}, 1505: {'roberta_neg': 0.032872453, 'roberta_neu': 0.14151247, 'roberta_pos': 0.82561505}, 1506: {'roberta_neg': 0.0015504188, 'roberta_neu': 0.0074728047, 'roberta_pos': 0.9909767}, 1507: {'roberta_neg': 0.0029395253, 'roberta_neu': 0.022406038, 'roberta_pos': 0.97465444}, 1508: {'roberta_neg': 0.0036069166, 'roberta_neu': 0.0443945, 'roberta_pos': 0.9519986}, 1509: {'roberta_neg': 0.03229305, 'roberta_neu': 0.2162131, 'roberta_pos': 0.7514938}, 1510: {'roberta_neg': 0.0057782796, 'roberta_neu': 0.036331434, 'roberta_pos': 0.9578903}, 1511: {'roberta_neg': 0.0023520244, 'roberta_neu': 0.035734512, 'roberta_pos': 0.96191347}, 1512: {'roberta_neg': 0.04014534, 'roberta_neu': 0.17781721, 'roberta_pos': 0.78203744}, 1513: {'roberta_neg': 0.07561686, 'roberta_neu': 0.40593618, 'roberta_pos': 0.518447}, 1514: {'roberta_neg': 0.002724589, 'roberta_neu': 0.043223668, 'roberta_pos': 0.9540518}, 1515: {'roberta_neg': 0.0032910493, 'roberta_neu': 0.071653605, 'roberta_pos': 0.9250553}, 1516: {'roberta_neg': 0.005460247, 'roberta_neu': 0.15980561, 'roberta_pos': 0.83473414}, 1517: {'roberta_neg': 0.0015309592, 'roberta_neu': 0.013335548, 'roberta_pos': 0.9851335}, 1518: {'roberta_neg': 0.0033117763, 'roberta_neu': 0.017254017, 'roberta_pos': 0.9794342}, 1519: {'roberta_neg': 0.35439828, 'roberta_neu': 0.40851048, 'roberta_pos': 0.23709121}, 1520: {'roberta_neg': 0.02779872, 'roberta_neu': 0.19641286, 'roberta_pos': 0.7757884}, 1521: {'roberta_neg': 0.0019770323, 'roberta_neu': 0.01273124, 'roberta_pos': 0.9852917}, 1522: {'roberta_neg': 0.0022655076, 'roberta_neu': 0.018783513, 'roberta_pos': 0.9789509}, 1523: {'roberta_neg': 0.001954593, 'roberta_neu': 0.009923104, 'roberta_pos': 0.9881223}, 1524: {'roberta_neg': 0.0028943394, 'roberta_neu': 0.058490165, 'roberta_pos': 0.93861556}, 1525: {'roberta_neg': 0.0062860237, 'roberta_neu': 0.15806036, 'roberta_pos': 0.83565354}, 1526: {'roberta_neg': 0.0022634051, 'roberta_neu': 0.03583654, 'roberta_pos': 0.96190006}, 1527: {'roberta_neg': 0.002198614, 'roberta_neu': 0.018295785, 'roberta_pos': 0.97950554}, 1528: {'roberta_neg': 0.0017562006, 'roberta_neu': 0.0106615415, 'roberta_pos': 0.9875823}, 1529: {'roberta_neg': 0.0016267945, 'roberta_neu': 0.014036253, 'roberta_pos': 0.9843369}, 1530: {'roberta_neg': 0.0018226359, 'roberta_neu': 0.014890121, 'roberta_pos': 0.9832872}, 1531: {'roberta_neg': 0.0012410035, 'roberta_neu': 0.010236401, 'roberta_pos': 0.98852265}, 1532: {'roberta_neg': 0.002376099, 'roberta_neu': 0.030754011, 'roberta_pos': 0.96686995}, 1533: {'roberta_neg': 0.001432811, 'roberta_neu': 0.009761106, 'roberta_pos': 0.9888061}, 1534: {'roberta_neg': 0.0024448766, 'roberta_neu': 0.03455995, 'roberta_pos': 0.96299523}, 1535: {'roberta_neg': 0.034380663, 'roberta_neu': 0.28811592, 'roberta_pos': 0.6775034}, 1536: {'roberta_neg': 0.0030247422, 'roberta_neu': 0.03224068, 'roberta_pos': 0.96473455}, 1537: {'roberta_neg': 0.0016582988, 'roberta_neu': 0.01456621, 'roberta_pos': 0.98377544}, 1538: {'roberta_neg': 0.0022360797, 'roberta_neu': 0.028529298, 'roberta_pos': 0.9692346}, 1539: {'roberta_neg': 0.0015327076, 'roberta_neu': 0.014057151, 'roberta_pos': 0.98441017}, 1540: {'roberta_neg': 0.39979726, 'roberta_neu': 0.51425713, 'roberta_pos': 0.085945666}, 1541: {'roberta_neg': 0.002418659, 'roberta_neu': 0.0135651715, 'roberta_pos': 0.9840162}, 1542: {'roberta_neg': 0.0061148405, 'roberta_neu': 0.02962055, 'roberta_pos': 0.9642646}, 1543: {'roberta_neg': 0.0013247785, 'roberta_neu': 0.010647154, 'roberta_pos': 0.98802805}, 1544: {'roberta_neg': 0.0035130426, 'roberta_neu': 0.04037285, 'roberta_pos': 0.9561142}, 1545: {'roberta_neg': 0.002962386, 'roberta_neu': 0.024375604, 'roberta_pos': 0.97266203}, 1546: {'roberta_neg': 0.002558541, 'roberta_neu': 0.035998963, 'roberta_pos': 0.96144253}, 1547: {'roberta_neg': 0.0028704295, 'roberta_neu': 0.044578698, 'roberta_pos': 0.9525509}, 1548: {'roberta_neg': 0.0034768519, 'roberta_neu': 0.0770874, 'roberta_pos': 0.91943574}, 1549: {'roberta_neg': 0.0016512865, 'roberta_neu': 0.01831605, 'roberta_pos': 0.9800326}, 1550: {'roberta_neg': 0.0015570121, 'roberta_neu': 0.011951524, 'roberta_pos': 0.9864914}, 1551: {'roberta_neg': 0.19188727, 'roberta_neu': 0.4087114, 'roberta_pos': 0.39940137}, 1552: {'roberta_neg': 0.0036296546, 'roberta_neu': 0.012582301, 'roberta_pos': 0.983788}, 1553: {'roberta_neg': 0.0023421193, 'roberta_neu': 0.023221442, 'roberta_pos': 0.97443646}, 1554: {'roberta_neg': 0.0017322467, 'roberta_neu': 0.014008021, 'roberta_pos': 0.9842598}, 1555: {'roberta_neg': 0.0021177677, 'roberta_neu': 0.038576264, 'roberta_pos': 0.959306}, 1556: {'roberta_neg': 0.002346303, 'roberta_neu': 0.041618787, 'roberta_pos': 0.9560349}, 1557: {'roberta_neg': 0.009287759, 'roberta_neu': 0.24184608, 'roberta_pos': 0.7488662}, 1558: {'roberta_neg': 0.0014833587, 'roberta_neu': 0.010095961, 'roberta_pos': 0.9884207}, 1559: {'roberta_neg': 0.0017966931, 'roberta_neu': 0.024496654, 'roberta_pos': 0.9737066}, 1560: {'roberta_neg': 0.0021816564, 'roberta_neu': 0.034153108, 'roberta_pos': 0.9636653}, 1561: {'roberta_neg': 0.0020827085, 'roberta_neu': 0.00971414, 'roberta_pos': 0.9882032}, 1562: {'roberta_neg': 0.0013269035, 'roberta_neu': 0.00882343, 'roberta_pos': 0.9898497}, 1563: {'roberta_neg': 0.0048550866, 'roberta_neu': 0.034321602, 'roberta_pos': 0.9608233}, 1564: {'roberta_neg': 0.002788401, 'roberta_neu': 0.037124526, 'roberta_pos': 0.96008706}, 1565: {'roberta_neg': 0.0012284082, 'roberta_neu': 0.010577691, 'roberta_pos': 0.98819387}, 1566: {'roberta_neg': 0.0013722833, 'roberta_neu': 0.012911107, 'roberta_pos': 0.9857166}, 1567: {'roberta_neg': 0.0022218793, 'roberta_neu': 0.047028318, 'roberta_pos': 0.9507498}, 1568: {'roberta_neg': 0.0048473016, 'roberta_neu': 0.04726842, 'roberta_pos': 0.94788426}, 1569: {'roberta_neg': 0.0015396833, 'roberta_neu': 0.01688446, 'roberta_pos': 0.98157585}, 1570: {'roberta_neg': 0.0015425708, 'roberta_neu': 0.011589035, 'roberta_pos': 0.9868684}, 1571: {'roberta_neg': 0.0027862948, 'roberta_neu': 0.04294629, 'roberta_pos': 0.95426744}, 1572: {'roberta_neg': 0.002753078, 'roberta_neu': 0.026526166, 'roberta_pos': 0.97072077}, 1573: {'roberta_neg': 0.002668739, 'roberta_neu': 0.019273063, 'roberta_pos': 0.9780582}, 1574: {'roberta_neg': 0.0023659908, 'roberta_neu': 0.024356257, 'roberta_pos': 0.97327775}, 1575: {'roberta_neg': 0.97722834, 'roberta_neu': 0.020384729, 'roberta_pos': 0.0023869677}, 1576: {'roberta_neg': 0.014784228, 'roberta_neu': 0.10512356, 'roberta_pos': 0.88009226}, 1577: {'roberta_neg': 0.0020004744, 'roberta_neu': 0.05071571, 'roberta_pos': 0.9472838}, 1578: {'roberta_neg': 0.0014968845, 'roberta_neu': 0.01421283, 'roberta_pos': 0.9842903}, 1579: {'roberta_neg': 0.0018970117, 'roberta_neu': 0.014274097, 'roberta_pos': 0.98382884}, 1580: {'roberta_neg': 0.0026017467, 'roberta_neu': 0.018703712, 'roberta_pos': 0.9786945}, 1581: {'roberta_neg': 0.0022981516, 'roberta_neu': 0.024869941, 'roberta_pos': 0.9728319}, 1582: {'roberta_neg': 0.0058068377, 'roberta_neu': 0.07498236, 'roberta_pos': 0.91921073}, 1583: {'roberta_neg': 0.0078935055, 'roberta_neu': 0.05075956, 'roberta_pos': 0.94134694}, 1584: {'roberta_neg': 0.0019353258, 'roberta_neu': 0.009214486, 'roberta_pos': 0.9888502}, 1585: {'roberta_neg': 0.0017013964, 'roberta_neu': 0.020707097, 'roberta_pos': 0.9775915}, 1586: {'roberta_neg': 0.0017468873, 'roberta_neu': 0.019863345, 'roberta_pos': 0.97838974}, 1587: {'roberta_neg': 0.0025218702, 'roberta_neu': 0.023878105, 'roberta_pos': 0.97360003}, 1588: {'roberta_neg': 0.0024810834, 'roberta_neu': 0.06897357, 'roberta_pos': 0.92854536}, 1589: {'roberta_neg': 0.0033213052, 'roberta_neu': 0.110576145, 'roberta_pos': 0.88610256}, 1590: {'roberta_neg': 0.003084594, 'roberta_neu': 0.02155245, 'roberta_pos': 0.97536296}, 1591: {'roberta_neg': 0.0024687161, 'roberta_neu': 0.026157426, 'roberta_pos': 0.97137386}, 1592: {'roberta_neg': 0.0015047741, 'roberta_neu': 0.013494889, 'roberta_pos': 0.9850004}, 1593: {'roberta_neg': 0.004221436, 'roberta_neu': 0.058269154, 'roberta_pos': 0.93750936}, 1594: {'roberta_neg': 0.0021276877, 'roberta_neu': 0.012648807, 'roberta_pos': 0.98522353}, 1595: {'roberta_neg': 0.0015558954, 'roberta_neu': 0.02028641, 'roberta_pos': 0.9781577}, 1596: {'roberta_neg': 0.0053401776, 'roberta_neu': 0.038021352, 'roberta_pos': 0.9566385}, 1597: {'roberta_neg': 0.0028039187, 'roberta_neu': 0.039986342, 'roberta_pos': 0.9572097}, 1598: {'roberta_neg': 0.0026869306, 'roberta_neu': 0.014471837, 'roberta_pos': 0.98284125}, 1599: {'roberta_neg': 0.005350484, 'roberta_neu': 0.029455714, 'roberta_pos': 0.96519375}, 1600: {'roberta_neg': 0.0056037074, 'roberta_neu': 0.029683769, 'roberta_pos': 0.96471256}, 1601: {'roberta_neg': 0.010837199, 'roberta_neu': 0.22932123, 'roberta_pos': 0.75984156}, 1602: {'roberta_neg': 0.0023469224, 'roberta_neu': 0.008008574, 'roberta_pos': 0.9896445}, 1603: {'roberta_neg': 0.047065146, 'roberta_neu': 0.14761804, 'roberta_pos': 0.8053168}, 1604: {'roberta_neg': 0.007759531, 'roberta_neu': 0.034753017, 'roberta_pos': 0.95748746}, 1605: {'roberta_neg': 0.011798991, 'roberta_neu': 0.05437069, 'roberta_pos': 0.9338303}, 1606: {'roberta_neg': 0.0015066352, 'roberta_neu': 0.009807978, 'roberta_pos': 0.98868537}, 1607: {'roberta_neg': 0.010708906, 'roberta_neu': 0.045032557, 'roberta_pos': 0.9442586}, 1608: {'roberta_neg': 0.0055024214, 'roberta_neu': 0.035041224, 'roberta_pos': 0.9594564}, 1609: {'roberta_neg': 0.08219474, 'roberta_neu': 0.7691226, 'roberta_pos': 0.1486827}, 1610: {'roberta_neg': 0.0027025582, 'roberta_neu': 0.029726913, 'roberta_pos': 0.9675705}, 1611: {'roberta_neg': 0.0029128673, 'roberta_neu': 0.021897728, 'roberta_pos': 0.97518945}, 1612: {'roberta_neg': 0.0028710237, 'roberta_neu': 0.044791993, 'roberta_pos': 0.95233697}, 1613: {'roberta_neg': 0.0028233922, 'roberta_neu': 0.022654228, 'roberta_pos': 0.9745224}, 1614: {'roberta_neg': 0.0017770989, 'roberta_neu': 0.030699043, 'roberta_pos': 0.9675239}, 1615: {'roberta_neg': 0.0044611776, 'roberta_neu': 0.030569373, 'roberta_pos': 0.96496946}, 1616: {'roberta_neg': 0.0015518491, 'roberta_neu': 0.012948638, 'roberta_pos': 0.9854995}, 1617: {'roberta_neg': 0.0037004682, 'roberta_neu': 0.033816006, 'roberta_pos': 0.9624835}, 1618: {'roberta_neg': 0.02855758, 'roberta_neu': 0.20073882, 'roberta_pos': 0.7707036}, 1619: {'roberta_neg': 0.0049523823, 'roberta_neu': 0.027892817, 'roberta_pos': 0.96715486}, 1620: {'roberta_neg': 0.0014172703, 'roberta_neu': 0.019590173, 'roberta_pos': 0.9789925}, 1621: {'roberta_neg': 0.03373005, 'roberta_neu': 0.45119095, 'roberta_pos': 0.515079}, 1622: {'roberta_neg': 0.025153432, 'roberta_neu': 0.31860685, 'roberta_pos': 0.65623975}, 1623: {'roberta_neg': 0.011828546, 'roberta_neu': 0.12968047, 'roberta_pos': 0.85849094}, 1624: {'roberta_neg': 0.011635831, 'roberta_neu': 0.0921472, 'roberta_pos': 0.896217}, 1625: {'roberta_neg': 0.0019281105, 'roberta_neu': 0.021570597, 'roberta_pos': 0.9765013}, 1626: {'roberta_neg': 0.0017730406, 'roberta_neu': 0.0082294885, 'roberta_pos': 0.9899975}, 1627: {'roberta_neg': 0.005099001, 'roberta_neu': 0.10362835, 'roberta_pos': 0.8912726}, 1628: {'roberta_neg': 0.0018885495, 'roberta_neu': 0.011087803, 'roberta_pos': 0.9870236}, 1629: {'roberta_neg': 0.0017122597, 'roberta_neu': 0.026035102, 'roberta_pos': 0.9722526}, 1630: {'roberta_neg': 0.019321216, 'roberta_neu': 0.10202972, 'roberta_pos': 0.8786491}, 1631: {'roberta_neg': 0.0014099154, 'roberta_neu': 0.011469942, 'roberta_pos': 0.98712015}, 1632: {'roberta_neg': 0.00792014, 'roberta_neu': 0.06802006, 'roberta_pos': 0.92405987}, 1633: {'roberta_neg': 0.0029142979, 'roberta_neu': 0.02593927, 'roberta_pos': 0.97114646}, 1634: {'roberta_neg': 0.0031566997, 'roberta_neu': 0.018026054, 'roberta_pos': 0.9788173}, 1635: {'roberta_neg': 0.0037408033, 'roberta_neu': 0.055887796, 'roberta_pos': 0.94037145}, 1636: {'roberta_neg': 0.010229864, 'roberta_neu': 0.08353685, 'roberta_pos': 0.90623325}, 1637: {'roberta_neg': 0.0012682339, 'roberta_neu': 0.008225263, 'roberta_pos': 0.9905065}, 1638: {'roberta_neg': 0.0026838875, 'roberta_neu': 0.027882343, 'roberta_pos': 0.9694337}, 1639: {'roberta_neg': 0.0032771472, 'roberta_neu': 0.024426365, 'roberta_pos': 0.9722964}, 1640: {'roberta_neg': 0.0013638524, 'roberta_neu': 0.02567923, 'roberta_pos': 0.97295696}, 1641: {'roberta_neg': 0.0014242345, 'roberta_neu': 0.014526492, 'roberta_pos': 0.9840493}, 1642: {'roberta_neg': 0.0016939476, 'roberta_neu': 0.010752667, 'roberta_pos': 0.98755336}, 1643: {'roberta_neg': 0.0024651561, 'roberta_neu': 0.022774443, 'roberta_pos': 0.9747604}, 1644: {'roberta_neg': 0.002051871, 'roberta_neu': 0.008437256, 'roberta_pos': 0.98951083}, 1645: {'roberta_neg': 0.003033876, 'roberta_neu': 0.014184191, 'roberta_pos': 0.98278195}, 1646: {'roberta_neg': 0.002978991, 'roberta_neu': 0.021246951, 'roberta_pos': 0.9757741}, 1647: {'roberta_neg': 0.08023996, 'roberta_neu': 0.4015654, 'roberta_pos': 0.5181946}, 1648: {'roberta_neg': 0.0023097654, 'roberta_neu': 0.009162588, 'roberta_pos': 0.98852766}, 1649: {'roberta_neg': 0.001222394, 'roberta_neu': 0.008600039, 'roberta_pos': 0.9901776}, 1650: {'roberta_neg': 0.005002171, 'roberta_neu': 0.08736429, 'roberta_pos': 0.90763354}, 1651: {'roberta_neg': 0.033223137, 'roberta_neu': 0.19358286, 'roberta_pos': 0.7731941}, 1652: {'roberta_neg': 0.0017460353, 'roberta_neu': 0.022189083, 'roberta_pos': 0.97606486}, 1653: {'roberta_neg': 0.0016621478, 'roberta_neu': 0.0070068254, 'roberta_pos': 0.991331}, 1654: {'roberta_neg': 0.00441878, 'roberta_neu': 0.0283088, 'roberta_pos': 0.9672724}, 1655: {'roberta_neg': 0.0034140248, 'roberta_neu': 0.01341284, 'roberta_pos': 0.98317313}, 1656: {'roberta_neg': 0.0155529, 'roberta_neu': 0.11314624, 'roberta_pos': 0.8713009}, 1657: {'roberta_neg': 0.002265041, 'roberta_neu': 0.01467685, 'roberta_pos': 0.98305815}, 1658: {'roberta_neg': 0.0023229576, 'roberta_neu': 0.024123473, 'roberta_pos': 0.9735536}, 1659: {'roberta_neg': 0.003288184, 'roberta_neu': 0.0156159615, 'roberta_pos': 0.98109585}, 1660: {'roberta_neg': 0.0019455157, 'roberta_neu': 0.02190917, 'roberta_pos': 0.97614527}, 1661: {'roberta_neg': 0.006624303, 'roberta_neu': 0.13912633, 'roberta_pos': 0.85424936}, 1662: {'roberta_neg': 0.0014695533, 'roberta_neu': 0.0120181665, 'roberta_pos': 0.9865123}, 1663: {'roberta_neg': 0.0027604303, 'roberta_neu': 0.047335073, 'roberta_pos': 0.94990456}, 1664: {'roberta_neg': 0.002849564, 'roberta_neu': 0.05177897, 'roberta_pos': 0.94537145}, 1665: {'roberta_neg': 0.0029405402, 'roberta_neu': 0.021189317, 'roberta_pos': 0.97587013}, 1666: {'roberta_neg': 0.0024623515, 'roberta_neu': 0.029978804, 'roberta_pos': 0.9675588}, 1667: {'roberta_neg': 0.0016882205, 'roberta_neu': 0.019533625, 'roberta_pos': 0.9787781}, 1668: {'roberta_neg': 0.0026071575, 'roberta_neu': 0.015153504, 'roberta_pos': 0.98223937}, 1669: {'roberta_neg': 0.005679741, 'roberta_neu': 0.033405114, 'roberta_pos': 0.9609152}, 1670: {'roberta_neg': 0.0035195993, 'roberta_neu': 0.022915915, 'roberta_pos': 0.97356445}, 1671: {'roberta_neg': 0.0016593395, 'roberta_neu': 0.020143092, 'roberta_pos': 0.97819763}, 1672: {'roberta_neg': 0.0016287016, 'roberta_neu': 0.010832609, 'roberta_pos': 0.9875387}, 1673: {'roberta_neg': 0.0017155928, 'roberta_neu': 0.028595684, 'roberta_pos': 0.96968865}, 1674: {'roberta_neg': 0.0016699893, 'roberta_neu': 0.016786363, 'roberta_pos': 0.98154366}, 1675: {'roberta_neg': 0.0013527396, 'roberta_neu': 0.014203447, 'roberta_pos': 0.9844438}, 1676: {'roberta_neg': 0.1558145, 'roberta_neu': 0.3239699, 'roberta_pos': 0.5202156}, 1677: {'roberta_neg': 0.0038167762, 'roberta_neu': 0.028343651, 'roberta_pos': 0.96783954}, 1678: {'roberta_neg': 0.0014538739, 'roberta_neu': 0.011529298, 'roberta_pos': 0.98701686}, 1679: {'roberta_neg': 0.0013226664, 'roberta_neu': 0.027549224, 'roberta_pos': 0.97112817}, 1680: {'roberta_neg': 0.0026962734, 'roberta_neu': 0.01564497, 'roberta_pos': 0.98165876}, 1681: {'roberta_neg': 0.06315416, 'roberta_neu': 0.30217257, 'roberta_pos': 0.6346733}, 1682: {'roberta_neg': 0.0017445837, 'roberta_neu': 0.020189103, 'roberta_pos': 0.9780663}, 1683: {'roberta_neg': 0.0021438743, 'roberta_neu': 0.008241255, 'roberta_pos': 0.98961484}, 1684: {'roberta_neg': 0.0044975705, 'roberta_neu': 0.06358062, 'roberta_pos': 0.93192184}, 1685: {'roberta_neg': 0.0033333322, 'roberta_neu': 0.061275315, 'roberta_pos': 0.9353913}, 1686: {'roberta_neg': 0.049038548, 'roberta_neu': 0.37162662, 'roberta_pos': 0.57933486}, 1687: {'roberta_neg': 0.0016223127, 'roberta_neu': 0.014564566, 'roberta_pos': 0.98381317}, 1688: {'roberta_neg': 0.014615623, 'roberta_neu': 0.40357462, 'roberta_pos': 0.58180976}, 1689: {'roberta_neg': 0.005820503, 'roberta_neu': 0.040134817, 'roberta_pos': 0.9540447}, 1690: {'roberta_neg': 0.59417665, 'roberta_neu': 0.33380985, 'roberta_pos': 0.07201347}, 1691: {'roberta_neg': 0.0060235234, 'roberta_neu': 0.17550088, 'roberta_pos': 0.8184756}, 1692: {'roberta_neg': 0.0038553965, 'roberta_neu': 0.0736544, 'roberta_pos': 0.92249024}, 1693: {'roberta_neg': 0.04479086, 'roberta_neu': 0.29967874, 'roberta_pos': 0.65553045}, 1694: {'roberta_neg': 0.0017248612, 'roberta_neu': 0.013150201, 'roberta_pos': 0.98512495}, 1695: {'roberta_neg': 0.23950218, 'roberta_neu': 0.5281888, 'roberta_pos': 0.232309}, 1696: {'roberta_neg': 0.0028953901, 'roberta_neu': 0.012455484, 'roberta_pos': 0.9846491}, 1697: {'roberta_neg': 0.002813791, 'roberta_neu': 0.036236547, 'roberta_pos': 0.96094966}, 1698: {'roberta_neg': 0.0018986523, 'roberta_neu': 0.013629103, 'roberta_pos': 0.9844722}, 1699: {'roberta_neg': 0.001314298, 'roberta_neu': 0.008834437, 'roberta_pos': 0.98985124}, 1700: {'roberta_neg': 0.07493575, 'roberta_neu': 0.32233897, 'roberta_pos': 0.6027253}, 1701: {'roberta_neg': 0.0019723726, 'roberta_neu': 0.017568193, 'roberta_pos': 0.98045945}, 1702: {'roberta_neg': 0.0016087887, 'roberta_neu': 0.006659243, 'roberta_pos': 0.9917319}, 1703: {'roberta_neg': 0.011300577, 'roberta_neu': 0.2700978, 'roberta_pos': 0.71860164}, 1704: {'roberta_neg': 0.004412873, 'roberta_neu': 0.0420519, 'roberta_pos': 0.95353526}, 1705: {'roberta_neg': 0.0035440065, 'roberta_neu': 0.03431162, 'roberta_pos': 0.9621444}, 1706: {'roberta_neg': 0.0066994894, 'roberta_neu': 0.17684515, 'roberta_pos': 0.81645536}, 1707: {'roberta_neg': 0.001229754, 'roberta_neu': 0.010372623, 'roberta_pos': 0.98839766}, 1708: {'roberta_neg': 0.008656682, 'roberta_neu': 0.08544058, 'roberta_pos': 0.90590274}, 1709: {'roberta_neg': 0.0014825963, 'roberta_neu': 0.014442114, 'roberta_pos': 0.98407525}, 1710: {'roberta_neg': 0.0017799882, 'roberta_neu': 0.012018405, 'roberta_pos': 0.9862016}, 1711: {'roberta_neg': 0.0042040325, 'roberta_neu': 0.030650686, 'roberta_pos': 0.96514523}, 1712: {'roberta_neg': 0.007534921, 'roberta_neu': 0.051303823, 'roberta_pos': 0.9411613}, 1713: {'roberta_neg': 0.011748875, 'roberta_neu': 0.08300367, 'roberta_pos': 0.9052475}, 1714: {'roberta_neg': 0.017798856, 'roberta_neu': 0.05663417, 'roberta_pos': 0.925567}, 1715: {'roberta_neg': 0.0031585607, 'roberta_neu': 0.019230958, 'roberta_pos': 0.9776105}, 1716: {'roberta_neg': 0.003187816, 'roberta_neu': 0.021159079, 'roberta_pos': 0.9756531}, 1717: {'roberta_neg': 0.0055703404, 'roberta_neu': 0.25015238, 'roberta_pos': 0.7442773}, 1718: {'roberta_neg': 0.0013910588, 'roberta_neu': 0.015257242, 'roberta_pos': 0.98335177}, 1719: {'roberta_neg': 0.002019271, 'roberta_neu': 0.023986412, 'roberta_pos': 0.9739943}, 1720: {'roberta_neg': 0.001413184, 'roberta_neu': 0.01319261, 'roberta_pos': 0.98539424}, 1721: {'roberta_neg': 0.0026715768, 'roberta_neu': 0.058912657, 'roberta_pos': 0.9384157}, 1722: {'roberta_neg': 0.0096600065, 'roberta_neu': 0.052653067, 'roberta_pos': 0.9376869}, 1723: {'roberta_neg': 0.06032414, 'roberta_neu': 0.23227388, 'roberta_pos': 0.707402}, 1724: {'roberta_neg': 0.007925914, 'roberta_neu': 0.022756556, 'roberta_pos': 0.96931756}, 1725: {'roberta_neg': 0.0017384579, 'roberta_neu': 0.013714281, 'roberta_pos': 0.9845472}, 1726: {'roberta_neg': 0.0021148412, 'roberta_neu': 0.011120388, 'roberta_pos': 0.9867648}, 1727: {'roberta_neg': 0.004917124, 'roberta_neu': 0.048584938, 'roberta_pos': 0.946498}, 1728: {'roberta_neg': 0.0017929365, 'roberta_neu': 0.02686801, 'roberta_pos': 0.971339}, 1729: {'roberta_neg': 0.0040040426, 'roberta_neu': 0.08764925, 'roberta_pos': 0.9083467}, 1730: {'roberta_neg': 0.24845225, 'roberta_neu': 0.5819312, 'roberta_pos': 0.16961661}, 1731: {'roberta_neg': 0.0037712147, 'roberta_neu': 0.023013324, 'roberta_pos': 0.9732154}, 1732: {'roberta_neg': 0.0018363432, 'roberta_neu': 0.008624724, 'roberta_pos': 0.98953897}, 1733: {'roberta_neg': 0.0020415704, 'roberta_neu': 0.015893074, 'roberta_pos': 0.9820654}, 1734: {'roberta_neg': 0.0016074567, 'roberta_neu': 0.016808435, 'roberta_pos': 0.98158413}, 1735: {'roberta_neg': 0.0012253737, 'roberta_neu': 0.026186923, 'roberta_pos': 0.9725877}, 1736: {'roberta_neg': 0.007289779, 'roberta_neu': 0.071488336, 'roberta_pos': 0.9212219}, 1737: {'roberta_neg': 0.001849759, 'roberta_neu': 0.008213033, 'roberta_pos': 0.9899372}, 1738: {'roberta_neg': 0.002011234, 'roberta_neu': 0.014934403, 'roberta_pos': 0.98305434}, 1739: {'roberta_neg': 0.00409847, 'roberta_neu': 0.0227763, 'roberta_pos': 0.9731252}, 1740: {'roberta_neg': 0.02188071, 'roberta_neu': 0.11111085, 'roberta_pos': 0.8670084}, 1741: {'roberta_neg': 0.0052762516, 'roberta_neu': 0.037105933, 'roberta_pos': 0.9576179}, 1742: {'roberta_neg': 0.004694277, 'roberta_neu': 0.029714571, 'roberta_pos': 0.9655912}, 1743: {'roberta_neg': 0.0022086343, 'roberta_neu': 0.01837123, 'roberta_pos': 0.9794201}, 1744: {'roberta_neg': 0.005240133, 'roberta_neu': 0.056480113, 'roberta_pos': 0.9382798}, 1745: {'roberta_neg': 0.07587486, 'roberta_neu': 0.21887617, 'roberta_pos': 0.705249}, 1746: {'roberta_neg': 0.020539578, 'roberta_neu': 0.08944588, 'roberta_pos': 0.8900146}, 1747: {'roberta_neg': 0.0022690892, 'roberta_neu': 0.042029057, 'roberta_pos': 0.9557018}, 1748: {'roberta_neg': 0.013702924, 'roberta_neu': 0.15973035, 'roberta_pos': 0.8265667}, 1749: {'roberta_neg': 0.0025058894, 'roberta_neu': 0.035525303, 'roberta_pos': 0.96196884}, 1750: {'roberta_neg': 0.002619903, 'roberta_neu': 0.04129856, 'roberta_pos': 0.95608157}, 1751: {'roberta_neg': 0.0032392673, 'roberta_neu': 0.034355428, 'roberta_pos': 0.9624053}, 1752: {'roberta_neg': 0.23950218, 'roberta_neu': 0.5281888, 'roberta_pos': 0.232309}, 1753: {'roberta_neg': 0.23950218, 'roberta_neu': 0.5281888, 'roberta_pos': 0.232309}, 1754: {'roberta_neg': 0.002315083, 'roberta_neu': 0.025683947, 'roberta_pos': 0.9720009}, 1755: {'roberta_neg': 0.0015241492, 'roberta_neu': 0.012132187, 'roberta_pos': 0.9863436}, 1756: {'roberta_neg': 0.0067860493, 'roberta_neu': 0.12024054, 'roberta_pos': 0.8729734}, 1757: {'roberta_neg': 0.0064705187, 'roberta_neu': 0.076062396, 'roberta_pos': 0.91746706}, 1758: {'roberta_neg': 0.23950218, 'roberta_neu': 0.5281888, 'roberta_pos': 0.232309}, 1759: {'roberta_neg': 0.015739562, 'roberta_neu': 0.23899639, 'roberta_pos': 0.74526405}, 1760: {'roberta_neg': 0.0027575025, 'roberta_neu': 0.016782643, 'roberta_pos': 0.98045987}, 1761: {'roberta_neg': 0.0019686942, 'roberta_neu': 0.012661297, 'roberta_pos': 0.98537004}, 1762: {'roberta_neg': 0.011136233, 'roberta_neu': 0.058166813, 'roberta_pos': 0.93069696}, 1763: {'roberta_neg': 0.0035175488, 'roberta_neu': 0.027210198, 'roberta_pos': 0.9692722}, 1764: {'roberta_neg': 0.0016576988, 'roberta_neu': 0.007019898, 'roberta_pos': 0.9913224}, 1765: {'roberta_neg': 0.0021585792, 'roberta_neu': 0.012058192, 'roberta_pos': 0.9857832}, 1766: {'roberta_neg': 0.002615577, 'roberta_neu': 0.019733004, 'roberta_pos': 0.9776514}, 1767: {'roberta_neg': 0.0015453316, 'roberta_neu': 0.0069071744, 'roberta_pos': 0.9915475}, 1768: {'roberta_neg': 0.0022862342, 'roberta_neu': 0.03558991, 'roberta_pos': 0.9621239}, 1769: {'roberta_neg': 0.009590076, 'roberta_neu': 0.04105652, 'roberta_pos': 0.9493534}, 1770: {'roberta_neg': 0.0017954132, 'roberta_neu': 0.023931483, 'roberta_pos': 0.9742731}, 1771: {'roberta_neg': 0.001339599, 'roberta_neu': 0.012008649, 'roberta_pos': 0.9866518}, 1772: {'roberta_neg': 0.0017941052, 'roberta_neu': 0.017514898, 'roberta_pos': 0.98069096}, 1773: {'roberta_neg': 0.0017416038, 'roberta_neu': 0.0134762265, 'roberta_pos': 0.98478216}, 1774: {'roberta_neg': 0.0014712563, 'roberta_neu': 0.012505695, 'roberta_pos': 0.98602307}, 1775: {'roberta_neg': 0.005208433, 'roberta_neu': 0.075876586, 'roberta_pos': 0.91891503}, 1776: {'roberta_neg': 0.0019506107, 'roberta_neu': 0.034046926, 'roberta_pos': 0.9640025}, 1777: {'roberta_neg': 0.002867536, 'roberta_neu': 0.016620915, 'roberta_pos': 0.9805116}, 1778: {'roberta_neg': 0.005947522, 'roberta_neu': 0.0853966, 'roberta_pos': 0.9086558}, 1779: {'roberta_neg': 0.00385388, 'roberta_neu': 0.055972744, 'roberta_pos': 0.94017345}, 1780: {'roberta_neg': 0.0023304748, 'roberta_neu': 0.02452929, 'roberta_pos': 0.97314024}, 1781: {'roberta_neg': 0.0070262207, 'roberta_neu': 0.123368934, 'roberta_pos': 0.8696048}, 1782: {'roberta_neg': 0.0021102412, 'roberta_neu': 0.013679087, 'roberta_pos': 0.9842107}, 1783: {'roberta_neg': 0.14246207, 'roberta_neu': 0.4386737, 'roberta_pos': 0.41886425}, 1784: {'roberta_neg': 0.0012794448, 'roberta_neu': 0.0069016065, 'roberta_pos': 0.9918189}, 1785: {'roberta_neg': 0.0056987, 'roberta_neu': 0.06453148, 'roberta_pos': 0.9297698}, 1786: {'roberta_neg': 0.0030429356, 'roberta_neu': 0.02517963, 'roberta_pos': 0.9717774}, 1787: {'roberta_neg': 0.00565306, 'roberta_neu': 0.08690113, 'roberta_pos': 0.90744585}, 1788: {'roberta_neg': 0.08760805, 'roberta_neu': 0.20860347, 'roberta_pos': 0.70378846}, 1789: {'roberta_neg': 0.001998718, 'roberta_neu': 0.020578539, 'roberta_pos': 0.9774228}, 1790: {'roberta_neg': 0.0026934731, 'roberta_neu': 0.014142575, 'roberta_pos': 0.9831639}, 1791: {'roberta_neg': 0.0014941077, 'roberta_neu': 0.006437066, 'roberta_pos': 0.9920689}, 1792: {'roberta_neg': 0.001856893, 'roberta_neu': 0.011197354, 'roberta_pos': 0.9869458}, 1793: {'roberta_neg': 0.0028388642, 'roberta_neu': 0.031913586, 'roberta_pos': 0.9652475}, 1794: {'roberta_neg': 0.0018594469, 'roberta_neu': 0.019042071, 'roberta_pos': 0.97909844}, 1795: {'roberta_neg': 0.004490653, 'roberta_neu': 0.061411936, 'roberta_pos': 0.93409747}, 1796: {'roberta_neg': 0.0019142377, 'roberta_neu': 0.023472002, 'roberta_pos': 0.9746138}, 1797: {'roberta_neg': 0.0077789393, 'roberta_neu': 0.12532085, 'roberta_pos': 0.86690015}, 1798: {'roberta_neg': 0, 'roberta_neu': 0, 'roberta_pos': 0}, 1799: {'roberta_neg': 0.0013021299, 'roberta_neu': 0.021643868, 'roberta_pos': 0.97705406}, 1800: {'roberta_neg': 0.0022914382, 'roberta_neu': 0.011889742, 'roberta_pos': 0.9858188}, 1801: {'roberta_neg': 0.0055193626, 'roberta_neu': 0.02301525, 'roberta_pos': 0.97146535}, 1802: {'roberta_neg': 0.010787682, 'roberta_neu': 0.18321426, 'roberta_pos': 0.805998}, 1803: {'roberta_neg': 0.007878888, 'roberta_neu': 0.17416376, 'roberta_pos': 0.8179574}, 1804: {'roberta_neg': 0.001842904, 'roberta_neu': 0.022883302, 'roberta_pos': 0.9752738}, 1805: {'roberta_neg': 0.02272663, 'roberta_neu': 0.43113735, 'roberta_pos': 0.546136}, 1806: {'roberta_neg': 0.0020617452, 'roberta_neu': 0.011589771, 'roberta_pos': 0.9863485}, 1807: {'roberta_neg': 0.0019821178, 'roberta_neu': 0.0291463, 'roberta_pos': 0.96887153}, 1808: {'roberta_neg': 0.001747905, 'roberta_neu': 0.020308526, 'roberta_pos': 0.97794354}, 1809: {'roberta_neg': 0.0028630735, 'roberta_neu': 0.027829891, 'roberta_pos': 0.96930707}, 1810: {'roberta_neg': 0.0019899039, 'roberta_neu': 0.021280894, 'roberta_pos': 0.9767293}, 1811: {'roberta_neg': 0.016129086, 'roberta_neu': 0.08649705, 'roberta_pos': 0.89737386}, 1812: {'roberta_neg': 0.23950218, 'roberta_neu': 0.5281888, 'roberta_pos': 0.232309}, 1813: {'roberta_neg': 0.0017294416, 'roberta_neu': 0.0069623985, 'roberta_pos': 0.99130815}, 1814: {'roberta_neg': 0.0017955548, 'roberta_neu': 0.023985665, 'roberta_pos': 0.9742187}, 1815: {'roberta_neg': 0.002442228, 'roberta_neu': 0.016468447, 'roberta_pos': 0.9810893}, 1816: {'roberta_neg': 0.001552764, 'roberta_neu': 0.00944755, 'roberta_pos': 0.98899966}, 1817: {'roberta_neg': 0.017331665, 'roberta_neu': 0.051734086, 'roberta_pos': 0.9309343}, 1818: {'roberta_neg': 0.20642734, 'roberta_neu': 0.42229003, 'roberta_pos': 0.37128258}, 1819: {'roberta_neg': 0.002366974, 'roberta_neu': 0.044207983, 'roberta_pos': 0.953425}, 1820: {'roberta_neg': 0.0152305, 'roberta_neu': 0.100267954, 'roberta_pos': 0.8845015}, 1821: {'roberta_neg': 0.016818823, 'roberta_neu': 0.051374212, 'roberta_pos': 0.931807}, 1822: {'roberta_neg': 0.009223954, 'roberta_neu': 0.09764004, 'roberta_pos': 0.89313596}, 1823: {'roberta_neg': 0.0070179314, 'roberta_neu': 0.14457408, 'roberta_pos': 0.84840804}, 1824: {'roberta_neg': 0.0028245836, 'roberta_neu': 0.026821198, 'roberta_pos': 0.9703542}, 1825: {'roberta_neg': 0.0061328122, 'roberta_neu': 0.06736792, 'roberta_pos': 0.9264993}, 1826: {'roberta_neg': 0.002131523, 'roberta_neu': 0.016336808, 'roberta_pos': 0.9815316}, 1827: {'roberta_neg': 0.0023184696, 'roberta_neu': 0.012795223, 'roberta_pos': 0.98488635}, 1828: {'roberta_neg': 0.00513361, 'roberta_neu': 0.019537568, 'roberta_pos': 0.9753288}, 1829: {'roberta_neg': 0.0019988217, 'roberta_neu': 0.009151056, 'roberta_pos': 0.98885006}, 1830: {'roberta_neg': 0.0024810298, 'roberta_neu': 0.008701646, 'roberta_pos': 0.98881733}, 1831: {'roberta_neg': 0.0017781045, 'roberta_neu': 0.011042403, 'roberta_pos': 0.98717946}, 1832: {'roberta_neg': 0.002665398, 'roberta_neu': 0.026772184, 'roberta_pos': 0.97056246}, 1833: {'roberta_neg': 0.0022598682, 'roberta_neu': 0.02263269, 'roberta_pos': 0.9751074}, 1834: {'roberta_neg': 0.0017363147, 'roberta_neu': 0.024261534, 'roberta_pos': 0.9740021}, 1835: {'roberta_neg': 0.0030758257, 'roberta_neu': 0.025742598, 'roberta_pos': 0.9711816}, 1836: {'roberta_neg': 0.008790763, 'roberta_neu': 0.05073853, 'roberta_pos': 0.94047064}, 1837: {'roberta_neg': 0.013719515, 'roberta_neu': 0.10275059, 'roberta_pos': 0.88352984}, 1838: {'roberta_neg': 0.0025662233, 'roberta_neu': 0.01929686, 'roberta_pos': 0.97813696}, 1839: {'roberta_neg': 0.0016195087, 'roberta_neu': 0.01954272, 'roberta_pos': 0.9788377}, 1840: {'roberta_neg': 0.0015463312, 'roberta_neu': 0.0073248395, 'roberta_pos': 0.9911288}, 1841: {'roberta_neg': 0.0016620081, 'roberta_neu': 0.008312328, 'roberta_pos': 0.99002564}, 1842: {'roberta_neg': 0.002223275, 'roberta_neu': 0.052934077, 'roberta_pos': 0.9448427}, 1843: {'roberta_neg': 0.0017018662, 'roberta_neu': 0.018069929, 'roberta_pos': 0.98022825}, 1844: {'roberta_neg': 0.0029018517, 'roberta_neu': 0.02716853, 'roberta_pos': 0.96992964}, 1845: {'roberta_neg': 0.0094467895, 'roberta_neu': 0.07381132, 'roberta_pos': 0.91674185}, 1846: {'roberta_neg': 0.0015712158, 'roberta_neu': 0.02412357, 'roberta_pos': 0.9743052}, 1847: {'roberta_neg': 0.8725396, 'roberta_neu': 0.11254915, 'roberta_pos': 0.014911292}, 1848: {'roberta_neg': 0.0038292315, 'roberta_neu': 0.023007583, 'roberta_pos': 0.9731631}, 1849: {'roberta_neg': 0.0048831487, 'roberta_neu': 0.024024619, 'roberta_pos': 0.97109216}, 1850: {'roberta_neg': 0.001775147, 'roberta_neu': 0.017071487, 'roberta_pos': 0.98115337}, 1851: {'roberta_neg': 0.012234422, 'roberta_neu': 0.06343985, 'roberta_pos': 0.9243257}, 1852: {'roberta_neg': 0.081310526, 'roberta_neu': 0.23745935, 'roberta_pos': 0.6812301}, 1853: {'roberta_neg': 0.004522126, 'roberta_neu': 0.025287382, 'roberta_pos': 0.9701905}, 1854: {'roberta_neg': 0.014675591, 'roberta_neu': 0.15775639, 'roberta_pos': 0.82756805}, 1855: {'roberta_neg': 0.0012002749, 'roberta_neu': 0.012318062, 'roberta_pos': 0.98648167}, 1856: {'roberta_neg': 0.0016856914, 'roberta_neu': 0.017525427, 'roberta_pos': 0.9807889}, 1857: {'roberta_neg': 0.0023446616, 'roberta_neu': 0.026615875, 'roberta_pos': 0.9710395}, 1858: {'roberta_neg': 0.11006375, 'roberta_neu': 0.36852005, 'roberta_pos': 0.5214162}, 1859: {'roberta_neg': 0.0038566727, 'roberta_neu': 0.01609783, 'roberta_pos': 0.98004544}, 1860: {'roberta_neg': 0.0044679125, 'roberta_neu': 0.019050695, 'roberta_pos': 0.9764814}, 1861: {'roberta_neg': 0.0021759802, 'roberta_neu': 0.021997645, 'roberta_pos': 0.9758263}, 1862: {'roberta_neg': 0.004088225, 'roberta_neu': 0.06544973, 'roberta_pos': 0.930462}, 1863: {'roberta_neg': 0.0030610093, 'roberta_neu': 0.0071942927, 'roberta_pos': 0.9897447}, 1864: {'roberta_neg': 0.00256165, 'roberta_neu': 0.018860443, 'roberta_pos': 0.978578}, 1865: {'roberta_neg': 0.004344152, 'roberta_neu': 0.09929074, 'roberta_pos': 0.8963651}, 1866: {'roberta_neg': 0.001799782, 'roberta_neu': 0.007530988, 'roberta_pos': 0.99066925}, 1867: {'roberta_neg': 0.0031784042, 'roberta_neu': 0.06913129, 'roberta_pos': 0.9276903}, 1868: {'roberta_neg': 0.0056904973, 'roberta_neu': 0.054857913, 'roberta_pos': 0.93945163}, 1869: {'roberta_neg': 0.0025265245, 'roberta_neu': 0.015336224, 'roberta_pos': 0.98213726}, 1870: {'roberta_neg': 0.0034699515, 'roberta_neu': 0.03952425, 'roberta_pos': 0.95700586}, 1871: {'roberta_neg': 0.23950218, 'roberta_neu': 0.5281888, 'roberta_pos': 0.232309}, 1872: {'roberta_neg': 0.0013908175, 'roberta_neu': 0.006158249, 'roberta_pos': 0.9924509}, 1873: {'roberta_neg': 0.09291752, 'roberta_neu': 0.83525515, 'roberta_pos': 0.07182731}, 1874: {'roberta_neg': 0.0030379174, 'roberta_neu': 0.042550016, 'roberta_pos': 0.95441204}, 1875: {'roberta_neg': 0.002322173, 'roberta_neu': 0.021974588, 'roberta_pos': 0.9757033}, 1876: {'roberta_neg': 0.03568843, 'roberta_neu': 0.14650813, 'roberta_pos': 0.81780344}, 1877: {'roberta_neg': 0.0031348916, 'roberta_neu': 0.015187963, 'roberta_pos': 0.9816772}, 1878: {'roberta_neg': 0.0020905011, 'roberta_neu': 0.033171423, 'roberta_pos': 0.9647381}, 1879: {'roberta_neg': 0.0015600332, 'roberta_neu': 0.006872108, 'roberta_pos': 0.9915679}, 1880: {'roberta_neg': 0.004318504, 'roberta_neu': 0.019352244, 'roberta_pos': 0.9763292}, 1881: {'roberta_neg': 0.0051551303, 'roberta_neu': 0.03210288, 'roberta_pos': 0.96274203}, 1882: {'roberta_neg': 0.003784997, 'roberta_neu': 0.027523715, 'roberta_pos': 0.9686913}, 1883: {'roberta_neg': 0.0015693894, 'roberta_neu': 0.010005737, 'roberta_pos': 0.9884249}, 1884: {'roberta_neg': 0.37046802, 'roberta_neu': 0.5499603, 'roberta_pos': 0.07957161}, 1885: {'roberta_neg': 0.002296379, 'roberta_neu': 0.038480602, 'roberta_pos': 0.95922303}, 1886: {'roberta_neg': 0.0047773565, 'roberta_neu': 0.034124006, 'roberta_pos': 0.9610986}, 1887: {'roberta_neg': 0.04169984, 'roberta_neu': 0.27947974, 'roberta_pos': 0.67882043}, 1888: {'roberta_neg': 0.07155551, 'roberta_neu': 0.24079491, 'roberta_pos': 0.68764955}, 1889: {'roberta_neg': 0.0026546554, 'roberta_neu': 0.020157263, 'roberta_pos': 0.9771881}, 1890: {'roberta_neg': 0.0068114335, 'roberta_neu': 0.05711365, 'roberta_pos': 0.9360749}, 1891: {'roberta_neg': 0.23950218, 'roberta_neu': 0.5281888, 'roberta_pos': 0.232309}, 1892: {'roberta_neg': 0.0029543971, 'roberta_neu': 0.015800476, 'roberta_pos': 0.98124516}, 1893: {'roberta_neg': 0.0025343967, 'roberta_neu': 0.07040937, 'roberta_pos': 0.9270562}, 1894: {'roberta_neg': 0.0036727863, 'roberta_neu': 0.03904423, 'roberta_pos': 0.957283}, 1895: {'roberta_neg': 0.0014185939, 'roberta_neu': 0.015186895, 'roberta_pos': 0.9833945}, 1896: {'roberta_neg': 0.003346547, 'roberta_neu': 0.025816971, 'roberta_pos': 0.9708365}, 1897: {'roberta_neg': 0.08786902, 'roberta_neu': 0.3445175, 'roberta_pos': 0.5676134}, 1898: {'roberta_neg': 0.23950218, 'roberta_neu': 0.5281888, 'roberta_pos': 0.232309}, 1899: {'roberta_neg': 0.0017616352, 'roberta_neu': 0.008594803, 'roberta_pos': 0.9896436}, 1900: {'roberta_neg': 0.014354203, 'roberta_neu': 0.15056539, 'roberta_pos': 0.8350804}, 1901: {'roberta_neg': 0.0018809922, 'roberta_neu': 0.008228646, 'roberta_pos': 0.98989034}, 1902: {'roberta_neg': 0.0014103277, 'roberta_neu': 0.030418623, 'roberta_pos': 0.96817106}, 1903: {'roberta_neg': 0.0021975264, 'roberta_neu': 0.029209696, 'roberta_pos': 0.96859276}, 1904: {'roberta_neg': 0.007590673, 'roberta_neu': 0.06916906, 'roberta_pos': 0.92324024}, 1905: {'roberta_neg': 0.0020574979, 'roberta_neu': 0.023460742, 'roberta_pos': 0.97448176}, 1906: {'roberta_neg': 0.0057057785, 'roberta_neu': 0.11961372, 'roberta_pos': 0.8746805}, 1907: {'roberta_neg': 0.0025707504, 'roberta_neu': 0.021281704, 'roberta_pos': 0.97614753}, 1908: {'roberta_neg': 0.0067949467, 'roberta_neu': 0.1312382, 'roberta_pos': 0.86196685}, 1909: {'roberta_neg': 0.9658305, 'roberta_neu': 0.03214809, 'roberta_pos': 0.002021454}, 1910: {'roberta_neg': 0.0076531908, 'roberta_neu': 0.03442977, 'roberta_pos': 0.95791703}, 1911: {'roberta_neg': 0.007310258, 'roberta_neu': 0.05262112, 'roberta_pos': 0.9400686}, 1912: {'roberta_neg': 0.013931663, 'roberta_neu': 0.10027216, 'roberta_pos': 0.8857962}, 1913: {'roberta_neg': 0.39049682, 'roberta_neu': 0.4732829, 'roberta_pos': 0.13622026}, 1914: {'roberta_neg': 0.0020325908, 'roberta_neu': 0.014932344, 'roberta_pos': 0.9830351}, 1915: {'roberta_neg': 0.00587158, 'roberta_neu': 0.027230985, 'roberta_pos': 0.9668975}, 1916: {'roberta_neg': 0.010107606, 'roberta_neu': 0.06505682, 'roberta_pos': 0.92483556}, 1917: {'roberta_neg': 0.0014353009, 'roberta_neu': 0.013258758, 'roberta_pos': 0.9853059}, 1918: {'roberta_neg': 0.0080093695, 'roberta_neu': 0.048886027, 'roberta_pos': 0.9431046}, 1919: {'roberta_neg': 0.016315127, 'roberta_neu': 0.10261199, 'roberta_pos': 0.88107294}, 1920: {'roberta_neg': 0.0058170343, 'roberta_neu': 0.027090138, 'roberta_pos': 0.9670929}, 1921: {'roberta_neg': 0.0020329102, 'roberta_neu': 0.011960605, 'roberta_pos': 0.9860065}, 1922: {'roberta_neg': 0.04043733, 'roberta_neu': 0.16571493, 'roberta_pos': 0.79384774}, 1923: {'roberta_neg': 0.0019212117, 'roberta_neu': 0.013336577, 'roberta_pos': 0.98474216}, 1924: {'roberta_neg': 0.0033691337, 'roberta_neu': 0.039891213, 'roberta_pos': 0.95673966}, 1925: {'roberta_neg': 0.0017811245, 'roberta_neu': 0.013616549, 'roberta_pos': 0.98460233}, 1926: {'roberta_neg': 0.0019374569, 'roberta_neu': 0.024143897, 'roberta_pos': 0.9739187}, 1927: {'roberta_neg': 0.012242972, 'roberta_neu': 0.151617, 'roberta_pos': 0.83614}, 1928: {'roberta_neg': 0.0026248384, 'roberta_neu': 0.048530824, 'roberta_pos': 0.9488444}, 1929: {'roberta_neg': 0.0024477732, 'roberta_neu': 0.037372313, 'roberta_pos': 0.9601799}, 1930: {'roberta_neg': 0.005167489, 'roberta_neu': 0.05871953, 'roberta_pos': 0.936113}, 1931: {'roberta_neg': 0.0012454083, 'roberta_neu': 0.009409311, 'roberta_pos': 0.98934525}, 1932: {'roberta_neg': 0.015249014, 'roberta_neu': 0.24245381, 'roberta_pos': 0.7422972}, 1933: {'roberta_neg': 0.0018695217, 'roberta_neu': 0.026905729, 'roberta_pos': 0.9712247}, 1934: {'roberta_neg': 0.002255504, 'roberta_neu': 0.01332836, 'roberta_pos': 0.9844162}, 1935: {'roberta_neg': 0.0014585919, 'roberta_neu': 0.0143324975, 'roberta_pos': 0.9842089}, 1936: {'roberta_neg': 0.0043341755, 'roberta_neu': 0.042935204, 'roberta_pos': 0.9527306}, 1937: {'roberta_neg': 0.0026428162, 'roberta_neu': 0.016177012, 'roberta_pos': 0.9811802}, 1938: {'roberta_neg': 0.0057919333, 'roberta_neu': 0.03873847, 'roberta_pos': 0.95546955}, 1939: {'roberta_neg': 0.011076547, 'roberta_neu': 0.0351802, 'roberta_pos': 0.9537433}, 1940: {'roberta_neg': 0.002174951, 'roberta_neu': 0.041346878, 'roberta_pos': 0.9564782}, 1941: {'roberta_neg': 0.003173437, 'roberta_neu': 0.021945216, 'roberta_pos': 0.9748813}, 1942: {'roberta_neg': 0.002263159, 'roberta_neu': 0.030516466, 'roberta_pos': 0.9672204}, 1943: {'roberta_neg': 0.009974139, 'roberta_neu': 0.0622209, 'roberta_pos': 0.9278049}, 1944: {'roberta_neg': 0.0058141123, 'roberta_neu': 0.0431372, 'roberta_pos': 0.9510487}, 1945: {'roberta_neg': 0.0030450637, 'roberta_neu': 0.025170974, 'roberta_pos': 0.97178394}, 1946: {'roberta_neg': 0.105351135, 'roberta_neu': 0.4057166, 'roberta_pos': 0.48893222}, 1947: {'roberta_neg': 0.0015157426, 'roberta_neu': 0.008361799, 'roberta_pos': 0.9901225}, 1948: {'roberta_neg': 0.0016570748, 'roberta_neu': 0.01001409, 'roberta_pos': 0.9883288}, 1949: {'roberta_neg': 0.0039538266, 'roberta_neu': 0.02719087, 'roberta_pos': 0.9688553}, 1950: {'roberta_neg': 0.68242276, 'roberta_neu': 0.27130395, 'roberta_pos': 0.046273336}, 1951: {'roberta_neg': 0.010041551, 'roberta_neu': 0.06232903, 'roberta_pos': 0.9276295}, 1952: {'roberta_neg': 0.003012695, 'roberta_neu': 0.022628983, 'roberta_pos': 0.97435826}, 1953: {'roberta_neg': 0.008353133, 'roberta_neu': 0.06397437, 'roberta_pos': 0.92767245}, 1954: {'roberta_neg': 0.00170096, 'roberta_neu': 0.0133640515, 'roberta_pos': 0.98493505}, 1955: {'roberta_neg': 0.0012195845, 'roberta_neu': 0.008455943, 'roberta_pos': 0.9903245}, 1956: {'roberta_neg': 0.0027456898, 'roberta_neu': 0.03009183, 'roberta_pos': 0.96716243}, 1957: {'roberta_neg': 0.007928139, 'roberta_neu': 0.10273004, 'roberta_pos': 0.8893418}, 1958: {'roberta_neg': 0.29325995, 'roberta_neu': 0.48440185, 'roberta_pos': 0.22233814}, 1959: {'roberta_neg': 0.0022466052, 'roberta_neu': 0.02323975, 'roberta_pos': 0.9745137}, 1960: {'roberta_neg': 0.055015944, 'roberta_neu': 0.25875032, 'roberta_pos': 0.68623376}, 1961: {'roberta_neg': 0.0029005893, 'roberta_neu': 0.035660654, 'roberta_pos': 0.9614388}, 1962: {'roberta_neg': 0.0019051871, 'roberta_neu': 0.017065229, 'roberta_pos': 0.98102957}, 1963: {'roberta_neg': 0.264235, 'roberta_neu': 0.4608309, 'roberta_pos': 0.27493414}, 1964: {'roberta_neg': 0.0049607265, 'roberta_neu': 0.04493393, 'roberta_pos': 0.9501053}, 1965: {'roberta_neg': 0.0017625273, 'roberta_neu': 0.013672194, 'roberta_pos': 0.98456526}, 1966: {'roberta_neg': 0.0041879835, 'roberta_neu': 0.10829467, 'roberta_pos': 0.88751733}, 1967: {'roberta_neg': 0.0025124345, 'roberta_neu': 0.024830654, 'roberta_pos': 0.97265697}, 1968: {'roberta_neg': 0.003173813, 'roberta_neu': 0.023199014, 'roberta_pos': 0.97362715}, 1969: {'roberta_neg': 0.0026493617, 'roberta_neu': 0.018373536, 'roberta_pos': 0.9789771}, 1970: {'roberta_neg': 0.091382734, 'roberta_neu': 0.2861159, 'roberta_pos': 0.6225014}, 1971: {'roberta_neg': 0.007538857, 'roberta_neu': 0.050481804, 'roberta_pos': 0.94197935}, 1972: {'roberta_neg': 0.0014344235, 'roberta_neu': 0.01253417, 'roberta_pos': 0.9860314}, 1973: {'roberta_neg': 0.0023589255, 'roberta_neu': 0.03381011, 'roberta_pos': 0.96383095}, 1974: {'roberta_neg': 0.0017731846, 'roberta_neu': 0.01882096, 'roberta_pos': 0.9794058}, 1975: {'roberta_neg': 0.023242127, 'roberta_neu': 0.15726769, 'roberta_pos': 0.8194902}, 1976: {'roberta_neg': 0.01016344, 'roberta_neu': 0.17556708, 'roberta_pos': 0.81426954}, 1977: {'roberta_neg': 0.005025419, 'roberta_neu': 0.019582106, 'roberta_pos': 0.9753924}, 1978: {'roberta_neg': 0.23950218, 'roberta_neu': 0.5281888, 'roberta_pos': 0.232309}, 1979: {'roberta_neg': 0.2982434, 'roberta_neu': 0.46281403, 'roberta_pos': 0.23894265}, 1980: {'roberta_neg': 0.002532153, 'roberta_neu': 0.015703466, 'roberta_pos': 0.9817644}, 1981: {'roberta_neg': 0.49371657, 'roberta_neu': 0.4005681, 'roberta_pos': 0.10571531}, 1982: {'roberta_neg': 0.0042738863, 'roberta_neu': 0.076450184, 'roberta_pos': 0.91927594}, 1983: {'roberta_neg': 0.0027078793, 'roberta_neu': 0.035503257, 'roberta_pos': 0.96178883}, 1984: {'roberta_neg': 0.19900659, 'roberta_neu': 0.37992477, 'roberta_pos': 0.4210686}, 1985: {'roberta_neg': 0.0023210011, 'roberta_neu': 0.040874366, 'roberta_pos': 0.9568047}, 1986: {'roberta_neg': 0.0017661226, 'roberta_neu': 0.02085603, 'roberta_pos': 0.97737783}, 1987: {'roberta_neg': 0.0015255214, 'roberta_neu': 0.011869607, 'roberta_pos': 0.98660487}, 1988: {'roberta_neg': 0.0017362117, 'roberta_neu': 0.010644552, 'roberta_pos': 0.9876193}, 1989: {'roberta_neg': 0.005042076, 'roberta_neu': 0.1595975, 'roberta_pos': 0.83536047}, 1990: {'roberta_neg': 0.0016899767, 'roberta_neu': 0.014583216, 'roberta_pos': 0.98372674}, 1991: {'roberta_neg': 0.0023146125, 'roberta_neu': 0.072313555, 'roberta_pos': 0.9253719}, 1992: {'roberta_neg': 0.0011515272, 'roberta_neu': 0.009846182, 'roberta_pos': 0.98900235}, 1993: {'roberta_neg': 0.1385758, 'roberta_neu': 0.441277, 'roberta_pos': 0.4201472}, 1994: {'roberta_neg': 0.08832433, 'roberta_neu': 0.45063674, 'roberta_pos': 0.46103898}, 1995: {'roberta_neg': 0.002525961, 'roberta_neu': 0.11128251, 'roberta_pos': 0.8861916}, 1996: {'roberta_neg': 0.0017314049, 'roberta_neu': 0.07111074, 'roberta_pos': 0.9271578}, 1997: {'roberta_neg': 0.0028314572, 'roberta_neu': 0.041459665, 'roberta_pos': 0.9557089}, 1998: {'roberta_neg': 0.0110741425, 'roberta_neu': 0.29282343, 'roberta_pos': 0.69610244}, 1999: {'roberta_neg': 0.026659934, 'roberta_neu': 0.20369717, 'roberta_pos': 0.7696429}, 2000: {'roberta_neg': 0.002426449, 'roberta_neu': 0.040824424, 'roberta_pos': 0.95674914}, 2001: {'roberta_neg': 0.23950218, 'roberta_neu': 0.5281888, 'roberta_pos': 0.232309}, 2002: {'roberta_neg': 0.012054025, 'roberta_neu': 0.42879394, 'roberta_pos': 0.55915207}, 2003: {'roberta_neg': 0.0017835377, 'roberta_neu': 0.02041769, 'roberta_pos': 0.97779876}, 2004: {'roberta_neg': 0.0012915961, 'roberta_neu': 0.012123539, 'roberta_pos': 0.9865848}, 2005: {'roberta_neg': 0.2902767, 'roberta_neu': 0.47586888, 'roberta_pos': 0.23385443}, 2006: {'roberta_neg': 0.010785585, 'roberta_neu': 0.04927959, 'roberta_pos': 0.9399348}, 2007: {'roberta_neg': 0.0014609889, 'roberta_neu': 0.020719783, 'roberta_pos': 0.97781926}, 2008: {'roberta_neg': 0.0025685113, 'roberta_neu': 0.018134777, 'roberta_pos': 0.97929674}, 2009: {'roberta_neg': 0.0019686483, 'roberta_neu': 0.029725716, 'roberta_pos': 0.96830565}, 2010: {'roberta_neg': 0.008707353, 'roberta_neu': 0.084433526, 'roberta_pos': 0.9068591}, 2011: {'roberta_neg': 0.23950218, 'roberta_neu': 0.5281888, 'roberta_pos': 0.232309}, 2012: {'roberta_neg': 0.0012571773, 'roberta_neu': 0.009803305, 'roberta_pos': 0.98893946}, 2013: {'roberta_neg': 0.09403993, 'roberta_neu': 0.8391692, 'roberta_pos': 0.06679085}, 2014: {'roberta_neg': 0.23950218, 'roberta_neu': 0.5281888, 'roberta_pos': 0.232309}, 2015: {'roberta_neg': 0.20643806, 'roberta_neu': 0.7105279, 'roberta_pos': 0.083034}, 2016: {'roberta_neg': 0.23950218, 'roberta_neu': 0.5281888, 'roberta_pos': 0.232309}, 2017: {'roberta_neg': 0.0020539477, 'roberta_neu': 0.020211177, 'roberta_pos': 0.9777348}, 2018: {'roberta_neg': 0.0012656832, 'roberta_neu': 0.058847368, 'roberta_pos': 0.939887}, 2019: {'roberta_neg': 0.12571143, 'roberta_neu': 0.47316468, 'roberta_pos': 0.4011239}, 2020: {'roberta_neg': 0.23950218, 'roberta_neu': 0.5281888, 'roberta_pos': 0.232309}, 2021: {'roberta_neg': 0.003561238, 'roberta_neu': 0.13644053, 'roberta_pos': 0.8599983}, 2022: {'roberta_neg': 0.009472894, 'roberta_neu': 0.060039364, 'roberta_pos': 0.9304878}, 2023: {'roberta_neg': 0.0014087786, 'roberta_neu': 0.018636577, 'roberta_pos': 0.97995466}, 2024: {'roberta_neg': 0.046131022, 'roberta_neu': 0.1753889, 'roberta_pos': 0.77848}, 2025: {'roberta_neg': 0.010507206, 'roberta_neu': 0.14922284, 'roberta_pos': 0.8402699}, 2026: {'roberta_neg': 0.23950218, 'roberta_neu': 0.5281888, 'roberta_pos': 0.232309}, 2027: {'roberta_neg': 0.16380243, 'roberta_neu': 0.45287445, 'roberta_pos': 0.38332307}, 2028: {'roberta_neg': 0.91098416, 'roberta_neu': 0.08184322, 'roberta_pos': 0.007172654}, 2029: {'roberta_neg': 0.0021644214, 'roberta_neu': 0.026843473, 'roberta_pos': 0.97099215}, 2030: {'roberta_neg': 0.5878949, 'roberta_neu': 0.34309375, 'roberta_pos': 0.06901129}, 2031: {'roberta_neg': 0.00330073, 'roberta_neu': 0.018232623, 'roberta_pos': 0.9784667}, 2032: {'roberta_neg': 0.0020609042, 'roberta_neu': 0.025077684, 'roberta_pos': 0.97286135}, 2033: {'roberta_neg': 0.2641136, 'roberta_neu': 0.64420724, 'roberta_pos': 0.09167914}, 2034: {'roberta_neg': 0.0077145062, 'roberta_neu': 0.034066495, 'roberta_pos': 0.95821893}, 2035: {'roberta_neg': 0.55401665, 'roberta_neu': 0.3575802, 'roberta_pos': 0.08840309}, 2036: {'roberta_neg': 0.77679116, 'roberta_neu': 0.21014608, 'roberta_pos': 0.013062795}, 2037: {'roberta_neg': 0.60498327, 'roberta_neu': 0.33446714, 'roberta_pos': 0.060549546}, 2038: {'roberta_neg': 0.0017865471, 'roberta_neu': 0.029665494, 'roberta_pos': 0.96854794}, 2039: {'roberta_neg': 0.064308904, 'roberta_neu': 0.36029616, 'roberta_pos': 0.5753949}, 2040: {'roberta_neg': 0.92655855, 'roberta_neu': 0.066755675, 'roberta_pos': 0.006685791}, 2041: {'roberta_neg': 0.056011673, 'roberta_neu': 0.23037739, 'roberta_pos': 0.71361095}, 2042: {'roberta_neg': 0.0018030761, 'roberta_neu': 0.036494862, 'roberta_pos': 0.9617021}, 2043: {'roberta_neg': 0.03161165, 'roberta_neu': 0.1911952, 'roberta_pos': 0.7771932}, 2044: {'roberta_neg': 0.08320139, 'roberta_neu': 0.36008182, 'roberta_pos': 0.5567168}, 2045: {'roberta_neg': 0.5582505, 'roberta_neu': 0.37969124, 'roberta_pos': 0.0620583}, 2046: {'roberta_neg': 0.45830345, 'roberta_neu': 0.46225178, 'roberta_pos': 0.07944478}, 2047: {'roberta_neg': 0.5649739, 'roberta_neu': 0.36250624, 'roberta_pos': 0.07251985}, 2048: {'roberta_neg': 0.0032991478, 'roberta_neu': 0.034635745, 'roberta_pos': 0.96206504}, 2049: {'roberta_neg': 0.0095281545, 'roberta_neu': 0.11297625, 'roberta_pos': 0.8774956}, 2050: {'roberta_neg': 0.002723485, 'roberta_neu': 0.07246802, 'roberta_pos': 0.9248085}, 2051: {'roberta_neg': 0.57591754, 'roberta_neu': 0.32860094, 'roberta_pos': 0.09548152}, 2052: {'roberta_neg': 0.03097851, 'roberta_neu': 0.16409993, 'roberta_pos': 0.8049215}, 2053: {'roberta_neg': 0.12203726, 'roberta_neu': 0.35117665, 'roberta_pos': 0.5267861}, 2054: {'roberta_neg': 0.04003789, 'roberta_neu': 0.35470945, 'roberta_pos': 0.6052526}, 2055: {'roberta_neg': 0.16798714, 'roberta_neu': 0.40672, 'roberta_pos': 0.42529288}, 2056: {'roberta_neg': 0.010421393, 'roberta_neu': 0.07760292, 'roberta_pos': 0.91197574}, 2057: {'roberta_neg': 0.01973198, 'roberta_neu': 0.08188289, 'roberta_pos': 0.8983851}, 2058: {'roberta_neg': 0.21716191, 'roberta_neu': 0.54043436, 'roberta_pos': 0.24240372}, 2059: {'roberta_neg': 0.21979252, 'roberta_neu': 0.49966928, 'roberta_pos': 0.28053814}, 2060: {'roberta_neg': 0.0024605128, 'roberta_neu': 0.024350578, 'roberta_pos': 0.9731889}, 2061: {'roberta_neg': 0.009177419, 'roberta_neu': 0.082433894, 'roberta_pos': 0.9083887}, 2062: {'roberta_neg': 0.011579459, 'roberta_neu': 0.0630391, 'roberta_pos': 0.9253815}, 2063: {'roberta_neg': 0.006199179, 'roberta_neu': 0.06873164, 'roberta_pos': 0.9250692}, 2064: {'roberta_neg': 0.43439844, 'roberta_neu': 0.45239386, 'roberta_pos': 0.11320768}, 2065: {'roberta_neg': 0.014156675, 'roberta_neu': 0.14158756, 'roberta_pos': 0.84425575}, 2066: {'roberta_neg': 0.0016022417, 'roberta_neu': 0.020148855, 'roberta_pos': 0.97824895}, 2067: {'roberta_neg': 0.004371447, 'roberta_neu': 0.038920846, 'roberta_pos': 0.95670766}, 2068: {'roberta_neg': 0.23950218, 'roberta_neu': 0.5281888, 'roberta_pos': 0.232309}, 2069: {'roberta_neg': 0.014494384, 'roberta_neu': 0.08087859, 'roberta_pos': 0.904627}, 2070: {'roberta_neg': 0.011108264, 'roberta_neu': 0.22909306, 'roberta_pos': 0.7597987}, 2071: {'roberta_neg': 0.0018064645, 'roberta_neu': 0.020516215, 'roberta_pos': 0.9776773}, 2072: {'roberta_neg': 0.050763886, 'roberta_neu': 0.15069492, 'roberta_pos': 0.7985412}, 2073: {'roberta_neg': 0.5660539, 'roberta_neu': 0.3597827, 'roberta_pos': 0.0741634}, 2074: {'roberta_neg': 0.005242047, 'roberta_neu': 0.040947914, 'roberta_pos': 0.9538101}, 2075: {'roberta_neg': 0.0027457094, 'roberta_neu': 0.056971174, 'roberta_pos': 0.9402831}, 2076: {'roberta_neg': 0.0017176407, 'roberta_neu': 0.020094175, 'roberta_pos': 0.97818816}, 2077: {'roberta_neg': 0.6873173, 'roberta_neu': 0.28461906, 'roberta_pos': 0.02806368}, 2078: {'roberta_neg': 0.001170173, 'roberta_neu': 0.015852649, 'roberta_pos': 0.98297715}, 2079: {'roberta_neg': 0.015756387, 'roberta_neu': 0.08424928, 'roberta_pos': 0.8999944}, 2080: {'roberta_neg': 0.16509318, 'roberta_neu': 0.42003965, 'roberta_pos': 0.41486716}, 2081: {'roberta_neg': 0.004487585, 'roberta_neu': 0.16112126, 'roberta_pos': 0.8343911}, 2082: {'roberta_neg': 0.0029941038, 'roberta_neu': 0.04262976, 'roberta_pos': 0.9543761}, 2083: {'roberta_neg': 0.44762075, 'roberta_neu': 0.4173589, 'roberta_pos': 0.13502035}, 2084: {'roberta_neg': 0.08441396, 'roberta_neu': 0.16361079, 'roberta_pos': 0.7519753}, 2085: {'roberta_neg': 0.1458688, 'roberta_neu': 0.40497336, 'roberta_pos': 0.44915786}, 2086: {'roberta_neg': 0.23950218, 'roberta_neu': 0.5281888, 'roberta_pos': 0.232309}, 2087: {'roberta_neg': 0.0022412695, 'roberta_neu': 0.029797094, 'roberta_pos': 0.9679616}, 2088: {'roberta_neg': 0.05510191, 'roberta_neu': 0.30540416, 'roberta_pos': 0.63949394}, 2089: {'roberta_neg': 0.019954704, 'roberta_neu': 0.10708251, 'roberta_pos': 0.87296283}, 2090: {'roberta_neg': 0.8180473, 'roberta_neu': 0.15502375, 'roberta_pos': 0.026928976}, 2091: {'roberta_neg': 0.13172926, 'roberta_neu': 0.3899831, 'roberta_pos': 0.4782876}, 2092: {'roberta_neg': 0.03461961, 'roberta_neu': 0.28076681, 'roberta_pos': 0.6846135}, 2093: {'roberta_neg': 0.005917163, 'roberta_neu': 0.08432673, 'roberta_pos': 0.90975606}, 2094: {'roberta_neg': 0.016020318, 'roberta_neu': 0.10142687, 'roberta_pos': 0.8825528}, 2095: {'roberta_neg': 0.0068010595, 'roberta_neu': 0.07965214, 'roberta_pos': 0.9135468}, 2096: {'roberta_neg': 0.94888014, 'roberta_neu': 0.046974685, 'roberta_pos': 0.004145259}, 2097: {'roberta_neg': 0.0024685068, 'roberta_neu': 0.0613078, 'roberta_pos': 0.9362237}, 2098: {'roberta_neg': 0.0018517646, 'roberta_neu': 0.021722715, 'roberta_pos': 0.97642547}, 2099: {'roberta_neg': 0.004336593, 'roberta_neu': 0.036294054, 'roberta_pos': 0.9593694}, 2100: {'roberta_neg': 0.23950218, 'roberta_neu': 0.5281888, 'roberta_pos': 0.232309}, 2101: {'roberta_neg': 0.6084741, 'roberta_neu': 0.30742604, 'roberta_pos': 0.08409995}, 2102: {'roberta_neg': 0.0016023101, 'roberta_neu': 0.018218128, 'roberta_pos': 0.98017955}, 2103: {'roberta_neg': 0.0045506335, 'roberta_neu': 0.04657425, 'roberta_pos': 0.94887507}, 2104: {'roberta_neg': 0.0037436925, 'roberta_neu': 0.0843747, 'roberta_pos': 0.9118816}, 2105: {'roberta_neg': 0.0013973626, 'roberta_neu': 0.018168604, 'roberta_pos': 0.980434}, 2106: {'roberta_neg': 0.4382766, 'roberta_neu': 0.42083645, 'roberta_pos': 0.14088692}, 2107: {'roberta_neg': 0.0029856726, 'roberta_neu': 0.037748, 'roberta_pos': 0.95926625}, 2108: {'roberta_neg': 0.0010956429, 'roberta_neu': 0.018796524, 'roberta_pos': 0.98010784}, 2109: {'roberta_neg': 0.18575636, 'roberta_neu': 0.49136707, 'roberta_pos': 0.3228766}, 2110: {'roberta_neg': 0.06474381, 'roberta_neu': 0.58399445, 'roberta_pos': 0.3512618}, 2111: {'roberta_neg': 0.592869, 'roberta_neu': 0.32952353, 'roberta_pos': 0.07760745}, 2112: {'roberta_neg': 0.06988282, 'roberta_neu': 0.5199482, 'roberta_pos': 0.41016898}, 2113: {'roberta_neg': 0.0028494066, 'roberta_neu': 0.038053527, 'roberta_pos': 0.959097}, 2114: {'roberta_neg': 0.0017969232, 'roberta_neu': 0.020147689, 'roberta_pos': 0.9780554}, 2115: {'roberta_neg': 0.0020955647, 'roberta_neu': 0.037923384, 'roberta_pos': 0.959981}, 2116: {'roberta_neg': 0.0025198623, 'roberta_neu': 0.027057545, 'roberta_pos': 0.9704226}, 2117: {'roberta_neg': 0.0010425067, 'roberta_neu': 0.013802898, 'roberta_pos': 0.98515457}, 2118: {'roberta_neg': 0.0028599824, 'roberta_neu': 0.042026956, 'roberta_pos': 0.95511305}, 2119: {'roberta_neg': 0.0019230556, 'roberta_neu': 0.012082271, 'roberta_pos': 0.9859947}, 2120: {'roberta_neg': 0.0058102347, 'roberta_neu': 0.15011786, 'roberta_pos': 0.8440719}, 2121: {'roberta_neg': 0.0024827209, 'roberta_neu': 0.08109045, 'roberta_pos': 0.9164268}, 2122: {'roberta_neg': 0.00728434, 'roberta_neu': 0.07027489, 'roberta_pos': 0.92244077}, 2123: {'roberta_neg': 0.0014070489, 'roberta_neu': 0.012666275, 'roberta_pos': 0.9859266}, 2124: {'roberta_neg': 0.001720689, 'roberta_neu': 0.016291372, 'roberta_pos': 0.9819879}, 2125: {'roberta_neg': 0.029784841, 'roberta_neu': 0.17697594, 'roberta_pos': 0.79323924}, 2126: {'roberta_neg': 0.0031230275, 'roberta_neu': 0.033787627, 'roberta_pos': 0.9630893}, 2127: {'roberta_neg': 0.0040696478, 'roberta_neu': 0.03791942, 'roberta_pos': 0.9580109}, 2128: {'roberta_neg': 0.009626562, 'roberta_neu': 0.29965925, 'roberta_pos': 0.6907142}, 2129: {'roberta_neg': 0.0036982645, 'roberta_neu': 0.11397984, 'roberta_pos': 0.88232183}, 2130: {'roberta_neg': 0.010403924, 'roberta_neu': 0.09494927, 'roberta_pos': 0.8946469}, 2131: {'roberta_neg': 0.0022365788, 'roberta_neu': 0.034999058, 'roberta_pos': 0.9627643}, 2132: {'roberta_neg': 0.0034014531, 'roberta_neu': 0.026461646, 'roberta_pos': 0.97013694}, 2133: {'roberta_neg': 0.0030468118, 'roberta_neu': 0.025967538, 'roberta_pos': 0.97098565}, 2134: {'roberta_neg': 0.62453836, 'roberta_neu': 0.31400883, 'roberta_pos': 0.06145284}, 2135: {'roberta_neg': 0.04269714, 'roberta_neu': 0.26723036, 'roberta_pos': 0.69007254}, 2136: {'roberta_neg': 0.0018298881, 'roberta_neu': 0.011508318, 'roberta_pos': 0.98666173}, 2137: {'roberta_neg': 0.85944784, 'roberta_neu': 0.12780496, 'roberta_pos': 0.012747188}, 2138: {'roberta_neg': 0.0023021798, 'roberta_neu': 0.014950385, 'roberta_pos': 0.9827474}, 2139: {'roberta_neg': 0.9244043, 'roberta_neu': 0.06971683, 'roberta_pos': 0.0058788448}, 2140: {'roberta_neg': 0.14445312, 'roberta_neu': 0.45812938, 'roberta_pos': 0.39741758}, 2141: {'roberta_neg': 0.025386963, 'roberta_neu': 0.11733879, 'roberta_pos': 0.8572742}, 2142: {'roberta_neg': 0.0036050342, 'roberta_neu': 0.070159234, 'roberta_pos': 0.9262358}, 2143: {'roberta_neg': 0.001480882, 'roberta_neu': 0.01495526, 'roberta_pos': 0.9835639}, 2144: {'roberta_neg': 0.010262262, 'roberta_neu': 0.065981746, 'roberta_pos': 0.923756}, 2145: {'roberta_neg': 0.5040156, 'roberta_neu': 0.37149316, 'roberta_pos': 0.12449124}, 2146: {'roberta_neg': 0.0021240793, 'roberta_neu': 0.015691843, 'roberta_pos': 0.98218405}, 2147: {'roberta_neg': 0.0015669259, 'roberta_neu': 0.020776564, 'roberta_pos': 0.97765654}, 2148: {'roberta_neg': 0.015531002, 'roberta_neu': 0.13162978, 'roberta_pos': 0.8528393}, 2149: {'roberta_neg': 0.0018735463, 'roberta_neu': 0.023387823, 'roberta_pos': 0.9747386}, 2150: {'roberta_neg': 0.5825806, 'roberta_neu': 0.31965795, 'roberta_pos': 0.09776146}, 2151: {'roberta_neg': 0.005067787, 'roberta_neu': 0.0465336, 'roberta_pos': 0.94839865}, 2152: {'roberta_neg': 0.8436901, 'roberta_neu': 0.14142181, 'roberta_pos': 0.014888072}, 2153: {'roberta_neg': 0.00951068, 'roberta_neu': 0.087528996, 'roberta_pos': 0.9029603}, 2154: {'roberta_neg': 0.21617024, 'roberta_neu': 0.5532556, 'roberta_pos': 0.23057416}, 2155: {'roberta_neg': 0.055136394, 'roberta_neu': 0.23504291, 'roberta_pos': 0.7098207}, 2156: {'roberta_neg': 0.0014060382, 'roberta_neu': 0.017956683, 'roberta_pos': 0.9806373}, 2157: {'roberta_neg': 0.0021135681, 'roberta_neu': 0.026151182, 'roberta_pos': 0.9717353}, 2158: {'roberta_neg': 0.015061424, 'roberta_neu': 0.04939576, 'roberta_pos': 0.93554276}, 2159: {'roberta_neg': 0.1368014, 'roberta_neu': 0.470317, 'roberta_pos': 0.3928815}, 2160: {'roberta_neg': 0.07864391, 'roberta_neu': 0.34290925, 'roberta_pos': 0.5784468}, 2161: {'roberta_neg': 0.07474223, 'roberta_neu': 0.3309161, 'roberta_pos': 0.5943417}, 2162: {'roberta_neg': 0.1905035, 'roberta_neu': 0.5519385, 'roberta_pos': 0.25755802}, 2163: {'roberta_neg': 0.0013976075, 'roberta_neu': 0.011961647, 'roberta_pos': 0.98664075}, 2164: {'roberta_neg': 0.08744904, 'roberta_neu': 0.28069314, 'roberta_pos': 0.6318578}, 2165: {'roberta_neg': 0.0028282364, 'roberta_neu': 0.021022342, 'roberta_pos': 0.9761494}, 2166: {'roberta_neg': 0.0015733954, 'roberta_neu': 0.016417924, 'roberta_pos': 0.9820087}, 2167: {'roberta_neg': 0.0018413017, 'roberta_neu': 0.025464557, 'roberta_pos': 0.97269416}, 2168: {'roberta_neg': 0.07324211, 'roberta_neu': 0.28193834, 'roberta_pos': 0.6448195}, 2169: {'roberta_neg': 0.0014575436, 'roberta_neu': 0.017621065, 'roberta_pos': 0.9809214}, 2170: {'roberta_neg': 0.057705786, 'roberta_neu': 0.20646168, 'roberta_pos': 0.7358326}, 2171: {'roberta_neg': 0.0033274773, 'roberta_neu': 0.040119443, 'roberta_pos': 0.9565531}, 2172: {'roberta_neg': 0.0027897973, 'roberta_neu': 0.029427057, 'roberta_pos': 0.96778315}, 2173: {'roberta_neg': 0.22819969, 'roberta_neu': 0.35028142, 'roberta_pos': 0.42151886}, 2174: {'roberta_neg': 0.008737879, 'roberta_neu': 0.08271845, 'roberta_pos': 0.90854365}, 2175: {'roberta_neg': 0.04699136, 'roberta_neu': 0.1101202, 'roberta_pos': 0.8428885}, 2176: {'roberta_neg': 0.0017000855, 'roberta_neu': 0.028035212, 'roberta_pos': 0.97026473}, 2177: {'roberta_neg': 0.009276953, 'roberta_neu': 0.19322507, 'roberta_pos': 0.797498}, 2178: {'roberta_neg': 0.0038070644, 'roberta_neu': 0.033396374, 'roberta_pos': 0.9627966}, 2179: {'roberta_neg': 0.049602173, 'roberta_neu': 0.16093642, 'roberta_pos': 0.78946143}, 2180: {'roberta_neg': 0.0024285153, 'roberta_neu': 0.02448606, 'roberta_pos': 0.9730854}, 2181: {'roberta_neg': 0.08367064, 'roberta_neu': 0.43069106, 'roberta_pos': 0.48563823}, 2182: {'roberta_neg': 0.012267749, 'roberta_neu': 0.05909585, 'roberta_pos': 0.92863643}, 2183: {'roberta_neg': 0.2351934, 'roberta_neu': 0.4121164, 'roberta_pos': 0.3526902}, 2184: {'roberta_neg': 0.0015018391, 'roberta_neu': 0.019961132, 'roberta_pos': 0.9785371}, 2185: {'roberta_neg': 0.063344084, 'roberta_neu': 0.32210755, 'roberta_pos': 0.6145484}, 2186: {'roberta_neg': 0.0029423388, 'roberta_neu': 0.020489205, 'roberta_pos': 0.97656846}, 2187: {'roberta_neg': 0.0088711465, 'roberta_neu': 0.058528036, 'roberta_pos': 0.9326008}, 2188: {'roberta_neg': 0.020026948, 'roberta_neu': 0.18264498, 'roberta_pos': 0.79732805}, 2189: {'roberta_neg': 0.0075072036, 'roberta_neu': 0.1860236, 'roberta_pos': 0.8064692}, 2190: {'roberta_neg': 0.23950218, 'roberta_neu': 0.5281888, 'roberta_pos': 0.232309}, 2191: {'roberta_neg': 0.0017661835, 'roberta_neu': 0.010020288, 'roberta_pos': 0.98821354}, 2192: {'roberta_neg': 0.0017033363, 'roberta_neu': 0.013859975, 'roberta_pos': 0.98443675}, 2193: {'roberta_neg': 0.0075058592, 'roberta_neu': 0.062090296, 'roberta_pos': 0.9304039}, 2194: {'roberta_neg': 0.09785946, 'roberta_neu': 0.32558817, 'roberta_pos': 0.5765524}, 2195: {'roberta_neg': 0.73284423, 'roberta_neu': 0.2416045, 'roberta_pos': 0.025551239}, 2196: {'roberta_neg': 0.0038630515, 'roberta_neu': 0.05023014, 'roberta_pos': 0.9459068}, 2197: {'roberta_neg': 0.0035286993, 'roberta_neu': 0.02675367, 'roberta_pos': 0.9697176}, 2198: {'roberta_neg': 0.03367569, 'roberta_neu': 0.12486226, 'roberta_pos': 0.841462}, 2199: {'roberta_neg': 0.0047480757, 'roberta_neu': 0.026589977, 'roberta_pos': 0.96866196}, 2200: {'roberta_neg': 0.0019847443, 'roberta_neu': 0.031470742, 'roberta_pos': 0.9665445}, 2201: {'roberta_neg': 0.003949812, 'roberta_neu': 0.026360346, 'roberta_pos': 0.9696898}, 2202: {'roberta_neg': 0.0019726874, 'roberta_neu': 0.020655807, 'roberta_pos': 0.9773716}, 2203: {'roberta_neg': 0.003757591, 'roberta_neu': 0.04206457, 'roberta_pos': 0.95417786}, 2204: {'roberta_neg': 0.0063188775, 'roberta_neu': 0.056130506, 'roberta_pos': 0.93755066}, 2205: {'roberta_neg': 0.74185646, 'roberta_neu': 0.23292929, 'roberta_pos': 0.025214255}, 2206: {'roberta_neg': 0.0014865389, 'roberta_neu': 0.014023463, 'roberta_pos': 0.98449004}, 2207: {'roberta_neg': 0.002218346, 'roberta_neu': 0.0348988, 'roberta_pos': 0.9628828}, 2208: {'roberta_neg': 0.0024368274, 'roberta_neu': 0.049492765, 'roberta_pos': 0.94807035}, 2209: {'roberta_neg': 0.8103518, 'roberta_neu': 0.16987258, 'roberta_pos': 0.019775614}, 2210: {'roberta_neg': 0.0019254186, 'roberta_neu': 0.010847439, 'roberta_pos': 0.98722714}, 2211: {'roberta_neg': 0.006214037, 'roberta_neu': 0.047870483, 'roberta_pos': 0.94591546}, 2212: {'roberta_neg': 0.004612, 'roberta_neu': 0.058629654, 'roberta_pos': 0.93675834}, 2213: {'roberta_neg': 0.0014743141, 'roberta_neu': 0.024498625, 'roberta_pos': 0.97402704}, 2214: {'roberta_neg': 0.0032209072, 'roberta_neu': 0.041418586, 'roberta_pos': 0.95536053}, 2215: {'roberta_neg': 0.009541814, 'roberta_neu': 0.04592794, 'roberta_pos': 0.9445302}, 2216: {'roberta_neg': 0.0023992618, 'roberta_neu': 0.01686348, 'roberta_pos': 0.98073727}, 2217: {'roberta_neg': 0.82664454, 'roberta_neu': 0.15123935, 'roberta_pos': 0.022116035}, 2218: {'roberta_neg': 0.009543204, 'roberta_neu': 0.054634877, 'roberta_pos': 0.93582195}, 2219: {'roberta_neg': 0.0035030858, 'roberta_neu': 0.019251104, 'roberta_pos': 0.97724587}, 2220: {'roberta_neg': 0.0043902006, 'roberta_neu': 0.035668213, 'roberta_pos': 0.95994157}, 2221: {'roberta_neg': 0.0016700448, 'roberta_neu': 0.020287998, 'roberta_pos': 0.97804195}, 2222: {'roberta_neg': 0.0023909889, 'roberta_neu': 0.01965578, 'roberta_pos': 0.97795326}, 2223: {'roberta_neg': 0.007830108, 'roberta_neu': 0.07424505, 'roberta_pos': 0.91792476}, 2224: {'roberta_neg': 0.0019163181, 'roberta_neu': 0.026092535, 'roberta_pos': 0.9719911}, 2225: {'roberta_neg': 0.0037883292, 'roberta_neu': 0.045252424, 'roberta_pos': 0.9509592}, 2226: {'roberta_neg': 0.0023424716, 'roberta_neu': 0.055567846, 'roberta_pos': 0.94208974}, 2227: {'roberta_neg': 0.030909874, 'roberta_neu': 0.111948974, 'roberta_pos': 0.85714114}, 2228: {'roberta_neg': 0.0018828976, 'roberta_neu': 0.033399824, 'roberta_pos': 0.9647172}, 2229: {'roberta_neg': 0.0032500683, 'roberta_neu': 0.035137404, 'roberta_pos': 0.9616126}, 2230: {'roberta_neg': 0.009362369, 'roberta_neu': 0.06120712, 'roberta_pos': 0.92943054}, 2231: {'roberta_neg': 0.012545667, 'roberta_neu': 0.08829855, 'roberta_pos': 0.89915574}, 2232: {'roberta_neg': 0.0020925906, 'roberta_neu': 0.018418482, 'roberta_pos': 0.97948897}, 2233: {'roberta_neg': 0.023398072, 'roberta_neu': 0.1596809, 'roberta_pos': 0.81692106}, 2234: {'roberta_neg': 0.12365298, 'roberta_neu': 0.7640315, 'roberta_pos': 0.112315476}, 2235: {'roberta_neg': 0.0021585573, 'roberta_neu': 0.025013238, 'roberta_pos': 0.9728282}, 2236: {'roberta_neg': 0.0020153287, 'roberta_neu': 0.007963884, 'roberta_pos': 0.9900209}, 2237: {'roberta_neg': 0.004592491, 'roberta_neu': 0.0396111, 'roberta_pos': 0.95579636}, 2238: {'roberta_neg': 0.8485973, 'roberta_neu': 0.1364061, 'roberta_pos': 0.014996713}, 2239: {'roberta_neg': 0.0023426276, 'roberta_neu': 0.019340647, 'roberta_pos': 0.9783167}, 2240: {'roberta_neg': 0.001674577, 'roberta_neu': 0.023042507, 'roberta_pos': 0.9752829}, 2241: {'roberta_neg': 0.07148234, 'roberta_neu': 0.4952719, 'roberta_pos': 0.4332457}, 2242: {'roberta_neg': 0.0043754554, 'roberta_neu': 0.07486497, 'roberta_pos': 0.9207596}, 2243: {'roberta_neg': 0.03595932, 'roberta_neu': 0.20488368, 'roberta_pos': 0.759157}, 2244: {'roberta_neg': 0.018840848, 'roberta_neu': 0.092358224, 'roberta_pos': 0.8888009}, 2245: {'roberta_neg': 0.054751102, 'roberta_neu': 0.26440722, 'roberta_pos': 0.6808417}, 2246: {'roberta_neg': 0.027849913, 'roberta_neu': 0.13166785, 'roberta_pos': 0.84048223}, 2247: {'roberta_neg': 0.0821193, 'roberta_neu': 0.34989518, 'roberta_pos': 0.5679855}, 2248: {'roberta_neg': 0.001907408, 'roberta_neu': 0.019053191, 'roberta_pos': 0.9790394}, 2249: {'roberta_neg': 0.0018457773, 'roberta_neu': 0.018067416, 'roberta_pos': 0.9800868}, 2250: {'roberta_neg': 0.0018759758, 'roberta_neu': 0.010812057, 'roberta_pos': 0.98731196}, 2251: {'roberta_neg': 0.001439334, 'roberta_neu': 0.0056141824, 'roberta_pos': 0.99294645}, 2252: {'roberta_neg': 0.3514716, 'roberta_neu': 0.4829499, 'roberta_pos': 0.1655785}, 2253: {'roberta_neg': 0.046812404, 'roberta_neu': 0.20636523, 'roberta_pos': 0.74682236}, 2254: {'roberta_neg': 0.0030175385, 'roberta_neu': 0.047076795, 'roberta_pos': 0.94990563}, 2255: {'roberta_neg': 0.0025150664, 'roberta_neu': 0.011810926, 'roberta_pos': 0.98567396}, 2256: {'roberta_neg': 0.0011408738, 'roberta_neu': 0.013118241, 'roberta_pos': 0.98574096}, 2257: {'roberta_neg': 0.6416, 'roberta_neu': 0.30355415, 'roberta_pos': 0.054845843}, 2258: {'roberta_neg': 0.0017824497, 'roberta_neu': 0.010474092, 'roberta_pos': 0.9877435}, 2259: {'roberta_neg': 0.002581438, 'roberta_neu': 0.03210702, 'roberta_pos': 0.96531147}, 2260: {'roberta_neg': 0.01788292, 'roberta_neu': 0.05644858, 'roberta_pos': 0.92566854}, 2261: {'roberta_neg': 0.06460794, 'roberta_neu': 0.19733758, 'roberta_pos': 0.7380545}, 2262: {'roberta_neg': 0.0014434124, 'roberta_neu': 0.0169378, 'roberta_pos': 0.9816188}, 2263: {'roberta_neg': 0.0031389766, 'roberta_neu': 0.0398161, 'roberta_pos': 0.95704496}, 2264: {'roberta_neg': 0.0012570504, 'roberta_neu': 0.00986317, 'roberta_pos': 0.9888798}, 2265: {'roberta_neg': 0.0016289577, 'roberta_neu': 0.006553162, 'roberta_pos': 0.99181783}, 2266: {'roberta_neg': 0.04924425, 'roberta_neu': 0.11568271, 'roberta_pos': 0.83507305}, 2267: {'roberta_neg': 0.0013529339, 'roberta_neu': 0.007909937, 'roberta_pos': 0.99073714}, 2268: {'roberta_neg': 0.011407143, 'roberta_neu': 0.11418859, 'roberta_pos': 0.8744043}, 2269: {'roberta_neg': 0.0013406336, 'roberta_neu': 0.011763494, 'roberta_pos': 0.98689586}, 2270: {'roberta_neg': 0.010226961, 'roberta_neu': 0.06875503, 'roberta_pos': 0.921018}, 2271: {'roberta_neg': 0.0018658814, 'roberta_neu': 0.009538355, 'roberta_pos': 0.9885958}, 2272: {'roberta_neg': 0.003675483, 'roberta_neu': 0.017916443, 'roberta_pos': 0.9784081}, 2273: {'roberta_neg': 0.0021986922, 'roberta_neu': 0.015424048, 'roberta_pos': 0.9823773}, 2274: {'roberta_neg': 0.010935659, 'roberta_neu': 0.12152948, 'roberta_pos': 0.8675348}, 2275: {'roberta_neg': 0.0029867042, 'roberta_neu': 0.03590388, 'roberta_pos': 0.9611094}, 2276: {'roberta_neg': 0.0021615634, 'roberta_neu': 0.04218169, 'roberta_pos': 0.95565677}, 2277: {'roberta_neg': 0.0014587096, 'roberta_neu': 0.02073326, 'roberta_pos': 0.977808}, 2278: {'roberta_neg': 0.0029647201, 'roberta_neu': 0.020462275, 'roberta_pos': 0.97657305}, 2279: {'roberta_neg': 0.04218223, 'roberta_neu': 0.23615143, 'roberta_pos': 0.7216664}, 2280: {'roberta_neg': 0.0034345915, 'roberta_neu': 0.07753186, 'roberta_pos': 0.9190335}, 2281: {'roberta_neg': 0.007443891, 'roberta_neu': 0.045909796, 'roberta_pos': 0.94664633}, 2282: {'roberta_neg': 0.0037590743, 'roberta_neu': 0.05869672, 'roberta_pos': 0.93754417}, 2283: {'roberta_neg': 0.52983654, 'roberta_neu': 0.40341288, 'roberta_pos': 0.06675066}, 2284: {'roberta_neg': 0.3144327, 'roberta_neu': 0.44225544, 'roberta_pos': 0.24331185}, 2285: {'roberta_neg': 0.027722694, 'roberta_neu': 0.19808319, 'roberta_pos': 0.77419406}, 2286: {'roberta_neg': 0.048278306, 'roberta_neu': 0.27671543, 'roberta_pos': 0.6750063}, 2287: {'roberta_neg': 0.30971354, 'roberta_neu': 0.37670422, 'roberta_pos': 0.31358215}, 2288: {'roberta_neg': 0.0779021, 'roberta_neu': 0.33749825, 'roberta_pos': 0.5845997}, 2289: {'roberta_neg': 0.01612435, 'roberta_neu': 0.053781778, 'roberta_pos': 0.9300939}, 2290: {'roberta_neg': 0.001521709, 'roberta_neu': 0.011684166, 'roberta_pos': 0.9867942}, 2291: {'roberta_neg': 0.0025434932, 'roberta_neu': 0.018788777, 'roberta_pos': 0.9786677}, 2292: {'roberta_neg': 0.14572039, 'roberta_neu': 0.44388238, 'roberta_pos': 0.41039726}, 2293: {'roberta_neg': 0.0015307073, 'roberta_neu': 0.02259773, 'roberta_pos': 0.9758716}, 2294: {'roberta_neg': 0.0011292129, 'roberta_neu': 0.017649539, 'roberta_pos': 0.9812213}, 2295: {'roberta_neg': 0.5791247, 'roberta_neu': 0.28407207, 'roberta_pos': 0.13680318}, 2296: {'roberta_neg': 0.001972927, 'roberta_neu': 0.03560279, 'roberta_pos': 0.9624242}, 2297: {'roberta_neg': 0.0016049865, 'roberta_neu': 0.019826699, 'roberta_pos': 0.9785684}, 2298: {'roberta_neg': 0.010372241, 'roberta_neu': 0.42457256, 'roberta_pos': 0.5650552}, 2299: {'roberta_neg': 0.7430513, 'roberta_neu': 0.22205925, 'roberta_pos': 0.034889393}, 2300: {'roberta_neg': 0.37776956, 'roberta_neu': 0.4456723, 'roberta_pos': 0.17655818}, 2301: {'roberta_neg': 0.0030774996, 'roberta_neu': 0.012114082, 'roberta_pos': 0.98480844}, 2302: {'roberta_neg': 0.0046745436, 'roberta_neu': 0.054136585, 'roberta_pos': 0.9411888}, 2303: {'roberta_neg': 0.0017349728, 'roberta_neu': 0.016078038, 'roberta_pos': 0.98218703}, 2304: {'roberta_neg': 0.002776688, 'roberta_neu': 0.023254503, 'roberta_pos': 0.9739688}, 2305: {'roberta_neg': 0.029412113, 'roberta_neu': 0.16396624, 'roberta_pos': 0.8066217}, 2306: {'roberta_neg': 0.80570346, 'roberta_neu': 0.17012478, 'roberta_pos': 0.024171747}, 2307: {'roberta_neg': 0.005587131, 'roberta_neu': 0.03241334, 'roberta_pos': 0.96199954}, 2308: {'roberta_neg': 0.008082837, 'roberta_neu': 0.061032698, 'roberta_pos': 0.9308845}, 2309: {'roberta_neg': 0.57588494, 'roberta_neu': 0.3365176, 'roberta_pos': 0.08759748}, 2310: {'roberta_neg': 0.03456612, 'roberta_neu': 0.13095972, 'roberta_pos': 0.83447415}, 2311: {'roberta_neg': 0.78664535, 'roberta_neu': 0.17988874, 'roberta_pos': 0.03346591}, 2312: {'roberta_neg': 0.045183778, 'roberta_neu': 0.21188892, 'roberta_pos': 0.74292725}, 2313: {'roberta_neg': 0.21536247, 'roberta_neu': 0.44767144, 'roberta_pos': 0.3369661}, 2314: {'roberta_neg': 0.0040417593, 'roberta_neu': 0.033383258, 'roberta_pos': 0.96257496}, 2315: {'roberta_neg': 0.8369158, 'roberta_neu': 0.14499204, 'roberta_pos': 0.018092187}, 2316: {'roberta_neg': 0.9707465, 'roberta_neu': 0.026947876, 'roberta_pos': 0.0023056578}, 2317: {'roberta_neg': 0.0017307039, 'roberta_neu': 0.00656311, 'roberta_pos': 0.99170625}, 2318: {'roberta_neg': 0.4569341, 'roberta_neu': 0.39381036, 'roberta_pos': 0.14925551}, 2319: {'roberta_neg': 0.005034176, 'roberta_neu': 0.02752928, 'roberta_pos': 0.9674365}, 2320: {'roberta_neg': 0.0027793557, 'roberta_neu': 0.023214458, 'roberta_pos': 0.97400624}, 2321: {'roberta_neg': 0.0017671551, 'roberta_neu': 0.018568993, 'roberta_pos': 0.97966385}, 2322: {'roberta_neg': 0.0032184168, 'roberta_neu': 0.022507712, 'roberta_pos': 0.97427386}, 2323: {'roberta_neg': 0.0017149828, 'roberta_neu': 0.016440503, 'roberta_pos': 0.98184454}, 2324: {'roberta_neg': 0.012451203, 'roberta_neu': 0.070408955, 'roberta_pos': 0.9171399}, 2325: {'roberta_neg': 0.0013855723, 'roberta_neu': 0.0093452, 'roberta_pos': 0.9892692}, 2326: {'roberta_neg': 0.007971913, 'roberta_neu': 0.055039946, 'roberta_pos': 0.9369881}, 2327: {'roberta_neg': 0.9134532, 'roberta_neu': 0.075012766, 'roberta_pos': 0.01153412}, 2328: {'roberta_neg': 0.0020656064, 'roberta_neu': 0.012950932, 'roberta_pos': 0.9849835}, 2329: {'roberta_neg': 0.0023730043, 'roberta_neu': 0.017852422, 'roberta_pos': 0.97977453}, 2330: {'roberta_neg': 0.003301557, 'roberta_neu': 0.022195939, 'roberta_pos': 0.9745025}, 2331: {'roberta_neg': 0.002769601, 'roberta_neu': 0.06696138, 'roberta_pos': 0.93026906}, 2332: {'roberta_neg': 0.0040676864, 'roberta_neu': 0.05150804, 'roberta_pos': 0.9444243}, 2333: {'roberta_neg': 0.0017980054, 'roberta_neu': 0.019309266, 'roberta_pos': 0.9788928}, 2334: {'roberta_neg': 0.0017039337, 'roberta_neu': 0.009551286, 'roberta_pos': 0.98874485}, 2335: {'roberta_neg': 0.399506, 'roberta_neu': 0.4203927, 'roberta_pos': 0.1801013}, 2336: {'roberta_neg': 0.0040685893, 'roberta_neu': 0.043473512, 'roberta_pos': 0.9524579}, 2337: {'roberta_neg': 0.0043066675, 'roberta_neu': 0.076222286, 'roberta_pos': 0.919471}, 2338: {'roberta_neg': 0.0025012463, 'roberta_neu': 0.016652806, 'roberta_pos': 0.98084587}, 2339: {'roberta_neg': 0.15861681, 'roberta_neu': 0.36330932, 'roberta_pos': 0.47807387}, 2340: {'roberta_neg': 0.48885515, 'roberta_neu': 0.3812868, 'roberta_pos': 0.12985805}, 2341: {'roberta_neg': 0.011890025, 'roberta_neu': 0.20244797, 'roberta_pos': 0.78566206}, 2342: {'roberta_neg': 0.0033354508, 'roberta_neu': 0.029946957, 'roberta_pos': 0.9667176}, 2343: {'roberta_neg': 0.04506179, 'roberta_neu': 0.21402882, 'roberta_pos': 0.7409094}, 2344: {'roberta_neg': 0.03557059, 'roberta_neu': 0.26569682, 'roberta_pos': 0.69873255}, 2345: {'roberta_neg': 0.0040571457, 'roberta_neu': 0.029002879, 'roberta_pos': 0.9669399}, 2346: {'roberta_neg': 0.0012353852, 'roberta_neu': 0.010155676, 'roberta_pos': 0.98860896}, 2347: {'roberta_neg': 0.0017527904, 'roberta_neu': 0.017794754, 'roberta_pos': 0.9804524}, 2348: {'roberta_neg': 0.1337038, 'roberta_neu': 0.34076926, 'roberta_pos': 0.52552694}, 2349: {'roberta_neg': 0.005120376, 'roberta_neu': 0.032526508, 'roberta_pos': 0.9623531}, 2350: {'roberta_neg': 0.0028781472, 'roberta_neu': 0.054374285, 'roberta_pos': 0.94274753}, 2351: {'roberta_neg': 0.2792315, 'roberta_neu': 0.49094802, 'roberta_pos': 0.22982052}, 2352: {'roberta_neg': 0.0013995807, 'roberta_neu': 0.016549252, 'roberta_pos': 0.98205113}, 2353: {'roberta_neg': 0.016597548, 'roberta_neu': 0.36852092, 'roberta_pos': 0.6148815}, 2354: {'roberta_neg': 0.00559604, 'roberta_neu': 0.094677694, 'roberta_pos': 0.8997263}, 2355: {'roberta_neg': 0.0047684256, 'roberta_neu': 0.03623513, 'roberta_pos': 0.9589964}, 2356: {'roberta_neg': 0.00414259, 'roberta_neu': 0.11189752, 'roberta_pos': 0.8839599}, 2357: {'roberta_neg': 0.0024083394, 'roberta_neu': 0.034486003, 'roberta_pos': 0.9631057}, 2358: {'roberta_neg': 0.004648456, 'roberta_neu': 0.034684993, 'roberta_pos': 0.9606666}, 2359: {'roberta_neg': 0.004761644, 'roberta_neu': 0.025358291, 'roberta_pos': 0.96988004}, 2360: {'roberta_neg': 0.23950218, 'roberta_neu': 0.5281888, 'roberta_pos': 0.232309}, 2361: {'roberta_neg': 0.0015660358, 'roberta_neu': 0.009098659, 'roberta_pos': 0.98933536}, 2362: {'roberta_neg': 0.0015493176, 'roberta_neu': 0.017019188, 'roberta_pos': 0.9814315}, 2363: {'roberta_neg': 0.0017941111, 'roberta_neu': 0.013926947, 'roberta_pos': 0.984279}, 2364: {'roberta_neg': 0.86239725, 'roberta_neu': 0.12661578, 'roberta_pos': 0.010986932}, 2365: {'roberta_neg': 0.010405823, 'roberta_neu': 0.40391877, 'roberta_pos': 0.5856754}, 2366: {'roberta_neg': 0.0009680192, 'roberta_neu': 0.015235414, 'roberta_pos': 0.98379654}, 2367: {'roberta_neg': 0.5334295, 'roberta_neu': 0.39379016, 'roberta_pos': 0.072780326}, 2368: {'roberta_neg': 0.0014694841, 'roberta_neu': 0.008417298, 'roberta_pos': 0.99011326}, 2369: {'roberta_neg': 0.0013589936, 'roberta_neu': 0.010541162, 'roberta_pos': 0.9880998}, 2370: {'roberta_neg': 0.87728906, 'roberta_neu': 0.10958118, 'roberta_pos': 0.013129701}, 2371: {'roberta_neg': 0.6268307, 'roberta_neu': 0.32516655, 'roberta_pos': 0.04800276}, 2372: {'roberta_neg': 0.23950218, 'roberta_neu': 0.5281888, 'roberta_pos': 0.232309}, 2373: {'roberta_neg': 0.14996247, 'roberta_neu': 0.52861756, 'roberta_pos': 0.32141995}, 2374: {'roberta_neg': 0.6158247, 'roberta_neu': 0.33344212, 'roberta_pos': 0.05073315}, 2375: {'roberta_neg': 0.0024282897, 'roberta_neu': 0.033338364, 'roberta_pos': 0.9642333}, 2376: {'roberta_neg': 0.44681007, 'roberta_neu': 0.4171245, 'roberta_pos': 0.13606545}, 2377: {'roberta_neg': 0.8610483, 'roberta_neu': 0.12764238, 'roberta_pos': 0.011309364}, 2378: {'roberta_neg': 0.004015216, 'roberta_neu': 0.03272652, 'roberta_pos': 0.96325827}, 2379: {'roberta_neg': 0.0032865326, 'roberta_neu': 0.012793775, 'roberta_pos': 0.9839197}, 2380: {'roberta_neg': 0.0015495531, 'roberta_neu': 0.032167025, 'roberta_pos': 0.96628344}, 2381: {'roberta_neg': 0.02487446, 'roberta_neu': 0.098022245, 'roberta_pos': 0.87710327}, 2382: {'roberta_neg': 0.0035688549, 'roberta_neu': 0.1398141, 'roberta_pos': 0.8566171}, 2383: {'roberta_neg': 0.015033524, 'roberta_neu': 0.10817492, 'roberta_pos': 0.8767916}, 2384: {'roberta_neg': 0.033256166, 'roberta_neu': 0.2783838, 'roberta_pos': 0.68836004}, 2385: {'roberta_neg': 0.9511923, 'roberta_neu': 0.044661257, 'roberta_pos': 0.004146376}, 2386: {'roberta_neg': 0.004440008, 'roberta_neu': 0.010465761, 'roberta_pos': 0.9850942}, 2387: {'roberta_neg': 0.0043858644, 'roberta_neu': 0.04152678, 'roberta_pos': 0.9540874}, 2388: {'roberta_neg': 0.22339335, 'roberta_neu': 0.57417697, 'roberta_pos': 0.20242968}, 2389: {'roberta_neg': 0.0011688201, 'roberta_neu': 0.011060151, 'roberta_pos': 0.98777103}, 2390: {'roberta_neg': 0.4458131, 'roberta_neu': 0.3891746, 'roberta_pos': 0.16501229}, 2391: {'roberta_neg': 0.0029366228, 'roberta_neu': 0.039030377, 'roberta_pos': 0.958033}, 2392: {'roberta_neg': 0.0016091666, 'roberta_neu': 0.008826966, 'roberta_pos': 0.9895639}, 2393: {'roberta_neg': 0.07317242, 'roberta_neu': 0.245921, 'roberta_pos': 0.68090653}, 2394: {'roberta_neg': 0.466535, 'roberta_neu': 0.36241075, 'roberta_pos': 0.17105424}, 2395: {'roberta_neg': 0.15050109, 'roberta_neu': 0.29797342, 'roberta_pos': 0.5515255}, 2396: {'roberta_neg': 0.032805964, 'roberta_neu': 0.22178118, 'roberta_pos': 0.7454129}, 2397: {'roberta_neg': 0.9540852, 'roberta_neu': 0.04248338, 'roberta_pos': 0.0034313912}, 2398: {'roberta_neg': 0.0010987354, 'roberta_neu': 0.008483894, 'roberta_pos': 0.99041736}, 2399: {'roberta_neg': 0.5562095, 'roberta_neu': 0.38996452, 'roberta_pos': 0.053825982}, 2400: {'roberta_neg': 0.0018482149, 'roberta_neu': 0.03080765, 'roberta_pos': 0.9673441}, 2401: {'roberta_neg': 0.22544345, 'roberta_neu': 0.46147278, 'roberta_pos': 0.31308377}, 2402: {'roberta_neg': 0.005960609, 'roberta_neu': 0.053230505, 'roberta_pos': 0.94080895}, 2403: {'roberta_neg': 0.00253791, 'roberta_neu': 0.021750627, 'roberta_pos': 0.97571146}, 2404: {'roberta_neg': 0.7494285, 'roberta_neu': 0.21555157, 'roberta_pos': 0.035019897}, 2405: {'roberta_neg': 0.25352147, 'roberta_neu': 0.46035314, 'roberta_pos': 0.28612545}, 2406: {'roberta_neg': 0.011694932, 'roberta_neu': 0.13893293, 'roberta_pos': 0.84937215}, 2407: {'roberta_neg': 0.85513127, 'roberta_neu': 0.12910745, 'roberta_pos': 0.015761282}, 2408: {'roberta_neg': 0.4658032, 'roberta_neu': 0.37859288, 'roberta_pos': 0.15560389}, 2409: {'roberta_neg': 0.002278304, 'roberta_neu': 0.07707238, 'roberta_pos': 0.92064935}, 2410: {'roberta_neg': 0.371134, 'roberta_neu': 0.4518875, 'roberta_pos': 0.17697844}, 2411: {'roberta_neg': 0.002578185, 'roberta_neu': 0.009458106, 'roberta_pos': 0.9879637}, 2412: {'roberta_neg': 0.6383544, 'roberta_neu': 0.309416, 'roberta_pos': 0.0522296}, 2413: {'roberta_neg': 0.0013178657, 'roberta_neu': 0.014868285, 'roberta_pos': 0.9838139}, 2414: {'roberta_neg': 0.00204417, 'roberta_neu': 0.013222883, 'roberta_pos': 0.9847329}, 2415: {'roberta_neg': 0.008571564, 'roberta_neu': 0.06844446, 'roberta_pos': 0.92298394}, 2416: {'roberta_neg': 0.008027025, 'roberta_neu': 0.060645927, 'roberta_pos': 0.93132704}, 2417: {'roberta_neg': 0.7058547, 'roberta_neu': 0.2645474, 'roberta_pos': 0.029597878}, 2418: {'roberta_neg': 0.007590673, 'roberta_neu': 0.06916906, 'roberta_pos': 0.92324024}, 2419: {'roberta_neg': 0.0016013372, 'roberta_neu': 0.03176019, 'roberta_pos': 0.9666385}, 2420: {'roberta_neg': 0.0044902377, 'roberta_neu': 0.03211895, 'roberta_pos': 0.9633908}, 2421: {'roberta_neg': 0, 'roberta_neu': 0, 'roberta_pos': 0}, 2422: {'roberta_neg': 0.006141476, 'roberta_neu': 0.0422048, 'roberta_pos': 0.9516538}, 2423: {'roberta_neg': 0.0017820112, 'roberta_neu': 0.023333954, 'roberta_pos': 0.97488403}, 2424: {'roberta_neg': 0.00203766, 'roberta_neu': 0.017284812, 'roberta_pos': 0.98067755}, 2425: {'roberta_neg': 0.004144095, 'roberta_neu': 0.03706662, 'roberta_pos': 0.95878935}, 2426: {'roberta_neg': 0.0022162353, 'roberta_neu': 0.040742073, 'roberta_pos': 0.9570417}, 2427: {'roberta_neg': 0.7357999, 'roberta_neu': 0.2267207, 'roberta_pos': 0.037479386}, 2428: {'roberta_neg': 0.033231962, 'roberta_neu': 0.19814643, 'roberta_pos': 0.76862156}, 2429: {'roberta_neg': 0.046020944, 'roberta_neu': 0.34045744, 'roberta_pos': 0.61352164}, 2430: {'roberta_neg': 0.035270087, 'roberta_neu': 0.2396026, 'roberta_pos': 0.72512734}, 2431: {'roberta_neg': 0.17289318, 'roberta_neu': 0.5333935, 'roberta_pos': 0.2937133}, 2432: {'roberta_neg': 0.0838043, 'roberta_neu': 0.34560487, 'roberta_pos': 0.57059085}, 2433: {'roberta_neg': 0.85430616, 'roberta_neu': 0.13691506, 'roberta_pos': 0.008778858}, 2434: {'roberta_neg': 0.09852575, 'roberta_neu': 0.33320132, 'roberta_pos': 0.56827295}, 2435: {'roberta_neg': 0.0011070166, 'roberta_neu': 0.010732905, 'roberta_pos': 0.98816013}, 2436: {'roberta_neg': 0.46952432, 'roberta_neu': 0.38278967, 'roberta_pos': 0.14768602}, 2437: {'roberta_neg': 0.0034439554, 'roberta_neu': 0.084838554, 'roberta_pos': 0.91171753}, 2438: {'roberta_neg': 0.004793875, 'roberta_neu': 0.030103048, 'roberta_pos': 0.96510303}, 2439: {'roberta_neg': 0.004827176, 'roberta_neu': 0.06372106, 'roberta_pos': 0.93145174}, 2440: {'roberta_neg': 0.001421811, 'roberta_neu': 0.020936681, 'roberta_pos': 0.9776415}, 2441: {'roberta_neg': 0.0014439141, 'roberta_neu': 0.012363486, 'roberta_pos': 0.9861925}, 2442: {'roberta_neg': 0.0024975203, 'roberta_neu': 0.027137486, 'roberta_pos': 0.9703649}, 2443: {'roberta_neg': 0.0018598137, 'roberta_neu': 0.020770097, 'roberta_pos': 0.9773701}, 2444: {'roberta_neg': 0.0013966822, 'roberta_neu': 0.0069696885, 'roberta_pos': 0.99163365}, 2445: {'roberta_neg': 0.0016328547, 'roberta_neu': 0.021868182, 'roberta_pos': 0.9764989}, 2446: {'roberta_neg': 0.5456264, 'roberta_neu': 0.36512554, 'roberta_pos': 0.089248076}, 2447: {'roberta_neg': 0.7740601, 'roberta_neu': 0.202634, 'roberta_pos': 0.023305908}, 2448: {'roberta_neg': 0.0012482923, 'roberta_neu': 0.0092406105, 'roberta_pos': 0.9895111}, 2449: {'roberta_neg': 0.007021506, 'roberta_neu': 0.047571402, 'roberta_pos': 0.94540715}, 2450: {'roberta_neg': 0.001829852, 'roberta_neu': 0.034760654, 'roberta_pos': 0.96340954}, 2451: {'roberta_neg': 0.0035153853, 'roberta_neu': 0.025786141, 'roberta_pos': 0.9706984}, 2452: {'roberta_neg': 0.0014541452, 'roberta_neu': 0.015911736, 'roberta_pos': 0.9826341}, 2453: {'roberta_neg': 0.0031395669, 'roberta_neu': 0.03194067, 'roberta_pos': 0.96491975}, 2454: {'roberta_neg': 0.0014743035, 'roberta_neu': 0.021697305, 'roberta_pos': 0.97682846}, 2455: {'roberta_neg': 0.0014513526, 'roberta_neu': 0.0077132275, 'roberta_pos': 0.9908354}, 2456: {'roberta_neg': 0.0012594769, 'roberta_neu': 0.01035179, 'roberta_pos': 0.9883887}, 2457: {'roberta_neg': 0.016514668, 'roberta_neu': 0.071484886, 'roberta_pos': 0.9120005}, 2458: {'roberta_neg': 0.0026522013, 'roberta_neu': 0.011164375, 'roberta_pos': 0.9861834}, 2459: {'roberta_neg': 0.21353501, 'roberta_neu': 0.35106072, 'roberta_pos': 0.4354043}, 2460: {'roberta_neg': 0.0022496837, 'roberta_neu': 0.020340322, 'roberta_pos': 0.97741}, 2461: {'roberta_neg': 0.0064739813, 'roberta_neu': 0.045088865, 'roberta_pos': 0.94843715}, 2462: {'roberta_neg': 0.6853688, 'roberta_neu': 0.2697601, 'roberta_pos': 0.044871043}, 2463: {'roberta_neg': 0.0025186408, 'roberta_neu': 0.010450625, 'roberta_pos': 0.9870307}, 2464: {'roberta_neg': 0.0013446787, 'roberta_neu': 0.010745993, 'roberta_pos': 0.9879094}, 2465: {'roberta_neg': 0.0026934636, 'roberta_neu': 0.026430216, 'roberta_pos': 0.9708763}, 2466: {'roberta_neg': 0.006986691, 'roberta_neu': 0.19416893, 'roberta_pos': 0.7988444}, 2467: {'roberta_neg': 0.0021692587, 'roberta_neu': 0.0068534235, 'roberta_pos': 0.9909773}, 2468: {'roberta_neg': 0.23950218, 'roberta_neu': 0.5281888, 'roberta_pos': 0.232309}, 2469: {'roberta_neg': 0.0014515524, 'roberta_neu': 0.008874297, 'roberta_pos': 0.98967415}, 2470: {'roberta_neg': 0.0012749241, 'roberta_neu': 0.015756994, 'roberta_pos': 0.98296803}, 2471: {'roberta_neg': 0.001138219, 'roberta_neu': 0.012160063, 'roberta_pos': 0.98670167}, 2472: {'roberta_neg': 0.01261826, 'roberta_neu': 0.066510215, 'roberta_pos': 0.9208715}, 2473: {'roberta_neg': 0.23950218, 'roberta_neu': 0.5281888, 'roberta_pos': 0.232309}, 2474: {'roberta_neg': 0.0011916887, 'roberta_neu': 0.012079773, 'roberta_pos': 0.9867286}, 2475: {'roberta_neg': 0.0026036547, 'roberta_neu': 0.032656547, 'roberta_pos': 0.96473974}, 2476: {'roberta_neg': 0.23950218, 'roberta_neu': 0.5281888, 'roberta_pos': 0.232309}, 2477: {'roberta_neg': 0.23950218, 'roberta_neu': 0.5281888, 'roberta_pos': 0.232309}, 2478: {'roberta_neg': 0.009567667, 'roberta_neu': 0.06041517, 'roberta_pos': 0.9300172}, 2479: {'roberta_neg': 0.0027698218, 'roberta_neu': 0.01356613, 'roberta_pos': 0.98366404}, 2480: {'roberta_neg': 0.002001424, 'roberta_neu': 0.02154977, 'roberta_pos': 0.9764488}, 2481: {'roberta_neg': 0.0063026566, 'roberta_neu': 0.047346674, 'roberta_pos': 0.9463507}, 2482: {'roberta_neg': 0.20286658, 'roberta_neu': 0.49698737, 'roberta_pos': 0.30014607}, 2483: {'roberta_neg': 0.011128152, 'roberta_neu': 0.07065567, 'roberta_pos': 0.91821617}, 2484: {'roberta_neg': 0.004435545, 'roberta_neu': 0.05329246, 'roberta_pos': 0.94227195}, 2485: {'roberta_neg': 0.0012274028, 'roberta_neu': 0.0147989215, 'roberta_pos': 0.9839737}, 2486: {'roberta_neg': 0.002096941, 'roberta_neu': 0.012538836, 'roberta_pos': 0.98536426}, 2487: {'roberta_neg': 0.6206203, 'roberta_neu': 0.3060551, 'roberta_pos': 0.07332457}, 2488: {'roberta_neg': 0.5269294, 'roberta_neu': 0.38489464, 'roberta_pos': 0.088175975}, 2489: {'roberta_neg': 0.0121163, 'roberta_neu': 0.054251317, 'roberta_pos': 0.9336323}, 2490: {'roberta_neg': 0.0018965427, 'roberta_neu': 0.024654424, 'roberta_pos': 0.973449}, 2491: {'roberta_neg': 0.002797423, 'roberta_neu': 0.018624613, 'roberta_pos': 0.978578}, 2492: {'roberta_neg': 0.0029630805, 'roberta_neu': 0.016588243, 'roberta_pos': 0.98044866}, 2493: {'roberta_neg': 0.40540558, 'roberta_neu': 0.46267083, 'roberta_pos': 0.13192356}, 2494: {'roberta_neg': 0.026177088, 'roberta_neu': 0.15191053, 'roberta_pos': 0.8219124}, 2495: {'roberta_neg': 0.57586247, 'roberta_neu': 0.32397437, 'roberta_pos': 0.10016318}, 2496: {'roberta_neg': 0.002111073, 'roberta_neu': 0.01510192, 'roberta_pos': 0.982787}, 2497: {'roberta_neg': 0.16212891, 'roberta_neu': 0.36682504, 'roberta_pos': 0.47104603}, 2498: {'roberta_neg': 0.003368546, 'roberta_neu': 0.12140587, 'roberta_pos': 0.87522554}, 2499: {'roberta_neg': 0.0010835988, 'roberta_neu': 0.015516051, 'roberta_pos': 0.9834004}, 2500: {'roberta_neg': 0.23950218, 'roberta_neu': 0.5281888, 'roberta_pos': 0.232309}, 2501: {'roberta_neg': 0.0017294054, 'roberta_neu': 0.009860097, 'roberta_pos': 0.9884105}, 2502: {'roberta_neg': 0.0016849816, 'roberta_neu': 0.0252675, 'roberta_pos': 0.97304755}, 2503: {'roberta_neg': 0.04387788, 'roberta_neu': 0.13596833, 'roberta_pos': 0.8201538}, 2504: {'roberta_neg': 0.03460737, 'roberta_neu': 0.12614882, 'roberta_pos': 0.8392438}, 2505: {'roberta_neg': 0.010905168, 'roberta_neu': 0.06039295, 'roberta_pos': 0.9287018}, 2506: {'roberta_neg': 0.23950218, 'roberta_neu': 0.5281888, 'roberta_pos': 0.232309}, 2507: {'roberta_neg': 0.0011817686, 'roberta_neu': 0.013249495, 'roberta_pos': 0.9855687}, 2508: {'roberta_neg': 0.23950218, 'roberta_neu': 0.5281888, 'roberta_pos': 0.232309}, 2509: {'roberta_neg': 0.04132277, 'roberta_neu': 0.2673931, 'roberta_pos': 0.6912841}, 2510: {'roberta_neg': 0.1844315, 'roberta_neu': 0.4081985, 'roberta_pos': 0.40736997}, 2511: {'roberta_neg': 0.42366186, 'roberta_neu': 0.41289458, 'roberta_pos': 0.16344355}, 2512: {'roberta_neg': 0.8768113, 'roberta_neu': 0.108254574, 'roberta_pos': 0.014934119}, 2513: {'roberta_neg': 0.0015939404, 'roberta_neu': 0.016083183, 'roberta_pos': 0.9823229}, 2514: {'roberta_neg': 0.1950406, 'roberta_neu': 0.41176143, 'roberta_pos': 0.39319795}, 2515: {'roberta_neg': 0.02182509, 'roberta_neu': 0.1359314, 'roberta_pos': 0.8422435}, 2516: {'roberta_neg': 0.051644675, 'roberta_neu': 0.25763297, 'roberta_pos': 0.69072235}, 2517: {'roberta_neg': 0.9781049, 'roberta_neu': 0.01916761, 'roberta_pos': 0.0027275148}, 2518: {'roberta_neg': 0.0024232531, 'roberta_neu': 0.10826967, 'roberta_pos': 0.8893071}, 2519: {'roberta_neg': 0.5438601, 'roberta_neu': 0.35291445, 'roberta_pos': 0.10322547}, 2520: {'roberta_neg': 0.00197488, 'roberta_neu': 0.019127725, 'roberta_pos': 0.97889733}, 2521: {'roberta_neg': 0.0023729529, 'roberta_neu': 0.04524464, 'roberta_pos': 0.9523824}, 2522: {'roberta_neg': 0.23950218, 'roberta_neu': 0.5281888, 'roberta_pos': 0.232309}, 2523: {'roberta_neg': 0.0036735241, 'roberta_neu': 0.023568539, 'roberta_pos': 0.97275794}, 2524: {'roberta_neg': 0.033396523, 'roberta_neu': 0.5815176, 'roberta_pos': 0.3850859}, 2525: {'roberta_neg': 0.021399703, 'roberta_neu': 0.15684934, 'roberta_pos': 0.82175094}, 2526: {'roberta_neg': 0.0015315069, 'roberta_neu': 0.019175334, 'roberta_pos': 0.9792932}, 2527: {'roberta_neg': 0.0038117173, 'roberta_neu': 0.042462014, 'roberta_pos': 0.95372623}, 2528: {'roberta_neg': 0.013981379, 'roberta_neu': 0.05262217, 'roberta_pos': 0.9333965}, 2529: {'roberta_neg': 0.002480363, 'roberta_neu': 0.048091058, 'roberta_pos': 0.9494286}, 2530: {'roberta_neg': 0.6235949, 'roberta_neu': 0.33537486, 'roberta_pos': 0.041030303}, 2531: {'roberta_neg': 0.012381204, 'roberta_neu': 0.042996828, 'roberta_pos': 0.944622}, 2532: {'roberta_neg': 0.0014424007, 'roberta_neu': 0.034888662, 'roberta_pos': 0.96366894}, 2533: {'roberta_neg': 0.002558924, 'roberta_neu': 0.028991586, 'roberta_pos': 0.96844953}, 2534: {'roberta_neg': 0.010709305, 'roberta_neu': 0.13140197, 'roberta_pos': 0.85788876}, 2535: {'roberta_neg': 0.0012867664, 'roberta_neu': 0.010355412, 'roberta_pos': 0.98835784}, 2536: {'roberta_neg': 0.0013083231, 'roberta_neu': 0.013739698, 'roberta_pos': 0.9849519}, 2537: {'roberta_neg': 0.0014424851, 'roberta_neu': 0.028569464, 'roberta_pos': 0.96998805}, 2538: {'roberta_neg': 0.0012317763, 'roberta_neu': 0.0102971, 'roberta_pos': 0.98847115}, 2539: {'roberta_neg': 0.0021090782, 'roberta_neu': 0.022221586, 'roberta_pos': 0.9756693}, 2540: {'roberta_neg': 0.0033101689, 'roberta_neu': 0.03269469, 'roberta_pos': 0.96399516}, 2541: {'roberta_neg': 0.09476868, 'roberta_neu': 0.2734602, 'roberta_pos': 0.63177115}, 2542: {'roberta_neg': 0.0012889229, 'roberta_neu': 0.008945196, 'roberta_pos': 0.9897658}, 2543: {'roberta_neg': 0.0017109793, 'roberta_neu': 0.017540013, 'roberta_pos': 0.980749}, 2544: {'roberta_neg': 0.008410702, 'roberta_neu': 0.061700743, 'roberta_pos': 0.92988855}, 2545: {'roberta_neg': 0.7860624, 'roberta_neu': 0.20141587, 'roberta_pos': 0.012521742}, 2546: {'roberta_neg': 0.91667837, 'roberta_neu': 0.073731005, 'roberta_pos': 0.009590645}, 2547: {'roberta_neg': 0.005699829, 'roberta_neu': 0.074905686, 'roberta_pos': 0.9193945}, 2548: {'roberta_neg': 0.23950218, 'roberta_neu': 0.5281888, 'roberta_pos': 0.232309}, 2549: {'roberta_neg': 0.0077317734, 'roberta_neu': 0.060613427, 'roberta_pos': 0.9316548}, 2550: {'roberta_neg': 0.0021296975, 'roberta_neu': 0.06302854, 'roberta_pos': 0.93484175}, 2551: {'roberta_neg': 0.1751717, 'roberta_neu': 0.5360296, 'roberta_pos': 0.28879866}, 2552: {'roberta_neg': 0.96352535, 'roberta_neu': 0.0334625, 'roberta_pos': 0.0030121221}, 2553: {'roberta_neg': 0.11648736, 'roberta_neu': 0.3185821, 'roberta_pos': 0.56493056}, 2554: {'roberta_neg': 0.0011073713, 'roberta_neu': 0.023228502, 'roberta_pos': 0.97566414}, 2555: {'roberta_neg': 0.9249581, 'roberta_neu': 0.06826348, 'roberta_pos': 0.006778364}, 2556: {'roberta_neg': 0.004458576, 'roberta_neu': 0.10197882, 'roberta_pos': 0.89356256}, 2557: {'roberta_neg': 0.0021058717, 'roberta_neu': 0.034475893, 'roberta_pos': 0.96341825}, 2558: {'roberta_neg': 0.0012786777, 'roberta_neu': 0.018461943, 'roberta_pos': 0.9802594}, 2559: {'roberta_neg': 0.007661789, 'roberta_neu': 0.035345756, 'roberta_pos': 0.95699245}, 2560: {'roberta_neg': 0.23950218, 'roberta_neu': 0.5281888, 'roberta_pos': 0.232309}, 2561: {'roberta_neg': 0.013031833, 'roberta_neu': 0.08563169, 'roberta_pos': 0.9013365}, 2562: {'roberta_neg': 0.26352608, 'roberta_neu': 0.43736768, 'roberta_pos': 0.29910618}, 2563: {'roberta_neg': 0.0013823697, 'roberta_neu': 0.024535498, 'roberta_pos': 0.9740821}, 2564: {'roberta_neg': 0.003868267, 'roberta_neu': 0.029251251, 'roberta_pos': 0.9668805}, 2565: {'roberta_neg': 0.0051437146, 'roberta_neu': 0.05406292, 'roberta_pos': 0.9407934}, 2566: {'roberta_neg': 0.23950218, 'roberta_neu': 0.5281888, 'roberta_pos': 0.232309}, 2567: {'roberta_neg': 0.17934419, 'roberta_neu': 0.44604838, 'roberta_pos': 0.3746074}, 2568: {'roberta_neg': 0.0025329283, 'roberta_neu': 0.022124214, 'roberta_pos': 0.97534287}, 2569: {'roberta_neg': 0.0015905844, 'roberta_neu': 0.016261825, 'roberta_pos': 0.9821476}, 2570: {'roberta_neg': 0.005308306, 'roberta_neu': 0.066101775, 'roberta_pos': 0.9285899}, 2571: {'roberta_neg': 0.0029705013, 'roberta_neu': 0.014544365, 'roberta_pos': 0.9824851}, 2572: {'roberta_neg': 0.0014419409, 'roberta_neu': 0.015448377, 'roberta_pos': 0.9831097}, 2573: {'roberta_neg': 0.03690729, 'roberta_neu': 0.17916457, 'roberta_pos': 0.78392816}, 2574: {'roberta_neg': 0.018329766, 'roberta_neu': 0.107330896, 'roberta_pos': 0.8743394}, 2575: {'roberta_neg': 0.0016666334, 'roberta_neu': 0.029566685, 'roberta_pos': 0.9687667}, 2576: {'roberta_neg': 0.0015620036, 'roberta_neu': 0.017252292, 'roberta_pos': 0.98118573}, 2577: {'roberta_neg': 0.0016755795, 'roberta_neu': 0.01816598, 'roberta_pos': 0.9801585}, 2578: {'roberta_neg': 0.0013814144, 'roberta_neu': 0.01974149, 'roberta_pos': 0.9788771}, 2579: {'roberta_neg': 0.0014298063, 'roberta_neu': 0.016584527, 'roberta_pos': 0.9819857}, 2580: {'roberta_neg': 0.65455633, 'roberta_neu': 0.3012049, 'roberta_pos': 0.044238817}, 2581: {'roberta_neg': 0.0018480002, 'roberta_neu': 0.06901119, 'roberta_pos': 0.92914075}, 2582: {'roberta_neg': 0.0021173467, 'roberta_neu': 0.014572071, 'roberta_pos': 0.9833106}, 2583: {'roberta_neg': 0.001463246, 'roberta_neu': 0.017431721, 'roberta_pos': 0.981105}, 2584: {'roberta_neg': 0.002763131, 'roberta_neu': 0.02789643, 'roberta_pos': 0.96934044}, 2585: {'roberta_neg': 0.010108858, 'roberta_neu': 0.07315539, 'roberta_pos': 0.91673577}, 2586: {'roberta_neg': 0.0023231134, 'roberta_neu': 0.040813476, 'roberta_pos': 0.9568634}, 2587: {'roberta_neg': 0.56520045, 'roberta_neu': 0.3911085, 'roberta_pos': 0.04369104}, 2588: {'roberta_neg': 0.0018231601, 'roberta_neu': 0.017324746, 'roberta_pos': 0.98085207}, 2589: {'roberta_neg': 0.0024399583, 'roberta_neu': 0.036288098, 'roberta_pos': 0.96127194}, 2590: {'roberta_neg': 0.0016225721, 'roberta_neu': 0.014764342, 'roberta_pos': 0.983613}, 2591: {'roberta_neg': 0.08157673, 'roberta_neu': 0.36949295, 'roberta_pos': 0.5489303}, 2592: {'roberta_neg': 0.0014081519, 'roberta_neu': 0.012834755, 'roberta_pos': 0.9857572}, 2593: {'roberta_neg': 0.001932374, 'roberta_neu': 0.03829161, 'roberta_pos': 0.959776}, 2594: {'roberta_neg': 0.002600453, 'roberta_neu': 0.053947993, 'roberta_pos': 0.9434516}, 2595: {'roberta_neg': 0.011698496, 'roberta_neu': 0.06852508, 'roberta_pos': 0.9197764}, 2596: {'roberta_neg': 0.05868141, 'roberta_neu': 0.26032043, 'roberta_pos': 0.6809982}, 2597: {'roberta_neg': 0.002022655, 'roberta_neu': 0.04516969, 'roberta_pos': 0.95280766}, 2598: {'roberta_neg': 0.701075, 'roberta_neu': 0.2669202, 'roberta_pos': 0.03200476}, 2599: {'roberta_neg': 0.0015035783, 'roberta_neu': 0.012358784, 'roberta_pos': 0.98613757}, 2600: {'roberta_neg': 0.0035783804, 'roberta_neu': 0.13461809, 'roberta_pos': 0.8618036}, 2601: {'roberta_neg': 0.01120745, 'roberta_neu': 0.0819071, 'roberta_pos': 0.90688545}, 2602: {'roberta_neg': 0.0023632222, 'roberta_neu': 0.071671695, 'roberta_pos': 0.925965}, 2603: {'roberta_neg': 0.0019559825, 'roberta_neu': 0.019348223, 'roberta_pos': 0.97869575}, 2604: {'roberta_neg': 0.0018143087, 'roberta_neu': 0.014527694, 'roberta_pos': 0.983658}, 2605: {'roberta_neg': 0.00818725, 'roberta_neu': 0.16187073, 'roberta_pos': 0.829942}, 2606: {'roberta_neg': 0.0015652421, 'roberta_neu': 0.011614149, 'roberta_pos': 0.98682064}, 2607: {'roberta_neg': 0.0052511906, 'roberta_neu': 0.045670174, 'roberta_pos': 0.9490786}, 2608: {'roberta_neg': 0.001927882, 'roberta_neu': 0.0106157465, 'roberta_pos': 0.9874564}, 2609: {'roberta_neg': 0.0036837102, 'roberta_neu': 0.025670834, 'roberta_pos': 0.9706454}, 2610: {'roberta_neg': 0.0024925622, 'roberta_neu': 0.04427966, 'roberta_pos': 0.9532277}, 2611: {'roberta_neg': 0.0051849843, 'roberta_neu': 0.15511774, 'roberta_pos': 0.8396973}, 2612: {'roberta_neg': 0.0016690112, 'roberta_neu': 0.021376641, 'roberta_pos': 0.9769544}, 2613: {'roberta_neg': 0.0032616083, 'roberta_neu': 0.0825149, 'roberta_pos': 0.91422355}, 2614: {'roberta_neg': 0.0016693263, 'roberta_neu': 0.01312466, 'roberta_pos': 0.98520607}, 2615: {'roberta_neg': 0.23950218, 'roberta_neu': 0.5281888, 'roberta_pos': 0.232309}, 2616: {'roberta_neg': 0.0018376963, 'roberta_neu': 0.018103959, 'roberta_pos': 0.98005843}, 2617: {'roberta_neg': 0.13347405, 'roberta_neu': 0.28086996, 'roberta_pos': 0.585656}, 2618: {'roberta_neg': 0.0040192637, 'roberta_neu': 0.023523223, 'roberta_pos': 0.97245747}, 2619: {'roberta_neg': 0.0013562496, 'roberta_neu': 0.014158481, 'roberta_pos': 0.98448527}, 2620: {'roberta_neg': 0.0015266724, 'roberta_neu': 0.027221499, 'roberta_pos': 0.97125185}, 2621: {'roberta_neg': 0.0046438635, 'roberta_neu': 0.057509553, 'roberta_pos': 0.93784654}, 2622: {'roberta_neg': 0.02885769, 'roberta_neu': 0.10568192, 'roberta_pos': 0.8654604}, 2623: {'roberta_neg': 0.0021942658, 'roberta_neu': 0.078217655, 'roberta_pos': 0.919588}, 2624: {'roberta_neg': 0.0026763033, 'roberta_neu': 0.03148415, 'roberta_pos': 0.9658395}, 2625: {'roberta_neg': 0.0012967222, 'roberta_neu': 0.008961175, 'roberta_pos': 0.98974216}, 2626: {'roberta_neg': 0.035532266, 'roberta_neu': 0.49722302, 'roberta_pos': 0.46724474}, 2627: {'roberta_neg': 0.008957639, 'roberta_neu': 0.08392938, 'roberta_pos': 0.90711296}, 2628: {'roberta_neg': 0.003932674, 'roberta_neu': 0.02336102, 'roberta_pos': 0.9727064}, 2629: {'roberta_neg': 0.0012118223, 'roberta_neu': 0.0083782375, 'roberta_pos': 0.99041}, 2630: {'roberta_neg': 0.0013396877, 'roberta_neu': 0.006685107, 'roberta_pos': 0.99197525}, 2631: {'roberta_neg': 0.003023602, 'roberta_neu': 0.013222946, 'roberta_pos': 0.98375344}, 2632: {'roberta_neg': 0.025790457, 'roberta_neu': 0.12852903, 'roberta_pos': 0.84568053}, 2633: {'roberta_neg': 0.0013554891, 'roberta_neu': 0.011634215, 'roberta_pos': 0.98701024}, 2634: {'roberta_neg': 0.0022309166, 'roberta_neu': 0.018562485, 'roberta_pos': 0.97920656}, 2635: {'roberta_neg': 0.002810819, 'roberta_neu': 0.05729963, 'roberta_pos': 0.93988955}, 2636: {'roberta_neg': 0.11778712, 'roberta_neu': 0.40020487, 'roberta_pos': 0.48200807}, 2637: {'roberta_neg': 0.0013474992, 'roberta_neu': 0.009423174, 'roberta_pos': 0.98922926}, 2638: {'roberta_neg': 0.9003704, 'roberta_neu': 0.092031166, 'roberta_pos': 0.007598353}, 2639: {'roberta_neg': 0.002008061, 'roberta_neu': 0.019342959, 'roberta_pos': 0.97864896}, 2640: {'roberta_neg': 0.0013328805, 'roberta_neu': 0.03699397, 'roberta_pos': 0.9616732}, 2641: {'roberta_neg': 0.0015657053, 'roberta_neu': 0.024878979, 'roberta_pos': 0.97355527}, 2642: {'roberta_neg': 0.6508455, 'roberta_neu': 0.2974095, 'roberta_pos': 0.051744975}, 2643: {'roberta_neg': 0.0019026517, 'roberta_neu': 0.024025127, 'roberta_pos': 0.9740723}, 2644: {'roberta_neg': 0.002927501, 'roberta_neu': 0.015776448, 'roberta_pos': 0.981296}, 2645: {'roberta_neg': 0.0033850707, 'roberta_neu': 0.023893846, 'roberta_pos': 0.97272116}, 2646: {'roberta_neg': 0.0012878566, 'roberta_neu': 0.011126449, 'roberta_pos': 0.98758566}, 2647: {'roberta_neg': 0.0054246304, 'roberta_neu': 0.056042135, 'roberta_pos': 0.9385332}, 2648: {'roberta_neg': 0.8653569, 'roberta_neu': 0.123914324, 'roberta_pos': 0.010728827}, 2649: {'roberta_neg': 0.001690782, 'roberta_neu': 0.008784504, 'roberta_pos': 0.9895247}, 2650: {'roberta_neg': 0.002414731, 'roberta_neu': 0.022120098, 'roberta_pos': 0.9754651}, 2651: {'roberta_neg': 0.08832433, 'roberta_neu': 0.45063674, 'roberta_pos': 0.46103898}, 2652: {'roberta_neg': 0.004376431, 'roberta_neu': 0.102486335, 'roberta_pos': 0.8931372}, 2653: {'roberta_neg': 0.005337094, 'roberta_neu': 0.040180575, 'roberta_pos': 0.9544823}, 2654: {'roberta_neg': 0.0010590344, 'roberta_neu': 0.021401027, 'roberta_pos': 0.9775399}, 2655: {'roberta_neg': 0.0029884558, 'roberta_neu': 0.03763775, 'roberta_pos': 0.9593738}, 2656: {'roberta_neg': 0.0011564002, 'roberta_neu': 0.0136191305, 'roberta_pos': 0.9852245}, 2657: {'roberta_neg': 0.06961676, 'roberta_neu': 0.39457718, 'roberta_pos': 0.53580606}, 2658: {'roberta_neg': 0.0012828952, 'roberta_neu': 0.009084918, 'roberta_pos': 0.9896321}, 2659: {'roberta_neg': 0.0038626024, 'roberta_neu': 0.018370872, 'roberta_pos': 0.9777665}, 2660: {'roberta_neg': 0.082946576, 'roberta_neu': 0.5364142, 'roberta_pos': 0.38063923}, 2661: {'roberta_neg': 0.24592331, 'roberta_neu': 0.4456021, 'roberta_pos': 0.3084746}, 2662: {'roberta_neg': 0.0025095812, 'roberta_neu': 0.044592846, 'roberta_pos': 0.9528976}, 2663: {'roberta_neg': 0.9295795, 'roberta_neu': 0.06542186, 'roberta_pos': 0.0049985996}, 2664: {'roberta_neg': 0.5340562, 'roberta_neu': 0.34965703, 'roberta_pos': 0.116286755}, 2665: {'roberta_neg': 0.8568693, 'roberta_neu': 0.12681596, 'roberta_pos': 0.016314747}, 2666: {'roberta_neg': 0.13140611, 'roberta_neu': 0.41064903, 'roberta_pos': 0.45794484}, 2667: {'roberta_neg': 0.9661673, 'roberta_neu': 0.02963588, 'roberta_pos': 0.004196887}, 2668: {'roberta_neg': 0.0025780012, 'roberta_neu': 0.021707807, 'roberta_pos': 0.9757142}, 2669: {'roberta_neg': 0.003946601, 'roberta_neu': 0.021629002, 'roberta_pos': 0.97442436}, 2670: {'roberta_neg': 0.0015349742, 'roberta_neu': 0.020233015, 'roberta_pos': 0.9782321}, 2671: {'roberta_neg': 0.088041686, 'roberta_neu': 0.3804395, 'roberta_pos': 0.5315188}, 2672: {'roberta_neg': 0.0012275699, 'roberta_neu': 0.018544717, 'roberta_pos': 0.98022765}, 2673: {'roberta_neg': 0.013390605, 'roberta_neu': 0.34398124, 'roberta_pos': 0.64262813}, 2674: {'roberta_neg': 0.0020043212, 'roberta_neu': 0.023672456, 'roberta_pos': 0.9743232}, 2675: {'roberta_neg': 0.31824875, 'roberta_neu': 0.43320882, 'roberta_pos': 0.24854238}, 2676: {'roberta_neg': 0.0014376295, 'roberta_neu': 0.017160248, 'roberta_pos': 0.9814021}, 2677: {'roberta_neg': 0.0012204177, 'roberta_neu': 0.012471985, 'roberta_pos': 0.98630756}, 2678: {'roberta_neg': 0.0015603834, 'roberta_neu': 0.016779108, 'roberta_pos': 0.9816605}, 2679: {'roberta_neg': 0.008297439, 'roberta_neu': 0.0745175, 'roberta_pos': 0.917185}, 2680: {'roberta_neg': 0.0018611337, 'roberta_neu': 0.009967672, 'roberta_pos': 0.9881712}, 2681: {'roberta_neg': 0.001477146, 'roberta_neu': 0.020104093, 'roberta_pos': 0.9784187}, 2682: {'roberta_neg': 0.007553137, 'roberta_neu': 0.07180058, 'roberta_pos': 0.9206463}, 2683: {'roberta_neg': 0.0035779255, 'roberta_neu': 0.013218523, 'roberta_pos': 0.98320353}, 2684: {'roberta_neg': 0.0023657894, 'roberta_neu': 0.030833824, 'roberta_pos': 0.9668004}, 2685: {'roberta_neg': 0.0026585534, 'roberta_neu': 0.041172117, 'roberta_pos': 0.9561693}, 2686: {'roberta_neg': 0.014057973, 'roberta_neu': 0.16543831, 'roberta_pos': 0.82050365}, 2687: {'roberta_neg': 0.0017894593, 'roberta_neu': 0.02435885, 'roberta_pos': 0.9738516}, 2688: {'roberta_neg': 0.032352082, 'roberta_neu': 0.15205517, 'roberta_pos': 0.81559277}, 2689: {'roberta_neg': 0.0017642308, 'roberta_neu': 0.009936451, 'roberta_pos': 0.98829937}, 2690: {'roberta_neg': 0.0017223959, 'roberta_neu': 0.019878723, 'roberta_pos': 0.97839886}, 2691: {'roberta_neg': 0.0016500975, 'roberta_neu': 0.017614547, 'roberta_pos': 0.98073536}, 2692: {'roberta_neg': 0.9346631, 'roberta_neu': 0.061794784, 'roberta_pos': 0.0035420062}, 2693: {'roberta_neg': 0.0014815106, 'roberta_neu': 0.012350933, 'roberta_pos': 0.9861675}, 2694: {'roberta_neg': 0.02393158, 'roberta_neu': 0.37957007, 'roberta_pos': 0.59649837}, 2695: {'roberta_neg': 0.021198807, 'roberta_neu': 0.17723721, 'roberta_pos': 0.801564}, 2696: {'roberta_neg': 0.0016367722, 'roberta_neu': 0.009834026, 'roberta_pos': 0.98852915}, 2697: {'roberta_neg': 0.0016211347, 'roberta_neu': 0.041385964, 'roberta_pos': 0.95699286}, 2698: {'roberta_neg': 0.012017323, 'roberta_neu': 0.06736553, 'roberta_pos': 0.9206171}, 2699: {'roberta_neg': 0.0014244263, 'roberta_neu': 0.014929954, 'roberta_pos': 0.9836457}, 2700: {'roberta_neg': 0.011435716, 'roberta_neu': 0.077015504, 'roberta_pos': 0.9115488}, 2701: {'roberta_neg': 0.0016405948, 'roberta_neu': 0.010185669, 'roberta_pos': 0.9881738}, 2702: {'roberta_neg': 0.001698767, 'roberta_neu': 0.042805377, 'roberta_pos': 0.9554959}, 2703: {'roberta_neg': 0.23950218, 'roberta_neu': 0.5281888, 'roberta_pos': 0.232309}, 2704: {'roberta_neg': 0.0032557733, 'roberta_neu': 0.05725678, 'roberta_pos': 0.9394874}, 2705: {'roberta_neg': 0.0029864572, 'roberta_neu': 0.024992343, 'roberta_pos': 0.97202116}, 2706: {'roberta_neg': 0.0013339047, 'roberta_neu': 0.019475661, 'roberta_pos': 0.97919047}, 2707: {'roberta_neg': 0.004470687, 'roberta_neu': 0.088314064, 'roberta_pos': 0.9072152}, 2708: {'roberta_neg': 0.0018458182, 'roberta_neu': 0.009951382, 'roberta_pos': 0.98820275}, 2709: {'roberta_neg': 0.0018617254, 'roberta_neu': 0.011632007, 'roberta_pos': 0.9865063}, 2710: {'roberta_neg': 0.23163436, 'roberta_neu': 0.37747788, 'roberta_pos': 0.3908877}, 2711: {'roberta_neg': 0.0015065685, 'roberta_neu': 0.010397068, 'roberta_pos': 0.98809636}, 2712: {'roberta_neg': 0.0022677656, 'roberta_neu': 0.01369574, 'roberta_pos': 0.9840365}, 2713: {'roberta_neg': 0.005659132, 'roberta_neu': 0.05047411, 'roberta_pos': 0.9438667}, 2714: {'roberta_neg': 0.0047627427, 'roberta_neu': 0.045366053, 'roberta_pos': 0.9498712}, 2715: {'roberta_neg': 0.0018474895, 'roberta_neu': 0.00992096, 'roberta_pos': 0.9882315}, 2716: {'roberta_neg': 0.0015431073, 'roberta_neu': 0.018923169, 'roberta_pos': 0.9795337}, 2717: {'roberta_neg': 0.001646647, 'roberta_neu': 0.009715117, 'roberta_pos': 0.9886382}, 2718: {'roberta_neg': 0.0016783823, 'roberta_neu': 0.015816258, 'roberta_pos': 0.9825053}, 2719: {'roberta_neg': 0.07445449, 'roberta_neu': 0.8113682, 'roberta_pos': 0.11417724}, 2720: {'roberta_neg': 0.0016233895, 'roberta_neu': 0.017583026, 'roberta_pos': 0.9807936}, 2721: {'roberta_neg': 0.0022462285, 'roberta_neu': 0.011853196, 'roberta_pos': 0.9859006}, 2722: {'roberta_neg': 0.0025935238, 'roberta_neu': 0.031039115, 'roberta_pos': 0.96636736}, 2723: {'roberta_neg': 0.0026247494, 'roberta_neu': 0.018265668, 'roberta_pos': 0.9791095}, 2724: {'roberta_neg': 0.11063148, 'roberta_neu': 0.39461175, 'roberta_pos': 0.49475676}, 2725: {'roberta_neg': 0.0038879518, 'roberta_neu': 0.050661433, 'roberta_pos': 0.9454506}, 2726: {'roberta_neg': 0.005096676, 'roberta_neu': 0.12086016, 'roberta_pos': 0.8740431}, 2727: {'roberta_neg': 0.0036648759, 'roberta_neu': 0.035829306, 'roberta_pos': 0.9605058}, 2728: {'roberta_neg': 0.002117562, 'roberta_neu': 0.02459768, 'roberta_pos': 0.9732848}, 2729: {'roberta_neg': 0.0015595456, 'roberta_neu': 0.023271514, 'roberta_pos': 0.97516894}, 2730: {'roberta_neg': 0.011832985, 'roberta_neu': 0.1588971, 'roberta_pos': 0.82926995}, 2731: {'roberta_neg': 0.6460987, 'roberta_neu': 0.30843428, 'roberta_pos': 0.045467045}, 2732: {'roberta_neg': 0.0012075874, 'roberta_neu': 0.01057824, 'roberta_pos': 0.98821414}, 2733: {'roberta_neg': 0.0017967426, 'roberta_neu': 0.016913634, 'roberta_pos': 0.98128957}, 2734: {'roberta_neg': 0.6440888, 'roberta_neu': 0.28454876, 'roberta_pos': 0.07136242}, 2735: {'roberta_neg': 0.020966439, 'roberta_neu': 0.11713614, 'roberta_pos': 0.8618974}, 2736: {'roberta_neg': 0.80691457, 'roberta_neu': 0.16707537, 'roberta_pos': 0.026010038}, 2737: {'roberta_neg': 0.0019662038, 'roberta_neu': 0.028027788, 'roberta_pos': 0.970006}, 2738: {'roberta_neg': 0.080260314, 'roberta_neu': 0.46860564, 'roberta_pos': 0.45113406}, 2739: {'roberta_neg': 0.7760852, 'roberta_neu': 0.20031764, 'roberta_pos': 0.02359716}, 2740: {'roberta_neg': 0.001974556, 'roberta_neu': 0.019033877, 'roberta_pos': 0.9789916}, 2741: {'roberta_neg': 0.23950218, 'roberta_neu': 0.5281888, 'roberta_pos': 0.232309}, 2742: {'roberta_neg': 0.0013057109, 'roberta_neu': 0.0056093372, 'roberta_pos': 0.9930849}, 2743: {'roberta_neg': 0.0020959228, 'roberta_neu': 0.02923228, 'roberta_pos': 0.96867186}, 2744: {'roberta_neg': 0.090911664, 'roberta_neu': 0.29692206, 'roberta_pos': 0.6121663}, 2745: {'roberta_neg': 0.0020827083, 'roberta_neu': 0.014673527, 'roberta_pos': 0.98324376}, 2746: {'roberta_neg': 0.44812924, 'roberta_neu': 0.36753318, 'roberta_pos': 0.18433762}, 2747: {'roberta_neg': 0.47179264, 'roberta_neu': 0.4398306, 'roberta_pos': 0.088376746}, 2748: {'roberta_neg': 0.13763827, 'roberta_neu': 0.40266198, 'roberta_pos': 0.45969972}, 2749: {'roberta_neg': 0.003583353, 'roberta_neu': 0.022463856, 'roberta_pos': 0.97395283}, 2750: {'roberta_neg': 0.097117916, 'roberta_neu': 0.50858605, 'roberta_pos': 0.39429605}, 2751: {'roberta_neg': 0.0025045904, 'roberta_neu': 0.05301351, 'roberta_pos': 0.9444819}, 2752: {'roberta_neg': 0.0021970032, 'roberta_neu': 0.03142061, 'roberta_pos': 0.9663824}, 2753: {'roberta_neg': 0.38299415, 'roberta_neu': 0.45772055, 'roberta_pos': 0.15928534}, 2754: {'roberta_neg': 0.7146248, 'roberta_neu': 0.25327882, 'roberta_pos': 0.032096364}, 2755: {'roberta_neg': 0.7908049, 'roberta_neu': 0.189384, 'roberta_pos': 0.019811096}, 2756: {'roberta_neg': 0.0016944951, 'roberta_neu': 0.01746251, 'roberta_pos': 0.980843}, 2757: {'roberta_neg': 0.0010820839, 'roberta_neu': 0.008249169, 'roberta_pos': 0.9906687}, 2758: {'roberta_neg': 0.0016285974, 'roberta_neu': 0.009567163, 'roberta_pos': 0.9888043}, 2759: {'roberta_neg': 0.001281557, 'roberta_neu': 0.010198267, 'roberta_pos': 0.9885202}, 2760: {'roberta_neg': 0.95654774, 'roberta_neu': 0.040570624, 'roberta_pos': 0.002881613}, 2761: {'roberta_neg': 0.23950218, 'roberta_neu': 0.5281888, 'roberta_pos': 0.232309}, 2762: {'roberta_neg': 0.0014975091, 'roberta_neu': 0.02945939, 'roberta_pos': 0.96904314}, 2763: {'roberta_neg': 0.001998533, 'roberta_neu': 0.018841581, 'roberta_pos': 0.97915995}, 2764: {'roberta_neg': 0.0015988405, 'roberta_neu': 0.014454787, 'roberta_pos': 0.9839463}, 2765: {'roberta_neg': 0.0040399167, 'roberta_neu': 0.07674184, 'roberta_pos': 0.91921824}, 2766: {'roberta_neg': 0.0023881884, 'roberta_neu': 0.028314117, 'roberta_pos': 0.96929777}, 2767: {'roberta_neg': 0.3361347, 'roberta_neu': 0.4193932, 'roberta_pos': 0.24447215}, 2768: {'roberta_neg': 0.23950218, 'roberta_neu': 0.5281888, 'roberta_pos': 0.232309}, 2769: {'roberta_neg': 0.0015812671, 'roberta_neu': 0.01062313, 'roberta_pos': 0.9877956}, 2770: {'roberta_neg': 0.0014093203, 'roberta_neu': 0.011405219, 'roberta_pos': 0.9871854}, 2771: {'roberta_neg': 0.0038790326, 'roberta_neu': 0.03960526, 'roberta_pos': 0.95651567}, 2772: {'roberta_neg': 0.0090478575, 'roberta_neu': 0.027461726, 'roberta_pos': 0.9634904}, 2773: {'roberta_neg': 0.002043164, 'roberta_neu': 0.024265567, 'roberta_pos': 0.9736912}, 2774: {'roberta_neg': 0.0010754411, 'roberta_neu': 0.011879904, 'roberta_pos': 0.98704463}, 2775: {'roberta_neg': 0.0035903873, 'roberta_neu': 0.020743059, 'roberta_pos': 0.9756665}, 2776: {'roberta_neg': 0.0030398448, 'roberta_neu': 0.10213387, 'roberta_pos': 0.8948263}, 2777: {'roberta_neg': 0.0015182914, 'roberta_neu': 0.014608592, 'roberta_pos': 0.98387307}, 2778: {'roberta_neg': 0.0015351613, 'roberta_neu': 0.010049704, 'roberta_pos': 0.9884151}, 2779: {'roberta_neg': 0.0022326657, 'roberta_neu': 0.05789478, 'roberta_pos': 0.93987256}, 2780: {'roberta_neg': 0.0037152877, 'roberta_neu': 0.042723324, 'roberta_pos': 0.95356137}, 2781: {'roberta_neg': 0.0014634097, 'roberta_neu': 0.03562311, 'roberta_pos': 0.9629135}, 2782: {'roberta_neg': 0.0028426447, 'roberta_neu': 0.031524654, 'roberta_pos': 0.96563274}, 2783: {'roberta_neg': 0.002717928, 'roberta_neu': 0.034557573, 'roberta_pos': 0.96272445}, 2784: {'roberta_neg': 0.0017276944, 'roberta_neu': 0.027469974, 'roberta_pos': 0.97080237}, 2785: {'roberta_neg': 0.0016242658, 'roberta_neu': 0.012140792, 'roberta_pos': 0.98623496}, 2786: {'roberta_neg': 0.0020527744, 'roberta_neu': 0.009623656, 'roberta_pos': 0.98832357}, 2787: {'roberta_neg': 0.0015148448, 'roberta_neu': 0.012026536, 'roberta_pos': 0.9864586}, 2788: {'roberta_neg': 0.4279897, 'roberta_neu': 0.40606385, 'roberta_pos': 0.16594641}, 2789: {'roberta_neg': 0.0016414954, 'roberta_neu': 0.008175007, 'roberta_pos': 0.99018353}, 2790: {'roberta_neg': 0.0018016113, 'roberta_neu': 0.020979604, 'roberta_pos': 0.97721875}, 2791: {'roberta_neg': 0.0017238955, 'roberta_neu': 0.014608413, 'roberta_pos': 0.98366773}, 2792: {'roberta_neg': 0.0012959171, 'roberta_neu': 0.012957273, 'roberta_pos': 0.98574686}, 2793: {'roberta_neg': 0.0015839185, 'roberta_neu': 0.012650725, 'roberta_pos': 0.9857654}, 2794: {'roberta_neg': 0.006495178, 'roberta_neu': 0.0816656, 'roberta_pos': 0.9118392}, 2795: {'roberta_neg': 0.0023812358, 'roberta_neu': 0.037265614, 'roberta_pos': 0.96035314}, 2796: {'roberta_neg': 0.0021663678, 'roberta_neu': 0.011656575, 'roberta_pos': 0.986177}, 2797: {'roberta_neg': 0.039542835, 'roberta_neu': 0.14296012, 'roberta_pos': 0.8174971}, 2798: {'roberta_neg': 0.0029259142, 'roberta_neu': 0.017631713, 'roberta_pos': 0.9794424}, 2799: {'roberta_neg': 0.0014441004, 'roberta_neu': 0.0068229055, 'roberta_pos': 0.99173295}, 2800: {'roberta_neg': 0.0032397856, 'roberta_neu': 0.031429704, 'roberta_pos': 0.9653305}, 2801: {'roberta_neg': 0.0030685873, 'roberta_neu': 0.022179319, 'roberta_pos': 0.97475207}, 2802: {'roberta_neg': 0.0028961576, 'roberta_neu': 0.038465187, 'roberta_pos': 0.95863867}, 2803: {'roberta_neg': 0.0012255374, 'roberta_neu': 0.012856156, 'roberta_pos': 0.9859183}, 2804: {'roberta_neg': 0.0022571676, 'roberta_neu': 0.020839304, 'roberta_pos': 0.9769035}, 2805: {'roberta_neg': 0.0014003369, 'roberta_neu': 0.05948065, 'roberta_pos': 0.939119}, 2806: {'roberta_neg': 0.0028849833, 'roberta_neu': 0.03693838, 'roberta_pos': 0.96017665}, 2807: {'roberta_neg': 0.0040442576, 'roberta_neu': 0.023978716, 'roberta_pos': 0.97197706}, 2808: {'roberta_neg': 0.0010715082, 'roberta_neu': 0.010458416, 'roberta_pos': 0.9884701}, 2809: {'roberta_neg': 0.0019819506, 'roberta_neu': 0.03264434, 'roberta_pos': 0.9653737}, 2810: {'roberta_neg': 0.001959, 'roberta_neu': 0.021835621, 'roberta_pos': 0.9762054}, 2811: {'roberta_neg': 0.0071657547, 'roberta_neu': 0.12762763, 'roberta_pos': 0.8652066}, 2812: {'roberta_neg': 0.0039829332, 'roberta_neu': 0.060581315, 'roberta_pos': 0.9354358}, 2813: {'roberta_neg': 0.0015189471, 'roberta_neu': 0.015677221, 'roberta_pos': 0.9828038}, 2814: {'roberta_neg': 0.0024030604, 'roberta_neu': 0.04519863, 'roberta_pos': 0.9523983}, 2815: {'roberta_neg': 0.0027228724, 'roberta_neu': 0.026394928, 'roberta_pos': 0.97088224}, 2816: {'roberta_neg': 0.0024947606, 'roberta_neu': 0.015819477, 'roberta_pos': 0.98168576}, 2817: {'roberta_neg': 0.0014178101, 'roberta_neu': 0.0123791145, 'roberta_pos': 0.9862031}, 2818: {'roberta_neg': 0.017745322, 'roberta_neu': 0.11313671, 'roberta_pos': 0.86911803}, 2819: {'roberta_neg': 0.0023554203, 'roberta_neu': 0.024251945, 'roberta_pos': 0.9733926}, 2820: {'roberta_neg': 0.099910446, 'roberta_neu': 0.28328836, 'roberta_pos': 0.61680126}, 2821: {'roberta_neg': 0.009483515, 'roberta_neu': 0.1324103, 'roberta_pos': 0.85810626}, 2822: {'roberta_neg': 0.0019598838, 'roberta_neu': 0.030260803, 'roberta_pos': 0.9677793}, 2823: {'roberta_neg': 0.0016894467, 'roberta_neu': 0.02063532, 'roberta_pos': 0.97767526}, 2824: {'roberta_neg': 0.0014973829, 'roberta_neu': 0.021805387, 'roberta_pos': 0.9766972}, 2825: {'roberta_neg': 0.0014060162, 'roberta_neu': 0.007517742, 'roberta_pos': 0.99107623}, 2826: {'roberta_neg': 0.004110115, 'roberta_neu': 0.026459437, 'roberta_pos': 0.9694305}, 2827: {'roberta_neg': 0.2831378, 'roberta_neu': 0.37795717, 'roberta_pos': 0.3389051}, 2828: {'roberta_neg': 0.23950218, 'roberta_neu': 0.5281888, 'roberta_pos': 0.232309}, 2829: {'roberta_neg': 0.003328258, 'roberta_neu': 0.017506143, 'roberta_pos': 0.9791656}, 2830: {'roberta_neg': 0.0017558597, 'roberta_neu': 0.033977628, 'roberta_pos': 0.96426654}, 2831: {'roberta_neg': 0.0012474995, 'roberta_neu': 0.012933371, 'roberta_pos': 0.9858191}, 2832: {'roberta_neg': 0.0024671198, 'roberta_neu': 0.047588065, 'roberta_pos': 0.9499448}, 2833: {'roberta_neg': 0.0013348445, 'roberta_neu': 0.010099188, 'roberta_pos': 0.988566}, 2834: {'roberta_neg': 0.0055793854, 'roberta_neu': 0.29421732, 'roberta_pos': 0.70020324}, 2835: {'roberta_neg': 0.0012978811, 'roberta_neu': 0.0058510373, 'roberta_pos': 0.99285114}, 2836: {'roberta_neg': 0.0012299529, 'roberta_neu': 0.007150474, 'roberta_pos': 0.9916196}, 2837: {'roberta_neg': 0.0021164455, 'roberta_neu': 0.029339777, 'roberta_pos': 0.96854377}, 2838: {'roberta_neg': 0.0018810128, 'roberta_neu': 0.010085265, 'roberta_pos': 0.9880337}, 2839: {'roberta_neg': 0.0018512547, 'roberta_neu': 0.013316615, 'roberta_pos': 0.9848321}, 2840: {'roberta_neg': 0.0020520152, 'roberta_neu': 0.012429133, 'roberta_pos': 0.9855188}, 2841: {'roberta_neg': 0.0017389109, 'roberta_neu': 0.019591209, 'roberta_pos': 0.9786699}, 2842: {'roberta_neg': 0.23950218, 'roberta_neu': 0.5281888, 'roberta_pos': 0.232309}, 2843: {'roberta_neg': 0.0038971908, 'roberta_neu': 0.046955556, 'roberta_pos': 0.9491472}, 2844: {'roberta_neg': 0.0013210592, 'roberta_neu': 0.008101673, 'roberta_pos': 0.9905772}, 2845: {'roberta_neg': 0.0040313085, 'roberta_neu': 0.031660195, 'roberta_pos': 0.96430844}, 2846: {'roberta_neg': 0.348624, 'roberta_neu': 0.3782758, 'roberta_pos': 0.27310023}, 2847: {'roberta_neg': 0.0013459774, 'roberta_neu': 0.009624226, 'roberta_pos': 0.9890298}, 2848: {'roberta_neg': 0.0451931, 'roberta_neu': 0.14858691, 'roberta_pos': 0.80622}, 2849: {'roberta_neg': 0.0024603852, 'roberta_neu': 0.019427516, 'roberta_pos': 0.9781121}, 2850: {'roberta_neg': 0.23950218, 'roberta_neu': 0.5281888, 'roberta_pos': 0.232309}, 2851: {'roberta_neg': 0.048378084, 'roberta_neu': 0.35091153, 'roberta_pos': 0.6007104}, 2852: {'roberta_neg': 0.0037748849, 'roberta_neu': 0.054747064, 'roberta_pos': 0.9414781}, 2853: {'roberta_neg': 0.42610964, 'roberta_neu': 0.43066067, 'roberta_pos': 0.14322965}, 2854: {'roberta_neg': 0.002971868, 'roberta_neu': 0.012983366, 'roberta_pos': 0.9840448}, 2855: {'roberta_neg': 0.42009166, 'roberta_neu': 0.4175573, 'roberta_pos': 0.16235101}, 2856: {'roberta_neg': 0.0011612442, 'roberta_neu': 0.011470786, 'roberta_pos': 0.9873679}, 2857: {'roberta_neg': 0.0019436243, 'roberta_neu': 0.0315042, 'roberta_pos': 0.9665522}, 2858: {'roberta_neg': 0.23950218, 'roberta_neu': 0.5281888, 'roberta_pos': 0.232309}, 2859: {'roberta_neg': 0.23950218, 'roberta_neu': 0.5281888, 'roberta_pos': 0.232309}, 2860: {'roberta_neg': 0.0012122333, 'roberta_neu': 0.018245816, 'roberta_pos': 0.98054194}, 2861: {'roberta_neg': 0.39218223, 'roberta_neu': 0.44807085, 'roberta_pos': 0.1597469}, 2862: {'roberta_neg': 0.0014075378, 'roberta_neu': 0.009456488, 'roberta_pos': 0.989136}, 2863: {'roberta_neg': 0.00638187, 'roberta_neu': 0.29003006, 'roberta_pos': 0.7035881}, 2864: {'roberta_neg': 0.0042646048, 'roberta_neu': 0.04284259, 'roberta_pos': 0.95289284}, 2865: {'roberta_neg': 0.0054509, 'roberta_neu': 0.02151758, 'roberta_pos': 0.9730315}, 2866: {'roberta_neg': 0.0014768563, 'roberta_neu': 0.014993368, 'roberta_pos': 0.98352975}, 2867: {'roberta_neg': 0.0014875055, 'roberta_neu': 0.008063588, 'roberta_pos': 0.9904489}, 2868: {'roberta_neg': 0.002916242, 'roberta_neu': 0.024061626, 'roberta_pos': 0.97302216}, 2869: {'roberta_neg': 0.03530087, 'roberta_neu': 0.6916626, 'roberta_pos': 0.27303657}, 2870: {'roberta_neg': 0.0013566297, 'roberta_neu': 0.007099509, 'roberta_pos': 0.9915439}, 2871: {'roberta_neg': 0.00899988, 'roberta_neu': 0.09122145, 'roberta_pos': 0.8997787}, 2872: {'roberta_neg': 0.0014176968, 'roberta_neu': 0.028922424, 'roberta_pos': 0.96965986}, 2873: {'roberta_neg': 0.0014956886, 'roberta_neu': 0.021513846, 'roberta_pos': 0.97699046}, 2874: {'roberta_neg': 0.0056779687, 'roberta_neu': 0.03803467, 'roberta_pos': 0.9562873}, 2875: {'roberta_neg': 0.7479846, 'roberta_neu': 0.2088981, 'roberta_pos': 0.043117367}, 2876: {'roberta_neg': 0.0011878123, 'roberta_neu': 0.014455226, 'roberta_pos': 0.98435694}, 2877: {'roberta_neg': 0.0019684467, 'roberta_neu': 0.02068294, 'roberta_pos': 0.9773487}, 2878: {'roberta_neg': 0.0013423517, 'roberta_neu': 0.014662918, 'roberta_pos': 0.9839947}, 2879: {'roberta_neg': 0.0020225607, 'roberta_neu': 0.023699729, 'roberta_pos': 0.9742777}, 2880: {'roberta_neg': 0.0037251466, 'roberta_neu': 0.13493273, 'roberta_pos': 0.8613422}, 2881: {'roberta_neg': 0.0032671483, 'roberta_neu': 0.060259003, 'roberta_pos': 0.93647385}, 2882: {'roberta_neg': 0.0016181218, 'roberta_neu': 0.014433012, 'roberta_pos': 0.9839489}, 2883: {'roberta_neg': 0.0020685203, 'roberta_neu': 0.04790224, 'roberta_pos': 0.95002925}, 2884: {'roberta_neg': 0.0062591895, 'roberta_neu': 0.030471675, 'roberta_pos': 0.9632691}, 2885: {'roberta_neg': 0.0022037425, 'roberta_neu': 0.02730034, 'roberta_pos': 0.97049594}, 2886: {'roberta_neg': 0.006531359, 'roberta_neu': 0.028181594, 'roberta_pos': 0.965287}, 2887: {'roberta_neg': 0.0057021193, 'roberta_neu': 0.042368483, 'roberta_pos': 0.95192933}, 2888: {'roberta_neg': 0.0015517029, 'roberta_neu': 0.023493249, 'roberta_pos': 0.9749551}, 2889: {'roberta_neg': 0.0027056688, 'roberta_neu': 0.013359881, 'roberta_pos': 0.98393446}, 2890: {'roberta_neg': 0.0034670464, 'roberta_neu': 0.026546711, 'roberta_pos': 0.96998626}, 2891: {'roberta_neg': 0.0014707878, 'roberta_neu': 0.022205057, 'roberta_pos': 0.9763241}, 2892: {'roberta_neg': 0.53442603, 'roberta_neu': 0.39329383, 'roberta_pos': 0.07228013}, 2893: {'roberta_neg': 0.061027385, 'roberta_neu': 0.23125042, 'roberta_pos': 0.7077221}, 2894: {'roberta_neg': 0.01275041, 'roberta_neu': 0.16226467, 'roberta_pos': 0.8249849}, 2895: {'roberta_neg': 0.0014849172, 'roberta_neu': 0.011393115, 'roberta_pos': 0.987122}, 2896: {'roberta_neg': 0.0017632387, 'roberta_neu': 0.01585304, 'roberta_pos': 0.9823837}, 2897: {'roberta_neg': 0.37631083, 'roberta_neu': 0.49625105, 'roberta_pos': 0.1274381}, 2898: {'roberta_neg': 0.002049572, 'roberta_neu': 0.031289585, 'roberta_pos': 0.9666608}, 2899: {'roberta_neg': 0.00205943, 'roberta_neu': 0.017234286, 'roberta_pos': 0.98070633}, 2900: {'roberta_neg': 0.0015892452, 'roberta_neu': 0.02375763, 'roberta_pos': 0.97465307}, 2901: {'roberta_neg': 0.23950218, 'roberta_neu': 0.5281888, 'roberta_pos': 0.232309}, 2902: {'roberta_neg': 0.0023914876, 'roberta_neu': 0.023987465, 'roberta_pos': 0.9736211}, 2903: {'roberta_neg': 0.0021884076, 'roberta_neu': 0.016444007, 'roberta_pos': 0.9813675}, 2904: {'roberta_neg': 0.0022422732, 'roberta_neu': 0.019738447, 'roberta_pos': 0.97801924}, 2905: {'roberta_neg': 0.0020800265, 'roberta_neu': 0.011644692, 'roberta_pos': 0.9862753}, 2906: {'roberta_neg': 0.002968096, 'roberta_neu': 0.084700555, 'roberta_pos': 0.9123314}, 2907: {'roberta_neg': 0.009484073, 'roberta_neu': 0.11133746, 'roberta_pos': 0.8791785}, 2908: {'roberta_neg': 0.0012583794, 'roberta_neu': 0.016742941, 'roberta_pos': 0.9819987}, 2909: {'roberta_neg': 0.0014670553, 'roberta_neu': 0.029476242, 'roberta_pos': 0.96905667}, 2910: {'roberta_neg': 0.01229522, 'roberta_neu': 0.08203155, 'roberta_pos': 0.9056732}, 2911: {'roberta_neg': 0.0018376217, 'roberta_neu': 0.06566123, 'roberta_pos': 0.9325012}, 2912: {'roberta_neg': 0.04980473, 'roberta_neu': 0.38030422, 'roberta_pos': 0.56989104}, 2913: {'roberta_neg': 0.0013107947, 'roberta_neu': 0.0165639, 'roberta_pos': 0.9821253}, 2914: {'roberta_neg': 0.0017420391, 'roberta_neu': 0.014564495, 'roberta_pos': 0.9836934}, 2915: {'roberta_neg': 0.09077965, 'roberta_neu': 0.3355359, 'roberta_pos': 0.5736844}, 2916: {'roberta_neg': 0.024245637, 'roberta_neu': 0.12661196, 'roberta_pos': 0.8491424}, 2917: {'roberta_neg': 0.003223676, 'roberta_neu': 0.061103117, 'roberta_pos': 0.93567324}, 2918: {'roberta_neg': 0.0017871057, 'roberta_neu': 0.008956893, 'roberta_pos': 0.989256}, 2919: {'roberta_neg': 0.0015861907, 'roberta_neu': 0.017010065, 'roberta_pos': 0.9814037}, 2920: {'roberta_neg': 0.0013261463, 'roberta_neu': 0.011261825, 'roberta_pos': 0.987412}, 2921: {'roberta_neg': 0.23950218, 'roberta_neu': 0.5281888, 'roberta_pos': 0.232309}, 2922: {'roberta_neg': 0.0013238078, 'roberta_neu': 0.010115402, 'roberta_pos': 0.98856086}, 2923: {'roberta_neg': 0.0024868716, 'roberta_neu': 0.057128336, 'roberta_pos': 0.94038486}, 2924: {'roberta_neg': 0.0014658255, 'roberta_neu': 0.018743854, 'roberta_pos': 0.97979033}, 2925: {'roberta_neg': 0.04467247, 'roberta_neu': 0.24035716, 'roberta_pos': 0.71497035}, 2926: {'roberta_neg': 0.0040053893, 'roberta_neu': 0.03428983, 'roberta_pos': 0.96170473}, 2927: {'roberta_neg': 0.0019699747, 'roberta_neu': 0.008731812, 'roberta_pos': 0.9892982}, 2928: {'roberta_neg': 0.0013263986, 'roberta_neu': 0.011521186, 'roberta_pos': 0.9871524}, 2929: {'roberta_neg': 0.0011839895, 'roberta_neu': 0.01261954, 'roberta_pos': 0.98619646}, 2930: {'roberta_neg': 0.0020907372, 'roberta_neu': 0.025732161, 'roberta_pos': 0.9721771}, 2931: {'roberta_neg': 0.00194566, 'roberta_neu': 0.012024027, 'roberta_pos': 0.98603034}, 2932: {'roberta_neg': 0.008147058, 'roberta_neu': 0.08834092, 'roberta_pos': 0.90351194}, 2933: {'roberta_neg': 0.0013589232, 'roberta_neu': 0.0064253644, 'roberta_pos': 0.9922157}, 2934: {'roberta_neg': 0.0016491073, 'roberta_neu': 0.01945988, 'roberta_pos': 0.97889096}, 2935: {'roberta_neg': 0.0027005654, 'roberta_neu': 0.07251756, 'roberta_pos': 0.9247819}, 2936: {'roberta_neg': 0.008631272, 'roberta_neu': 0.07425893, 'roberta_pos': 0.9171098}, 2937: {'roberta_neg': 0.001430099, 'roberta_neu': 0.02684043, 'roberta_pos': 0.97172946}, 2938: {'roberta_neg': 0.8883016, 'roberta_neu': 0.10368136, 'roberta_pos': 0.008017058}, 2939: {'roberta_neg': 0.0046555675, 'roberta_neu': 0.094896905, 'roberta_pos': 0.90044755}, 2940: {'roberta_neg': 0.0015465772, 'roberta_neu': 0.010617236, 'roberta_pos': 0.9878362}, 2941: {'roberta_neg': 0.0896027, 'roberta_neu': 0.26348782, 'roberta_pos': 0.6469095}, 2942: {'roberta_neg': 0.0037294303, 'roberta_neu': 0.029503066, 'roberta_pos': 0.96676755}, 2943: {'roberta_neg': 0.0018958917, 'roberta_neu': 0.027538225, 'roberta_pos': 0.9705659}, 2944: {'roberta_neg': 0.002441315, 'roberta_neu': 0.032644145, 'roberta_pos': 0.96491456}, 2945: {'roberta_neg': 0.001214805, 'roberta_neu': 0.015007493, 'roberta_pos': 0.98377776}, 2946: {'roberta_neg': 0.0033870672, 'roberta_neu': 0.09045112, 'roberta_pos': 0.9061618}, 2947: {'roberta_neg': 0.016937412, 'roberta_neu': 0.32543826, 'roberta_pos': 0.65762436}, 2948: {'roberta_neg': 0.23950218, 'roberta_neu': 0.5281888, 'roberta_pos': 0.232309}, 2949: {'roberta_neg': 0.002486254, 'roberta_neu': 0.076843895, 'roberta_pos': 0.92066985}, 2950: {'roberta_neg': 0.23950218, 'roberta_neu': 0.5281888, 'roberta_pos': 0.232309}, 2951: {'roberta_neg': 0.028220627, 'roberta_neu': 0.18124802, 'roberta_pos': 0.79053134}, 2952: {'roberta_neg': 0.6641856, 'roberta_neu': 0.28109306, 'roberta_pos': 0.054721367}, 2953: {'roberta_neg': 0.0014730146, 'roberta_neu': 0.015602689, 'roberta_pos': 0.9829243}, 2954: {'roberta_neg': 0.012844735, 'roberta_neu': 0.09749642, 'roberta_pos': 0.8896588}, 2955: {'roberta_neg': 0.0018035842, 'roberta_neu': 0.015581207, 'roberta_pos': 0.98261523}, 2956: {'roberta_neg': 0.006392385, 'roberta_neu': 0.062005192, 'roberta_pos': 0.93160236}, 2957: {'roberta_neg': 0.0020411885, 'roberta_neu': 0.017616756, 'roberta_pos': 0.9803421}, 2958: {'roberta_neg': 0.0018677462, 'roberta_neu': 0.02639824, 'roberta_pos': 0.97173405}, 2959: {'roberta_neg': 0.0020455965, 'roberta_neu': 0.036030587, 'roberta_pos': 0.96192384}, 2960: {'roberta_neg': 0.6311953, 'roberta_neu': 0.30847782, 'roberta_pos': 0.06032683}, 2961: {'roberta_neg': 0.001626016, 'roberta_neu': 0.01105042, 'roberta_pos': 0.9873236}, 2962: {'roberta_neg': 0.0012872821, 'roberta_neu': 0.020937102, 'roberta_pos': 0.97777563}, 2963: {'roberta_neg': 0.0011381401, 'roberta_neu': 0.01243259, 'roberta_pos': 0.9864292}, 2964: {'roberta_neg': 0.23950218, 'roberta_neu': 0.5281888, 'roberta_pos': 0.232309}, 2965: {'roberta_neg': 0.0017456188, 'roberta_neu': 0.023213064, 'roberta_pos': 0.97504133}, 2966: {'roberta_neg': 0.6992063, 'roberta_neu': 0.2584237, 'roberta_pos': 0.042370055}, 2967: {'roberta_neg': 0.12571143, 'roberta_neu': 0.47316468, 'roberta_pos': 0.4011239}, 2968: {'roberta_neg': 0.36813867, 'roberta_neu': 0.48039702, 'roberta_pos': 0.15146431}, 2969: {'roberta_neg': 0.08520245, 'roberta_neu': 0.3987428, 'roberta_pos': 0.51605475}, 2970: {'roberta_neg': 0.23950218, 'roberta_neu': 0.5281888, 'roberta_pos': 0.232309}, 2971: {'roberta_neg': 0.0032051057, 'roberta_neu': 0.024848808, 'roberta_pos': 0.97194606}, 2972: {'roberta_neg': 0.001682874, 'roberta_neu': 0.015202139, 'roberta_pos': 0.983115}, 2973: {'roberta_neg': 0.23950218, 'roberta_neu': 0.5281888, 'roberta_pos': 0.232309}, 2974: {'roberta_neg': 0.0050593447, 'roberta_neu': 0.0571158, 'roberta_pos': 0.93782485}, 2975: {'roberta_neg': 0.0037166122, 'roberta_neu': 0.02993954, 'roberta_pos': 0.9663439}, 2976: {'roberta_neg': 0.0019631803, 'roberta_neu': 0.024141125, 'roberta_pos': 0.9738957}, 2977: {'roberta_neg': 0.007347271, 'roberta_neu': 0.06801249, 'roberta_pos': 0.92464024}, 2978: {'roberta_neg': 0.0014942762, 'roberta_neu': 0.009298656, 'roberta_pos': 0.989207}, 2979: {'roberta_neg': 0.0028654905, 'roberta_neu': 0.057824314, 'roberta_pos': 0.93931013}, 2980: {'roberta_neg': 0.0013230497, 'roberta_neu': 0.061335567, 'roberta_pos': 0.93734133}, 2981: {'roberta_neg': 0.009082699, 'roberta_neu': 0.054446932, 'roberta_pos': 0.9364703}, 2982: {'roberta_neg': 0.057428394, 'roberta_neu': 0.2795465, 'roberta_pos': 0.6630251}, 2983: {'roberta_neg': 0.002032775, 'roberta_neu': 0.026603607, 'roberta_pos': 0.97136366}, 2984: {'roberta_neg': 0.0017276794, 'roberta_neu': 0.015758622, 'roberta_pos': 0.9825137}, 2985: {'roberta_neg': 0.0013401689, 'roberta_neu': 0.0073120273, 'roberta_pos': 0.99134785}, 2986: {'roberta_neg': 0.00905985, 'roberta_neu': 0.12347756, 'roberta_pos': 0.8674626}, 2987: {'roberta_neg': 0.001251995, 'roberta_neu': 0.0097111175, 'roberta_pos': 0.98903686}, 2988: {'roberta_neg': 0.006812289, 'roberta_neu': 0.025132425, 'roberta_pos': 0.9680553}, 2989: {'roberta_neg': 0.001518282, 'roberta_neu': 0.009969169, 'roberta_pos': 0.9885125}, 2990: {'roberta_neg': 0.0023879164, 'roberta_neu': 0.009999803, 'roberta_pos': 0.9876123}, 2991: {'roberta_neg': 0.0015562774, 'roberta_neu': 0.008411768, 'roberta_pos': 0.99003196}, 2992: {'roberta_neg': 0.003102155, 'roberta_neu': 0.022381153, 'roberta_pos': 0.97451663}, 2993: {'roberta_neg': 0.0020399808, 'roberta_neu': 0.022155965, 'roberta_pos': 0.9758041}, 2994: {'roberta_neg': 0.0014243996, 'roberta_neu': 0.023077672, 'roberta_pos': 0.9754979}, 2995: {'roberta_neg': 0.004313584, 'roberta_neu': 0.009007875, 'roberta_pos': 0.98667854}, 2996: {'roberta_neg': 0.0024260362, 'roberta_neu': 0.025949491, 'roberta_pos': 0.97162443}, 2997: {'roberta_neg': 0.0016211995, 'roberta_neu': 0.006118979, 'roberta_pos': 0.9922598}, 2998: {'roberta_neg': 0.003218927, 'roberta_neu': 0.03867896, 'roberta_pos': 0.95810205}, 2999: {'roberta_neg': 0.037966087, 'roberta_neu': 0.19290033, 'roberta_pos': 0.7691336}, 3000: {'roberta_neg': 0.0021301808, 'roberta_neu': 0.026450332, 'roberta_pos': 0.97141945}, 3001: {'roberta_neg': 0.0031982951, 'roberta_neu': 0.026898345, 'roberta_pos': 0.96990335}, 3002: {'roberta_neg': 0.0065738093, 'roberta_neu': 0.069640286, 'roberta_pos': 0.9237859}, 3003: {'roberta_neg': 0.045482732, 'roberta_neu': 0.20372936, 'roberta_pos': 0.750788}, 3004: {'roberta_neg': 0.2691937, 'roberta_neu': 0.3933361, 'roberta_pos': 0.3374702}, 3005: {'roberta_neg': 0.10476581, 'roberta_neu': 0.34405395, 'roberta_pos': 0.55118024}, 3006: {'roberta_neg': 0.0015831692, 'roberta_neu': 0.014091827, 'roberta_pos': 0.98432505}, 3007: {'roberta_neg': 0.0021091294, 'roberta_neu': 0.01629331, 'roberta_pos': 0.98159754}, 3008: {'roberta_neg': 0.0012309966, 'roberta_neu': 0.018779302, 'roberta_pos': 0.9799897}, 3009: {'roberta_neg': 0.0024561451, 'roberta_neu': 0.022011422, 'roberta_pos': 0.9755324}, 3010: {'roberta_neg': 0.0012904872, 'roberta_neu': 0.014319847, 'roberta_pos': 0.9843896}, 3011: {'roberta_neg': 0.001898146, 'roberta_neu': 0.031504028, 'roberta_pos': 0.96659786}, 3012: {'roberta_neg': 0.002592726, 'roberta_neu': 0.03894485, 'roberta_pos': 0.9584624}, 3013: {'roberta_neg': 0.0028755495, 'roberta_neu': 0.036845714, 'roberta_pos': 0.96027875}, 3014: {'roberta_neg': 0.002813991, 'roberta_neu': 0.04589756, 'roberta_pos': 0.95128846}, 3015: {'roberta_neg': 0.08523367, 'roberta_neu': 0.41052493, 'roberta_pos': 0.5042414}, 3016: {'roberta_neg': 0.0015713143, 'roberta_neu': 0.022778748, 'roberta_pos': 0.97564995}, 3017: {'roberta_neg': 0.009573091, 'roberta_neu': 0.03852814, 'roberta_pos': 0.95189875}, 3018: {'roberta_neg': 0.12487105, 'roberta_neu': 0.39121336, 'roberta_pos': 0.48391554}, 3019: {'roberta_neg': 0.0012760394, 'roberta_neu': 0.013880559, 'roberta_pos': 0.98484343}, 3020: {'roberta_neg': 0.008849647, 'roberta_neu': 0.057242773, 'roberta_pos': 0.93390757}, 3021: {'roberta_neg': 0.89630425, 'roberta_neu': 0.09476504, 'roberta_pos': 0.008930739}, 3022: {'roberta_neg': 0.016286928, 'roberta_neu': 0.16804315, 'roberta_pos': 0.8156699}, 3023: {'roberta_neg': 0.0014067652, 'roberta_neu': 0.0121620875, 'roberta_pos': 0.9864312}, 3024: {'roberta_neg': 0.0014454293, 'roberta_neu': 0.015231909, 'roberta_pos': 0.9833227}, 3025: {'roberta_neg': 0.0074327406, 'roberta_neu': 0.0915683, 'roberta_pos': 0.9009989}, 3026: {'roberta_neg': 0.006709542, 'roberta_neu': 0.042241544, 'roberta_pos': 0.9510489}, 3027: {'roberta_neg': 0.0012586561, 'roberta_neu': 0.008511536, 'roberta_pos': 0.9902298}, 3028: {'roberta_neg': 0.0014596309, 'roberta_neu': 0.013820506, 'roberta_pos': 0.9847199}}\n"
          ]
        },
        {
          "output_type": "stream",
          "name": "stderr",
          "text": [
            "\n"
          ]
        }
      ],
      "source": [
        "rob_res_seq_rec_instructor = {}\n",
        "counter = 0\n",
        "#indexing thing instead of suing text\n",
        "for i, row in tqdm(df.iterrows(), total=len(df)):\n",
        "    rob_score = {\n",
        "          'roberta_neg' : 0,\n",
        "          'roberta_neu' : 0,\n",
        "          'roberta_pos' : 0\n",
        "    }\n",
        "    rob_res_seq_rec_instructor[i] = rob_score\n",
        "    try:\n",
        "        text = row['seq_rec_instructor']\n",
        "        rob_score = roberta_score(str(text))\n",
        "        rob_res_seq_rec_instructor[i] = rob_score\n",
        "    except RuntimeError:\n",
        "        print(\"RTE\")\n",
        "\n",
        "print(counter)\n",
        "print(rob_res_seq_rec_instructor)"
      ]
    },
    {
      "cell_type": "code",
      "execution_count": null,
      "id": "i7sKQqzKFryM",
      "metadata": {
        "colab": {
          "base_uri": "https://localhost:8080/"
        },
        "id": "i7sKQqzKFryM",
        "outputId": "297e4900-06fb-4957-acdc-ec323e05c0d0"
      },
      "outputs": [
        {
          "name": "stdout",
          "output_type": "stream",
          "text": [
            "\n",
            "3029\n"
          ]
        }
      ],
      "source": [
        "print()\n",
        "print(len(rob_res_seq_rec_instructor))"
      ]
    },
    {
      "cell_type": "code",
      "execution_count": null,
      "id": "f9b5fe89-8770-4b0a-900d-3dcc54cfa031",
      "metadata": {
        "colab": {
          "base_uri": "https://localhost:8080/"
        },
        "id": "f9b5fe89-8770-4b0a-900d-3dcc54cfa031",
        "outputId": "d242fd33-f6b3-462a-9895-c5ea3a44fd9e"
      },
      "outputs": [
        {
          "name": "stderr",
          "output_type": "stream",
          "text": [
            "100%|██████████| 3029/3029 [11:21<00:00,  4.44it/s]"
          ]
        },
        {
          "name": "stdout",
          "output_type": "stream",
          "text": [
            "3029\n"
          ]
        },
        {
          "name": "stderr",
          "output_type": "stream",
          "text": [
            "\n"
          ]
        }
      ],
      "source": [
        "rob_res_seq_rec_course = {}\n",
        "for i, row in tqdm(df.iterrows(), total=len(df)):\n",
        "    rob_score = {\n",
        "          'roberta_neg' : 0,\n",
        "          'roberta_neu' : 0,\n",
        "          'roberta_pos' : 0\n",
        "    }\n",
        "    rob_res_seq_rec_course[i] = rob_score\n",
        "    try:\n",
        "        text = row['seq_rec_course']\n",
        "        rob_score = roberta_score(str(text))\n",
        "        rob_res_seq_rec_course[i] = rob_score\n",
        "    except RuntimeError:\n",
        "        print(\"RTE\")\n",
        "\n",
        "print(len(rob_res_seq_rec_course))"
      ]
    },
    {
      "cell_type": "markdown",
      "id": "VYw3lCfw5Lrt",
      "metadata": {
        "id": "VYw3lCfw5Lrt"
      },
      "source": []
    },
    {
      "cell_type": "code",
      "execution_count": null,
      "id": "NQ9ejFKj5M-l",
      "metadata": {
        "colab": {
          "base_uri": "https://localhost:8080/"
        },
        "id": "NQ9ejFKj5M-l",
        "outputId": "ea31cb4e-65db-4a5b-8f1a-f597226e2de3"
      },
      "outputs": [
        {
          "output_type": "stream",
          "name": "stderr",
          "text": [
            "  4%|▎         | 112/3029 [00:41<14:56,  3.25it/s]ERROR:root:IndexError at row 112: index out of range in self\n",
            " 15%|█▌        | 465/3029 [02:07<09:52,  4.33it/s]"
          ]
        },
        {
          "output_type": "stream",
          "name": "stdout",
          "text": [
            "RTE\n"
          ]
        },
        {
          "output_type": "stream",
          "name": "stderr",
          "text": [
            " 68%|██████▊   | 2056/3029 [08:38<05:16,  3.08it/s]"
          ]
        },
        {
          "output_type": "stream",
          "name": "stdout",
          "text": [
            "RTE\n"
          ]
        },
        {
          "output_type": "stream",
          "name": "stderr",
          "text": [
            " 94%|█████████▍| 2855/3029 [12:07<00:54,  3.21it/s]"
          ]
        },
        {
          "output_type": "stream",
          "name": "stdout",
          "text": [
            "RTE\n"
          ]
        },
        {
          "output_type": "stream",
          "name": "stderr",
          "text": [
            "100%|██████████| 3029/3029 [12:46<00:00,  3.95it/s]"
          ]
        },
        {
          "output_type": "stream",
          "name": "stdout",
          "text": [
            "3029\n"
          ]
        },
        {
          "output_type": "stream",
          "name": "stderr",
          "text": [
            "\n"
          ]
        }
      ],
      "source": [
        "rob_res_seq_if = {}\n",
        "for i, row in tqdm(df.iterrows(), total=len(df)):\n",
        "    rob_score = {\n",
        "          'roberta_neg' : 0,\n",
        "          'roberta_neu' : 0,\n",
        "          'roberta_pos' : 0\n",
        "    }\n",
        "    rob_res_seq_if[i] = rob_score\n",
        "    try:\n",
        "        text = row['seq_if']\n",
        "        rob_score = roberta_score(str(text))\n",
        "        rob_res_seq_if[i] = rob_score\n",
        "    except IndexError as e:\n",
        "        logging.error(f\"IndexError at row {i}: {e}\")\n",
        "    except RuntimeError:\n",
        "        print(\"RTE\")\n",
        "\n",
        "print(len(rob_res_seq_if))"
      ]
    },
    {
      "cell_type": "code",
      "execution_count": null,
      "id": "Ms46lC7P5PJ6",
      "metadata": {
        "colab": {
          "background_save": true,
          "base_uri": "https://localhost:8080/"
        },
        "id": "Ms46lC7P5PJ6",
        "outputId": "3caa0eb9-0841-486b-fbd6-e97b8fbceff4"
      },
      "outputs": [
        {
          "name": "stderr",
          "output_type": "stream",
          "text": [
            "100%|██████████| 3029/3029 [13:28<00:00,  3.75it/s]"
          ]
        },
        {
          "name": "stdout",
          "output_type": "stream",
          "text": [
            "3029\n"
          ]
        },
        {
          "name": "stderr",
          "output_type": "stream",
          "text": [
            "\n"
          ]
        }
      ],
      "source": [
        "rob_res_seq_vf = {}\n",
        "for i, row in tqdm(df.iterrows(), total=len(df)):\n",
        "    rob_score = {\n",
        "          'roberta_neg' : 0,\n",
        "          'roberta_neu' : 0,\n",
        "          'roberta_pos' : 0\n",
        "    }\n",
        "    rob_res_seq_vf[i] = rob_score\n",
        "    try:\n",
        "        text = row['seq_vf']\n",
        "        rob_score = roberta_score(str(text))\n",
        "        rob_res_seq_vf[i] = rob_score\n",
        "    except RuntimeError:\n",
        "        print(\"RTE\")\n",
        "\n",
        "print(len(rob_res_seq_vf))"
      ]
    },
    {
      "cell_type": "code",
      "execution_count": null,
      "id": "gZSCm7mlBFY8",
      "metadata": {
        "id": "gZSCm7mlBFY8",
        "colab": {
          "base_uri": "https://localhost:8080/"
        },
        "outputId": "79ce2632-4eb4-48a0-a882-c452841daf32"
      },
      "outputs": [
        {
          "output_type": "stream",
          "name": "stderr",
          "text": [
            "100%|██████████| 3029/3029 [15:16<00:00,  3.31it/s]"
          ]
        },
        {
          "output_type": "stream",
          "name": "stdout",
          "text": [
            "3029\n"
          ]
        },
        {
          "output_type": "stream",
          "name": "stderr",
          "text": [
            "\n"
          ]
        }
      ],
      "source": [
        "rob_res_seq_effort = {}\n",
        "for i, row in tqdm(df.iterrows(), total=len(df)):\n",
        "    rob_score = {\n",
        "          'roberta_neg' : 0,\n",
        "          'roberta_neu' : 0,\n",
        "          'roberta_pos' : 0\n",
        "    }\n",
        "    rob_res_seq_effort[i] = rob_score\n",
        "    try:\n",
        "        text = row['seq_effort']\n",
        "        rob_score = roberta_score(str(text))\n",
        "        rob_res_seq_effort[i] = rob_score\n",
        "    except RuntimeError:\n",
        "        print(\"RTE\")\n",
        "\n",
        "print(len(rob_res_seq_effort))"
      ]
    },
    {
      "cell_type": "code",
      "execution_count": null,
      "id": "qMwW9yYAIL1i",
      "metadata": {
        "id": "qMwW9yYAIL1i"
      },
      "outputs": [],
      "source": [
        "def new_look(dic):\n",
        "  roberta_neg = []\n",
        "  roberta_neu = []\n",
        "  roberta_pos = []\n",
        "  for key, value in dic.items():\n",
        "    roberta_neg.append(value['roberta_neg'])\n",
        "    roberta_neu.append(value['roberta_neu'])\n",
        "    roberta_pos.append(value['roberta_pos'])\n",
        "  return roberta_neg, roberta_neu, roberta_pos\n"
      ]
    },
    {
      "cell_type": "code",
      "execution_count": null,
      "id": "8FbQltjuJMTm",
      "metadata": {
        "id": "8FbQltjuJMTm"
      },
      "outputs": [],
      "source": [
        "roberta_neg, roberta_neu, roberta_pos = new_look(rob_res_seq_rec_instructor)"
      ]
    },
    {
      "cell_type": "code",
      "execution_count": null,
      "id": "wf2fAcLWCh3-",
      "metadata": {
        "colab": {
          "base_uri": "https://localhost:8080/",
          "height": 17
        },
        "id": "wf2fAcLWCh3-",
        "outputId": "b249597f-1c6c-4f0f-c412-f17566e55c42"
      },
      "outputs": [
        {
          "output_type": "display_data",
          "data": {
            "text/plain": [
              "<IPython.core.display.Javascript object>"
            ],
            "application/javascript": [
              "\n",
              "    async function download(id, filename, size) {\n",
              "      if (!google.colab.kernel.accessAllowed) {\n",
              "        return;\n",
              "      }\n",
              "      const div = document.createElement('div');\n",
              "      const label = document.createElement('label');\n",
              "      label.textContent = `Downloading \"${filename}\": `;\n",
              "      div.appendChild(label);\n",
              "      const progress = document.createElement('progress');\n",
              "      progress.max = size;\n",
              "      div.appendChild(progress);\n",
              "      document.body.appendChild(div);\n",
              "\n",
              "      const buffers = [];\n",
              "      let downloaded = 0;\n",
              "\n",
              "      const channel = await google.colab.kernel.comms.open(id);\n",
              "      // Send a message to notify the kernel that we're ready.\n",
              "      channel.send({})\n",
              "\n",
              "      for await (const message of channel.messages) {\n",
              "        // Send a message to notify the kernel that we're ready.\n",
              "        channel.send({})\n",
              "        if (message.buffers) {\n",
              "          for (const buffer of message.buffers) {\n",
              "            buffers.push(buffer);\n",
              "            downloaded += buffer.byteLength;\n",
              "            progress.value = downloaded;\n",
              "          }\n",
              "        }\n",
              "      }\n",
              "      const blob = new Blob(buffers, {type: 'application/binary'});\n",
              "      const a = document.createElement('a');\n",
              "      a.href = window.URL.createObjectURL(blob);\n",
              "      a.download = filename;\n",
              "      div.appendChild(a);\n",
              "      a.click();\n",
              "      div.remove();\n",
              "    }\n",
              "  "
            ]
          },
          "metadata": {}
        },
        {
          "output_type": "display_data",
          "data": {
            "text/plain": [
              "<IPython.core.display.Javascript object>"
            ],
            "application/javascript": [
              "download(\"download_2f4b9d54-1331-4fd2-8eac-5c8c281ac16e\", \"rob_res_seq_rec_instructor.csv\", 1483888)"
            ]
          },
          "metadata": {}
        }
      ],
      "source": [
        "from google.colab import files\n",
        "columns_to_drop = ['seq_rec_course', 'seq_if', 'seq_vf', 'seq_effort']\n",
        "df_copy = df.copy()\n",
        "df_copy.drop(columns=columns_to_drop, inplace=True)\n",
        "df_copy['roberta_neg'] = roberta_neg\n",
        "df_copy['roberta_neu'] = roberta_neu\n",
        "df_copy['roberta_pos'] = roberta_pos\n",
        "df_copy.to_csv('rob_res_seq_rec_instructor.csv', index=False)\n",
        "files.download('rob_res_seq_rec_instructor.csv')"
      ]
    },
    {
      "cell_type": "code",
      "source": [
        "roberta_neg, roberta_neu, roberta_pos = new_look(rob_res_seq_rec_course)"
      ],
      "metadata": {
        "id": "h3GgXaso-0Mw"
      },
      "id": "h3GgXaso-0Mw",
      "execution_count": null,
      "outputs": []
    },
    {
      "cell_type": "code",
      "source": [
        "from google.colab import files\n",
        "columns_to_drop = ['seq_rec_instructor', 'seq_if', 'seq_vf', 'seq_effort']\n",
        "df_copy = df.copy()\n",
        "df_copy.drop(columns=columns_to_drop, inplace=True)\n",
        "df_copy['roberta_neg'] = roberta_neg\n",
        "df_copy['roberta_neu'] = roberta_neu\n",
        "df_copy['roberta_pos'] = roberta_pos\n",
        "df_copy.to_csv('rob_res_seq_rec_course.csv', index=False)\n",
        "files.download('rob_res_seq_rec_course.csv')"
      ],
      "metadata": {
        "colab": {
          "base_uri": "https://localhost:8080/",
          "height": 17
        },
        "id": "yrYglIYR-5yJ",
        "outputId": "9231e3b9-4098-4be9-d98e-7b0983451785"
      },
      "id": "yrYglIYR-5yJ",
      "execution_count": null,
      "outputs": [
        {
          "output_type": "display_data",
          "data": {
            "text/plain": [
              "<IPython.core.display.Javascript object>"
            ],
            "application/javascript": [
              "\n",
              "    async function download(id, filename, size) {\n",
              "      if (!google.colab.kernel.accessAllowed) {\n",
              "        return;\n",
              "      }\n",
              "      const div = document.createElement('div');\n",
              "      const label = document.createElement('label');\n",
              "      label.textContent = `Downloading \"${filename}\": `;\n",
              "      div.appendChild(label);\n",
              "      const progress = document.createElement('progress');\n",
              "      progress.max = size;\n",
              "      div.appendChild(progress);\n",
              "      document.body.appendChild(div);\n",
              "\n",
              "      const buffers = [];\n",
              "      let downloaded = 0;\n",
              "\n",
              "      const channel = await google.colab.kernel.comms.open(id);\n",
              "      // Send a message to notify the kernel that we're ready.\n",
              "      channel.send({})\n",
              "\n",
              "      for await (const message of channel.messages) {\n",
              "        // Send a message to notify the kernel that we're ready.\n",
              "        channel.send({})\n",
              "        if (message.buffers) {\n",
              "          for (const buffer of message.buffers) {\n",
              "            buffers.push(buffer);\n",
              "            downloaded += buffer.byteLength;\n",
              "            progress.value = downloaded;\n",
              "          }\n",
              "        }\n",
              "      }\n",
              "      const blob = new Blob(buffers, {type: 'application/binary'});\n",
              "      const a = document.createElement('a');\n",
              "      a.href = window.URL.createObjectURL(blob);\n",
              "      a.download = filename;\n",
              "      div.appendChild(a);\n",
              "      a.click();\n",
              "      div.remove();\n",
              "    }\n",
              "  "
            ]
          },
          "metadata": {}
        },
        {
          "output_type": "display_data",
          "data": {
            "text/plain": [
              "<IPython.core.display.Javascript object>"
            ],
            "application/javascript": [
              "download(\"download_526c5990-c6ed-44cd-81d7-f623fc34f0c3\", \"rob_res_seq_rec_course.csv\", 932973)"
            ]
          },
          "metadata": {}
        }
      ]
    },
    {
      "cell_type": "code",
      "source": [
        "roberta_neg, roberta_neu, roberta_pos = new_look(rob_res_seq_if)"
      ],
      "metadata": {
        "id": "dtjXiU-yALz7"
      },
      "id": "dtjXiU-yALz7",
      "execution_count": null,
      "outputs": []
    },
    {
      "cell_type": "code",
      "source": [
        "from google.colab import files\n",
        "columns_to_drop = ['seq_rec_instructor', 'seq_rec_course', 'seq_vf', 'seq_effort']\n",
        "df_copy = df.copy()\n",
        "df_copy.drop(columns=columns_to_drop, inplace=True)\n",
        "df_copy['roberta_neg'] = roberta_neg\n",
        "df_copy['roberta_neu'] = roberta_neu\n",
        "df_copy['roberta_pos'] = roberta_pos\n",
        "df_copy.to_csv('rob_res_seq_if.csv', index=False)\n",
        "files.download('rob_res_seq_if.csv')"
      ],
      "metadata": {
        "colab": {
          "base_uri": "https://localhost:8080/",
          "height": 17
        },
        "id": "MxMYqkJXANPq",
        "outputId": "ed955c1f-05fd-44a2-b432-0300603baa3b"
      },
      "id": "MxMYqkJXANPq",
      "execution_count": null,
      "outputs": [
        {
          "output_type": "display_data",
          "data": {
            "text/plain": [
              "<IPython.core.display.Javascript object>"
            ],
            "application/javascript": [
              "\n",
              "    async function download(id, filename, size) {\n",
              "      if (!google.colab.kernel.accessAllowed) {\n",
              "        return;\n",
              "      }\n",
              "      const div = document.createElement('div');\n",
              "      const label = document.createElement('label');\n",
              "      label.textContent = `Downloading \"${filename}\": `;\n",
              "      div.appendChild(label);\n",
              "      const progress = document.createElement('progress');\n",
              "      progress.max = size;\n",
              "      div.appendChild(progress);\n",
              "      document.body.appendChild(div);\n",
              "\n",
              "      const buffers = [];\n",
              "      let downloaded = 0;\n",
              "\n",
              "      const channel = await google.colab.kernel.comms.open(id);\n",
              "      // Send a message to notify the kernel that we're ready.\n",
              "      channel.send({})\n",
              "\n",
              "      for await (const message of channel.messages) {\n",
              "        // Send a message to notify the kernel that we're ready.\n",
              "        channel.send({})\n",
              "        if (message.buffers) {\n",
              "          for (const buffer of message.buffers) {\n",
              "            buffers.push(buffer);\n",
              "            downloaded += buffer.byteLength;\n",
              "            progress.value = downloaded;\n",
              "          }\n",
              "        }\n",
              "      }\n",
              "      const blob = new Blob(buffers, {type: 'application/binary'});\n",
              "      const a = document.createElement('a');\n",
              "      a.href = window.URL.createObjectURL(blob);\n",
              "      a.download = filename;\n",
              "      div.appendChild(a);\n",
              "      a.click();\n",
              "      div.remove();\n",
              "    }\n",
              "  "
            ]
          },
          "metadata": {}
        },
        {
          "output_type": "display_data",
          "data": {
            "text/plain": [
              "<IPython.core.display.Javascript object>"
            ],
            "application/javascript": [
              "download(\"download_a3544f27-85d3-4799-aff6-812f6fbb1568\", \"rob_res_seq_if.csv\", 1135976)"
            ]
          },
          "metadata": {}
        }
      ]
    },
    {
      "cell_type": "code",
      "source": [
        "roberta_neg, roberta_neu, roberta_pos = new_look(rob_res_seq_vf)"
      ],
      "metadata": {
        "id": "p8D5YwloAjg4"
      },
      "id": "p8D5YwloAjg4",
      "execution_count": null,
      "outputs": []
    },
    {
      "cell_type": "code",
      "source": [
        "from google.colab import files\n",
        "columns_to_drop = ['seq_rec_instructor', 'seq_rec_course', 'seq_if', 'seq_effort']\n",
        "df_copy = df.copy()\n",
        "df_copy.drop(columns=columns_to_drop, inplace=True)\n",
        "df_copy['roberta_neg'] = roberta_neg\n",
        "df_copy['roberta_neu'] = roberta_neu\n",
        "df_copy['roberta_pos'] = roberta_pos\n",
        "df_copy.to_csv('rob_res_seq_vf.csv', index=False)\n",
        "files.download('rob_res_seq_vf.csv')"
      ],
      "metadata": {
        "colab": {
          "base_uri": "https://localhost:8080/",
          "height": 17
        },
        "id": "Vu9DTGTFAjVe",
        "outputId": "33e29d4f-7269-421b-99ce-749757efa723"
      },
      "id": "Vu9DTGTFAjVe",
      "execution_count": null,
      "outputs": [
        {
          "output_type": "display_data",
          "data": {
            "text/plain": [
              "<IPython.core.display.Javascript object>"
            ],
            "application/javascript": [
              "\n",
              "    async function download(id, filename, size) {\n",
              "      if (!google.colab.kernel.accessAllowed) {\n",
              "        return;\n",
              "      }\n",
              "      const div = document.createElement('div');\n",
              "      const label = document.createElement('label');\n",
              "      label.textContent = `Downloading \"${filename}\": `;\n",
              "      div.appendChild(label);\n",
              "      const progress = document.createElement('progress');\n",
              "      progress.max = size;\n",
              "      div.appendChild(progress);\n",
              "      document.body.appendChild(div);\n",
              "\n",
              "      const buffers = [];\n",
              "      let downloaded = 0;\n",
              "\n",
              "      const channel = await google.colab.kernel.comms.open(id);\n",
              "      // Send a message to notify the kernel that we're ready.\n",
              "      channel.send({})\n",
              "\n",
              "      for await (const message of channel.messages) {\n",
              "        // Send a message to notify the kernel that we're ready.\n",
              "        channel.send({})\n",
              "        if (message.buffers) {\n",
              "          for (const buffer of message.buffers) {\n",
              "            buffers.push(buffer);\n",
              "            downloaded += buffer.byteLength;\n",
              "            progress.value = downloaded;\n",
              "          }\n",
              "        }\n",
              "      }\n",
              "      const blob = new Blob(buffers, {type: 'application/binary'});\n",
              "      const a = document.createElement('a');\n",
              "      a.href = window.URL.createObjectURL(blob);\n",
              "      a.download = filename;\n",
              "      div.appendChild(a);\n",
              "      a.click();\n",
              "      div.remove();\n",
              "    }\n",
              "  "
            ]
          },
          "metadata": {}
        },
        {
          "output_type": "display_data",
          "data": {
            "text/plain": [
              "<IPython.core.display.Javascript object>"
            ],
            "application/javascript": [
              "download(\"download_189663c5-8256-4111-8383-f5b0fcb1bdb4\", \"rob_res_seq_vf.csv\", 1154098)"
            ]
          },
          "metadata": {}
        }
      ]
    },
    {
      "cell_type": "code",
      "source": [
        "roberta_neg, roberta_neu, roberta_pos = new_look(rob_res_seq_effort)"
      ],
      "metadata": {
        "id": "8BKXeLgjAs3x"
      },
      "id": "8BKXeLgjAs3x",
      "execution_count": null,
      "outputs": []
    },
    {
      "cell_type": "code",
      "source": [
        "from google.colab import files\n",
        "columns_to_drop = ['seq_rec_instructor', 'seq_rec_course', 'seq_if', 'seq_vf']\n",
        "df_copy = df.copy()\n",
        "df_copy.drop(columns=columns_to_drop, inplace=True)\n",
        "df_copy['roberta_neg'] = roberta_neg\n",
        "df_copy['roberta_neu'] = roberta_neu\n",
        "df_copy['roberta_pos'] = roberta_pos\n",
        "df_copy.to_csv('rob_res_seq_effort.csv', index=False)\n",
        "files.download('rob_res_seq_effort.csv')"
      ],
      "metadata": {
        "colab": {
          "base_uri": "https://localhost:8080/",
          "height": 17
        },
        "id": "T2dfmrqvAu8M",
        "outputId": "1bc1735f-53e8-4bee-831e-310191fd84ef"
      },
      "id": "T2dfmrqvAu8M",
      "execution_count": null,
      "outputs": [
        {
          "output_type": "display_data",
          "data": {
            "text/plain": [
              "<IPython.core.display.Javascript object>"
            ],
            "application/javascript": [
              "\n",
              "    async function download(id, filename, size) {\n",
              "      if (!google.colab.kernel.accessAllowed) {\n",
              "        return;\n",
              "      }\n",
              "      const div = document.createElement('div');\n",
              "      const label = document.createElement('label');\n",
              "      label.textContent = `Downloading \"${filename}\": `;\n",
              "      div.appendChild(label);\n",
              "      const progress = document.createElement('progress');\n",
              "      progress.max = size;\n",
              "      div.appendChild(progress);\n",
              "      document.body.appendChild(div);\n",
              "\n",
              "      const buffers = [];\n",
              "      let downloaded = 0;\n",
              "\n",
              "      const channel = await google.colab.kernel.comms.open(id);\n",
              "      // Send a message to notify the kernel that we're ready.\n",
              "      channel.send({})\n",
              "\n",
              "      for await (const message of channel.messages) {\n",
              "        // Send a message to notify the kernel that we're ready.\n",
              "        channel.send({})\n",
              "        if (message.buffers) {\n",
              "          for (const buffer of message.buffers) {\n",
              "            buffers.push(buffer);\n",
              "            downloaded += buffer.byteLength;\n",
              "            progress.value = downloaded;\n",
              "          }\n",
              "        }\n",
              "      }\n",
              "      const blob = new Blob(buffers, {type: 'application/binary'});\n",
              "      const a = document.createElement('a');\n",
              "      a.href = window.URL.createObjectURL(blob);\n",
              "      a.download = filename;\n",
              "      div.appendChild(a);\n",
              "      a.click();\n",
              "      div.remove();\n",
              "    }\n",
              "  "
            ]
          },
          "metadata": {}
        },
        {
          "output_type": "display_data",
          "data": {
            "text/plain": [
              "<IPython.core.display.Javascript object>"
            ],
            "application/javascript": [
              "download(\"download_40b9a076-30d2-453c-a455-d6acc6e4783c\", \"rob_res_seq_effort.csv\", 929370)"
            ]
          },
          "metadata": {}
        }
      ]
    },
    {
      "cell_type": "markdown",
      "source": [
        "# **Multiple emotion Analysis**\n",
        "Read [more](https://huggingface.co/SamLowe/roberta-base-go_emotions) about the RoBerta pre trained goemotions model used below"
      ],
      "metadata": {
        "id": "LyzrldtRGbYw"
      },
      "id": "LyzrldtRGbYw"
    },
    {
      "cell_type": "code",
      "source": [
        "from transformers import pipeline"
      ],
      "metadata": {
        "id": "5gZhJojqGzEd"
      },
      "id": "5gZhJojqGzEd",
      "execution_count": null,
      "outputs": []
    },
    {
      "cell_type": "code",
      "source": [
        "multiEmotionModel = pipeline('text-classification',model='SamLowe/roberta-base-go_emotions')"
      ],
      "metadata": {
        "colab": {
          "base_uri": "https://localhost:8080/"
        },
        "id": "IAiX5e0lJo6f",
        "outputId": "6fa00b4e-6223-4271-857f-d6c81ae38763"
      },
      "id": "IAiX5e0lJo6f",
      "execution_count": null,
      "outputs": [
        {
          "output_type": "stream",
          "name": "stderr",
          "text": [
            "/usr/local/lib/python3.10/dist-packages/transformers/tokenization_utils_base.py:1601: FutureWarning: `clean_up_tokenization_spaces` was not set. It will be set to `True` by default. This behavior will be depracted in transformers v4.45, and will be then set to `False` by default. For more details check this issue: https://github.com/huggingface/transformers/issues/31884\n",
            "  warnings.warn(\n"
          ]
        }
      ]
    },
    {
      "cell_type": "code",
      "source": [
        "test = multiEmotionModel(['The professor was very available and orgnized, office hours were especially helpful.',\"This class was too hard and the professor was mean and unavailable\"])\n",
        "test"
      ],
      "metadata": {
        "colab": {
          "base_uri": "https://localhost:8080/"
        },
        "id": "OHpZ8CHbJsP_",
        "outputId": "8ad7cdb4-63ad-4da3-ae1d-e63c269be90a"
      },
      "id": "OHpZ8CHbJsP_",
      "execution_count": null,
      "outputs": [
        {
          "output_type": "execute_result",
          "data": {
            "text/plain": [
              "[{'label': 'approval', 'score': 0.5203520655632019},\n",
              " {'label': 'disappointment', 'score': 0.40630248188972473}]"
            ]
          },
          "metadata": {},
          "execution_count": 35
        }
      ]
    },
    {
      "cell_type": "code",
      "source": [
        "data = []\n",
        "for text in df['seq_rec_instructor']:\n",
        "    multi_res = multiEmotionModel(str(text))\n",
        "    #print(multi_res) #it works yay\n",
        "    label = multi_res[0]\n",
        "    print(label)\n",
        "    score = multi_res[1]\n",
        "    data.append([text, label, score])\n",
        "\n",
        "output_df = pd.DataFrame(data, columns=['Text', 'Label', 'Score'])\n",
        "output_df.head()\n"
      ],
      "metadata": {
        "colab": {
          "base_uri": "https://localhost:8080/",
          "height": 233
        },
        "id": "FuUt2PHkKRGw",
        "outputId": "1339bbe3-7708-4691-f12c-386964652340"
      },
      "id": "FuUt2PHkKRGw",
      "execution_count": null,
      "outputs": [
        {
          "output_type": "stream",
          "name": "stdout",
          "text": [
            "{'label': 'joy', 'score': 0.689942479133606}\n"
          ]
        },
        {
          "output_type": "error",
          "ename": "IndexError",
          "evalue": "list index out of range",
          "traceback": [
            "\u001b[0;31m---------------------------------------------------------------------------\u001b[0m",
            "\u001b[0;31mIndexError\u001b[0m                                Traceback (most recent call last)",
            "\u001b[0;32m<ipython-input-49-4f9ba67ec663>\u001b[0m in \u001b[0;36m<cell line: 2>\u001b[0;34m()\u001b[0m\n\u001b[1;32m      5\u001b[0m     \u001b[0mlabel\u001b[0m \u001b[0;34m=\u001b[0m \u001b[0mmulti_res\u001b[0m\u001b[0;34m[\u001b[0m\u001b[0;36m0\u001b[0m\u001b[0;34m]\u001b[0m\u001b[0;34m\u001b[0m\u001b[0;34m\u001b[0m\u001b[0m\n\u001b[1;32m      6\u001b[0m     \u001b[0mprint\u001b[0m\u001b[0;34m(\u001b[0m\u001b[0mlabel\u001b[0m\u001b[0;34m)\u001b[0m\u001b[0;34m\u001b[0m\u001b[0;34m\u001b[0m\u001b[0m\n\u001b[0;32m----> 7\u001b[0;31m     \u001b[0mscore\u001b[0m \u001b[0;34m=\u001b[0m \u001b[0mmulti_res\u001b[0m\u001b[0;34m[\u001b[0m\u001b[0;36m1\u001b[0m\u001b[0;34m]\u001b[0m\u001b[0;34m\u001b[0m\u001b[0;34m\u001b[0m\u001b[0m\n\u001b[0m\u001b[1;32m      8\u001b[0m     \u001b[0mdata\u001b[0m\u001b[0;34m.\u001b[0m\u001b[0mappend\u001b[0m\u001b[0;34m(\u001b[0m\u001b[0;34m[\u001b[0m\u001b[0mtext\u001b[0m\u001b[0;34m,\u001b[0m \u001b[0mlabel\u001b[0m\u001b[0;34m,\u001b[0m \u001b[0mscore\u001b[0m\u001b[0;34m]\u001b[0m\u001b[0;34m)\u001b[0m\u001b[0;34m\u001b[0m\u001b[0;34m\u001b[0m\u001b[0m\n\u001b[1;32m      9\u001b[0m \u001b[0;34m\u001b[0m\u001b[0m\n",
            "\u001b[0;31mIndexError\u001b[0m: list index out of range"
          ]
        }
      ]
    }
  ],
  "metadata": {
    "colab": {
      "provenance": [],
      "include_colab_link": true
    },
    "kernelspec": {
      "display_name": "Python 3 (ipykernel)",
      "language": "python",
      "name": "python3"
    },
    "language_info": {
      "codemirror_mode": {
        "name": "ipython",
        "version": 3
      },
      "file_extension": ".py",
      "mimetype": "text/x-python",
      "name": "python",
      "nbconvert_exporter": "python",
      "pygments_lexer": "ipython3",
      "version": "3.11.7"
    },
    "widgets": {
      "application/vnd.jupyter.widget-state+json": {
        "027ca0c7ce8e4315be6fa8758c5a8fd7": {
          "model_module": "@jupyter-widgets/controls",
          "model_module_version": "1.5.0",
          "model_name": "HBoxModel",
          "state": {
            "_dom_classes": [],
            "_model_module": "@jupyter-widgets/controls",
            "_model_module_version": "1.5.0",
            "_model_name": "HBoxModel",
            "_view_count": null,
            "_view_module": "@jupyter-widgets/controls",
            "_view_module_version": "1.5.0",
            "_view_name": "HBoxView",
            "box_style": "",
            "children": [
              "IPY_MODEL_802ae11ee6b44ef8b43150129e3d3124",
              "IPY_MODEL_0d0b958e84e64fa7b6192732603a3bf0",
              "IPY_MODEL_2adea53c3dcc431d81af77d22429dafd"
            ],
            "layout": "IPY_MODEL_c74b1fe2e6e24061865f3d9741fa19d1"
          }
        },
        "0438ba89d2774972a1db21a8a5ee8745": {
          "model_module": "@jupyter-widgets/controls",
          "model_module_version": "1.5.0",
          "model_name": "HTMLModel",
          "state": {
            "_dom_classes": [],
            "_model_module": "@jupyter-widgets/controls",
            "_model_module_version": "1.5.0",
            "_model_name": "HTMLModel",
            "_view_count": null,
            "_view_module": "@jupyter-widgets/controls",
            "_view_module_version": "1.5.0",
            "_view_name": "HTMLView",
            "description": "",
            "description_tooltip": null,
            "layout": "IPY_MODEL_4b5c9f51e74c4fc8ab51239e3b20ce95",
            "placeholder": "​",
            "style": "IPY_MODEL_ed67e14306684f36a577ca0c9899ca6d",
            "value": "100%"
          }
        },
        "066c339ded1145eaa0c472ab61e6d67e": {
          "model_module": "@jupyter-widgets/controls",
          "model_module_version": "1.5.0",
          "model_name": "HBoxModel",
          "state": {
            "_dom_classes": [],
            "_model_module": "@jupyter-widgets/controls",
            "_model_module_version": "1.5.0",
            "_model_name": "HBoxModel",
            "_view_count": null,
            "_view_module": "@jupyter-widgets/controls",
            "_view_module_version": "1.5.0",
            "_view_name": "HBoxView",
            "box_style": "",
            "children": [
              "IPY_MODEL_1e652137f3be4d43bc63865513678151",
              "IPY_MODEL_1f52dfd6055b4d9c85dc21d9d6f0055d",
              "IPY_MODEL_f6aa8c1c6e494b68be53875e09b9e851"
            ],
            "layout": "IPY_MODEL_c1275aeceab14060a54a3f299e022c0a"
          }
        },
        "09c1e24786c4478985f4014b683acb9a": {
          "model_module": "@jupyter-widgets/controls",
          "model_module_version": "1.5.0",
          "model_name": "HTMLModel",
          "state": {
            "_dom_classes": [],
            "_model_module": "@jupyter-widgets/controls",
            "_model_module_version": "1.5.0",
            "_model_name": "HTMLModel",
            "_view_count": null,
            "_view_module": "@jupyter-widgets/controls",
            "_view_module_version": "1.5.0",
            "_view_name": "HTMLView",
            "description": "",
            "description_tooltip": null,
            "layout": "IPY_MODEL_2c45ec7d0f144fe2ab7e0f95b0b0060e",
            "placeholder": "​",
            "style": "IPY_MODEL_91b4aa345a17428ca7175d5fb572aa30",
            "value": " 3029/3029 [00:01&lt;00:00, 1761.34it/s]"
          }
        },
        "0d0b958e84e64fa7b6192732603a3bf0": {
          "model_module": "@jupyter-widgets/controls",
          "model_module_version": "1.5.0",
          "model_name": "FloatProgressModel",
          "state": {
            "_dom_classes": [],
            "_model_module": "@jupyter-widgets/controls",
            "_model_module_version": "1.5.0",
            "_model_name": "FloatProgressModel",
            "_view_count": null,
            "_view_module": "@jupyter-widgets/controls",
            "_view_module_version": "1.5.0",
            "_view_name": "ProgressView",
            "bar_style": "success",
            "description": "",
            "description_tooltip": null,
            "layout": "IPY_MODEL_64275237af454b74888d3a8e3d318e03",
            "max": 3029,
            "min": 0,
            "orientation": "horizontal",
            "style": "IPY_MODEL_10d323a01a9147bbb5308c71a2d42302",
            "value": 3029
          }
        },
        "10d323a01a9147bbb5308c71a2d42302": {
          "model_module": "@jupyter-widgets/controls",
          "model_module_version": "1.5.0",
          "model_name": "ProgressStyleModel",
          "state": {
            "_model_module": "@jupyter-widgets/controls",
            "_model_module_version": "1.5.0",
            "_model_name": "ProgressStyleModel",
            "_view_count": null,
            "_view_module": "@jupyter-widgets/base",
            "_view_module_version": "1.2.0",
            "_view_name": "StyleView",
            "bar_color": null,
            "description_width": ""
          }
        },
        "1e652137f3be4d43bc63865513678151": {
          "model_module": "@jupyter-widgets/controls",
          "model_module_version": "1.5.0",
          "model_name": "HTMLModel",
          "state": {
            "_dom_classes": [],
            "_model_module": "@jupyter-widgets/controls",
            "_model_module_version": "1.5.0",
            "_model_name": "HTMLModel",
            "_view_count": null,
            "_view_module": "@jupyter-widgets/controls",
            "_view_module_version": "1.5.0",
            "_view_name": "HTMLView",
            "description": "",
            "description_tooltip": null,
            "layout": "IPY_MODEL_a3a8018e34d34dc7abd7d8130f00d532",
            "placeholder": "​",
            "style": "IPY_MODEL_d3e00d88a7384ffc9a5c10ed9652656e",
            "value": "100%"
          }
        },
        "1f4b213dff2f4812abdc01cbf1014b01": {
          "model_module": "@jupyter-widgets/base",
          "model_module_version": "1.2.0",
          "model_name": "LayoutModel",
          "state": {
            "_model_module": "@jupyter-widgets/base",
            "_model_module_version": "1.2.0",
            "_model_name": "LayoutModel",
            "_view_count": null,
            "_view_module": "@jupyter-widgets/base",
            "_view_module_version": "1.2.0",
            "_view_name": "LayoutView",
            "align_content": null,
            "align_items": null,
            "align_self": null,
            "border": null,
            "bottom": null,
            "display": null,
            "flex": null,
            "flex_flow": null,
            "grid_area": null,
            "grid_auto_columns": null,
            "grid_auto_flow": null,
            "grid_auto_rows": null,
            "grid_column": null,
            "grid_gap": null,
            "grid_row": null,
            "grid_template_areas": null,
            "grid_template_columns": null,
            "grid_template_rows": null,
            "height": null,
            "justify_content": null,
            "justify_items": null,
            "left": null,
            "margin": null,
            "max_height": null,
            "max_width": null,
            "min_height": null,
            "min_width": null,
            "object_fit": null,
            "object_position": null,
            "order": null,
            "overflow": null,
            "overflow_x": null,
            "overflow_y": null,
            "padding": null,
            "right": null,
            "top": null,
            "visibility": null,
            "width": null
          }
        },
        "1f52dfd6055b4d9c85dc21d9d6f0055d": {
          "model_module": "@jupyter-widgets/controls",
          "model_module_version": "1.5.0",
          "model_name": "FloatProgressModel",
          "state": {
            "_dom_classes": [],
            "_model_module": "@jupyter-widgets/controls",
            "_model_module_version": "1.5.0",
            "_model_name": "FloatProgressModel",
            "_view_count": null,
            "_view_module": "@jupyter-widgets/controls",
            "_view_module_version": "1.5.0",
            "_view_name": "ProgressView",
            "bar_style": "success",
            "description": "",
            "description_tooltip": null,
            "layout": "IPY_MODEL_de7a3714824040738a2c483af12e964f",
            "max": 3029,
            "min": 0,
            "orientation": "horizontal",
            "style": "IPY_MODEL_6b4df7c8147c462588a9a61889c23117",
            "value": 3029
          }
        },
        "21729805c8ab4c868050a4fe22efa76e": {
          "model_module": "@jupyter-widgets/controls",
          "model_module_version": "1.5.0",
          "model_name": "ProgressStyleModel",
          "state": {
            "_model_module": "@jupyter-widgets/controls",
            "_model_module_version": "1.5.0",
            "_model_name": "ProgressStyleModel",
            "_view_count": null,
            "_view_module": "@jupyter-widgets/base",
            "_view_module_version": "1.2.0",
            "_view_name": "StyleView",
            "bar_color": null,
            "description_width": ""
          }
        },
        "21ce65eeda4f4a42a28b5c60419fa6eb": {
          "model_module": "@jupyter-widgets/controls",
          "model_module_version": "1.5.0",
          "model_name": "DescriptionStyleModel",
          "state": {
            "_model_module": "@jupyter-widgets/controls",
            "_model_module_version": "1.5.0",
            "_model_name": "DescriptionStyleModel",
            "_view_count": null,
            "_view_module": "@jupyter-widgets/base",
            "_view_module_version": "1.2.0",
            "_view_name": "StyleView",
            "description_width": ""
          }
        },
        "2934ae80b276460f955f7014a8e0ecb7": {
          "model_module": "@jupyter-widgets/base",
          "model_module_version": "1.2.0",
          "model_name": "LayoutModel",
          "state": {
            "_model_module": "@jupyter-widgets/base",
            "_model_module_version": "1.2.0",
            "_model_name": "LayoutModel",
            "_view_count": null,
            "_view_module": "@jupyter-widgets/base",
            "_view_module_version": "1.2.0",
            "_view_name": "LayoutView",
            "align_content": null,
            "align_items": null,
            "align_self": null,
            "border": null,
            "bottom": null,
            "display": null,
            "flex": null,
            "flex_flow": null,
            "grid_area": null,
            "grid_auto_columns": null,
            "grid_auto_flow": null,
            "grid_auto_rows": null,
            "grid_column": null,
            "grid_gap": null,
            "grid_row": null,
            "grid_template_areas": null,
            "grid_template_columns": null,
            "grid_template_rows": null,
            "height": null,
            "justify_content": null,
            "justify_items": null,
            "left": null,
            "margin": null,
            "max_height": null,
            "max_width": null,
            "min_height": null,
            "min_width": null,
            "object_fit": null,
            "object_position": null,
            "order": null,
            "overflow": null,
            "overflow_x": null,
            "overflow_y": null,
            "padding": null,
            "right": null,
            "top": null,
            "visibility": null,
            "width": null
          }
        },
        "2adea53c3dcc431d81af77d22429dafd": {
          "model_module": "@jupyter-widgets/controls",
          "model_module_version": "1.5.0",
          "model_name": "HTMLModel",
          "state": {
            "_dom_classes": [],
            "_model_module": "@jupyter-widgets/controls",
            "_model_module_version": "1.5.0",
            "_model_name": "HTMLModel",
            "_view_count": null,
            "_view_module": "@jupyter-widgets/controls",
            "_view_module_version": "1.5.0",
            "_view_name": "HTMLView",
            "description": "",
            "description_tooltip": null,
            "layout": "IPY_MODEL_a537865555ac42719fc920fd906dae01",
            "placeholder": "​",
            "style": "IPY_MODEL_21ce65eeda4f4a42a28b5c60419fa6eb",
            "value": " 3029/3029 [00:03&lt;00:00, 814.42it/s]"
          }
        },
        "2c45ec7d0f144fe2ab7e0f95b0b0060e": {
          "model_module": "@jupyter-widgets/base",
          "model_module_version": "1.2.0",
          "model_name": "LayoutModel",
          "state": {
            "_model_module": "@jupyter-widgets/base",
            "_model_module_version": "1.2.0",
            "_model_name": "LayoutModel",
            "_view_count": null,
            "_view_module": "@jupyter-widgets/base",
            "_view_module_version": "1.2.0",
            "_view_name": "LayoutView",
            "align_content": null,
            "align_items": null,
            "align_self": null,
            "border": null,
            "bottom": null,
            "display": null,
            "flex": null,
            "flex_flow": null,
            "grid_area": null,
            "grid_auto_columns": null,
            "grid_auto_flow": null,
            "grid_auto_rows": null,
            "grid_column": null,
            "grid_gap": null,
            "grid_row": null,
            "grid_template_areas": null,
            "grid_template_columns": null,
            "grid_template_rows": null,
            "height": null,
            "justify_content": null,
            "justify_items": null,
            "left": null,
            "margin": null,
            "max_height": null,
            "max_width": null,
            "min_height": null,
            "min_width": null,
            "object_fit": null,
            "object_position": null,
            "order": null,
            "overflow": null,
            "overflow_x": null,
            "overflow_y": null,
            "padding": null,
            "right": null,
            "top": null,
            "visibility": null,
            "width": null
          }
        },
        "365e7f8182894641af7fdab65e5149d5": {
          "model_module": "@jupyter-widgets/controls",
          "model_module_version": "1.5.0",
          "model_name": "DescriptionStyleModel",
          "state": {
            "_model_module": "@jupyter-widgets/controls",
            "_model_module_version": "1.5.0",
            "_model_name": "DescriptionStyleModel",
            "_view_count": null,
            "_view_module": "@jupyter-widgets/base",
            "_view_module_version": "1.2.0",
            "_view_name": "StyleView",
            "description_width": ""
          }
        },
        "38788bac43404a54b1aa5f9e2da7b979": {
          "model_module": "@jupyter-widgets/controls",
          "model_module_version": "1.5.0",
          "model_name": "FloatProgressModel",
          "state": {
            "_dom_classes": [],
            "_model_module": "@jupyter-widgets/controls",
            "_model_module_version": "1.5.0",
            "_model_name": "FloatProgressModel",
            "_view_count": null,
            "_view_module": "@jupyter-widgets/controls",
            "_view_module_version": "1.5.0",
            "_view_name": "ProgressView",
            "bar_style": "success",
            "description": "",
            "description_tooltip": null,
            "layout": "IPY_MODEL_908e86b6d368416b80aac057d6d2382d",
            "max": 3029,
            "min": 0,
            "orientation": "horizontal",
            "style": "IPY_MODEL_21729805c8ab4c868050a4fe22efa76e",
            "value": 3029
          }
        },
        "44abbedc6368410299764e96e3a841ce": {
          "model_module": "@jupyter-widgets/controls",
          "model_module_version": "1.5.0",
          "model_name": "HBoxModel",
          "state": {
            "_dom_classes": [],
            "_model_module": "@jupyter-widgets/controls",
            "_model_module_version": "1.5.0",
            "_model_name": "HBoxModel",
            "_view_count": null,
            "_view_module": "@jupyter-widgets/controls",
            "_view_module_version": "1.5.0",
            "_view_name": "HBoxView",
            "box_style": "",
            "children": [
              "IPY_MODEL_5a96388bbe4547d59cb6673b4f5c80dc",
              "IPY_MODEL_bd30cf630c0c47cb96f83c5f63b89642",
              "IPY_MODEL_09c1e24786c4478985f4014b683acb9a"
            ],
            "layout": "IPY_MODEL_1f4b213dff2f4812abdc01cbf1014b01"
          }
        },
        "459edf1e4a0742a5abd0fddc0b05b2a2": {
          "model_module": "@jupyter-widgets/controls",
          "model_module_version": "1.5.0",
          "model_name": "DescriptionStyleModel",
          "state": {
            "_model_module": "@jupyter-widgets/controls",
            "_model_module_version": "1.5.0",
            "_model_name": "DescriptionStyleModel",
            "_view_count": null,
            "_view_module": "@jupyter-widgets/base",
            "_view_module_version": "1.2.0",
            "_view_name": "StyleView",
            "description_width": ""
          }
        },
        "45e174187acd49198d3f1d71ecfa2d7a": {
          "model_module": "@jupyter-widgets/controls",
          "model_module_version": "1.5.0",
          "model_name": "HTMLModel",
          "state": {
            "_dom_classes": [],
            "_model_module": "@jupyter-widgets/controls",
            "_model_module_version": "1.5.0",
            "_model_name": "HTMLModel",
            "_view_count": null,
            "_view_module": "@jupyter-widgets/controls",
            "_view_module_version": "1.5.0",
            "_view_name": "HTMLView",
            "description": "",
            "description_tooltip": null,
            "layout": "IPY_MODEL_9786d57d810949b594cb715be80bf27e",
            "placeholder": "​",
            "style": "IPY_MODEL_459edf1e4a0742a5abd0fddc0b05b2a2",
            "value": "100%"
          }
        },
        "46712e1186c745c587940c400221cca2": {
          "model_module": "@jupyter-widgets/base",
          "model_module_version": "1.2.0",
          "model_name": "LayoutModel",
          "state": {
            "_model_module": "@jupyter-widgets/base",
            "_model_module_version": "1.2.0",
            "_model_name": "LayoutModel",
            "_view_count": null,
            "_view_module": "@jupyter-widgets/base",
            "_view_module_version": "1.2.0",
            "_view_name": "LayoutView",
            "align_content": null,
            "align_items": null,
            "align_self": null,
            "border": null,
            "bottom": null,
            "display": null,
            "flex": null,
            "flex_flow": null,
            "grid_area": null,
            "grid_auto_columns": null,
            "grid_auto_flow": null,
            "grid_auto_rows": null,
            "grid_column": null,
            "grid_gap": null,
            "grid_row": null,
            "grid_template_areas": null,
            "grid_template_columns": null,
            "grid_template_rows": null,
            "height": null,
            "justify_content": null,
            "justify_items": null,
            "left": null,
            "margin": null,
            "max_height": null,
            "max_width": null,
            "min_height": null,
            "min_width": null,
            "object_fit": null,
            "object_position": null,
            "order": null,
            "overflow": null,
            "overflow_x": null,
            "overflow_y": null,
            "padding": null,
            "right": null,
            "top": null,
            "visibility": null,
            "width": null
          }
        },
        "47726e618f8c4b1599372bd176bb7fee": {
          "model_module": "@jupyter-widgets/controls",
          "model_module_version": "1.5.0",
          "model_name": "FloatProgressModel",
          "state": {
            "_dom_classes": [],
            "_model_module": "@jupyter-widgets/controls",
            "_model_module_version": "1.5.0",
            "_model_name": "FloatProgressModel",
            "_view_count": null,
            "_view_module": "@jupyter-widgets/controls",
            "_view_module_version": "1.5.0",
            "_view_name": "ProgressView",
            "bar_style": "success",
            "description": "",
            "description_tooltip": null,
            "layout": "IPY_MODEL_afa74d8fe0da43b5b04e615c7140c4fb",
            "max": 3029,
            "min": 0,
            "orientation": "horizontal",
            "style": "IPY_MODEL_4b27cf5c6a424edfbfe2ba9087be2625",
            "value": 3029
          }
        },
        "4b27cf5c6a424edfbfe2ba9087be2625": {
          "model_module": "@jupyter-widgets/controls",
          "model_module_version": "1.5.0",
          "model_name": "ProgressStyleModel",
          "state": {
            "_model_module": "@jupyter-widgets/controls",
            "_model_module_version": "1.5.0",
            "_model_name": "ProgressStyleModel",
            "_view_count": null,
            "_view_module": "@jupyter-widgets/base",
            "_view_module_version": "1.2.0",
            "_view_name": "StyleView",
            "bar_color": null,
            "description_width": ""
          }
        },
        "4b5c9f51e74c4fc8ab51239e3b20ce95": {
          "model_module": "@jupyter-widgets/base",
          "model_module_version": "1.2.0",
          "model_name": "LayoutModel",
          "state": {
            "_model_module": "@jupyter-widgets/base",
            "_model_module_version": "1.2.0",
            "_model_name": "LayoutModel",
            "_view_count": null,
            "_view_module": "@jupyter-widgets/base",
            "_view_module_version": "1.2.0",
            "_view_name": "LayoutView",
            "align_content": null,
            "align_items": null,
            "align_self": null,
            "border": null,
            "bottom": null,
            "display": null,
            "flex": null,
            "flex_flow": null,
            "grid_area": null,
            "grid_auto_columns": null,
            "grid_auto_flow": null,
            "grid_auto_rows": null,
            "grid_column": null,
            "grid_gap": null,
            "grid_row": null,
            "grid_template_areas": null,
            "grid_template_columns": null,
            "grid_template_rows": null,
            "height": null,
            "justify_content": null,
            "justify_items": null,
            "left": null,
            "margin": null,
            "max_height": null,
            "max_width": null,
            "min_height": null,
            "min_width": null,
            "object_fit": null,
            "object_position": null,
            "order": null,
            "overflow": null,
            "overflow_x": null,
            "overflow_y": null,
            "padding": null,
            "right": null,
            "top": null,
            "visibility": null,
            "width": null
          }
        },
        "4bd80bca94444f459ecc519d22716757": {
          "model_module": "@jupyter-widgets/base",
          "model_module_version": "1.2.0",
          "model_name": "LayoutModel",
          "state": {
            "_model_module": "@jupyter-widgets/base",
            "_model_module_version": "1.2.0",
            "_model_name": "LayoutModel",
            "_view_count": null,
            "_view_module": "@jupyter-widgets/base",
            "_view_module_version": "1.2.0",
            "_view_name": "LayoutView",
            "align_content": null,
            "align_items": null,
            "align_self": null,
            "border": null,
            "bottom": null,
            "display": null,
            "flex": null,
            "flex_flow": null,
            "grid_area": null,
            "grid_auto_columns": null,
            "grid_auto_flow": null,
            "grid_auto_rows": null,
            "grid_column": null,
            "grid_gap": null,
            "grid_row": null,
            "grid_template_areas": null,
            "grid_template_columns": null,
            "grid_template_rows": null,
            "height": null,
            "justify_content": null,
            "justify_items": null,
            "left": null,
            "margin": null,
            "max_height": null,
            "max_width": null,
            "min_height": null,
            "min_width": null,
            "object_fit": null,
            "object_position": null,
            "order": null,
            "overflow": null,
            "overflow_x": null,
            "overflow_y": null,
            "padding": null,
            "right": null,
            "top": null,
            "visibility": null,
            "width": null
          }
        },
        "50c65567195b4bcf841621b6c28715cc": {
          "model_module": "@jupyter-widgets/controls",
          "model_module_version": "1.5.0",
          "model_name": "HTMLModel",
          "state": {
            "_dom_classes": [],
            "_model_module": "@jupyter-widgets/controls",
            "_model_module_version": "1.5.0",
            "_model_name": "HTMLModel",
            "_view_count": null,
            "_view_module": "@jupyter-widgets/controls",
            "_view_module_version": "1.5.0",
            "_view_name": "HTMLView",
            "description": "",
            "description_tooltip": null,
            "layout": "IPY_MODEL_e5c3f51f68a84ccc82e58af5b5373023",
            "placeholder": "​",
            "style": "IPY_MODEL_5a55b5a4e1d04f1aa6528cd19f36562b",
            "value": " 3029/3029 [00:04&lt;00:00, 1539.60it/s]"
          }
        },
        "5a55b5a4e1d04f1aa6528cd19f36562b": {
          "model_module": "@jupyter-widgets/controls",
          "model_module_version": "1.5.0",
          "model_name": "DescriptionStyleModel",
          "state": {
            "_model_module": "@jupyter-widgets/controls",
            "_model_module_version": "1.5.0",
            "_model_name": "DescriptionStyleModel",
            "_view_count": null,
            "_view_module": "@jupyter-widgets/base",
            "_view_module_version": "1.2.0",
            "_view_name": "StyleView",
            "description_width": ""
          }
        },
        "5a96388bbe4547d59cb6673b4f5c80dc": {
          "model_module": "@jupyter-widgets/controls",
          "model_module_version": "1.5.0",
          "model_name": "HTMLModel",
          "state": {
            "_dom_classes": [],
            "_model_module": "@jupyter-widgets/controls",
            "_model_module_version": "1.5.0",
            "_model_name": "HTMLModel",
            "_view_count": null,
            "_view_module": "@jupyter-widgets/controls",
            "_view_module_version": "1.5.0",
            "_view_name": "HTMLView",
            "description": "",
            "description_tooltip": null,
            "layout": "IPY_MODEL_7db1de768239408f8a111e1efb983573",
            "placeholder": "​",
            "style": "IPY_MODEL_365e7f8182894641af7fdab65e5149d5",
            "value": "100%"
          }
        },
        "60b0af2fd8e445f9881d6e224e967925": {
          "model_module": "@jupyter-widgets/controls",
          "model_module_version": "1.5.0",
          "model_name": "DescriptionStyleModel",
          "state": {
            "_model_module": "@jupyter-widgets/controls",
            "_model_module_version": "1.5.0",
            "_model_name": "DescriptionStyleModel",
            "_view_count": null,
            "_view_module": "@jupyter-widgets/base",
            "_view_module_version": "1.2.0",
            "_view_name": "StyleView",
            "description_width": ""
          }
        },
        "64275237af454b74888d3a8e3d318e03": {
          "model_module": "@jupyter-widgets/base",
          "model_module_version": "1.2.0",
          "model_name": "LayoutModel",
          "state": {
            "_model_module": "@jupyter-widgets/base",
            "_model_module_version": "1.2.0",
            "_model_name": "LayoutModel",
            "_view_count": null,
            "_view_module": "@jupyter-widgets/base",
            "_view_module_version": "1.2.0",
            "_view_name": "LayoutView",
            "align_content": null,
            "align_items": null,
            "align_self": null,
            "border": null,
            "bottom": null,
            "display": null,
            "flex": null,
            "flex_flow": null,
            "grid_area": null,
            "grid_auto_columns": null,
            "grid_auto_flow": null,
            "grid_auto_rows": null,
            "grid_column": null,
            "grid_gap": null,
            "grid_row": null,
            "grid_template_areas": null,
            "grid_template_columns": null,
            "grid_template_rows": null,
            "height": null,
            "justify_content": null,
            "justify_items": null,
            "left": null,
            "margin": null,
            "max_height": null,
            "max_width": null,
            "min_height": null,
            "min_width": null,
            "object_fit": null,
            "object_position": null,
            "order": null,
            "overflow": null,
            "overflow_x": null,
            "overflow_y": null,
            "padding": null,
            "right": null,
            "top": null,
            "visibility": null,
            "width": null
          }
        },
        "6b4df7c8147c462588a9a61889c23117": {
          "model_module": "@jupyter-widgets/controls",
          "model_module_version": "1.5.0",
          "model_name": "ProgressStyleModel",
          "state": {
            "_model_module": "@jupyter-widgets/controls",
            "_model_module_version": "1.5.0",
            "_model_name": "ProgressStyleModel",
            "_view_count": null,
            "_view_module": "@jupyter-widgets/base",
            "_view_module_version": "1.2.0",
            "_view_name": "StyleView",
            "bar_color": null,
            "description_width": ""
          }
        },
        "73b4ae3a66d748298a8d4eabd076d84d": {
          "model_module": "@jupyter-widgets/controls",
          "model_module_version": "1.5.0",
          "model_name": "DescriptionStyleModel",
          "state": {
            "_model_module": "@jupyter-widgets/controls",
            "_model_module_version": "1.5.0",
            "_model_name": "DescriptionStyleModel",
            "_view_count": null,
            "_view_module": "@jupyter-widgets/base",
            "_view_module_version": "1.2.0",
            "_view_name": "StyleView",
            "description_width": ""
          }
        },
        "7db1de768239408f8a111e1efb983573": {
          "model_module": "@jupyter-widgets/base",
          "model_module_version": "1.2.0",
          "model_name": "LayoutModel",
          "state": {
            "_model_module": "@jupyter-widgets/base",
            "_model_module_version": "1.2.0",
            "_model_name": "LayoutModel",
            "_view_count": null,
            "_view_module": "@jupyter-widgets/base",
            "_view_module_version": "1.2.0",
            "_view_name": "LayoutView",
            "align_content": null,
            "align_items": null,
            "align_self": null,
            "border": null,
            "bottom": null,
            "display": null,
            "flex": null,
            "flex_flow": null,
            "grid_area": null,
            "grid_auto_columns": null,
            "grid_auto_flow": null,
            "grid_auto_rows": null,
            "grid_column": null,
            "grid_gap": null,
            "grid_row": null,
            "grid_template_areas": null,
            "grid_template_columns": null,
            "grid_template_rows": null,
            "height": null,
            "justify_content": null,
            "justify_items": null,
            "left": null,
            "margin": null,
            "max_height": null,
            "max_width": null,
            "min_height": null,
            "min_width": null,
            "object_fit": null,
            "object_position": null,
            "order": null,
            "overflow": null,
            "overflow_x": null,
            "overflow_y": null,
            "padding": null,
            "right": null,
            "top": null,
            "visibility": null,
            "width": null
          }
        },
        "802ae11ee6b44ef8b43150129e3d3124": {
          "model_module": "@jupyter-widgets/controls",
          "model_module_version": "1.5.0",
          "model_name": "HTMLModel",
          "state": {
            "_dom_classes": [],
            "_model_module": "@jupyter-widgets/controls",
            "_model_module_version": "1.5.0",
            "_model_name": "HTMLModel",
            "_view_count": null,
            "_view_module": "@jupyter-widgets/controls",
            "_view_module_version": "1.5.0",
            "_view_name": "HTMLView",
            "description": "",
            "description_tooltip": null,
            "layout": "IPY_MODEL_2934ae80b276460f955f7014a8e0ecb7",
            "placeholder": "​",
            "style": "IPY_MODEL_60b0af2fd8e445f9881d6e224e967925",
            "value": "100%"
          }
        },
        "908e86b6d368416b80aac057d6d2382d": {
          "model_module": "@jupyter-widgets/base",
          "model_module_version": "1.2.0",
          "model_name": "LayoutModel",
          "state": {
            "_model_module": "@jupyter-widgets/base",
            "_model_module_version": "1.2.0",
            "_model_name": "LayoutModel",
            "_view_count": null,
            "_view_module": "@jupyter-widgets/base",
            "_view_module_version": "1.2.0",
            "_view_name": "LayoutView",
            "align_content": null,
            "align_items": null,
            "align_self": null,
            "border": null,
            "bottom": null,
            "display": null,
            "flex": null,
            "flex_flow": null,
            "grid_area": null,
            "grid_auto_columns": null,
            "grid_auto_flow": null,
            "grid_auto_rows": null,
            "grid_column": null,
            "grid_gap": null,
            "grid_row": null,
            "grid_template_areas": null,
            "grid_template_columns": null,
            "grid_template_rows": null,
            "height": null,
            "justify_content": null,
            "justify_items": null,
            "left": null,
            "margin": null,
            "max_height": null,
            "max_width": null,
            "min_height": null,
            "min_width": null,
            "object_fit": null,
            "object_position": null,
            "order": null,
            "overflow": null,
            "overflow_x": null,
            "overflow_y": null,
            "padding": null,
            "right": null,
            "top": null,
            "visibility": null,
            "width": null
          }
        },
        "91b4aa345a17428ca7175d5fb572aa30": {
          "model_module": "@jupyter-widgets/controls",
          "model_module_version": "1.5.0",
          "model_name": "DescriptionStyleModel",
          "state": {
            "_model_module": "@jupyter-widgets/controls",
            "_model_module_version": "1.5.0",
            "_model_name": "DescriptionStyleModel",
            "_view_count": null,
            "_view_module": "@jupyter-widgets/base",
            "_view_module_version": "1.2.0",
            "_view_name": "StyleView",
            "description_width": ""
          }
        },
        "9786d57d810949b594cb715be80bf27e": {
          "model_module": "@jupyter-widgets/base",
          "model_module_version": "1.2.0",
          "model_name": "LayoutModel",
          "state": {
            "_model_module": "@jupyter-widgets/base",
            "_model_module_version": "1.2.0",
            "_model_name": "LayoutModel",
            "_view_count": null,
            "_view_module": "@jupyter-widgets/base",
            "_view_module_version": "1.2.0",
            "_view_name": "LayoutView",
            "align_content": null,
            "align_items": null,
            "align_self": null,
            "border": null,
            "bottom": null,
            "display": null,
            "flex": null,
            "flex_flow": null,
            "grid_area": null,
            "grid_auto_columns": null,
            "grid_auto_flow": null,
            "grid_auto_rows": null,
            "grid_column": null,
            "grid_gap": null,
            "grid_row": null,
            "grid_template_areas": null,
            "grid_template_columns": null,
            "grid_template_rows": null,
            "height": null,
            "justify_content": null,
            "justify_items": null,
            "left": null,
            "margin": null,
            "max_height": null,
            "max_width": null,
            "min_height": null,
            "min_width": null,
            "object_fit": null,
            "object_position": null,
            "order": null,
            "overflow": null,
            "overflow_x": null,
            "overflow_y": null,
            "padding": null,
            "right": null,
            "top": null,
            "visibility": null,
            "width": null
          }
        },
        "a3a8018e34d34dc7abd7d8130f00d532": {
          "model_module": "@jupyter-widgets/base",
          "model_module_version": "1.2.0",
          "model_name": "LayoutModel",
          "state": {
            "_model_module": "@jupyter-widgets/base",
            "_model_module_version": "1.2.0",
            "_model_name": "LayoutModel",
            "_view_count": null,
            "_view_module": "@jupyter-widgets/base",
            "_view_module_version": "1.2.0",
            "_view_name": "LayoutView",
            "align_content": null,
            "align_items": null,
            "align_self": null,
            "border": null,
            "bottom": null,
            "display": null,
            "flex": null,
            "flex_flow": null,
            "grid_area": null,
            "grid_auto_columns": null,
            "grid_auto_flow": null,
            "grid_auto_rows": null,
            "grid_column": null,
            "grid_gap": null,
            "grid_row": null,
            "grid_template_areas": null,
            "grid_template_columns": null,
            "grid_template_rows": null,
            "height": null,
            "justify_content": null,
            "justify_items": null,
            "left": null,
            "margin": null,
            "max_height": null,
            "max_width": null,
            "min_height": null,
            "min_width": null,
            "object_fit": null,
            "object_position": null,
            "order": null,
            "overflow": null,
            "overflow_x": null,
            "overflow_y": null,
            "padding": null,
            "right": null,
            "top": null,
            "visibility": null,
            "width": null
          }
        },
        "a537865555ac42719fc920fd906dae01": {
          "model_module": "@jupyter-widgets/base",
          "model_module_version": "1.2.0",
          "model_name": "LayoutModel",
          "state": {
            "_model_module": "@jupyter-widgets/base",
            "_model_module_version": "1.2.0",
            "_model_name": "LayoutModel",
            "_view_count": null,
            "_view_module": "@jupyter-widgets/base",
            "_view_module_version": "1.2.0",
            "_view_name": "LayoutView",
            "align_content": null,
            "align_items": null,
            "align_self": null,
            "border": null,
            "bottom": null,
            "display": null,
            "flex": null,
            "flex_flow": null,
            "grid_area": null,
            "grid_auto_columns": null,
            "grid_auto_flow": null,
            "grid_auto_rows": null,
            "grid_column": null,
            "grid_gap": null,
            "grid_row": null,
            "grid_template_areas": null,
            "grid_template_columns": null,
            "grid_template_rows": null,
            "height": null,
            "justify_content": null,
            "justify_items": null,
            "left": null,
            "margin": null,
            "max_height": null,
            "max_width": null,
            "min_height": null,
            "min_width": null,
            "object_fit": null,
            "object_position": null,
            "order": null,
            "overflow": null,
            "overflow_x": null,
            "overflow_y": null,
            "padding": null,
            "right": null,
            "top": null,
            "visibility": null,
            "width": null
          }
        },
        "afa74d8fe0da43b5b04e615c7140c4fb": {
          "model_module": "@jupyter-widgets/base",
          "model_module_version": "1.2.0",
          "model_name": "LayoutModel",
          "state": {
            "_model_module": "@jupyter-widgets/base",
            "_model_module_version": "1.2.0",
            "_model_name": "LayoutModel",
            "_view_count": null,
            "_view_module": "@jupyter-widgets/base",
            "_view_module_version": "1.2.0",
            "_view_name": "LayoutView",
            "align_content": null,
            "align_items": null,
            "align_self": null,
            "border": null,
            "bottom": null,
            "display": null,
            "flex": null,
            "flex_flow": null,
            "grid_area": null,
            "grid_auto_columns": null,
            "grid_auto_flow": null,
            "grid_auto_rows": null,
            "grid_column": null,
            "grid_gap": null,
            "grid_row": null,
            "grid_template_areas": null,
            "grid_template_columns": null,
            "grid_template_rows": null,
            "height": null,
            "justify_content": null,
            "justify_items": null,
            "left": null,
            "margin": null,
            "max_height": null,
            "max_width": null,
            "min_height": null,
            "min_width": null,
            "object_fit": null,
            "object_position": null,
            "order": null,
            "overflow": null,
            "overflow_x": null,
            "overflow_y": null,
            "padding": null,
            "right": null,
            "top": null,
            "visibility": null,
            "width": null
          }
        },
        "b25bbbb9b62e4bf2a1110892e66010a5": {
          "model_module": "@jupyter-widgets/base",
          "model_module_version": "1.2.0",
          "model_name": "LayoutModel",
          "state": {
            "_model_module": "@jupyter-widgets/base",
            "_model_module_version": "1.2.0",
            "_model_name": "LayoutModel",
            "_view_count": null,
            "_view_module": "@jupyter-widgets/base",
            "_view_module_version": "1.2.0",
            "_view_name": "LayoutView",
            "align_content": null,
            "align_items": null,
            "align_self": null,
            "border": null,
            "bottom": null,
            "display": null,
            "flex": null,
            "flex_flow": null,
            "grid_area": null,
            "grid_auto_columns": null,
            "grid_auto_flow": null,
            "grid_auto_rows": null,
            "grid_column": null,
            "grid_gap": null,
            "grid_row": null,
            "grid_template_areas": null,
            "grid_template_columns": null,
            "grid_template_rows": null,
            "height": null,
            "justify_content": null,
            "justify_items": null,
            "left": null,
            "margin": null,
            "max_height": null,
            "max_width": null,
            "min_height": null,
            "min_width": null,
            "object_fit": null,
            "object_position": null,
            "order": null,
            "overflow": null,
            "overflow_x": null,
            "overflow_y": null,
            "padding": null,
            "right": null,
            "top": null,
            "visibility": null,
            "width": null
          }
        },
        "b6e83bc5469c4ff3b36fd26a644152a2": {
          "model_module": "@jupyter-widgets/controls",
          "model_module_version": "1.5.0",
          "model_name": "HTMLModel",
          "state": {
            "_dom_classes": [],
            "_model_module": "@jupyter-widgets/controls",
            "_model_module_version": "1.5.0",
            "_model_name": "HTMLModel",
            "_view_count": null,
            "_view_module": "@jupyter-widgets/controls",
            "_view_module_version": "1.5.0",
            "_view_name": "HTMLView",
            "description": "",
            "description_tooltip": null,
            "layout": "IPY_MODEL_46712e1186c745c587940c400221cca2",
            "placeholder": "​",
            "style": "IPY_MODEL_73b4ae3a66d748298a8d4eabd076d84d",
            "value": " 3029/3029 [00:08&lt;00:00, 370.82it/s]"
          }
        },
        "bd30cf630c0c47cb96f83c5f63b89642": {
          "model_module": "@jupyter-widgets/controls",
          "model_module_version": "1.5.0",
          "model_name": "FloatProgressModel",
          "state": {
            "_dom_classes": [],
            "_model_module": "@jupyter-widgets/controls",
            "_model_module_version": "1.5.0",
            "_model_name": "FloatProgressModel",
            "_view_count": null,
            "_view_module": "@jupyter-widgets/controls",
            "_view_module_version": "1.5.0",
            "_view_name": "ProgressView",
            "bar_style": "success",
            "description": "",
            "description_tooltip": null,
            "layout": "IPY_MODEL_c94d6f5502aa4210899a050b3a4c641c",
            "max": 3029,
            "min": 0,
            "orientation": "horizontal",
            "style": "IPY_MODEL_c93d3ec5a17a4cbd8618e5c6c504e868",
            "value": 3029
          }
        },
        "c1275aeceab14060a54a3f299e022c0a": {
          "model_module": "@jupyter-widgets/base",
          "model_module_version": "1.2.0",
          "model_name": "LayoutModel",
          "state": {
            "_model_module": "@jupyter-widgets/base",
            "_model_module_version": "1.2.0",
            "_model_name": "LayoutModel",
            "_view_count": null,
            "_view_module": "@jupyter-widgets/base",
            "_view_module_version": "1.2.0",
            "_view_name": "LayoutView",
            "align_content": null,
            "align_items": null,
            "align_self": null,
            "border": null,
            "bottom": null,
            "display": null,
            "flex": null,
            "flex_flow": null,
            "grid_area": null,
            "grid_auto_columns": null,
            "grid_auto_flow": null,
            "grid_auto_rows": null,
            "grid_column": null,
            "grid_gap": null,
            "grid_row": null,
            "grid_template_areas": null,
            "grid_template_columns": null,
            "grid_template_rows": null,
            "height": null,
            "justify_content": null,
            "justify_items": null,
            "left": null,
            "margin": null,
            "max_height": null,
            "max_width": null,
            "min_height": null,
            "min_width": null,
            "object_fit": null,
            "object_position": null,
            "order": null,
            "overflow": null,
            "overflow_x": null,
            "overflow_y": null,
            "padding": null,
            "right": null,
            "top": null,
            "visibility": null,
            "width": null
          }
        },
        "c74b1fe2e6e24061865f3d9741fa19d1": {
          "model_module": "@jupyter-widgets/base",
          "model_module_version": "1.2.0",
          "model_name": "LayoutModel",
          "state": {
            "_model_module": "@jupyter-widgets/base",
            "_model_module_version": "1.2.0",
            "_model_name": "LayoutModel",
            "_view_count": null,
            "_view_module": "@jupyter-widgets/base",
            "_view_module_version": "1.2.0",
            "_view_name": "LayoutView",
            "align_content": null,
            "align_items": null,
            "align_self": null,
            "border": null,
            "bottom": null,
            "display": null,
            "flex": null,
            "flex_flow": null,
            "grid_area": null,
            "grid_auto_columns": null,
            "grid_auto_flow": null,
            "grid_auto_rows": null,
            "grid_column": null,
            "grid_gap": null,
            "grid_row": null,
            "grid_template_areas": null,
            "grid_template_columns": null,
            "grid_template_rows": null,
            "height": null,
            "justify_content": null,
            "justify_items": null,
            "left": null,
            "margin": null,
            "max_height": null,
            "max_width": null,
            "min_height": null,
            "min_width": null,
            "object_fit": null,
            "object_position": null,
            "order": null,
            "overflow": null,
            "overflow_x": null,
            "overflow_y": null,
            "padding": null,
            "right": null,
            "top": null,
            "visibility": null,
            "width": null
          }
        },
        "c93d3ec5a17a4cbd8618e5c6c504e868": {
          "model_module": "@jupyter-widgets/controls",
          "model_module_version": "1.5.0",
          "model_name": "ProgressStyleModel",
          "state": {
            "_model_module": "@jupyter-widgets/controls",
            "_model_module_version": "1.5.0",
            "_model_name": "ProgressStyleModel",
            "_view_count": null,
            "_view_module": "@jupyter-widgets/base",
            "_view_module_version": "1.2.0",
            "_view_name": "StyleView",
            "bar_color": null,
            "description_width": ""
          }
        },
        "c94d6f5502aa4210899a050b3a4c641c": {
          "model_module": "@jupyter-widgets/base",
          "model_module_version": "1.2.0",
          "model_name": "LayoutModel",
          "state": {
            "_model_module": "@jupyter-widgets/base",
            "_model_module_version": "1.2.0",
            "_model_name": "LayoutModel",
            "_view_count": null,
            "_view_module": "@jupyter-widgets/base",
            "_view_module_version": "1.2.0",
            "_view_name": "LayoutView",
            "align_content": null,
            "align_items": null,
            "align_self": null,
            "border": null,
            "bottom": null,
            "display": null,
            "flex": null,
            "flex_flow": null,
            "grid_area": null,
            "grid_auto_columns": null,
            "grid_auto_flow": null,
            "grid_auto_rows": null,
            "grid_column": null,
            "grid_gap": null,
            "grid_row": null,
            "grid_template_areas": null,
            "grid_template_columns": null,
            "grid_template_rows": null,
            "height": null,
            "justify_content": null,
            "justify_items": null,
            "left": null,
            "margin": null,
            "max_height": null,
            "max_width": null,
            "min_height": null,
            "min_width": null,
            "object_fit": null,
            "object_position": null,
            "order": null,
            "overflow": null,
            "overflow_x": null,
            "overflow_y": null,
            "padding": null,
            "right": null,
            "top": null,
            "visibility": null,
            "width": null
          }
        },
        "d2b202c565f94f51b82595aad772c207": {
          "model_module": "@jupyter-widgets/controls",
          "model_module_version": "1.5.0",
          "model_name": "HBoxModel",
          "state": {
            "_dom_classes": [],
            "_model_module": "@jupyter-widgets/controls",
            "_model_module_version": "1.5.0",
            "_model_name": "HBoxModel",
            "_view_count": null,
            "_view_module": "@jupyter-widgets/controls",
            "_view_module_version": "1.5.0",
            "_view_name": "HBoxView",
            "box_style": "",
            "children": [
              "IPY_MODEL_0438ba89d2774972a1db21a8a5ee8745",
              "IPY_MODEL_38788bac43404a54b1aa5f9e2da7b979",
              "IPY_MODEL_50c65567195b4bcf841621b6c28715cc"
            ],
            "layout": "IPY_MODEL_4bd80bca94444f459ecc519d22716757"
          }
        },
        "d3e00d88a7384ffc9a5c10ed9652656e": {
          "model_module": "@jupyter-widgets/controls",
          "model_module_version": "1.5.0",
          "model_name": "DescriptionStyleModel",
          "state": {
            "_model_module": "@jupyter-widgets/controls",
            "_model_module_version": "1.5.0",
            "_model_name": "DescriptionStyleModel",
            "_view_count": null,
            "_view_module": "@jupyter-widgets/base",
            "_view_module_version": "1.2.0",
            "_view_name": "StyleView",
            "description_width": ""
          }
        },
        "de7a3714824040738a2c483af12e964f": {
          "model_module": "@jupyter-widgets/base",
          "model_module_version": "1.2.0",
          "model_name": "LayoutModel",
          "state": {
            "_model_module": "@jupyter-widgets/base",
            "_model_module_version": "1.2.0",
            "_model_name": "LayoutModel",
            "_view_count": null,
            "_view_module": "@jupyter-widgets/base",
            "_view_module_version": "1.2.0",
            "_view_name": "LayoutView",
            "align_content": null,
            "align_items": null,
            "align_self": null,
            "border": null,
            "bottom": null,
            "display": null,
            "flex": null,
            "flex_flow": null,
            "grid_area": null,
            "grid_auto_columns": null,
            "grid_auto_flow": null,
            "grid_auto_rows": null,
            "grid_column": null,
            "grid_gap": null,
            "grid_row": null,
            "grid_template_areas": null,
            "grid_template_columns": null,
            "grid_template_rows": null,
            "height": null,
            "justify_content": null,
            "justify_items": null,
            "left": null,
            "margin": null,
            "max_height": null,
            "max_width": null,
            "min_height": null,
            "min_width": null,
            "object_fit": null,
            "object_position": null,
            "order": null,
            "overflow": null,
            "overflow_x": null,
            "overflow_y": null,
            "padding": null,
            "right": null,
            "top": null,
            "visibility": null,
            "width": null
          }
        },
        "e5c3f51f68a84ccc82e58af5b5373023": {
          "model_module": "@jupyter-widgets/base",
          "model_module_version": "1.2.0",
          "model_name": "LayoutModel",
          "state": {
            "_model_module": "@jupyter-widgets/base",
            "_model_module_version": "1.2.0",
            "_model_name": "LayoutModel",
            "_view_count": null,
            "_view_module": "@jupyter-widgets/base",
            "_view_module_version": "1.2.0",
            "_view_name": "LayoutView",
            "align_content": null,
            "align_items": null,
            "align_self": null,
            "border": null,
            "bottom": null,
            "display": null,
            "flex": null,
            "flex_flow": null,
            "grid_area": null,
            "grid_auto_columns": null,
            "grid_auto_flow": null,
            "grid_auto_rows": null,
            "grid_column": null,
            "grid_gap": null,
            "grid_row": null,
            "grid_template_areas": null,
            "grid_template_columns": null,
            "grid_template_rows": null,
            "height": null,
            "justify_content": null,
            "justify_items": null,
            "left": null,
            "margin": null,
            "max_height": null,
            "max_width": null,
            "min_height": null,
            "min_width": null,
            "object_fit": null,
            "object_position": null,
            "order": null,
            "overflow": null,
            "overflow_x": null,
            "overflow_y": null,
            "padding": null,
            "right": null,
            "top": null,
            "visibility": null,
            "width": null
          }
        },
        "ed67e14306684f36a577ca0c9899ca6d": {
          "model_module": "@jupyter-widgets/controls",
          "model_module_version": "1.5.0",
          "model_name": "DescriptionStyleModel",
          "state": {
            "_model_module": "@jupyter-widgets/controls",
            "_model_module_version": "1.5.0",
            "_model_name": "DescriptionStyleModel",
            "_view_count": null,
            "_view_module": "@jupyter-widgets/base",
            "_view_module_version": "1.2.0",
            "_view_name": "StyleView",
            "description_width": ""
          }
        },
        "efd35ad3f9f9440db0ca9e3ea010e638": {
          "model_module": "@jupyter-widgets/controls",
          "model_module_version": "1.5.0",
          "model_name": "DescriptionStyleModel",
          "state": {
            "_model_module": "@jupyter-widgets/controls",
            "_model_module_version": "1.5.0",
            "_model_name": "DescriptionStyleModel",
            "_view_count": null,
            "_view_module": "@jupyter-widgets/base",
            "_view_module_version": "1.2.0",
            "_view_name": "StyleView",
            "description_width": ""
          }
        },
        "f22b72ad7285413dad30b90aabda64f7": {
          "model_module": "@jupyter-widgets/controls",
          "model_module_version": "1.5.0",
          "model_name": "HBoxModel",
          "state": {
            "_dom_classes": [],
            "_model_module": "@jupyter-widgets/controls",
            "_model_module_version": "1.5.0",
            "_model_name": "HBoxModel",
            "_view_count": null,
            "_view_module": "@jupyter-widgets/controls",
            "_view_module_version": "1.5.0",
            "_view_name": "HBoxView",
            "box_style": "",
            "children": [
              "IPY_MODEL_45e174187acd49198d3f1d71ecfa2d7a",
              "IPY_MODEL_47726e618f8c4b1599372bd176bb7fee",
              "IPY_MODEL_b6e83bc5469c4ff3b36fd26a644152a2"
            ],
            "layout": "IPY_MODEL_b25bbbb9b62e4bf2a1110892e66010a5"
          }
        },
        "f6aa8c1c6e494b68be53875e09b9e851": {
          "model_module": "@jupyter-widgets/controls",
          "model_module_version": "1.5.0",
          "model_name": "HTMLModel",
          "state": {
            "_dom_classes": [],
            "_model_module": "@jupyter-widgets/controls",
            "_model_module_version": "1.5.0",
            "_model_name": "HTMLModel",
            "_view_count": null,
            "_view_module": "@jupyter-widgets/controls",
            "_view_module_version": "1.5.0",
            "_view_name": "HTMLView",
            "description": "",
            "description_tooltip": null,
            "layout": "IPY_MODEL_f8dabfc29c4d4ab49c98da53320db8e6",
            "placeholder": "​",
            "style": "IPY_MODEL_efd35ad3f9f9440db0ca9e3ea010e638",
            "value": " 3029/3029 [00:06&lt;00:00, 635.17it/s]"
          }
        },
        "f8dabfc29c4d4ab49c98da53320db8e6": {
          "model_module": "@jupyter-widgets/base",
          "model_module_version": "1.2.0",
          "model_name": "LayoutModel",
          "state": {
            "_model_module": "@jupyter-widgets/base",
            "_model_module_version": "1.2.0",
            "_model_name": "LayoutModel",
            "_view_count": null,
            "_view_module": "@jupyter-widgets/base",
            "_view_module_version": "1.2.0",
            "_view_name": "LayoutView",
            "align_content": null,
            "align_items": null,
            "align_self": null,
            "border": null,
            "bottom": null,
            "display": null,
            "flex": null,
            "flex_flow": null,
            "grid_area": null,
            "grid_auto_columns": null,
            "grid_auto_flow": null,
            "grid_auto_rows": null,
            "grid_column": null,
            "grid_gap": null,
            "grid_row": null,
            "grid_template_areas": null,
            "grid_template_columns": null,
            "grid_template_rows": null,
            "height": null,
            "justify_content": null,
            "justify_items": null,
            "left": null,
            "margin": null,
            "max_height": null,
            "max_width": null,
            "min_height": null,
            "min_width": null,
            "object_fit": null,
            "object_position": null,
            "order": null,
            "overflow": null,
            "overflow_x": null,
            "overflow_y": null,
            "padding": null,
            "right": null,
            "top": null,
            "visibility": null,
            "width": null
          }
        },
        "e69a219f35f64d2caaec068f0ac3452a": {
          "model_module": "@jupyter-widgets/controls",
          "model_name": "HBoxModel",
          "model_module_version": "1.5.0",
          "state": {
            "_dom_classes": [],
            "_model_module": "@jupyter-widgets/controls",
            "_model_module_version": "1.5.0",
            "_model_name": "HBoxModel",
            "_view_count": null,
            "_view_module": "@jupyter-widgets/controls",
            "_view_module_version": "1.5.0",
            "_view_name": "HBoxView",
            "box_style": "",
            "children": [
              "IPY_MODEL_63a3853f649b426484225c3c09b85a5a",
              "IPY_MODEL_22c0cde22b6a4854b1bc4be476931ac9",
              "IPY_MODEL_ae5479e3dd5e4ee2a5aaeaa13eb0f4ee"
            ],
            "layout": "IPY_MODEL_e52836c7266343149a5c8da699864afb"
          }
        },
        "63a3853f649b426484225c3c09b85a5a": {
          "model_module": "@jupyter-widgets/controls",
          "model_name": "HTMLModel",
          "model_module_version": "1.5.0",
          "state": {
            "_dom_classes": [],
            "_model_module": "@jupyter-widgets/controls",
            "_model_module_version": "1.5.0",
            "_model_name": "HTMLModel",
            "_view_count": null,
            "_view_module": "@jupyter-widgets/controls",
            "_view_module_version": "1.5.0",
            "_view_name": "HTMLView",
            "description": "",
            "description_tooltip": null,
            "layout": "IPY_MODEL_a67d30f6a2084d158dabd858e7060d22",
            "placeholder": "​",
            "style": "IPY_MODEL_42416adbe32c4651bd9d3417eadc51ed",
            "value": "config.json: 100%"
          }
        },
        "22c0cde22b6a4854b1bc4be476931ac9": {
          "model_module": "@jupyter-widgets/controls",
          "model_name": "FloatProgressModel",
          "model_module_version": "1.5.0",
          "state": {
            "_dom_classes": [],
            "_model_module": "@jupyter-widgets/controls",
            "_model_module_version": "1.5.0",
            "_model_name": "FloatProgressModel",
            "_view_count": null,
            "_view_module": "@jupyter-widgets/controls",
            "_view_module_version": "1.5.0",
            "_view_name": "ProgressView",
            "bar_style": "success",
            "description": "",
            "description_tooltip": null,
            "layout": "IPY_MODEL_c00d24c3fcfe42df8748bf4d83f24ef9",
            "max": 747,
            "min": 0,
            "orientation": "horizontal",
            "style": "IPY_MODEL_fd98b0da4d4346779219356866eae4c6",
            "value": 747
          }
        },
        "ae5479e3dd5e4ee2a5aaeaa13eb0f4ee": {
          "model_module": "@jupyter-widgets/controls",
          "model_name": "HTMLModel",
          "model_module_version": "1.5.0",
          "state": {
            "_dom_classes": [],
            "_model_module": "@jupyter-widgets/controls",
            "_model_module_version": "1.5.0",
            "_model_name": "HTMLModel",
            "_view_count": null,
            "_view_module": "@jupyter-widgets/controls",
            "_view_module_version": "1.5.0",
            "_view_name": "HTMLView",
            "description": "",
            "description_tooltip": null,
            "layout": "IPY_MODEL_453cda3d69214baa9434ba07a3ade2ee",
            "placeholder": "​",
            "style": "IPY_MODEL_25ae77717305431b899dd8838c6be1d9",
            "value": " 747/747 [00:00&lt;00:00, 15.5kB/s]"
          }
        },
        "e52836c7266343149a5c8da699864afb": {
          "model_module": "@jupyter-widgets/base",
          "model_name": "LayoutModel",
          "model_module_version": "1.2.0",
          "state": {
            "_model_module": "@jupyter-widgets/base",
            "_model_module_version": "1.2.0",
            "_model_name": "LayoutModel",
            "_view_count": null,
            "_view_module": "@jupyter-widgets/base",
            "_view_module_version": "1.2.0",
            "_view_name": "LayoutView",
            "align_content": null,
            "align_items": null,
            "align_self": null,
            "border": null,
            "bottom": null,
            "display": null,
            "flex": null,
            "flex_flow": null,
            "grid_area": null,
            "grid_auto_columns": null,
            "grid_auto_flow": null,
            "grid_auto_rows": null,
            "grid_column": null,
            "grid_gap": null,
            "grid_row": null,
            "grid_template_areas": null,
            "grid_template_columns": null,
            "grid_template_rows": null,
            "height": null,
            "justify_content": null,
            "justify_items": null,
            "left": null,
            "margin": null,
            "max_height": null,
            "max_width": null,
            "min_height": null,
            "min_width": null,
            "object_fit": null,
            "object_position": null,
            "order": null,
            "overflow": null,
            "overflow_x": null,
            "overflow_y": null,
            "padding": null,
            "right": null,
            "top": null,
            "visibility": null,
            "width": null
          }
        },
        "a67d30f6a2084d158dabd858e7060d22": {
          "model_module": "@jupyter-widgets/base",
          "model_name": "LayoutModel",
          "model_module_version": "1.2.0",
          "state": {
            "_model_module": "@jupyter-widgets/base",
            "_model_module_version": "1.2.0",
            "_model_name": "LayoutModel",
            "_view_count": null,
            "_view_module": "@jupyter-widgets/base",
            "_view_module_version": "1.2.0",
            "_view_name": "LayoutView",
            "align_content": null,
            "align_items": null,
            "align_self": null,
            "border": null,
            "bottom": null,
            "display": null,
            "flex": null,
            "flex_flow": null,
            "grid_area": null,
            "grid_auto_columns": null,
            "grid_auto_flow": null,
            "grid_auto_rows": null,
            "grid_column": null,
            "grid_gap": null,
            "grid_row": null,
            "grid_template_areas": null,
            "grid_template_columns": null,
            "grid_template_rows": null,
            "height": null,
            "justify_content": null,
            "justify_items": null,
            "left": null,
            "margin": null,
            "max_height": null,
            "max_width": null,
            "min_height": null,
            "min_width": null,
            "object_fit": null,
            "object_position": null,
            "order": null,
            "overflow": null,
            "overflow_x": null,
            "overflow_y": null,
            "padding": null,
            "right": null,
            "top": null,
            "visibility": null,
            "width": null
          }
        },
        "42416adbe32c4651bd9d3417eadc51ed": {
          "model_module": "@jupyter-widgets/controls",
          "model_name": "DescriptionStyleModel",
          "model_module_version": "1.5.0",
          "state": {
            "_model_module": "@jupyter-widgets/controls",
            "_model_module_version": "1.5.0",
            "_model_name": "DescriptionStyleModel",
            "_view_count": null,
            "_view_module": "@jupyter-widgets/base",
            "_view_module_version": "1.2.0",
            "_view_name": "StyleView",
            "description_width": ""
          }
        },
        "c00d24c3fcfe42df8748bf4d83f24ef9": {
          "model_module": "@jupyter-widgets/base",
          "model_name": "LayoutModel",
          "model_module_version": "1.2.0",
          "state": {
            "_model_module": "@jupyter-widgets/base",
            "_model_module_version": "1.2.0",
            "_model_name": "LayoutModel",
            "_view_count": null,
            "_view_module": "@jupyter-widgets/base",
            "_view_module_version": "1.2.0",
            "_view_name": "LayoutView",
            "align_content": null,
            "align_items": null,
            "align_self": null,
            "border": null,
            "bottom": null,
            "display": null,
            "flex": null,
            "flex_flow": null,
            "grid_area": null,
            "grid_auto_columns": null,
            "grid_auto_flow": null,
            "grid_auto_rows": null,
            "grid_column": null,
            "grid_gap": null,
            "grid_row": null,
            "grid_template_areas": null,
            "grid_template_columns": null,
            "grid_template_rows": null,
            "height": null,
            "justify_content": null,
            "justify_items": null,
            "left": null,
            "margin": null,
            "max_height": null,
            "max_width": null,
            "min_height": null,
            "min_width": null,
            "object_fit": null,
            "object_position": null,
            "order": null,
            "overflow": null,
            "overflow_x": null,
            "overflow_y": null,
            "padding": null,
            "right": null,
            "top": null,
            "visibility": null,
            "width": null
          }
        },
        "fd98b0da4d4346779219356866eae4c6": {
          "model_module": "@jupyter-widgets/controls",
          "model_name": "ProgressStyleModel",
          "model_module_version": "1.5.0",
          "state": {
            "_model_module": "@jupyter-widgets/controls",
            "_model_module_version": "1.5.0",
            "_model_name": "ProgressStyleModel",
            "_view_count": null,
            "_view_module": "@jupyter-widgets/base",
            "_view_module_version": "1.2.0",
            "_view_name": "StyleView",
            "bar_color": null,
            "description_width": ""
          }
        },
        "453cda3d69214baa9434ba07a3ade2ee": {
          "model_module": "@jupyter-widgets/base",
          "model_name": "LayoutModel",
          "model_module_version": "1.2.0",
          "state": {
            "_model_module": "@jupyter-widgets/base",
            "_model_module_version": "1.2.0",
            "_model_name": "LayoutModel",
            "_view_count": null,
            "_view_module": "@jupyter-widgets/base",
            "_view_module_version": "1.2.0",
            "_view_name": "LayoutView",
            "align_content": null,
            "align_items": null,
            "align_self": null,
            "border": null,
            "bottom": null,
            "display": null,
            "flex": null,
            "flex_flow": null,
            "grid_area": null,
            "grid_auto_columns": null,
            "grid_auto_flow": null,
            "grid_auto_rows": null,
            "grid_column": null,
            "grid_gap": null,
            "grid_row": null,
            "grid_template_areas": null,
            "grid_template_columns": null,
            "grid_template_rows": null,
            "height": null,
            "justify_content": null,
            "justify_items": null,
            "left": null,
            "margin": null,
            "max_height": null,
            "max_width": null,
            "min_height": null,
            "min_width": null,
            "object_fit": null,
            "object_position": null,
            "order": null,
            "overflow": null,
            "overflow_x": null,
            "overflow_y": null,
            "padding": null,
            "right": null,
            "top": null,
            "visibility": null,
            "width": null
          }
        },
        "25ae77717305431b899dd8838c6be1d9": {
          "model_module": "@jupyter-widgets/controls",
          "model_name": "DescriptionStyleModel",
          "model_module_version": "1.5.0",
          "state": {
            "_model_module": "@jupyter-widgets/controls",
            "_model_module_version": "1.5.0",
            "_model_name": "DescriptionStyleModel",
            "_view_count": null,
            "_view_module": "@jupyter-widgets/base",
            "_view_module_version": "1.2.0",
            "_view_name": "StyleView",
            "description_width": ""
          }
        },
        "761d882128594e76a47f3d9f4f2f3f31": {
          "model_module": "@jupyter-widgets/controls",
          "model_name": "HBoxModel",
          "model_module_version": "1.5.0",
          "state": {
            "_dom_classes": [],
            "_model_module": "@jupyter-widgets/controls",
            "_model_module_version": "1.5.0",
            "_model_name": "HBoxModel",
            "_view_count": null,
            "_view_module": "@jupyter-widgets/controls",
            "_view_module_version": "1.5.0",
            "_view_name": "HBoxView",
            "box_style": "",
            "children": [
              "IPY_MODEL_2b312b2fe25c4a6bbf5d717776439ce4",
              "IPY_MODEL_711c174755dc4ce29b45b5c3a008ab05",
              "IPY_MODEL_2a8784adf3b04df28f03f8e14baf80d1"
            ],
            "layout": "IPY_MODEL_2493ddd285214770bb183d624cbf0477"
          }
        },
        "2b312b2fe25c4a6bbf5d717776439ce4": {
          "model_module": "@jupyter-widgets/controls",
          "model_name": "HTMLModel",
          "model_module_version": "1.5.0",
          "state": {
            "_dom_classes": [],
            "_model_module": "@jupyter-widgets/controls",
            "_model_module_version": "1.5.0",
            "_model_name": "HTMLModel",
            "_view_count": null,
            "_view_module": "@jupyter-widgets/controls",
            "_view_module_version": "1.5.0",
            "_view_name": "HTMLView",
            "description": "",
            "description_tooltip": null,
            "layout": "IPY_MODEL_6bd157536dd04dcd99ebcdef192655b0",
            "placeholder": "​",
            "style": "IPY_MODEL_dc2b62e7dbc4446c9f6f5b73de50ad0e",
            "value": "vocab.json: 100%"
          }
        },
        "711c174755dc4ce29b45b5c3a008ab05": {
          "model_module": "@jupyter-widgets/controls",
          "model_name": "FloatProgressModel",
          "model_module_version": "1.5.0",
          "state": {
            "_dom_classes": [],
            "_model_module": "@jupyter-widgets/controls",
            "_model_module_version": "1.5.0",
            "_model_name": "FloatProgressModel",
            "_view_count": null,
            "_view_module": "@jupyter-widgets/controls",
            "_view_module_version": "1.5.0",
            "_view_name": "ProgressView",
            "bar_style": "success",
            "description": "",
            "description_tooltip": null,
            "layout": "IPY_MODEL_d32763df3bb24f7f98d83d30e2e5d8fd",
            "max": 898822,
            "min": 0,
            "orientation": "horizontal",
            "style": "IPY_MODEL_ee2efb8c55714f7aa0964f4e93f83e40",
            "value": 898822
          }
        },
        "2a8784adf3b04df28f03f8e14baf80d1": {
          "model_module": "@jupyter-widgets/controls",
          "model_name": "HTMLModel",
          "model_module_version": "1.5.0",
          "state": {
            "_dom_classes": [],
            "_model_module": "@jupyter-widgets/controls",
            "_model_module_version": "1.5.0",
            "_model_name": "HTMLModel",
            "_view_count": null,
            "_view_module": "@jupyter-widgets/controls",
            "_view_module_version": "1.5.0",
            "_view_name": "HTMLView",
            "description": "",
            "description_tooltip": null,
            "layout": "IPY_MODEL_0ca6b41f4df84e63bf86e18ca6905a8b",
            "placeholder": "​",
            "style": "IPY_MODEL_258bcc36a3b144ec865006084966bfde",
            "value": " 899k/899k [00:00&lt;00:00, 4.32MB/s]"
          }
        },
        "2493ddd285214770bb183d624cbf0477": {
          "model_module": "@jupyter-widgets/base",
          "model_name": "LayoutModel",
          "model_module_version": "1.2.0",
          "state": {
            "_model_module": "@jupyter-widgets/base",
            "_model_module_version": "1.2.0",
            "_model_name": "LayoutModel",
            "_view_count": null,
            "_view_module": "@jupyter-widgets/base",
            "_view_module_version": "1.2.0",
            "_view_name": "LayoutView",
            "align_content": null,
            "align_items": null,
            "align_self": null,
            "border": null,
            "bottom": null,
            "display": null,
            "flex": null,
            "flex_flow": null,
            "grid_area": null,
            "grid_auto_columns": null,
            "grid_auto_flow": null,
            "grid_auto_rows": null,
            "grid_column": null,
            "grid_gap": null,
            "grid_row": null,
            "grid_template_areas": null,
            "grid_template_columns": null,
            "grid_template_rows": null,
            "height": null,
            "justify_content": null,
            "justify_items": null,
            "left": null,
            "margin": null,
            "max_height": null,
            "max_width": null,
            "min_height": null,
            "min_width": null,
            "object_fit": null,
            "object_position": null,
            "order": null,
            "overflow": null,
            "overflow_x": null,
            "overflow_y": null,
            "padding": null,
            "right": null,
            "top": null,
            "visibility": null,
            "width": null
          }
        },
        "6bd157536dd04dcd99ebcdef192655b0": {
          "model_module": "@jupyter-widgets/base",
          "model_name": "LayoutModel",
          "model_module_version": "1.2.0",
          "state": {
            "_model_module": "@jupyter-widgets/base",
            "_model_module_version": "1.2.0",
            "_model_name": "LayoutModel",
            "_view_count": null,
            "_view_module": "@jupyter-widgets/base",
            "_view_module_version": "1.2.0",
            "_view_name": "LayoutView",
            "align_content": null,
            "align_items": null,
            "align_self": null,
            "border": null,
            "bottom": null,
            "display": null,
            "flex": null,
            "flex_flow": null,
            "grid_area": null,
            "grid_auto_columns": null,
            "grid_auto_flow": null,
            "grid_auto_rows": null,
            "grid_column": null,
            "grid_gap": null,
            "grid_row": null,
            "grid_template_areas": null,
            "grid_template_columns": null,
            "grid_template_rows": null,
            "height": null,
            "justify_content": null,
            "justify_items": null,
            "left": null,
            "margin": null,
            "max_height": null,
            "max_width": null,
            "min_height": null,
            "min_width": null,
            "object_fit": null,
            "object_position": null,
            "order": null,
            "overflow": null,
            "overflow_x": null,
            "overflow_y": null,
            "padding": null,
            "right": null,
            "top": null,
            "visibility": null,
            "width": null
          }
        },
        "dc2b62e7dbc4446c9f6f5b73de50ad0e": {
          "model_module": "@jupyter-widgets/controls",
          "model_name": "DescriptionStyleModel",
          "model_module_version": "1.5.0",
          "state": {
            "_model_module": "@jupyter-widgets/controls",
            "_model_module_version": "1.5.0",
            "_model_name": "DescriptionStyleModel",
            "_view_count": null,
            "_view_module": "@jupyter-widgets/base",
            "_view_module_version": "1.2.0",
            "_view_name": "StyleView",
            "description_width": ""
          }
        },
        "d32763df3bb24f7f98d83d30e2e5d8fd": {
          "model_module": "@jupyter-widgets/base",
          "model_name": "LayoutModel",
          "model_module_version": "1.2.0",
          "state": {
            "_model_module": "@jupyter-widgets/base",
            "_model_module_version": "1.2.0",
            "_model_name": "LayoutModel",
            "_view_count": null,
            "_view_module": "@jupyter-widgets/base",
            "_view_module_version": "1.2.0",
            "_view_name": "LayoutView",
            "align_content": null,
            "align_items": null,
            "align_self": null,
            "border": null,
            "bottom": null,
            "display": null,
            "flex": null,
            "flex_flow": null,
            "grid_area": null,
            "grid_auto_columns": null,
            "grid_auto_flow": null,
            "grid_auto_rows": null,
            "grid_column": null,
            "grid_gap": null,
            "grid_row": null,
            "grid_template_areas": null,
            "grid_template_columns": null,
            "grid_template_rows": null,
            "height": null,
            "justify_content": null,
            "justify_items": null,
            "left": null,
            "margin": null,
            "max_height": null,
            "max_width": null,
            "min_height": null,
            "min_width": null,
            "object_fit": null,
            "object_position": null,
            "order": null,
            "overflow": null,
            "overflow_x": null,
            "overflow_y": null,
            "padding": null,
            "right": null,
            "top": null,
            "visibility": null,
            "width": null
          }
        },
        "ee2efb8c55714f7aa0964f4e93f83e40": {
          "model_module": "@jupyter-widgets/controls",
          "model_name": "ProgressStyleModel",
          "model_module_version": "1.5.0",
          "state": {
            "_model_module": "@jupyter-widgets/controls",
            "_model_module_version": "1.5.0",
            "_model_name": "ProgressStyleModel",
            "_view_count": null,
            "_view_module": "@jupyter-widgets/base",
            "_view_module_version": "1.2.0",
            "_view_name": "StyleView",
            "bar_color": null,
            "description_width": ""
          }
        },
        "0ca6b41f4df84e63bf86e18ca6905a8b": {
          "model_module": "@jupyter-widgets/base",
          "model_name": "LayoutModel",
          "model_module_version": "1.2.0",
          "state": {
            "_model_module": "@jupyter-widgets/base",
            "_model_module_version": "1.2.0",
            "_model_name": "LayoutModel",
            "_view_count": null,
            "_view_module": "@jupyter-widgets/base",
            "_view_module_version": "1.2.0",
            "_view_name": "LayoutView",
            "align_content": null,
            "align_items": null,
            "align_self": null,
            "border": null,
            "bottom": null,
            "display": null,
            "flex": null,
            "flex_flow": null,
            "grid_area": null,
            "grid_auto_columns": null,
            "grid_auto_flow": null,
            "grid_auto_rows": null,
            "grid_column": null,
            "grid_gap": null,
            "grid_row": null,
            "grid_template_areas": null,
            "grid_template_columns": null,
            "grid_template_rows": null,
            "height": null,
            "justify_content": null,
            "justify_items": null,
            "left": null,
            "margin": null,
            "max_height": null,
            "max_width": null,
            "min_height": null,
            "min_width": null,
            "object_fit": null,
            "object_position": null,
            "order": null,
            "overflow": null,
            "overflow_x": null,
            "overflow_y": null,
            "padding": null,
            "right": null,
            "top": null,
            "visibility": null,
            "width": null
          }
        },
        "258bcc36a3b144ec865006084966bfde": {
          "model_module": "@jupyter-widgets/controls",
          "model_name": "DescriptionStyleModel",
          "model_module_version": "1.5.0",
          "state": {
            "_model_module": "@jupyter-widgets/controls",
            "_model_module_version": "1.5.0",
            "_model_name": "DescriptionStyleModel",
            "_view_count": null,
            "_view_module": "@jupyter-widgets/base",
            "_view_module_version": "1.2.0",
            "_view_name": "StyleView",
            "description_width": ""
          }
        },
        "52cb66ad14d540ce831e59ec44594891": {
          "model_module": "@jupyter-widgets/controls",
          "model_name": "HBoxModel",
          "model_module_version": "1.5.0",
          "state": {
            "_dom_classes": [],
            "_model_module": "@jupyter-widgets/controls",
            "_model_module_version": "1.5.0",
            "_model_name": "HBoxModel",
            "_view_count": null,
            "_view_module": "@jupyter-widgets/controls",
            "_view_module_version": "1.5.0",
            "_view_name": "HBoxView",
            "box_style": "",
            "children": [
              "IPY_MODEL_20dc62827ad04540b1e0f351bc7839a6",
              "IPY_MODEL_08ca5722a78c451e982cf815eb54b95e",
              "IPY_MODEL_ebd8fe2811df4f82ab521252a8fdc5cf"
            ],
            "layout": "IPY_MODEL_a4b58e89c60f42ce928dac35e3a056dd"
          }
        },
        "20dc62827ad04540b1e0f351bc7839a6": {
          "model_module": "@jupyter-widgets/controls",
          "model_name": "HTMLModel",
          "model_module_version": "1.5.0",
          "state": {
            "_dom_classes": [],
            "_model_module": "@jupyter-widgets/controls",
            "_model_module_version": "1.5.0",
            "_model_name": "HTMLModel",
            "_view_count": null,
            "_view_module": "@jupyter-widgets/controls",
            "_view_module_version": "1.5.0",
            "_view_name": "HTMLView",
            "description": "",
            "description_tooltip": null,
            "layout": "IPY_MODEL_c0d42afe59d64e04bafbba3708122269",
            "placeholder": "​",
            "style": "IPY_MODEL_bcf0c08efa3043fc88fd3b1855b0f324",
            "value": "merges.txt: 100%"
          }
        },
        "08ca5722a78c451e982cf815eb54b95e": {
          "model_module": "@jupyter-widgets/controls",
          "model_name": "FloatProgressModel",
          "model_module_version": "1.5.0",
          "state": {
            "_dom_classes": [],
            "_model_module": "@jupyter-widgets/controls",
            "_model_module_version": "1.5.0",
            "_model_name": "FloatProgressModel",
            "_view_count": null,
            "_view_module": "@jupyter-widgets/controls",
            "_view_module_version": "1.5.0",
            "_view_name": "ProgressView",
            "bar_style": "success",
            "description": "",
            "description_tooltip": null,
            "layout": "IPY_MODEL_a4f8121e2391413897a1b6ecd8d380e5",
            "max": 456318,
            "min": 0,
            "orientation": "horizontal",
            "style": "IPY_MODEL_f0dba954f5ef4c7f8cd9d508cc5f1591",
            "value": 456318
          }
        },
        "ebd8fe2811df4f82ab521252a8fdc5cf": {
          "model_module": "@jupyter-widgets/controls",
          "model_name": "HTMLModel",
          "model_module_version": "1.5.0",
          "state": {
            "_dom_classes": [],
            "_model_module": "@jupyter-widgets/controls",
            "_model_module_version": "1.5.0",
            "_model_name": "HTMLModel",
            "_view_count": null,
            "_view_module": "@jupyter-widgets/controls",
            "_view_module_version": "1.5.0",
            "_view_name": "HTMLView",
            "description": "",
            "description_tooltip": null,
            "layout": "IPY_MODEL_31540347e3214a58b4bb55d5d7955eac",
            "placeholder": "​",
            "style": "IPY_MODEL_a673cdb024d04661aefb6c723cd46301",
            "value": " 456k/456k [00:00&lt;00:00, 9.15MB/s]"
          }
        },
        "a4b58e89c60f42ce928dac35e3a056dd": {
          "model_module": "@jupyter-widgets/base",
          "model_name": "LayoutModel",
          "model_module_version": "1.2.0",
          "state": {
            "_model_module": "@jupyter-widgets/base",
            "_model_module_version": "1.2.0",
            "_model_name": "LayoutModel",
            "_view_count": null,
            "_view_module": "@jupyter-widgets/base",
            "_view_module_version": "1.2.0",
            "_view_name": "LayoutView",
            "align_content": null,
            "align_items": null,
            "align_self": null,
            "border": null,
            "bottom": null,
            "display": null,
            "flex": null,
            "flex_flow": null,
            "grid_area": null,
            "grid_auto_columns": null,
            "grid_auto_flow": null,
            "grid_auto_rows": null,
            "grid_column": null,
            "grid_gap": null,
            "grid_row": null,
            "grid_template_areas": null,
            "grid_template_columns": null,
            "grid_template_rows": null,
            "height": null,
            "justify_content": null,
            "justify_items": null,
            "left": null,
            "margin": null,
            "max_height": null,
            "max_width": null,
            "min_height": null,
            "min_width": null,
            "object_fit": null,
            "object_position": null,
            "order": null,
            "overflow": null,
            "overflow_x": null,
            "overflow_y": null,
            "padding": null,
            "right": null,
            "top": null,
            "visibility": null,
            "width": null
          }
        },
        "c0d42afe59d64e04bafbba3708122269": {
          "model_module": "@jupyter-widgets/base",
          "model_name": "LayoutModel",
          "model_module_version": "1.2.0",
          "state": {
            "_model_module": "@jupyter-widgets/base",
            "_model_module_version": "1.2.0",
            "_model_name": "LayoutModel",
            "_view_count": null,
            "_view_module": "@jupyter-widgets/base",
            "_view_module_version": "1.2.0",
            "_view_name": "LayoutView",
            "align_content": null,
            "align_items": null,
            "align_self": null,
            "border": null,
            "bottom": null,
            "display": null,
            "flex": null,
            "flex_flow": null,
            "grid_area": null,
            "grid_auto_columns": null,
            "grid_auto_flow": null,
            "grid_auto_rows": null,
            "grid_column": null,
            "grid_gap": null,
            "grid_row": null,
            "grid_template_areas": null,
            "grid_template_columns": null,
            "grid_template_rows": null,
            "height": null,
            "justify_content": null,
            "justify_items": null,
            "left": null,
            "margin": null,
            "max_height": null,
            "max_width": null,
            "min_height": null,
            "min_width": null,
            "object_fit": null,
            "object_position": null,
            "order": null,
            "overflow": null,
            "overflow_x": null,
            "overflow_y": null,
            "padding": null,
            "right": null,
            "top": null,
            "visibility": null,
            "width": null
          }
        },
        "bcf0c08efa3043fc88fd3b1855b0f324": {
          "model_module": "@jupyter-widgets/controls",
          "model_name": "DescriptionStyleModel",
          "model_module_version": "1.5.0",
          "state": {
            "_model_module": "@jupyter-widgets/controls",
            "_model_module_version": "1.5.0",
            "_model_name": "DescriptionStyleModel",
            "_view_count": null,
            "_view_module": "@jupyter-widgets/base",
            "_view_module_version": "1.2.0",
            "_view_name": "StyleView",
            "description_width": ""
          }
        },
        "a4f8121e2391413897a1b6ecd8d380e5": {
          "model_module": "@jupyter-widgets/base",
          "model_name": "LayoutModel",
          "model_module_version": "1.2.0",
          "state": {
            "_model_module": "@jupyter-widgets/base",
            "_model_module_version": "1.2.0",
            "_model_name": "LayoutModel",
            "_view_count": null,
            "_view_module": "@jupyter-widgets/base",
            "_view_module_version": "1.2.0",
            "_view_name": "LayoutView",
            "align_content": null,
            "align_items": null,
            "align_self": null,
            "border": null,
            "bottom": null,
            "display": null,
            "flex": null,
            "flex_flow": null,
            "grid_area": null,
            "grid_auto_columns": null,
            "grid_auto_flow": null,
            "grid_auto_rows": null,
            "grid_column": null,
            "grid_gap": null,
            "grid_row": null,
            "grid_template_areas": null,
            "grid_template_columns": null,
            "grid_template_rows": null,
            "height": null,
            "justify_content": null,
            "justify_items": null,
            "left": null,
            "margin": null,
            "max_height": null,
            "max_width": null,
            "min_height": null,
            "min_width": null,
            "object_fit": null,
            "object_position": null,
            "order": null,
            "overflow": null,
            "overflow_x": null,
            "overflow_y": null,
            "padding": null,
            "right": null,
            "top": null,
            "visibility": null,
            "width": null
          }
        },
        "f0dba954f5ef4c7f8cd9d508cc5f1591": {
          "model_module": "@jupyter-widgets/controls",
          "model_name": "ProgressStyleModel",
          "model_module_version": "1.5.0",
          "state": {
            "_model_module": "@jupyter-widgets/controls",
            "_model_module_version": "1.5.0",
            "_model_name": "ProgressStyleModel",
            "_view_count": null,
            "_view_module": "@jupyter-widgets/base",
            "_view_module_version": "1.2.0",
            "_view_name": "StyleView",
            "bar_color": null,
            "description_width": ""
          }
        },
        "31540347e3214a58b4bb55d5d7955eac": {
          "model_module": "@jupyter-widgets/base",
          "model_name": "LayoutModel",
          "model_module_version": "1.2.0",
          "state": {
            "_model_module": "@jupyter-widgets/base",
            "_model_module_version": "1.2.0",
            "_model_name": "LayoutModel",
            "_view_count": null,
            "_view_module": "@jupyter-widgets/base",
            "_view_module_version": "1.2.0",
            "_view_name": "LayoutView",
            "align_content": null,
            "align_items": null,
            "align_self": null,
            "border": null,
            "bottom": null,
            "display": null,
            "flex": null,
            "flex_flow": null,
            "grid_area": null,
            "grid_auto_columns": null,
            "grid_auto_flow": null,
            "grid_auto_rows": null,
            "grid_column": null,
            "grid_gap": null,
            "grid_row": null,
            "grid_template_areas": null,
            "grid_template_columns": null,
            "grid_template_rows": null,
            "height": null,
            "justify_content": null,
            "justify_items": null,
            "left": null,
            "margin": null,
            "max_height": null,
            "max_width": null,
            "min_height": null,
            "min_width": null,
            "object_fit": null,
            "object_position": null,
            "order": null,
            "overflow": null,
            "overflow_x": null,
            "overflow_y": null,
            "padding": null,
            "right": null,
            "top": null,
            "visibility": null,
            "width": null
          }
        },
        "a673cdb024d04661aefb6c723cd46301": {
          "model_module": "@jupyter-widgets/controls",
          "model_name": "DescriptionStyleModel",
          "model_module_version": "1.5.0",
          "state": {
            "_model_module": "@jupyter-widgets/controls",
            "_model_module_version": "1.5.0",
            "_model_name": "DescriptionStyleModel",
            "_view_count": null,
            "_view_module": "@jupyter-widgets/base",
            "_view_module_version": "1.2.0",
            "_view_name": "StyleView",
            "description_width": ""
          }
        },
        "613c3c0151cd410dbfb0dc202c37a42d": {
          "model_module": "@jupyter-widgets/controls",
          "model_name": "HBoxModel",
          "model_module_version": "1.5.0",
          "state": {
            "_dom_classes": [],
            "_model_module": "@jupyter-widgets/controls",
            "_model_module_version": "1.5.0",
            "_model_name": "HBoxModel",
            "_view_count": null,
            "_view_module": "@jupyter-widgets/controls",
            "_view_module_version": "1.5.0",
            "_view_name": "HBoxView",
            "box_style": "",
            "children": [
              "IPY_MODEL_1104711b2c47441f8bfb802571424118",
              "IPY_MODEL_30f3922701774b26ad47ed7c6088a1b4",
              "IPY_MODEL_234c387cd1864ecdb18a91d4373464ce"
            ],
            "layout": "IPY_MODEL_09e8ddb192294ecca1523c56d9a5ed67"
          }
        },
        "1104711b2c47441f8bfb802571424118": {
          "model_module": "@jupyter-widgets/controls",
          "model_name": "HTMLModel",
          "model_module_version": "1.5.0",
          "state": {
            "_dom_classes": [],
            "_model_module": "@jupyter-widgets/controls",
            "_model_module_version": "1.5.0",
            "_model_name": "HTMLModel",
            "_view_count": null,
            "_view_module": "@jupyter-widgets/controls",
            "_view_module_version": "1.5.0",
            "_view_name": "HTMLView",
            "description": "",
            "description_tooltip": null,
            "layout": "IPY_MODEL_fcef76f608ee4fdfa659a34eade679e5",
            "placeholder": "​",
            "style": "IPY_MODEL_b8aeffde504443d5b6aa2ae62732fcd5",
            "value": "special_tokens_map.json: 100%"
          }
        },
        "30f3922701774b26ad47ed7c6088a1b4": {
          "model_module": "@jupyter-widgets/controls",
          "model_name": "FloatProgressModel",
          "model_module_version": "1.5.0",
          "state": {
            "_dom_classes": [],
            "_model_module": "@jupyter-widgets/controls",
            "_model_module_version": "1.5.0",
            "_model_name": "FloatProgressModel",
            "_view_count": null,
            "_view_module": "@jupyter-widgets/controls",
            "_view_module_version": "1.5.0",
            "_view_name": "ProgressView",
            "bar_style": "success",
            "description": "",
            "description_tooltip": null,
            "layout": "IPY_MODEL_f2e885817d264f208c0f9a82abb02994",
            "max": 150,
            "min": 0,
            "orientation": "horizontal",
            "style": "IPY_MODEL_6afc33ec5dd44942ba74913a9576e2e2",
            "value": 150
          }
        },
        "234c387cd1864ecdb18a91d4373464ce": {
          "model_module": "@jupyter-widgets/controls",
          "model_name": "HTMLModel",
          "model_module_version": "1.5.0",
          "state": {
            "_dom_classes": [],
            "_model_module": "@jupyter-widgets/controls",
            "_model_module_version": "1.5.0",
            "_model_name": "HTMLModel",
            "_view_count": null,
            "_view_module": "@jupyter-widgets/controls",
            "_view_module_version": "1.5.0",
            "_view_name": "HTMLView",
            "description": "",
            "description_tooltip": null,
            "layout": "IPY_MODEL_e4fa240ff014431ea6dc059479ce2bfb",
            "placeholder": "​",
            "style": "IPY_MODEL_0c12d8ba5f3a48f2a0f35f207437bbdc",
            "value": " 150/150 [00:00&lt;00:00, 1.57kB/s]"
          }
        },
        "09e8ddb192294ecca1523c56d9a5ed67": {
          "model_module": "@jupyter-widgets/base",
          "model_name": "LayoutModel",
          "model_module_version": "1.2.0",
          "state": {
            "_model_module": "@jupyter-widgets/base",
            "_model_module_version": "1.2.0",
            "_model_name": "LayoutModel",
            "_view_count": null,
            "_view_module": "@jupyter-widgets/base",
            "_view_module_version": "1.2.0",
            "_view_name": "LayoutView",
            "align_content": null,
            "align_items": null,
            "align_self": null,
            "border": null,
            "bottom": null,
            "display": null,
            "flex": null,
            "flex_flow": null,
            "grid_area": null,
            "grid_auto_columns": null,
            "grid_auto_flow": null,
            "grid_auto_rows": null,
            "grid_column": null,
            "grid_gap": null,
            "grid_row": null,
            "grid_template_areas": null,
            "grid_template_columns": null,
            "grid_template_rows": null,
            "height": null,
            "justify_content": null,
            "justify_items": null,
            "left": null,
            "margin": null,
            "max_height": null,
            "max_width": null,
            "min_height": null,
            "min_width": null,
            "object_fit": null,
            "object_position": null,
            "order": null,
            "overflow": null,
            "overflow_x": null,
            "overflow_y": null,
            "padding": null,
            "right": null,
            "top": null,
            "visibility": null,
            "width": null
          }
        },
        "fcef76f608ee4fdfa659a34eade679e5": {
          "model_module": "@jupyter-widgets/base",
          "model_name": "LayoutModel",
          "model_module_version": "1.2.0",
          "state": {
            "_model_module": "@jupyter-widgets/base",
            "_model_module_version": "1.2.0",
            "_model_name": "LayoutModel",
            "_view_count": null,
            "_view_module": "@jupyter-widgets/base",
            "_view_module_version": "1.2.0",
            "_view_name": "LayoutView",
            "align_content": null,
            "align_items": null,
            "align_self": null,
            "border": null,
            "bottom": null,
            "display": null,
            "flex": null,
            "flex_flow": null,
            "grid_area": null,
            "grid_auto_columns": null,
            "grid_auto_flow": null,
            "grid_auto_rows": null,
            "grid_column": null,
            "grid_gap": null,
            "grid_row": null,
            "grid_template_areas": null,
            "grid_template_columns": null,
            "grid_template_rows": null,
            "height": null,
            "justify_content": null,
            "justify_items": null,
            "left": null,
            "margin": null,
            "max_height": null,
            "max_width": null,
            "min_height": null,
            "min_width": null,
            "object_fit": null,
            "object_position": null,
            "order": null,
            "overflow": null,
            "overflow_x": null,
            "overflow_y": null,
            "padding": null,
            "right": null,
            "top": null,
            "visibility": null,
            "width": null
          }
        },
        "b8aeffde504443d5b6aa2ae62732fcd5": {
          "model_module": "@jupyter-widgets/controls",
          "model_name": "DescriptionStyleModel",
          "model_module_version": "1.5.0",
          "state": {
            "_model_module": "@jupyter-widgets/controls",
            "_model_module_version": "1.5.0",
            "_model_name": "DescriptionStyleModel",
            "_view_count": null,
            "_view_module": "@jupyter-widgets/base",
            "_view_module_version": "1.2.0",
            "_view_name": "StyleView",
            "description_width": ""
          }
        },
        "f2e885817d264f208c0f9a82abb02994": {
          "model_module": "@jupyter-widgets/base",
          "model_name": "LayoutModel",
          "model_module_version": "1.2.0",
          "state": {
            "_model_module": "@jupyter-widgets/base",
            "_model_module_version": "1.2.0",
            "_model_name": "LayoutModel",
            "_view_count": null,
            "_view_module": "@jupyter-widgets/base",
            "_view_module_version": "1.2.0",
            "_view_name": "LayoutView",
            "align_content": null,
            "align_items": null,
            "align_self": null,
            "border": null,
            "bottom": null,
            "display": null,
            "flex": null,
            "flex_flow": null,
            "grid_area": null,
            "grid_auto_columns": null,
            "grid_auto_flow": null,
            "grid_auto_rows": null,
            "grid_column": null,
            "grid_gap": null,
            "grid_row": null,
            "grid_template_areas": null,
            "grid_template_columns": null,
            "grid_template_rows": null,
            "height": null,
            "justify_content": null,
            "justify_items": null,
            "left": null,
            "margin": null,
            "max_height": null,
            "max_width": null,
            "min_height": null,
            "min_width": null,
            "object_fit": null,
            "object_position": null,
            "order": null,
            "overflow": null,
            "overflow_x": null,
            "overflow_y": null,
            "padding": null,
            "right": null,
            "top": null,
            "visibility": null,
            "width": null
          }
        },
        "6afc33ec5dd44942ba74913a9576e2e2": {
          "model_module": "@jupyter-widgets/controls",
          "model_name": "ProgressStyleModel",
          "model_module_version": "1.5.0",
          "state": {
            "_model_module": "@jupyter-widgets/controls",
            "_model_module_version": "1.5.0",
            "_model_name": "ProgressStyleModel",
            "_view_count": null,
            "_view_module": "@jupyter-widgets/base",
            "_view_module_version": "1.2.0",
            "_view_name": "StyleView",
            "bar_color": null,
            "description_width": ""
          }
        },
        "e4fa240ff014431ea6dc059479ce2bfb": {
          "model_module": "@jupyter-widgets/base",
          "model_name": "LayoutModel",
          "model_module_version": "1.2.0",
          "state": {
            "_model_module": "@jupyter-widgets/base",
            "_model_module_version": "1.2.0",
            "_model_name": "LayoutModel",
            "_view_count": null,
            "_view_module": "@jupyter-widgets/base",
            "_view_module_version": "1.2.0",
            "_view_name": "LayoutView",
            "align_content": null,
            "align_items": null,
            "align_self": null,
            "border": null,
            "bottom": null,
            "display": null,
            "flex": null,
            "flex_flow": null,
            "grid_area": null,
            "grid_auto_columns": null,
            "grid_auto_flow": null,
            "grid_auto_rows": null,
            "grid_column": null,
            "grid_gap": null,
            "grid_row": null,
            "grid_template_areas": null,
            "grid_template_columns": null,
            "grid_template_rows": null,
            "height": null,
            "justify_content": null,
            "justify_items": null,
            "left": null,
            "margin": null,
            "max_height": null,
            "max_width": null,
            "min_height": null,
            "min_width": null,
            "object_fit": null,
            "object_position": null,
            "order": null,
            "overflow": null,
            "overflow_x": null,
            "overflow_y": null,
            "padding": null,
            "right": null,
            "top": null,
            "visibility": null,
            "width": null
          }
        },
        "0c12d8ba5f3a48f2a0f35f207437bbdc": {
          "model_module": "@jupyter-widgets/controls",
          "model_name": "DescriptionStyleModel",
          "model_module_version": "1.5.0",
          "state": {
            "_model_module": "@jupyter-widgets/controls",
            "_model_module_version": "1.5.0",
            "_model_name": "DescriptionStyleModel",
            "_view_count": null,
            "_view_module": "@jupyter-widgets/base",
            "_view_module_version": "1.2.0",
            "_view_name": "StyleView",
            "description_width": ""
          }
        },
        "6825b9c494154428aac99a5eddba3ac5": {
          "model_module": "@jupyter-widgets/controls",
          "model_name": "HBoxModel",
          "model_module_version": "1.5.0",
          "state": {
            "_dom_classes": [],
            "_model_module": "@jupyter-widgets/controls",
            "_model_module_version": "1.5.0",
            "_model_name": "HBoxModel",
            "_view_count": null,
            "_view_module": "@jupyter-widgets/controls",
            "_view_module_version": "1.5.0",
            "_view_name": "HBoxView",
            "box_style": "",
            "children": [
              "IPY_MODEL_dccac81605244ff78096ed7c3a4c8ec8",
              "IPY_MODEL_354f9752749b448db6776a4a0f5b9632",
              "IPY_MODEL_b7626b93930d4668be1903ec9ba9a277"
            ],
            "layout": "IPY_MODEL_2224be16a55341b0892d439cf09e4c42"
          }
        },
        "dccac81605244ff78096ed7c3a4c8ec8": {
          "model_module": "@jupyter-widgets/controls",
          "model_name": "HTMLModel",
          "model_module_version": "1.5.0",
          "state": {
            "_dom_classes": [],
            "_model_module": "@jupyter-widgets/controls",
            "_model_module_version": "1.5.0",
            "_model_name": "HTMLModel",
            "_view_count": null,
            "_view_module": "@jupyter-widgets/controls",
            "_view_module_version": "1.5.0",
            "_view_name": "HTMLView",
            "description": "",
            "description_tooltip": null,
            "layout": "IPY_MODEL_711887215f9a4a749b538674fa41dc9b",
            "placeholder": "​",
            "style": "IPY_MODEL_dcc1e43ab6044f5e96ca88cbdba2e3e9",
            "value": "pytorch_model.bin: 100%"
          }
        },
        "354f9752749b448db6776a4a0f5b9632": {
          "model_module": "@jupyter-widgets/controls",
          "model_name": "FloatProgressModel",
          "model_module_version": "1.5.0",
          "state": {
            "_dom_classes": [],
            "_model_module": "@jupyter-widgets/controls",
            "_model_module_version": "1.5.0",
            "_model_name": "FloatProgressModel",
            "_view_count": null,
            "_view_module": "@jupyter-widgets/controls",
            "_view_module_version": "1.5.0",
            "_view_name": "ProgressView",
            "bar_style": "success",
            "description": "",
            "description_tooltip": null,
            "layout": "IPY_MODEL_5e1e3bf818294cd6b79604177f6d022a",
            "max": 498679497,
            "min": 0,
            "orientation": "horizontal",
            "style": "IPY_MODEL_7566266ce21f40369820912029fb7b70",
            "value": 498679497
          }
        },
        "b7626b93930d4668be1903ec9ba9a277": {
          "model_module": "@jupyter-widgets/controls",
          "model_name": "HTMLModel",
          "model_module_version": "1.5.0",
          "state": {
            "_dom_classes": [],
            "_model_module": "@jupyter-widgets/controls",
            "_model_module_version": "1.5.0",
            "_model_name": "HTMLModel",
            "_view_count": null,
            "_view_module": "@jupyter-widgets/controls",
            "_view_module_version": "1.5.0",
            "_view_name": "HTMLView",
            "description": "",
            "description_tooltip": null,
            "layout": "IPY_MODEL_b0bdf48ff0274f419905c3c12a6769a5",
            "placeholder": "​",
            "style": "IPY_MODEL_1a7d594652f34d38a0f5286a2666d043",
            "value": " 499M/499M [00:10&lt;00:00, 78.4MB/s]"
          }
        },
        "2224be16a55341b0892d439cf09e4c42": {
          "model_module": "@jupyter-widgets/base",
          "model_name": "LayoutModel",
          "model_module_version": "1.2.0",
          "state": {
            "_model_module": "@jupyter-widgets/base",
            "_model_module_version": "1.2.0",
            "_model_name": "LayoutModel",
            "_view_count": null,
            "_view_module": "@jupyter-widgets/base",
            "_view_module_version": "1.2.0",
            "_view_name": "LayoutView",
            "align_content": null,
            "align_items": null,
            "align_self": null,
            "border": null,
            "bottom": null,
            "display": null,
            "flex": null,
            "flex_flow": null,
            "grid_area": null,
            "grid_auto_columns": null,
            "grid_auto_flow": null,
            "grid_auto_rows": null,
            "grid_column": null,
            "grid_gap": null,
            "grid_row": null,
            "grid_template_areas": null,
            "grid_template_columns": null,
            "grid_template_rows": null,
            "height": null,
            "justify_content": null,
            "justify_items": null,
            "left": null,
            "margin": null,
            "max_height": null,
            "max_width": null,
            "min_height": null,
            "min_width": null,
            "object_fit": null,
            "object_position": null,
            "order": null,
            "overflow": null,
            "overflow_x": null,
            "overflow_y": null,
            "padding": null,
            "right": null,
            "top": null,
            "visibility": null,
            "width": null
          }
        },
        "711887215f9a4a749b538674fa41dc9b": {
          "model_module": "@jupyter-widgets/base",
          "model_name": "LayoutModel",
          "model_module_version": "1.2.0",
          "state": {
            "_model_module": "@jupyter-widgets/base",
            "_model_module_version": "1.2.0",
            "_model_name": "LayoutModel",
            "_view_count": null,
            "_view_module": "@jupyter-widgets/base",
            "_view_module_version": "1.2.0",
            "_view_name": "LayoutView",
            "align_content": null,
            "align_items": null,
            "align_self": null,
            "border": null,
            "bottom": null,
            "display": null,
            "flex": null,
            "flex_flow": null,
            "grid_area": null,
            "grid_auto_columns": null,
            "grid_auto_flow": null,
            "grid_auto_rows": null,
            "grid_column": null,
            "grid_gap": null,
            "grid_row": null,
            "grid_template_areas": null,
            "grid_template_columns": null,
            "grid_template_rows": null,
            "height": null,
            "justify_content": null,
            "justify_items": null,
            "left": null,
            "margin": null,
            "max_height": null,
            "max_width": null,
            "min_height": null,
            "min_width": null,
            "object_fit": null,
            "object_position": null,
            "order": null,
            "overflow": null,
            "overflow_x": null,
            "overflow_y": null,
            "padding": null,
            "right": null,
            "top": null,
            "visibility": null,
            "width": null
          }
        },
        "dcc1e43ab6044f5e96ca88cbdba2e3e9": {
          "model_module": "@jupyter-widgets/controls",
          "model_name": "DescriptionStyleModel",
          "model_module_version": "1.5.0",
          "state": {
            "_model_module": "@jupyter-widgets/controls",
            "_model_module_version": "1.5.0",
            "_model_name": "DescriptionStyleModel",
            "_view_count": null,
            "_view_module": "@jupyter-widgets/base",
            "_view_module_version": "1.2.0",
            "_view_name": "StyleView",
            "description_width": ""
          }
        },
        "5e1e3bf818294cd6b79604177f6d022a": {
          "model_module": "@jupyter-widgets/base",
          "model_name": "LayoutModel",
          "model_module_version": "1.2.0",
          "state": {
            "_model_module": "@jupyter-widgets/base",
            "_model_module_version": "1.2.0",
            "_model_name": "LayoutModel",
            "_view_count": null,
            "_view_module": "@jupyter-widgets/base",
            "_view_module_version": "1.2.0",
            "_view_name": "LayoutView",
            "align_content": null,
            "align_items": null,
            "align_self": null,
            "border": null,
            "bottom": null,
            "display": null,
            "flex": null,
            "flex_flow": null,
            "grid_area": null,
            "grid_auto_columns": null,
            "grid_auto_flow": null,
            "grid_auto_rows": null,
            "grid_column": null,
            "grid_gap": null,
            "grid_row": null,
            "grid_template_areas": null,
            "grid_template_columns": null,
            "grid_template_rows": null,
            "height": null,
            "justify_content": null,
            "justify_items": null,
            "left": null,
            "margin": null,
            "max_height": null,
            "max_width": null,
            "min_height": null,
            "min_width": null,
            "object_fit": null,
            "object_position": null,
            "order": null,
            "overflow": null,
            "overflow_x": null,
            "overflow_y": null,
            "padding": null,
            "right": null,
            "top": null,
            "visibility": null,
            "width": null
          }
        },
        "7566266ce21f40369820912029fb7b70": {
          "model_module": "@jupyter-widgets/controls",
          "model_name": "ProgressStyleModel",
          "model_module_version": "1.5.0",
          "state": {
            "_model_module": "@jupyter-widgets/controls",
            "_model_module_version": "1.5.0",
            "_model_name": "ProgressStyleModel",
            "_view_count": null,
            "_view_module": "@jupyter-widgets/base",
            "_view_module_version": "1.2.0",
            "_view_name": "StyleView",
            "bar_color": null,
            "description_width": ""
          }
        },
        "b0bdf48ff0274f419905c3c12a6769a5": {
          "model_module": "@jupyter-widgets/base",
          "model_name": "LayoutModel",
          "model_module_version": "1.2.0",
          "state": {
            "_model_module": "@jupyter-widgets/base",
            "_model_module_version": "1.2.0",
            "_model_name": "LayoutModel",
            "_view_count": null,
            "_view_module": "@jupyter-widgets/base",
            "_view_module_version": "1.2.0",
            "_view_name": "LayoutView",
            "align_content": null,
            "align_items": null,
            "align_self": null,
            "border": null,
            "bottom": null,
            "display": null,
            "flex": null,
            "flex_flow": null,
            "grid_area": null,
            "grid_auto_columns": null,
            "grid_auto_flow": null,
            "grid_auto_rows": null,
            "grid_column": null,
            "grid_gap": null,
            "grid_row": null,
            "grid_template_areas": null,
            "grid_template_columns": null,
            "grid_template_rows": null,
            "height": null,
            "justify_content": null,
            "justify_items": null,
            "left": null,
            "margin": null,
            "max_height": null,
            "max_width": null,
            "min_height": null,
            "min_width": null,
            "object_fit": null,
            "object_position": null,
            "order": null,
            "overflow": null,
            "overflow_x": null,
            "overflow_y": null,
            "padding": null,
            "right": null,
            "top": null,
            "visibility": null,
            "width": null
          }
        },
        "1a7d594652f34d38a0f5286a2666d043": {
          "model_module": "@jupyter-widgets/controls",
          "model_name": "DescriptionStyleModel",
          "model_module_version": "1.5.0",
          "state": {
            "_model_module": "@jupyter-widgets/controls",
            "_model_module_version": "1.5.0",
            "_model_name": "DescriptionStyleModel",
            "_view_count": null,
            "_view_module": "@jupyter-widgets/base",
            "_view_module_version": "1.2.0",
            "_view_name": "StyleView",
            "description_width": ""
          }
        }
      }
    }
  },
  "nbformat": 4,
  "nbformat_minor": 5
}